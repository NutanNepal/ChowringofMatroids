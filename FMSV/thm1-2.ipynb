{
 "cells": [
  {
   "cell_type": "code",
   "execution_count": 117,
   "metadata": {
    "vscode": {
     "languageId": "sage"
    }
   },
   "outputs": [],
   "source": [
    "M = matroids.Uniform(4,7)\n",
    "\n",
    "klPoly_list = []\n",
    "\n",
    "def get_klPoly(M):\n",
    "    for item, klpoly in klPoly_list:\n",
    "        if  M.is_isomorphic(item):\n",
    "            return klpoly\n",
    "    \n",
    "    klpoly = kl_poly(M)\n",
    "    klPoly_list.append((M, klpoly))\n",
    "\n",
    "    return klpoly\n",
    "\n",
    "def char_poly(M):\n",
    "    T = M.tutte_polynomial()\n",
    "    x = var('x')\n",
    "    subbed_Tpoly = T.subs(x = 1 - x, y = 0)\n",
    "    char_poly = (-1) ** M.rank() * subbed_Tpoly\n",
    "\n",
    "    R = PolynomialRing(QQ, 'x')\n",
    "    return R(char_poly)\n",
    "\n",
    "def kl_poly(M):\n",
    "    rank = M.rank()\n",
    "    x = var('x')\n",
    "    R = PolynomialRing(QQ, 'x')\n",
    "\n",
    "    if rank == 0:\n",
    "        return R(1)\n",
    "    \n",
    "    kl_poly = R(0)\n",
    "    \n",
    "    for i in range(1, rank + 1):\n",
    "        for flat in M.flats(i):\n",
    "            restriction = M.delete(M.groundset() - flat).simplify()\n",
    "            contraction = M.contract(flat).simplify()\n",
    "            \n",
    "            restriction_poly = char_poly(restriction)\n",
    "            contraction_poly = get_klPoly(contraction)\n",
    "            \n",
    "            term_poly = restriction_poly * contraction_poly\n",
    "            \n",
    "            kl_poly += term_poly\n",
    "\n",
    "    kl_poly = (kl_poly / x ** (rank)).subs(x = 1/x)\n",
    "    \n",
    "    return kl_poly"
   ]
  },
  {
   "cell_type": "code",
   "execution_count": 118,
   "metadata": {
    "vscode": {
     "languageId": "sage"
    }
   },
   "outputs": [
    {
     "data": {
      "text/plain": [
       "41*x^4 - 287*x^3 + 609*x^2 - 511*x + 148"
      ]
     },
     "execution_count": 118,
     "metadata": {},
     "output_type": "execute_result"
    }
   ],
   "source": [
    "kl_poly(M).expand()"
   ]
  },
  {
   "cell_type": "markdown",
   "metadata": {},
   "source": [
    "\n",
    "\n",
    "for flat in M.flats(i):\n",
    "    term = ([0] * deletion.rank()) + rec_klp(contraction)\n",
    "    kl_poly = [x + y for x, y in zip(kl_poly, term)]\n",
    "    print(kl_poly)\n",
    "\n",
    "kl_poly.reverse()"
   ]
  }
 ],
 "metadata": {
  "kernelspec": {
   "display_name": "SageMath 10.1",
   "language": "sage",
   "name": "SageMath-10.1"
  },
  "language_info": {
   "codemirror_mode": {
    "name": "ipython",
    "version": 3
   },
   "file_extension": ".py",
   "mimetype": "text/x-python",
   "name": "python",
   "nbconvert_exporter": "python",
   "pygments_lexer": "ipython3",
   "version": "3.11.1"
  }
 },
 "nbformat": 4,
 "nbformat_minor": 2
}
