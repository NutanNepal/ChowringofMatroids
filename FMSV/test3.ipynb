{
 "cells": [
  {
   "cell_type": "code",
   "execution_count": 3,
   "metadata": {},
   "outputs": [
    {
     "ename": "AttributeError",
     "evalue": "'sage.categories.morphism.SetMorphism' object has no attribute 'induced_representation'",
     "output_type": "error",
     "traceback": [
      "\u001b[0;31m---------------------------------------------------------------------------\u001b[0m",
      "\u001b[0;31mAttributeError\u001b[0m                            Traceback (most recent call last)",
      "Cell \u001b[0;32mIn[3], line 21\u001b[0m\n\u001b[1;32m     18\u001b[0m rho_hom \u001b[38;5;241m=\u001b[39m Hom(H, V)(rho)\n\u001b[1;32m     20\u001b[0m \u001b[38;5;66;03m# Induce the representation to G\u001b[39;00m\n\u001b[0;32m---> 21\u001b[0m induced_rho \u001b[38;5;241m=\u001b[39m \u001b[43mrho_hom\u001b[49m\u001b[38;5;241;43m.\u001b[39;49m\u001b[43minduced_representation\u001b[49m(G)\n\u001b[1;32m     23\u001b[0m \u001b[38;5;66;03m# Print the character of the induced representation\u001b[39;00m\n\u001b[1;32m     24\u001b[0m \u001b[38;5;28mprint\u001b[39m(\u001b[38;5;124m\"\u001b[39m\u001b[38;5;124mCharacter of the induced representation:\u001b[39m\u001b[38;5;124m\"\u001b[39m)\n",
      "File \u001b[0;32m/private/var/tmp/sage-10.3-current/local/var/lib/sage/venv-python3.11.8/lib/python3.11/site-packages/sage/structure/element.pyx:489\u001b[0m, in \u001b[0;36msage.structure.element.Element.__getattr__ (build/cythonized/sage/structure/element.c:11610)\u001b[0;34m()\u001b[0m\n\u001b[1;32m    487\u001b[0m         AttributeError: 'LeftZeroSemigroup_with_category.element_class' object has no attribute 'blah_blah'...\n\u001b[1;32m    488\u001b[0m     \"\"\"\n\u001b[0;32m--> 489\u001b[0m     return self.getattr_from_category(name)\n\u001b[1;32m    490\u001b[0m \n\u001b[1;32m    491\u001b[0m cdef getattr_from_category(self, name) noexcept:\n",
      "File \u001b[0;32m/private/var/tmp/sage-10.3-current/local/var/lib/sage/venv-python3.11.8/lib/python3.11/site-packages/sage/structure/element.pyx:502\u001b[0m, in \u001b[0;36msage.structure.element.Element.getattr_from_category (build/cythonized/sage/structure/element.c:11720)\u001b[0;34m()\u001b[0m\n\u001b[1;32m    500\u001b[0m     else:\n\u001b[1;32m    501\u001b[0m         cls = P._abstract_element_class\n\u001b[0;32m--> 502\u001b[0m     return getattr_from_other_class(self, cls, name)\n\u001b[1;32m    503\u001b[0m \n\u001b[1;32m    504\u001b[0m def __dir__(self):\n",
      "File \u001b[0;32m/private/var/tmp/sage-10.3-current/local/var/lib/sage/venv-python3.11.8/lib/python3.11/site-packages/sage/cpython/getattr.pyx:362\u001b[0m, in \u001b[0;36msage.cpython.getattr.getattr_from_other_class (build/cythonized/sage/cpython/getattr.c:4443)\u001b[0;34m()\u001b[0m\n\u001b[1;32m    360\u001b[0m     dummy_error_message.cls = type(self)\n\u001b[1;32m    361\u001b[0m     dummy_error_message.name = name\n\u001b[0;32m--> 362\u001b[0m     raise AttributeError(dummy_error_message)\n\u001b[1;32m    363\u001b[0m attribute = <object>attr\n\u001b[1;32m    364\u001b[0m # Check for a descriptor (__get__ in Python)\n",
      "\u001b[0;31mAttributeError\u001b[0m: 'sage.categories.morphism.SetMorphism' object has no attribute 'induced_representation'"
     ]
    }
   ],
   "source": [
    "# Define the symmetric group S_3\n",
    "G = SymmetricGroup(3)\n",
    "\n",
    "# Define a subgroup of G, the cyclic group of order 3\n",
    "H = G.subgroup([G((1,2,3))])\n",
    "\n",
    "# Define a 1-dimensional representation of H\n",
    "def rho(h):\n",
    "    if h == G((1,2,3)):\n",
    "        return 1  # Arbitrary example, returns 1 for the generator\n",
    "    elif h == G((1,3,2)):\n",
    "        return -1  # Returns -1 for the inverse of the generator\n",
    "    else:\n",
    "        return 1  # Identity element\n",
    "\n",
    "# Convert the representation into a homomorphism\n",
    "V = VectorSpace(CC, 1)\n",
    "rho_hom = Hom(H, V)(rho)\n",
    "\n",
    "# Induce the representation to G\n",
    "induced_rho = rho_hom.induced_representation(G)\n",
    "\n",
    "# Print the character of the induced representation\n",
    "print(\"Character of the induced representation:\")\n",
    "print(induced_rho.character())\n",
    "\n",
    "# Print the matrix form of the induced representation for each group element\n",
    "print(\"\\nMatrix form of the induced representation:\")\n",
    "for g in G:\n",
    "    print(f\"g = {g}, rho(g) =\\n{induced_rho(g)}\\n\")\n"
   ]
  }
 ],
 "metadata": {
  "kernelspec": {
   "display_name": "SageMath 10.3",
   "language": "sage",
   "name": "SageMath-10.3"
  },
  "language_info": {
   "codemirror_mode": {
    "name": "ipython",
    "version": 3
   },
   "file_extension": ".py",
   "mimetype": "text/x-python",
   "name": "sage",
   "nbconvert_exporter": "python",
   "pygments_lexer": "ipython3",
   "version": "3.11.8"
  }
 },
 "nbformat": 4,
 "nbformat_minor": 2
}
