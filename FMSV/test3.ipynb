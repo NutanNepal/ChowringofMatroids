{
 "cells": [
  {
   "cell_type": "code",
   "execution_count": 15,
   "metadata": {
    "vscode": {
     "languageId": "sage"
    }
   },
   "outputs": [
    {
     "name": "stdout",
     "output_type": "stream",
     "text": [
      "[         1          1          1]\n",
      "[         1 -zeta3 - 1      zeta3]\n",
      "[         1      zeta3 -zeta3 - 1]\n"
     ]
    },
    {
     "ename": "TypeError",
     "evalue": "unsupported operand parent(s) for ^: 'Symmetric group of order 4! as a permutation group' and 'Vector space of dimension 3 over Cyclotomic Field of order 3 and degree 2'",
     "output_type": "error",
     "traceback": [
      "\u001b[0;31m---------------------------------------------------------------------------\u001b[0m",
      "\u001b[0;31mTypeError\u001b[0m                                 Traceback (most recent call last)",
      "Cell \u001b[0;32mIn[15], line 34\u001b[0m\n\u001b[1;32m     31\u001b[0m \u001b[38;5;28mprint\u001b[39m(H\u001b[38;5;241m.\u001b[39mcharacter_table())\n\u001b[1;32m     32\u001b[0m rho \u001b[38;5;241m=\u001b[39m H\u001b[38;5;241m.\u001b[39mcharacter_table()[Integer(\u001b[38;5;241m1\u001b[39m)]\n\u001b[0;32m---> 34\u001b[0m induced_rep \u001b[38;5;241m=\u001b[39m \u001b[43minduced_representation\u001b[49m\u001b[43m(\u001b[49m\u001b[43mG\u001b[49m\u001b[43m,\u001b[49m\u001b[43m \u001b[49m\u001b[43mH\u001b[49m\u001b[43m,\u001b[49m\u001b[43m \u001b[49m\u001b[43mrho\u001b[49m\u001b[43m)\u001b[49m\n\u001b[1;32m     36\u001b[0m \u001b[38;5;28;01mfor\u001b[39;00m g \u001b[38;5;129;01min\u001b[39;00m G:\n\u001b[1;32m     37\u001b[0m     \u001b[38;5;28mprint\u001b[39m(\u001b[38;5;124mf\u001b[39m\u001b[38;5;124m\"\u001b[39m\u001b[38;5;124mg = \u001b[39m\u001b[38;5;132;01m{\u001b[39;00mg\u001b[38;5;132;01m}\u001b[39;00m\u001b[38;5;124m:\u001b[39m\u001b[38;5;124m\"\u001b[39m)\n",
      "Cell \u001b[0;32mIn[15], line 20\u001b[0m, in \u001b[0;36minduced_representation\u001b[0;34m(G, H, rho)\u001b[0m\n\u001b[1;32m     18\u001b[0m h \u001b[38;5;241m=\u001b[39m c1\u001b[38;5;241m.\u001b[39minverse() \u001b[38;5;241m*\u001b[39m g \u001b[38;5;241m*\u001b[39m c2\n\u001b[1;32m     19\u001b[0m \u001b[38;5;28;01mif\u001b[39;00m h \u001b[38;5;129;01min\u001b[39;00m H:\n\u001b[0;32m---> 20\u001b[0m     h_matrix \u001b[38;5;241m=\u001b[39m gap\u001b[38;5;241m.\u001b[39meval(\u001b[43mg\u001b[49m\u001b[38;5;241;43m*\u001b[39;49m\u001b[38;5;241;43m*\u001b[39;49m\u001b[43mrho\u001b[49m)\n\u001b[1;32m     21\u001b[0m     \u001b[38;5;28;01mfor\u001b[39;00m k \u001b[38;5;129;01min\u001b[39;00m \u001b[38;5;28mrange\u001b[39m(dimV):\n\u001b[1;32m     22\u001b[0m         \u001b[38;5;28;01mfor\u001b[39;00m l \u001b[38;5;129;01min\u001b[39;00m \u001b[38;5;28mrange\u001b[39m(dimV):\n",
      "File \u001b[0;32m/private/var/tmp/sage-10.3-current/local/var/lib/sage/venv-python3.11.8/lib/python3.11/site-packages/sage/structure/element.pyx:2052\u001b[0m, in \u001b[0;36msage.structure.element.Element.__pow__ (build/cythonized/sage/structure/element.c:22365)\u001b[0;34m()\u001b[0m\n\u001b[1;32m   2050\u001b[0m     return (<Element>left)._pow_(right)\n\u001b[1;32m   2051\u001b[0m if BOTH_ARE_ELEMENT(cl):\n\u001b[0;32m-> 2052\u001b[0m     return coercion_model.bin_op(left, right, pow)\n\u001b[1;32m   2053\u001b[0m \n\u001b[1;32m   2054\u001b[0m cdef long value\n",
      "File \u001b[0;32m/private/var/tmp/sage-10.3-current/local/var/lib/sage/venv-python3.11.8/lib/python3.11/site-packages/sage/structure/coerce.pyx:1278\u001b[0m, in \u001b[0;36msage.structure.coerce.CoercionModel.bin_op (build/cythonized/sage/structure/coerce.c:16857)\u001b[0;34m()\u001b[0m\n\u001b[1;32m   1276\u001b[0m     # We should really include the underlying error.\n\u001b[1;32m   1277\u001b[0m     # This causes so much headache.\n\u001b[0;32m-> 1278\u001b[0m     raise bin_op_exception(op, x, y)\n\u001b[1;32m   1279\u001b[0m \n\u001b[1;32m   1280\u001b[0m cpdef canonical_coercion(self, x, y) noexcept:\n",
      "\u001b[0;31mTypeError\u001b[0m: unsupported operand parent(s) for ^: 'Symmetric group of order 4! as a permutation group' and 'Vector space of dimension 3 over Cyclotomic Field of order 3 and degree 2'"
     ]
    }
   ],
   "source": [
    "def cosets(G, H):\n",
    "    cosets = G.cosets(H, side='left')\n",
    "    return cosets\n",
    "\n",
    "def induced_representation(G, H, rho):\n",
    "    coset_reps = [coset[0] for coset in cosets(G, H)]\n",
    "    num_cosets = len(coset_reps)\n",
    "    \n",
    "    dimV = rho.degree()\n",
    "    dimW = dimV * num_cosets\n",
    "    \n",
    "    induced_rep = {}\n",
    "    \n",
    "    for g in G:\n",
    "        _matrix = matrix.identity(QQ, dimW)\n",
    "        for i, c1 in enumerate(coset_reps):\n",
    "            for j, c2 in enumerate(coset_reps):\n",
    "                h = c1.inverse() * g * c2\n",
    "                if h in H:\n",
    "                    h_matrix = gap.eval(g^rho)\n",
    "                    for k in range(dimV):\n",
    "                        for l in range(dimV):\n",
    "                            _matrix[i*dimV + k, j*dimV + l] = h_matrix[k, l]\n",
    "        induced_rep[g] = matrix\n",
    "    \n",
    "    return induced_rep\n",
    "\n",
    "\n",
    "G = SymmetricGroup(4)\n",
    "H = G.subgroup([G((1,2,3))])\n",
    "print(H.character_table())\n",
    "rho = H.character_table()[1]\n",
    "\n",
    "induced_rep = induced_representation(G, H, rho)\n",
    "\n",
    "for g in G:\n",
    "    print(f\"g = {g}:\")\n",
    "    print(induced_rep[g])\n",
    "    print()\n"
   ]
  }
 ],
 "metadata": {
  "kernelspec": {
   "display_name": "SageMath 10.3",
   "language": "sage",
   "name": "SageMath-10.3"
  },
  "language_info": {
   "codemirror_mode": {
    "name": "ipython",
    "version": 3
   },
   "file_extension": ".py",
   "mimetype": "text/x-python",
   "name": "python",
   "nbconvert_exporter": "python",
   "pygments_lexer": "ipython3",
   "version": "3.11.8"
  }
 },
 "nbformat": 4,
 "nbformat_minor": 2
}
