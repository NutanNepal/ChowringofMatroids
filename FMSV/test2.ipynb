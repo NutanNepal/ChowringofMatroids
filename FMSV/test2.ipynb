{
 "cells": [
  {
   "cell_type": "code",
   "execution_count": 3,
   "metadata": {},
   "outputs": [
    {
     "name": "stdout",
     "output_type": "stream",
     "text": [
      "U( 1 1 ) x - 1 , 1\n",
      "U( 1 2 ) x - 1 , 1\n",
      "U( 2 2 ) x^2 - 2*x + 1 , x - 1\n",
      "U( 1 3 ) x - 1 , 1\n",
      "U( 2 3 ) x^2 - 3*x + 2 , x - 2\n",
      "U( 3 3 ) x^3 - 3*x^2 + 3*x - 1 , x^2 - 2*x + 1\n",
      "U( 1 4 ) x - 1 , 1\n",
      "U( 2 4 ) x^2 - 4*x + 3 , x - 3\n",
      "U( 3 4 ) x^3 - 4*x^2 + 6*x - 3 , x^2 - 3*x + 3\n",
      "U( 4 4 ) x^4 - 4*x^3 + 6*x^2 - 4*x + 1 , x^3 - 3*x^2 + 3*x - 1\n",
      "U( 1 5 ) x - 1 , 1\n",
      "U( 2 5 ) x^2 - 5*x + 4 , x - 4\n",
      "U( 3 5 ) x^3 - 5*x^2 + 10*x - 6 , x^2 - 4*x + 6\n",
      "U( 4 5 ) x^4 - 5*x^3 + 10*x^2 - 10*x + 4 , x^3 - 4*x^2 + 6*x - 4\n",
      "U( 5 5 ) x^5 - 5*x^4 + 10*x^3 - 10*x^2 + 5*x - 1 , x^4 - 4*x^3 + 6*x^2 - 4*x + 1\n",
      "U( 1 6 ) x - 1 , 1\n",
      "U( 2 6 ) x^2 - 6*x + 5 , x - 5\n",
      "U( 3 6 ) x^3 - 6*x^2 + 15*x - 10 , x^2 - 5*x + 10\n",
      "U( 4 6 ) x^4 - 6*x^3 + 15*x^2 - 20*x + 10 , x^3 - 5*x^2 + 10*x - 10\n",
      "U( 5 6 ) x^5 - 6*x^4 + 15*x^3 - 20*x^2 + 15*x - 5 , x^4 - 5*x^3 + 10*x^2 - 10*x + 5\n",
      "U( 6 6 ) x^6 - 6*x^5 + 15*x^4 - 20*x^3 + 15*x^2 - 6*x + 1 , x^5 - 5*x^4 + 10*x^3 - 10*x^2 + 5*x - 1\n",
      "U( 1 7 ) x - 1 , 1\n",
      "U( 2 7 ) x^2 - 7*x + 6 , x - 6\n",
      "U( 3 7 ) x^3 - 7*x^2 + 21*x - 15 , x^2 - 6*x + 15\n",
      "U( 4 7 ) x^4 - 7*x^3 + 21*x^2 - 35*x + 20 , x^3 - 6*x^2 + 15*x - 20\n",
      "U( 5 7 ) x^5 - 7*x^4 + 21*x^3 - 35*x^2 + 35*x - 15 , x^4 - 6*x^3 + 15*x^2 - 20*x + 15\n",
      "U( 6 7 ) x^6 - 7*x^5 + 21*x^4 - 35*x^3 + 35*x^2 - 21*x + 6 , x^5 - 6*x^4 + 15*x^3 - 20*x^2 + 15*x - 6\n",
      "U( 7 7 ) x^7 - 7*x^6 + 21*x^5 - 35*x^4 + 35*x^3 - 21*x^2 + 7*x - 1 , x^6 - 6*x^5 + 15*x^4 - 20*x^3 + 15*x^2 - 6*x + 1\n",
      "U( 1 8 ) x - 1 , 1\n",
      "U( 2 8 ) x^2 - 8*x + 7 , x - 7\n",
      "U( 3 8 ) x^3 - 8*x^2 + 28*x - 21 , x^2 - 7*x + 21\n",
      "U( 4 8 ) x^4 - 8*x^3 + 28*x^2 - 56*x + 35 , x^3 - 7*x^2 + 21*x - 35\n",
      "U( 5 8 ) x^5 - 8*x^4 + 28*x^3 - 56*x^2 + 70*x - 35 , x^4 - 7*x^3 + 21*x^2 - 35*x + 35\n",
      "U( 6 8 ) x^6 - 8*x^5 + 28*x^4 - 56*x^3 + 70*x^2 - 56*x + 21 , x^5 - 7*x^4 + 21*x^3 - 35*x^2 + 35*x - 21\n",
      "U( 7 8 ) x^7 - 8*x^6 + 28*x^5 - 56*x^4 + 70*x^3 - 56*x^2 + 28*x - 7 , x^6 - 7*x^5 + 21*x^4 - 35*x^3 + 35*x^2 - 21*x + 7\n",
      "U( 8 8 ) x^8 - 8*x^7 + 28*x^6 - 56*x^5 + 70*x^4 - 56*x^3 + 28*x^2 - 8*x + 1 , x^7 - 7*x^6 + 21*x^5 - 35*x^4 + 35*x^3 - 21*x^2 + 7*x - 1\n",
      "U( 1 9 ) x - 1 , 1\n",
      "U( 2 9 ) x^2 - 9*x + 8 , x - 8\n",
      "U( 3 9 ) x^3 - 9*x^2 + 36*x - 28 , x^2 - 8*x + 28\n",
      "U( 4 9 ) x^4 - 9*x^3 + 36*x^2 - 84*x + 56 , x^3 - 8*x^2 + 28*x - 56\n",
      "U( 5 9 ) x^5 - 9*x^4 + 36*x^3 - 84*x^2 + 126*x - 70 , x^4 - 8*x^3 + 28*x^2 - 56*x + 70\n",
      "U( 6 9 ) x^6 - 9*x^5 + 36*x^4 - 84*x^3 + 126*x^2 - 126*x + 56 , x^5 - 8*x^4 + 28*x^3 - 56*x^2 + 70*x - 56\n",
      "U( 7 9 ) x^7 - 9*x^6 + 36*x^5 - 84*x^4 + 126*x^3 - 126*x^2 + 84*x - 28 , x^6 - 8*x^5 + 28*x^4 - 56*x^3 + 70*x^2 - 56*x + 28\n",
      "U( 8 9 ) x^8 - 9*x^7 + 36*x^6 - 84*x^5 + 126*x^4 - 126*x^3 + 84*x^2 - 36*x + 8 , x^7 - 8*x^6 + 28*x^5 - 56*x^4 + 70*x^3 - 56*x^2 + 28*x - 8\n",
      "U( 9 9 ) x^9 - 9*x^8 + 36*x^7 - 84*x^6 + 126*x^5 - 126*x^4 + 84*x^3 - 36*x^2 + 9*x - 1 , x^8 - 8*x^7 + 28*x^6 - 56*x^5 + 70*x^4 - 56*x^3 + 28*x^2 - 8*x + 1\n"
     ]
    }
   ],
   "source": [
    "def reduced_char_poly(M):\n",
    "    return char_poly(M) // (x - 1)\n",
    "\n",
    "def char_poly(M):\n",
    "    T = M.tutte_polynomial()\n",
    "    x = var('x')\n",
    "    subbed_Tpoly = T.subs(x = 1 - x, y = 0)\n",
    "    char_poly = (-1) ** M.rank() * subbed_Tpoly\n",
    "    R = PolynomialRing(QQ, 'x')\n",
    "\n",
    "    return R(char_poly)\n",
    "\n",
    "l = [(i,j) for i in range(1, 10) for j in range(1, i+1)]\n",
    "\n",
    "for i, j in l:\n",
    "    M = matroids.Uniform(j, i)\n",
    "    cp = char_poly(M)\n",
    "    print(\"U(\",j,i, \")\", cp, \",\", cp//(x-1))\n"
   ]
  }
 ],
 "metadata": {
  "kernelspec": {
   "display_name": "SageMath 10.3",
   "language": "sage",
   "name": "SageMath-10.3"
  },
  "language_info": {
   "codemirror_mode": {
    "name": "ipython",
    "version": 3
   },
   "file_extension": ".py",
   "mimetype": "text/x-python",
   "name": "sage",
   "nbconvert_exporter": "python",
   "pygments_lexer": "ipython3",
   "version": "3.11.8"
  }
 },
 "nbformat": 4,
 "nbformat_minor": 2
}
