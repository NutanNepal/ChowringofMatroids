{
 "cells": [
  {
   "cell_type": "code",
   "execution_count": 10,
   "metadata": {},
   "outputs": [
    {
     "name": "stdout",
     "output_type": "stream",
     "text": [
      "Chow polynomial: x^7 + 21110*x^6 + 1260636*x^5 + 7507485*x^4 + 7507485*x^3 + 1260636*x^2 + 21110*x + 1\n"
     ]
    }
   ],
   "source": [
    "chowPoly_list = []\n",
    "\n",
    "def get_cPoly(graph):\n",
    "    for item, cpoly in chowPoly_list:\n",
    "        if  graph.is_isomorphic(item):\n",
    "            return cpoly\n",
    "\n",
    "    cpoly = chow_polynomial(graph.edges(labels = False))\n",
    "    chowPoly_list.append((graph, cpoly))\n",
    "\n",
    "    return cpoly\n",
    "\n",
    "def reduced_char_poly(graph):\n",
    "    return graphic_char_poly(graph) // (x - 1)\n",
    "\n",
    "def graphic_char_poly(graph):\n",
    "    T = graph.tutte_polynomial()\n",
    "    x = var('x')\n",
    "    subbed_Tpoly = T.subs(x = 1 - x, y = 0)\n",
    "    char_poly = (-1) ** Matroid(graph).rank() * subbed_Tpoly\n",
    "    R = PolynomialRing(QQ, 'x')\n",
    "\n",
    "    return R(char_poly)\n",
    "\n",
    "def chow_polynomial(edgelist):\n",
    "\n",
    "    M = Matroid(graph = edgelist, groundset = edgelist)\n",
    "    rank = M.rank()\n",
    "    x = var('x')\n",
    "    R = PolynomialRing(QQ, 'x')\n",
    "\n",
    "    if rank == 0: return R(1)\n",
    "    \n",
    "    chow_poly = R(0)\n",
    "    \n",
    "    for i in range(1, rank + 1):\n",
    "        for flat in M.flats(i):\n",
    "            restriction = Graph(list(flat))\n",
    "            contractionGraph = Graph(edgelist)\n",
    "            contractionGraph.contract_edges(list(flat))\n",
    "            contraction = contractionGraph\n",
    "\n",
    "            restriction_poly = reduced_char_poly(restriction)\n",
    "            contraction_poly = R(1)\n",
    "\n",
    "            if contraction is not None:\n",
    "                contraction_poly = get_cPoly(contraction)\n",
    "\n",
    "            term_poly = restriction_poly * contraction_poly\n",
    "            \n",
    "            chow_poly += term_poly\n",
    "    \n",
    "    return chow_poly\n",
    "\n",
    "n = 8\n",
    "edgelist = graphs.CompleteGraph(n).edges(labels = False)\n",
    "result = chow_polynomial(edgelist)\n",
    "print(\"Chow polynomial:\", result)"
   ]
  }
 ],
 "metadata": {
  "kernelspec": {
   "display_name": "SageMath 10.1",
   "language": "sage",
   "name": "SageMath-10.1"
  },
  "language_info": {
   "codemirror_mode": {
    "name": "ipython",
    "version": 3
   },
   "file_extension": ".py",
   "mimetype": "text/x-python",
   "name": "sage",
   "nbconvert_exporter": "python",
   "pygments_lexer": "ipython3",
   "version": "3.11.1"
  }
 },
 "nbformat": 4,
 "nbformat_minor": 2
}
