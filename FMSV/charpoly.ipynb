{
 "cells": [
  {
   "cell_type": "code",
   "execution_count": 32,
   "metadata": {},
   "outputs": [
    {
     "data": {
      "text/plain": [
       "(x^2 - 3*x + 2, x - 2)"
      ]
     },
     "execution_count": 32,
     "metadata": {},
     "output_type": "execute_result"
    }
   ],
   "source": [
    "from sage.matroids.matroid import Matroid\n",
    "matroid = matroids.CompleteGraphic(3)\n",
    "\n",
    "def reduced_char_poly(M):\n",
    "\n",
    "    T = M.tutte_polynomial()\n",
    "    subbed_Tpoly = T.subs(x = 1 - var('x'), y = 0)\n",
    "    char_poly = (-1) ** M.rank() * subbed_Tpoly\n",
    "    R = PolynomialRing(QQ, 'x')\n",
    "    q = R(char_poly) // (var('x') - 1)\n",
    "\n",
    "    return R(char_poly), q\n",
    "\n",
    "reduced_char_poly(matroid)\n"
   ]
  },
  {
   "cell_type": "code",
   "execution_count": 33,
   "metadata": {},
   "outputs": [
    {
     "name": "stdout",
     "output_type": "stream",
     "text": [
      "Defining e as shorthand for Symmetric Functions over Univariate Polynomial Ring in x over Rational Field in the elementary basis\n",
      "Defining f as shorthand for Symmetric Functions over Univariate Polynomial Ring in x over Rational Field in the forgotten basis\n",
      "Defining h as shorthand for Symmetric Functions over Univariate Polynomial Ring in x over Rational Field in the homogeneous basis\n",
      "Defining m as shorthand for Symmetric Functions over Univariate Polynomial Ring in x over Rational Field in the monomial basis\n",
      "Defining p as shorthand for Symmetric Functions over Univariate Polynomial Ring in x over Rational Field in the powersum basis\n",
      "Defining s as shorthand for Symmetric Functions over Univariate Polynomial Ring in x over Rational Field in the Schur basis\n"
     ]
    },
    {
     "data": {
      "text/plain": [
       "-s[2, 1] + x*s[3]"
      ]
     },
     "execution_count": 33,
     "metadata": {},
     "output_type": "execute_result"
    }
   ],
   "source": [
    "#Define ring of symmetric functions over Q[q].\n",
    "base_ring.<x> = PolynomialRing(QQ)\n",
    "Sym = SymmetricFunctions(base_ring)\n",
    "Sym.inject_shorthands()\n",
    "\n",
    "(s([3])).itensor(s([3])*x - s([2,1]))"
   ]
  }
 ],
 "metadata": {
  "kernelspec": {
   "display_name": "SageMath 10.3",
   "language": "sage",
   "name": "SageMath-10.3"
  },
  "language_info": {
   "codemirror_mode": {
    "name": "ipython",
    "version": 3
   },
   "file_extension": ".py",
   "mimetype": "text/x-python",
   "name": "sage",
   "nbconvert_exporter": "python",
   "pygments_lexer": "ipython3",
   "version": "3.11.8"
  }
 },
 "nbformat": 4,
 "nbformat_minor": 2
}
