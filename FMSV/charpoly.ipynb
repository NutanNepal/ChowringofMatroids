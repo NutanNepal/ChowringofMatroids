{
 "cells": [
  {
   "cell_type": "code",
   "execution_count": 21,
   "metadata": {
    "vscode": {
     "languageId": "sage"
    }
   },
   "outputs": [
    {
     "data": {
      "text/plain": [
       "x^3 - 7*x^2 + 21*x - 35"
      ]
     },
     "execution_count": 21,
     "metadata": {},
     "output_type": "execute_result"
    }
   ],
   "source": [
    "from sage.matroids.matroid import Matroid\n",
    "matroid = matroids.CompleteGraphic(2)\n",
    "\n",
    "def reduced_char_poly(M):\n",
    "\n",
    "    T = M.tutte_polynomial()\n",
    "    subbed_Tpoly = T.subs(x = 1 - var('x'), y = 1)\n",
    "    char_poly = (-1) ** M.rank() * subbed_Tpoly\n",
    "    R = PolynomialRing(QQ, 'x')\n",
    "    q = R(char_poly) // (var('x') - 1)\n",
    "\n",
    "    return q\n",
    "\n",
    "reduced_char_poly(matroids.Uniform(4,8))\n"
   ]
  }
 ],
 "metadata": {
  "kernelspec": {
   "display_name": "SageMath 10.1",
   "language": "sage",
   "name": "SageMath-10.1"
  },
  "language_info": {
   "codemirror_mode": {
    "name": "ipython",
    "version": 3
   },
   "file_extension": ".py",
   "mimetype": "text/x-python",
   "name": "python",
   "nbconvert_exporter": "python",
   "pygments_lexer": "ipython3",
   "version": "3.11.1"
  }
 },
 "nbformat": 4,
 "nbformat_minor": 2
}
