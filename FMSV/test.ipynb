{
 "cells": [
  {
   "cell_type": "code",
<<<<<<< HEAD
   "execution_count": 3,
=======
   "execution_count": 7,
>>>>>>> b0106b4d76417270020185f171650d9cbbf666af
   "metadata": {},
   "outputs": [],
   "source": [
    "class MMPR21:\n",
    "\n",
    "    def __init__(self):\n",
    "        self.base_ring = PolynomialRing(QQ, 'x')\n",
    "        self.q = self.base_ring.gens()[0]\n",
    "        Sym = SymmetricFunctions(self.base_ring)\n",
    "        Sym.inject_shorthands()\n",
    "        self.name = \"fixed\"\n",
    "        self.memoize_B = {}\n",
    "        self.memoize_A = {}\n",
    "\n",
    "    def lieN(self, n):\n",
    "        \"\"\"\n",
    "        Return the symmetric function `\\\\ell_n`, which is the\n",
    "        Frobenius image of `\\\\mathrm{Lie}_{(n)}` in [HR17].\n",
    "        \"\"\"\n",
    "        div = divisors(n)\n",
    "        return (1/n)*sum(moebius(d)*p[d]^(n//d) for d in div)\n",
    "\n",
    "    def wLambda(self, lamb):\n",
    "        \"\"\"\n",
    "        Return the symmetric function \n",
    "        `\\\\mathrm{ch}(\\\\mathrm{W}_{\\\\lambda})` from [HR17].\n",
    "        \"\"\"\n",
    "        expPartition = lamb.to_exp()\n",
    "        return prod(h[expPartition[i]](\n",
    "            self.lieN(i+1).omega()) for i in range(0,len(expPartition))[::2])*prod(e[expPartition[i]](\n",
    "                self.lieN(i+1).omega()) for i in range(1,len(expPartition))[::2])\n",
    "\n",
    "    def rankOfPartition(self, lamb):\n",
    "        \"\"\"\n",
    "        Return the rank of a partition `\\\\lambda` as in [HR17, Definition 2.5].\n",
    "        \"\"\"\n",
    "        expPartition = lamb.to_exp()\n",
    "        return sum(i*expPartition[i] for i in range(0,len(expPartition)))\n",
    "\n",
    "    def A(self, n, i):\n",
    "        \"\"\"\n",
    "        Return the symmetric function corresponding to the \n",
    "        `\\\\mathfrak{S}_n`-representation `A_n^i` from [MMPR21].\n",
    "        \"\"\"\n",
    "        if (n,i) not in self.memoize_A:\n",
    "            ourPartitions = []\n",
    "            for k in Partitions(n):\n",
    "                if self.rankOfPartition(k) == i:\n",
    "                    ourPartitions.append(k)\n",
    "            self.memoize_A[(n,i)] = sum(self.wLambda(lamb) for lamb in ourPartitions)\n",
    "        return self.memoize_A[(n,i)]\n",
    "\n",
    "    def qA(self, n):\n",
    "        \"\"\"\n",
    "        Return the symmetric function, with `q`-coefficients,\n",
    "        corresponding to the graded\n",
    "        `\\\\mathfrak{S}_n`-representation `A_n` from [MMPR21].\n",
    "        \"\"\"\n",
    "        return sum(self.A(n,j) * self.q**j for j in range(n))\n",
    "\n",
    "    def B(self, n, i):\n",
    "        \"\"\"\n",
    "        Return the symmetric function corresponding to the \n",
    "        `\\\\mathfrak{S}_n`-representation `B_n^i` from [MMPR21].\n",
    "        \"\"\"\n",
    "        if (n,i) not in self.memoize_B:\n",
    "            if n == 1:\n",
    "                print('do not give me n = 1')\n",
    "            if i == 0:\n",
    "                self.memoize_B[(n,i)] = s([n])\n",
    "            else:\n",
    "                self.memoize_B[(n,i)] = self.A(n,i) - self.B(n,i-1)\n",
    "        return self.memoize_B[(n,i)]\n",
    "\n",
    "    def qB(self, n):\n",
    "        \"\"\"\n",
    "        Return the symmetric function, with `q`-coefficients,\n",
    "        corresponding to the graded\n",
    "        `\\\\mathfrak{S}_n`-representation `B_n` from [MMPR21].\n",
    "        \"\"\"\n",
    "        return sum(self.B(n,j) * self.q**j for j in range(n))"
   ]
  },
  {
   "cell_type": "code",
<<<<<<< HEAD
   "execution_count": 4,
   "metadata": {},
   "outputs": [],
   "source": [
    "n = 50\n",
    "\n",
    "g1 = graphs.CompleteGraph(n)\n",
    "g2 = graphs.CompleteGraph(n)"
   ]
  },
  {
   "cell_type": "code",
   "execution_count": 5,
=======
   "execution_count": 8,
>>>>>>> b0106b4d76417270020185f171650d9cbbf666af
   "metadata": {},
   "outputs": [
    {
     "name": "stdout",
     "output_type": "stream",
     "text": [
      "Defining e as shorthand for Symmetric Functions over Univariate Polynomial Ring in x over Rational Field in the elementary basis\n",
      "Defining f as shorthand for Symmetric Functions over Univariate Polynomial Ring in x over Rational Field in the forgotten basis\n",
      "Defining h as shorthand for Symmetric Functions over Univariate Polynomial Ring in x over Rational Field in the homogeneous basis\n",
      "Defining m as shorthand for Symmetric Functions over Univariate Polynomial Ring in x over Rational Field in the monomial basis\n",
      "Defining p as shorthand for Symmetric Functions over Univariate Polynomial Ring in x over Rational Field in the powersum basis\n",
      "Defining s as shorthand for Symmetric Functions over Univariate Polynomial Ring in x over Rational Field in the Schur basis\n"
     ]
    },
    {
     "data": {
      "text/plain": [
<<<<<<< HEAD
       "0.0017326919999050006"
      ]
     },
     "execution_count": 5,
=======
       "s[2, 1, 1]"
      ]
     },
     "execution_count": 8,
>>>>>>> b0106b4d76417270020185f171650d9cbbf666af
     "metadata": {},
     "output_type": "execute_result"
    }
   ],
   "source": [
<<<<<<< HEAD
    "def f():\n",
    "    g = isom(g1, g2)\n",
    "    return g\n",
    "\n",
    "timeit.timeit(f, number = 1)"
   ]
  },
  {
   "cell_type": "code",
   "execution_count": 6,
   "metadata": {},
   "outputs": [
    {
     "data": {
      "text/plain": [
       "0.009765893000007964"
      ]
     },
     "execution_count": 6,
     "metadata": {},
     "output_type": "execute_result"
    }
   ],
   "source": [
    "def g():\n",
    "    h = g1.is_isomorphic(g2)\n",
    "    return h\n",
    "\n",
    "timeit.timeit(g, number = 1)"
=======
    "obj = MMPR21()\n",
    "s([2,1,1]).itensor(s[4])"
>>>>>>> b0106b4d76417270020185f171650d9cbbf666af
   ]
  }
 ],
 "metadata": {
  "kernelspec": {
   "display_name": "SageMath 10.3",
   "language": "sage",
   "name": "sagemath"
  },
  "language_info": {
   "codemirror_mode": {
    "name": "ipython",
    "version": 3
   },
   "file_extension": ".py",
   "mimetype": "text/x-python",
   "name": "sage",
   "nbconvert_exporter": "python",
   "pygments_lexer": "ipython3",
   "version": "3.11.9"
  }
 },
 "nbformat": 4,
 "nbformat_minor": 2
}
