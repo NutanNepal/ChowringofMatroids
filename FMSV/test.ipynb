{
 "cells": [
  {
   "cell_type": "code",
   "execution_count": 1,
   "metadata": {},
   "outputs": [],
   "source": [
    "import timeit\n",
    "\n",
    "def reduceGroup(g):\n",
    "    distinct = set()\n",
    "    for t in g:\n",
    "        for e in t:\n",
    "            distinct.add(e)\n",
    "    \n",
    "    d = {}\n",
    "    s = sorted(distinct)\n",
    "    for idx, x in enumerate(s):\n",
    "        d[x] = idx\n",
    "    \n",
    "    l = []\n",
    "    for t in g:\n",
    "        tup = []\n",
    "        for e in t:\n",
    "            tup.append(d[e])\n",
    "        l.append(tuple(tup))\n",
    "\n",
    "    return sorted(l)\n",
    "\n",
    "chowPoly_list = {}\n",
    "\n",
    "def isom(g1, g2):\n",
    "    g1_edges = g1.edges(labels = False)\n",
    "    g2_edges = g2.edges(labels = False)\n",
    "    return reduceGroup(g1_edges) == reduceGroup(g2_edges)"
   ]
  },
  {
   "cell_type": "code",
   "execution_count": 2,
   "metadata": {},
   "outputs": [],
   "source": [
    "n = 5000\n",
    "\n",
    "g1 = graphs.CompleteGraph(n)\n",
    "g2 = graphs.CompleteGraph(n)"
   ]
  },
  {
   "cell_type": "code",
   "execution_count": 3,
   "metadata": {},
   "outputs": [
    {
     "data": {
      "text/plain": [
       "21.19983699999284"
      ]
     },
     "execution_count": 3,
     "metadata": {},
     "output_type": "execute_result"
    }
   ],
   "source": [
    "def f():\n",
    "    g = isom(g1, g2)\n",
    "    return g\n",
    "\n",
    "timeit.timeit(f, number = 1)"
   ]
  },
  {
   "cell_type": "code",
   "execution_count": 4,
   "metadata": {},
   "outputs": [
    {
     "data": {
      "text/plain": [
       "32.47708604100626"
      ]
     },
     "execution_count": 4,
     "metadata": {},
     "output_type": "execute_result"
    }
   ],
   "source": [
    "def g():\n",
    "    h = g1.is_isomorphic(g2)\n",
    "    return h\n",
    "\n",
    "timeit.timeit(g, number = 1)"
   ]
  }
 ],
 "metadata": {
  "kernelspec": {
   "display_name": "SageMath 10.3",
   "language": "sage",
   "name": "SageMath-10.3"
  },
  "language_info": {
   "codemirror_mode": {
    "name": "ipython",
    "version": 3
   },
   "file_extension": ".py",
   "mimetype": "text/x-python",
   "name": "sage",
   "nbconvert_exporter": "python",
   "pygments_lexer": "ipython3",
   "version": "3.11.8"
  }
 },
 "nbformat": 4,
 "nbformat_minor": 2
}
