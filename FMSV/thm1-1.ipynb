{
 "cells": [
  {
   "cell_type": "code",
   "execution_count": null,
   "metadata": {},
   "outputs": [],
   "source": [
    "def ppoly(M):\n",
    "    rank = M.rank()\n",
    "\n",
    "    if rank == 0:\n",
    "        return [1]\n",
    "    \n",
    "    p_poly = [0] * rank\n",
    "    \n",
    "    for i in range(1, rank + 1):\n",
    "        for flat in M.flats(i):\n",
    "            deletion = M.delete(flat)\n",
    "            contraction = M.contract(flat)\n",
    "            term = ([0] * deletion.rank()) + ppoly(contraction)\n",
    "            p_poly = [x + y for x, y in zip(p_poly, term)]\n",
    "\n",
    "    p_poly.reverse()\n",
    "\n",
    "    return p_poly"
   ]
  }
 ],
 "metadata": {
  "language_info": {
   "name": "python"
  }
 },
 "nbformat": 4,
 "nbformat_minor": 2
}
