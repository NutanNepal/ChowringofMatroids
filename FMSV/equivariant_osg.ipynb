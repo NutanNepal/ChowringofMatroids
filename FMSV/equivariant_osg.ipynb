{
 "cells": [
  {
   "cell_type": "code",
   "execution_count": 1,
   "metadata": {},
   "outputs": [
    {
     "name": "stdout",
     "output_type": "stream",
     "text": [
      "Finite family {frozenset(): OS{}} [frozenset()]\n",
      "Finite family {frozenset({(1, 2)}): OS{(1, 2)}, frozenset({(0, 2)}): OS{(0, 2)}, frozenset({(0, 1)}): OS{(0, 1)}} [frozenset({(1, 2)}), frozenset({(0, 2)}), frozenset({(0, 1)})]\n",
      "Finite family {frozenset({(0, 1), (1, 2)}): OS{(0, 1), (1, 2)}, frozenset({(0, 1), (0, 2)}): OS{(0, 1), (0, 2)}} [frozenset({(0, 1), (1, 2)}), frozenset({(0, 1), (0, 2)})]\n",
      "[1, 3, 2]\n",
      "[[1, 1, 1], [3, 1, 0], [2, 0, 0]]\n",
      "[[ 1.  2.  1.]\n",
      " [ 1.  0. -1.]\n",
      " [ 1. -1.  1.]]\n",
      "[[1, 0, 0], [1, 1, 0], [0, 1, 0]]\n",
      "[frozenset(), frozenset({(1, 2)}), frozenset({(0, 2)}), frozenset({(0, 1)}), frozenset({(0, 1), (1, 2)}), frozenset({(0, 1), (0, 2)})]\n"
     ]
    }
   ],
   "source": [
    "import json\n",
    "import numpy as np\n",
    "from sage.all import Graph, Matroid, SymmetricGroup, ZZ, graphs\n",
    "\n",
    "n = 3\n",
    "\n",
    "edgelist = graphs.CompleteGraph(n).edges(labels=False)\n",
    "matroid = Matroid(graph=edgelist, groundset=edgelist)\n",
    "\n",
    "group = SymmetricGroup(range(n))\n",
    "conjugacy_class_reps = group.conjugacy_classes_representatives()\n",
    "partitions = reversed([x.cycle_type() for x in conjugacy_class_reps])\n",
    "\n",
    "def representations(n):\n",
    "        representations = []\n",
    "        for partition in partitions:\n",
    "            character_values = SymmetricGroupRepresentation(partition).to_character().values()\n",
    "            int_values = [int(value) for value in character_values]\n",
    "            representations.append(int_values)\n",
    "            \n",
    "        return representations\n",
    "\n",
    "def decomposition(characters_list, n):\n",
    "    trace_matrix = np.matrix(representations(n), dtype=float)\n",
    "    decomposition = []\n",
    "    A = np.array(trace_matrix.transpose())\n",
    "    print(A)\n",
    "    for v in characters_list:\n",
    "        rhs_array = np.array(v, dtype=float)\n",
    "        solution = np.linalg.solve(A, rhs_array)\n",
    "        rounded_solution = np.round(solution).astype(int)\n",
    "        decomposition.append(rounded_solution.tolist())\n",
    "\n",
    "    return decomposition\n",
    "\n",
    "def action_on_groundset(g, x):\n",
    "    return tuple(sorted(g(y) for y in x))\n",
    "\n",
    "def action_on_subset(g, S):\n",
    "    return frozenset([action_on_groundset(g, x) for x in S])\n",
    "\n",
    "OSG = matroid.orlik_solomon_algebra(ZZ)\n",
    "equivOSG = []\n",
    "\n",
    "for i in range(matroid.rank() + 1):\n",
    "    basis = OSG.basis(i)\n",
    "    print(basis)\n",
    "    trace_matrix = []\n",
    "    for g in conjugacy_class_reps:\n",
    "        trace = 0\n",
    "        for key in basis.keys():\n",
    "            action_image = action_on_subset(g, key)\n",
    "            #print(OSG.subset_image(action_image), OSG.subset_image(key))\n",
    "            if OSG.subset_image(action_image) == OSG.subset_image(key):\n",
    "                trace += 1\n",
    "        trace_matrix.append(trace)\n",
    "    equivOSG.append(trace_matrix)\n",
    "\n",
    "print(\n",
    "print([len(OSG.basis(i)) for i in range(matroid.rank() + 1)])\n",
    "print(equivOSG)\n",
    "print(decomposition(equivOSG, n))\n",
    "print(matroid.no_broken_circuits_sets())\n"
   ]
  }
 ],
 "metadata": {
  "kernelspec": {
   "display_name": "SageMath 10.3",
   "language": "sage",
   "name": "SageMath-10.3"
  },
  "language_info": {
   "codemirror_mode": {
    "name": "ipython",
    "version": 3
   },
   "file_extension": ".py",
   "mimetype": "text/x-python",
   "name": "sage",
   "nbconvert_exporter": "python",
   "pygments_lexer": "ipython3",
   "version": "3.11.8"
  }
 },
 "nbformat": 4,
 "nbformat_minor": 2
}
