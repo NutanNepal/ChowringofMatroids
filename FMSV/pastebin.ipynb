{
 "cells": [
  {
   "cell_type": "code",
   "execution_count": 36,
   "metadata": {},
   "outputs": [],
   "source": [
    "n = 3\n",
    "edgelist = graphs.CompleteGraph(n).edges(labels = False)\n",
    "matroid = Matroid(graph = edgelist, groundset = edgelist)"
   ]
  },
  {
   "cell_type": "code",
   "execution_count": 37,
   "metadata": {},
   "outputs": [
    {
     "name": "stdout",
     "output_type": "stream",
     "text": [
      "[1]\n",
      "[e0, e1, e2]\n",
      "[e0*e2, e1*e2]\n",
      "<class 'sage.algebras.orlik_solomon.OrlikSolomonAlgebra_with_category.element_class'>\n",
      "-OS{(0, 1), (0, 2)} + OS{(0, 1), (1, 2)}\n"
     ]
    }
   ],
   "source": [
    "def reduced_char_poly(graph):\n",
    "    return graphic_char_poly(graph) // (x - 1)\n",
    "\n",
    "def graphic_char_poly(graph):\n",
    "    T = graph.tutte_polynomial()\n",
    "    x = var('x')\n",
    "    subbed_Tpoly = T.subs(x = 1 - x, y = 0)\n",
    "    char_poly = (-1) ** Matroid(graph).rank() * subbed_Tpoly\n",
    "    R = PolynomialRing(QQ, 'x')\n",
    "\n",
    "    return R(char_poly)\n",
    "\n",
    "OSG = matroid.orlik_solomon_algebra(QQ).as_gca()\n",
    "OS = matroid.orlik_solomon_algebra(QQ)\n",
    "\n",
    "for i in range(matroid.rank()+1):\n",
    "    print(OSG.basis(i))\n",
    "\n",
    "simage = OS.subset_image(frozenset([(0,2), (1,2)]))\n",
    "print(type(simage))\n",
    "print(simage)"
   ]
  },
  {
   "cell_type": "code",
   "execution_count": 38,
   "metadata": {},
   "outputs": [
    {
     "name": "stdout",
     "output_type": "stream",
     "text": [
      "[[1, 1, 1], [2, 1], [3]]\n"
     ]
    }
   ],
   "source": [
    "group = SymmetricGroup(range(n))\n",
    "conjugacy_class_reps = group.conjugacy_classes_representatives()\n",
    "print([x.cycle_type() for x in conjugacy_class_reps])"
   ]
  }
 ],
 "metadata": {
  "kernelspec": {
   "display_name": "SageMath 10.3",
   "language": "sage",
   "name": "SageMath-10.3"
  },
  "language_info": {
   "codemirror_mode": {
    "name": "ipython",
    "version": 3
   },
   "file_extension": ".py",
   "mimetype": "text/x-python",
   "name": "sage",
   "nbconvert_exporter": "python",
   "pygments_lexer": "ipython3",
   "version": "3.11.8"
  }
 },
 "nbformat": 4,
 "nbformat_minor": 2
}
