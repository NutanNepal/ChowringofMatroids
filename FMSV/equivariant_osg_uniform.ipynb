{
 "cells": [
  {
   "cell_type": "code",
   "execution_count": 31,
   "metadata": {},
   "outputs": [],
   "source": [
    "import numpy as np\n",
    "\n",
    "i = 1\n",
    "j = 1\n",
    "\n",
    "matroid = matroids.CompleteGraphic(3)"
   ]
  },
  {
   "cell_type": "markdown",
   "metadata": {},
   "source": [
    "$$C^W_M(x) = \\sum_{[F]\\in L/W}{Ind^W_{W_F}\\left( \\right)}$$"
   ]
  },
  {
   "cell_type": "code",
   "execution_count": 32,
   "metadata": {},
   "outputs": [
    {
     "name": "stdout",
     "output_type": "stream",
     "text": [
      "0 Finite family {frozenset(): OS{}}\n",
      "1 Finite family {frozenset({2}): OS{2}, frozenset({1}): OS{1}, frozenset({0}): OS{0}}\n",
      "2 Finite family {frozenset({0, 2}): OS{0, 2}, frozenset({0, 1}): OS{0, 1}}\n",
      "[1, 3, 2]\n",
      "[[1], [3], [2]]\n",
      "[[1.]]\n",
      "[[1], [3], [2]]\n",
      "[frozenset(), frozenset({2}), frozenset({1}), frozenset({0}), frozenset({0, 2}), frozenset({0, 1})]\n"
     ]
    }
   ],
   "source": [
    "group = SymmetricGroup(range(j))\n",
    "conjugacy_class_reps = group.conjugacy_classes_representatives()\n",
    "partitions = reversed([x.cycle_type() for x in conjugacy_class_reps])\n",
    "\n",
    "OSG = matroid.orlik_solomon_algebra(ZZ)\n",
    "equivOSG = []\n",
    "\n",
    "def representations(n):\n",
    "        representations = []\n",
    "        for partition in partitions:\n",
    "            character_values = SymmetricGroupRepresentation(partition).to_character().values()\n",
    "            int_values = [int(value) for value in character_values]\n",
    "            representations.append(int_values)\n",
    "            \n",
    "        return representations\n",
    "\n",
    "def decomposition(characters_list, n):\n",
    "    trace_matrix = np.matrix(representations(n), dtype=float)\n",
    "    decomposition = []\n",
    "    A = np.array(trace_matrix.transpose())\n",
    "    print(A)\n",
    "    for v in characters_list:\n",
    "        rhs_array = np.array(v, dtype=float)\n",
    "        solution = np.linalg.solve(A, rhs_array)\n",
    "        rounded_solution = np.round(solution).astype(int)\n",
    "        decomposition.append(rounded_solution.tolist())\n",
    "\n",
    "    return decomposition\n",
    "\n",
    "def action_on_subset(g, S):\n",
    "    return frozenset(sorted(g(y) for y in S))\n",
    "\n",
    "for i in range(matroid.rank() + 1):\n",
    "    basis = OSG.basis(i)\n",
    "    print(i, basis)\n",
    "    trace_matrix = []\n",
    "    for g in conjugacy_class_reps:\n",
    "        trace = 0\n",
    "        for key in basis.keys():\n",
    "            action_image = action_on_subset(g, key)\n",
    "            #print(OSG.subset_image(action_image), OSG.subset_image(key))\n",
    "            if OSG.subset_image(action_image) == OSG.subset_image(key):\n",
    "                trace += 1\n",
    "        trace_matrix.append(trace)\n",
    "    equivOSG.append(trace_matrix)\n",
    "\n",
    "print([len(OSG.basis(i)) for i in range(matroid.rank() + 1)])\n",
    "print(equivOSG)\n",
    "print(decomposition(equivOSG, n))\n",
    "print(matroid.no_broken_circuits_sets())\n"
   ]
  }
 ],
 "metadata": {
  "kernelspec": {
   "display_name": "SageMath 10.3",
   "language": "sage",
   "name": "SageMath-10.3"
  },
  "language_info": {
   "codemirror_mode": {
    "name": "ipython",
    "version": 3
   },
   "file_extension": ".py",
   "mimetype": "text/x-python",
   "name": "sage",
   "nbconvert_exporter": "python",
   "pygments_lexer": "ipython3",
   "version": "3.11.8"
  }
 },
 "nbformat": 4,
 "nbformat_minor": 2
}
