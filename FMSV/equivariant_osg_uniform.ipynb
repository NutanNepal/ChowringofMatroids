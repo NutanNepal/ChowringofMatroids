{
 "cells": [
  {
   "cell_type": "code",
   "execution_count": 5,
   "metadata": {},
   "outputs": [],
   "source": [
    "import numpy as np\n",
    "\n",
    "i = 4\n",
    "j = 5\n",
    "\n",
    "matroid = matroids.Uniform(i, j)"
   ]
  },
  {
   "cell_type": "code",
   "execution_count": 6,
   "metadata": {},
   "outputs": [
    {
     "name": "stdout",
     "output_type": "stream",
     "text": [
      "Finite family {frozenset(): OS{}} [frozenset()]\n",
      "Finite family {frozenset({4}): OS{4}, frozenset({3}): OS{3}, frozenset({2}): OS{2}, frozenset({1}): OS{1}, frozenset({0}): OS{0}} [frozenset({4}), frozenset({3}), frozenset({2}), frozenset({1}), frozenset({0})]\n",
      "Finite family {frozenset({3, 4}): OS{3, 4}, frozenset({2, 4}): OS{2, 4}, frozenset({1, 4}): OS{1, 4}, frozenset({0, 4}): OS{0, 4}, frozenset({2, 3}): OS{2, 3}, frozenset({1, 3}): OS{1, 3}, frozenset({0, 3}): OS{0, 3}, frozenset({1, 2}): OS{1, 2}, frozenset({0, 2}): OS{0, 2}, frozenset({0, 1}): OS{0, 1}} [frozenset({3, 4}), frozenset({2, 4}), frozenset({1, 4}), frozenset({0, 4}), frozenset({2, 3}), frozenset({1, 3}), frozenset({0, 3}), frozenset({1, 2}), frozenset({0, 2}), frozenset({0, 1})]\n",
      "Finite family {frozenset({2, 3, 4}): OS{2, 3, 4}, frozenset({1, 3, 4}): OS{1, 3, 4}, frozenset({0, 3, 4}): OS{0, 3, 4}, frozenset({1, 2, 4}): OS{1, 2, 4}, frozenset({0, 2, 4}): OS{0, 2, 4}, frozenset({0, 1, 4}): OS{0, 1, 4}, frozenset({1, 2, 3}): OS{1, 2, 3}, frozenset({0, 2, 3}): OS{0, 2, 3}, frozenset({0, 1, 3}): OS{0, 1, 3}, frozenset({0, 1, 2}): OS{0, 1, 2}} [frozenset({2, 3, 4}), frozenset({1, 3, 4}), frozenset({0, 3, 4}), frozenset({1, 2, 4}), frozenset({0, 2, 4}), frozenset({0, 1, 4}), frozenset({1, 2, 3}), frozenset({0, 2, 3}), frozenset({0, 1, 3}), frozenset({0, 1, 2})]\n",
      "Finite family {frozenset({0, 2, 3, 4}): OS{0, 2, 3, 4}, frozenset({0, 1, 3, 4}): OS{0, 1, 3, 4}, frozenset({0, 1, 2, 4}): OS{0, 1, 2, 4}, frozenset({0, 1, 2, 3}): OS{0, 1, 2, 3}} [frozenset({0, 2, 3, 4}), frozenset({0, 1, 3, 4}), frozenset({0, 1, 2, 4}), frozenset({0, 1, 2, 3})]\n",
      "[1, 5, 10, 10, 4]\n",
      "[[1, 1, 1, 1, 1, 1, 1], [5, 3, 1, 2, 0, 1, 0], [10, 4, 2, 1, 1, 0, 0], [10, 4, 2, 1, 1, 0, 0], [4, 3, 1, 2, 0, 1, 0]]\n",
      "[[ 1.  4.  5.  6.  5.  4.  1.]\n",
      " [ 1.  2.  1.  0. -1. -2. -1.]\n",
      " [ 1.  0.  1. -2.  1.  0.  1.]\n",
      " [ 1.  1. -1.  0. -1.  1.  1.]\n",
      " [ 1. -1.  1.  0. -1.  1. -1.]\n",
      " [ 1.  0. -1.  0.  1.  0. -1.]\n",
      " [ 1. -1.  0.  1.  0. -1.  1.]]\n",
      "[[1, 0, 0, 0, 0, 0, 0], [1, 1, 0, 0, 0, 0, 0], [1, 1, 1, 0, 0, 0, 0], [1, 1, 1, 0, 0, 0, 0], [1, 1, 0, 0, 0, 0, 0]]\n",
      "[frozenset(), frozenset({4}), frozenset({3}), frozenset({2}), frozenset({1}), frozenset({0}), frozenset({3, 4}), frozenset({2, 4}), frozenset({1, 4}), frozenset({0, 4}), frozenset({2, 3}), frozenset({1, 3}), frozenset({0, 3}), frozenset({1, 2}), frozenset({0, 2}), frozenset({0, 1}), frozenset({2, 3, 4}), frozenset({1, 3, 4}), frozenset({0, 3, 4}), frozenset({1, 2, 4}), frozenset({0, 2, 4}), frozenset({0, 1, 4}), frozenset({1, 2, 3}), frozenset({0, 2, 3}), frozenset({0, 1, 3}), frozenset({0, 1, 2}), frozenset({0, 2, 3, 4}), frozenset({0, 1, 3, 4}), frozenset({0, 1, 2, 4}), frozenset({0, 1, 2, 3})]\n"
     ]
    }
   ],
   "source": [
    "group = SymmetricGroup(range(j))\n",
    "conjugacy_class_reps = group.conjugacy_classes_representatives()\n",
    "partitions = reversed([x.cycle_type() for x in conjugacy_class_reps])\n",
    "\n",
    "OSG = matroid.orlik_solomon_algebra(ZZ)\n",
    "equivOSG = []\n",
    "\n",
    "def representations(n):\n",
    "        representations = []\n",
    "        for partition in partitions:\n",
    "            character_values = SymmetricGroupRepresentation(partition).to_character().values()\n",
    "            int_values = [int(value) for value in character_values]\n",
    "            representations.append(int_values)\n",
    "            \n",
    "        return representations\n",
    "\n",
    "def decomposition(characters_list, n):\n",
    "    trace_matrix = np.matrix(representations(n), dtype=float)\n",
    "    decomposition = []\n",
    "    A = np.array(trace_matrix.transpose())\n",
    "    print(A)\n",
    "    for v in characters_list:\n",
    "        rhs_array = np.array(v, dtype=float)\n",
    "        solution = np.linalg.solve(A, rhs_array)\n",
    "        rounded_solution = np.round(solution).astype(int)\n",
    "        decomposition.append(rounded_solution.tolist())\n",
    "\n",
    "    return decomposition\n",
    "\n",
    "def action_on_subset(g, S):\n",
    "    return frozenset(sorted(g(y) for y in S))\n",
    "\n",
    "for i in range(matroid.rank() + 1):\n",
    "    basis = OSG.basis(i)\n",
    "    print(basis, basis.keys())\n",
    "    trace_matrix = []\n",
    "    for g in conjugacy_class_reps:\n",
    "        trace = 0\n",
    "        for key in basis.keys():\n",
    "            action_image = action_on_subset(g, key)\n",
    "            #print(OSG.subset_image(action_image), OSG.subset_image(key))\n",
    "            if OSG.subset_image(action_image) == OSG.subset_image(key):\n",
    "                trace += 1\n",
    "        trace_matrix.append(trace)\n",
    "    equivOSG.append(trace_matrix)\n",
    "\n",
    "print([len(OSG.basis(i)) for i in range(matroid.rank() + 1)])\n",
    "print(equivOSG)\n",
    "print(decomposition(equivOSG, n))\n",
    "print(matroid.no_broken_circuits_sets())\n"
   ]
  }
 ],
 "metadata": {
  "kernelspec": {
   "display_name": "SageMath 10.3",
   "language": "sage",
   "name": "SageMath-10.3"
  },
  "language_info": {
   "codemirror_mode": {
    "name": "ipython",
    "version": 3
   },
   "file_extension": ".py",
   "mimetype": "text/x-python",
   "name": "sage",
   "nbconvert_exporter": "python",
   "pygments_lexer": "ipython3",
   "version": "3.11.8"
  }
 },
 "nbformat": 4,
 "nbformat_minor": 2
}
