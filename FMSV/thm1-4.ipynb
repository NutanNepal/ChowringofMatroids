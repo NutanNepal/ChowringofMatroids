{
 "cells": [
  {
   "cell_type": "code",
   "execution_count": 18,
   "metadata": {},
   "outputs": [
    {
     "name": "stdout",
     "output_type": "stream",
     "text": [
      "Chow polynomial: x^7 + 958*x^6 + 31990*x^5 + 155092*x^4 + 155092*x^3 + 31990*x^2 + 958*x + 1\n"
     ]
    }
   ],
   "source": [
    "chowPoly_list = []\n",
    "\n",
    "def get_cPoly(M):\n",
    "\n",
    "    for item, cpoly in chowPoly_list:\n",
    "        if  M.is_isomorphic(item):\n",
    "            return cpoly\n",
    "    \n",
    "    cpoly = chow_polynomial(M)\n",
    "    chowPoly_list.append((M, cpoly))\n",
    "\n",
    "    return cpoly\n",
    "\n",
    "def reduced_char_poly(M):\n",
    "    return char_poly(M) // (x - 1)\n",
    "\n",
    "def char_poly(M):\n",
    "    T = M.tutte_polynomial()\n",
    "    x = var('x')\n",
    "    subbed_Tpoly = T.subs(x = 1 - x, y = 0)\n",
    "    char_poly = (-1) ** M.rank() * subbed_Tpoly\n",
    "    R = PolynomialRing(QQ, 'x')\n",
    "\n",
    "    return R(char_poly)\n",
    "\n",
    "def graphic_char_poly(n):\n",
    "    T = graphs.CompleteGraph(n).tutte_polynomial()\n",
    "    x = var('x')\n",
    "    subbed_Tpoly = T.subs(x = 1 - x, y = 0)\n",
    "    char_poly = (-1) ** (n - 1) * subbed_Tpoly\n",
    "    R = PolynomialRing(QQ, 'x')\n",
    "\n",
    "    return R(char_poly)\n",
    "\n",
    "def chow_polynomial(M):\n",
    "    rank = M.rank()\n",
    "    x = var('x')\n",
    "    R = PolynomialRing(QQ, 'x')\n",
    "\n",
    "    if rank == 0: return R(1)\n",
    "    \n",
    "    chow_poly = R(0)\n",
    "    \n",
    "    for i in range(1, rank + 1):\n",
    "        for flat in M.flats(i):\n",
    "            restriction = M.delete(M.groundset() - flat).simplify()\n",
    "            contraction = M.contract(flat).simplify()\n",
    "            \n",
    "            restriction_poly = reduced_char_poly(restriction)\n",
    "            contraction_poly = get_cPoly(contraction)\n",
    "            \n",
    "            term_poly = restriction_poly * contraction_poly\n",
    "            \n",
    "            chow_poly += term_poly\n",
    "    \n",
    "    return chow_poly\n",
    "\n",
    "M = matroids.Uniform(8,10)\n",
    "result = chow_polynomial(M)\n",
    "print(\"Chow polynomial:\", result)"
   ]
  },
  {
   "cell_type": "code",
   "execution_count": 19,
   "metadata": {},
   "outputs": [
    {
     "name": "stdout",
     "output_type": "stream",
     "text": [
      "M / {0, 1, 2, 3, 4, 5, 6, 8} \\ {7, 9}, where M is U(8, 10): Matroid of rank 8 on 10 elements with circuit-closures\n",
      "{8: {{0, 1, 2, 3, 4, 5, 6, 7, 8, 9}}} :  1\n",
      "M / {0, 1, 2, 3, 4, 5, 6} \\ {7, 9}, where M is U(8, 10): Matroid of rank 8 on 10 elements with circuit-closures\n",
      "{8: {{0, 1, 2, 3, 4, 5, 6, 7, 8, 9}}} :  1\n",
      "M / {0, 1, 2, 3, 4, 5}, where M is U(8, 10): Matroid of rank 8 on 10 elements with circuit-closures\n",
      "{8: {{0, 1, 2, 3, 4, 5, 6, 7, 8, 9}}} :  x + 1\n",
      "M / {0, 1, 2, 3, 4}, where M is U(8, 10): Matroid of rank 8 on 10 elements with circuit-closures\n",
      "{8: {{0, 1, 2, 3, 4, 5, 6, 7, 8, 9}}} :  x^2 + 11*x + 1\n",
      "M / {0, 1, 2, 3}, where M is U(8, 10): Matroid of rank 8 on 10 elements with circuit-closures\n",
      "{8: {{0, 1, 2, 3, 4, 5, 6, 7, 8, 9}}} :  x^3 + 36*x^2 + 36*x + 1\n",
      "M / {0, 1, 2}, where M is U(8, 10): Matroid of rank 8 on 10 elements with circuit-closures\n",
      "{8: {{0, 1, 2, 3, 4, 5, 6, 7, 8, 9}}} :  x^4 + 92*x^3 + 337*x^2 + 92*x + 1\n",
      "M / {0, 1}, where M is U(8, 10): Matroid of rank 8 on 10 elements with circuit-closures\n",
      "{8: {{0, 1, 2, 3, 4, 5, 6, 7, 8, 9}}} :  x^5 + 211*x^4 + 1877*x^3 + 1877*x^2 + 211*x + 1\n",
      "M / {0}, where M is U(8, 10): Matroid of rank 8 on 10 elements with circuit-closures\n",
      "{8: {{0, 1, 2, 3, 4, 5, 6, 7, 8, 9}}} :  x^6 + 457*x^5 + 8269*x^4 + 20155*x^3 + 8269*x^2 + 457*x + 1\n"
     ]
    }
   ],
   "source": [
    "for name, poly in chowPoly_list:\n",
    "    print(name, \": \", poly)\n"
   ]
  }
 ],
 "metadata": {
  "kernelspec": {
   "display_name": "SageMath 10.1",
   "language": "sage",
   "name": "SageMath-10.1"
  },
  "language_info": {
   "codemirror_mode": {
    "name": "ipython",
    "version": 3
   },
   "file_extension": ".py",
   "mimetype": "text/x-python",
   "name": "sage",
   "nbconvert_exporter": "python",
   "pygments_lexer": "ipython3",
   "version": "3.11.1"
  }
 },
 "nbformat": 4,
 "nbformat_minor": 2
}
