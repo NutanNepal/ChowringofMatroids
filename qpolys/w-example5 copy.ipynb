{
 "cells": [
  {
   "cell_type": "code",
   "execution_count": 63,
   "metadata": {
    "vscode": {
     "languageId": "sage"
    }
   },
   "outputs": [],
   "source": [
    "import sys\n",
    "sys.path.append('..')\n",
    "from db1 import *\n",
    "import pandas as pd\n",
    "\n",
    "R = PolynomialRing(QQ, 't')\n",
    "t = R.gen()\n",
    "\n",
    "def is_paving(M):\n",
    "    n = M.size()\n",
    "    r = M.rank()\n",
    "    return (len(M.independent_r_sets(r-1)) == binomial(n, r-1))\n",
    "\n",
    "def q_kl(k, h):\n",
    "    return kazhdan_lusztig_inverse_uniform(k, h+1) - kazhdan_lusztig_inverse_uniform(k-1, h)\n",
    "\n",
    "def kl_inverse_fast(M):\n",
    "    if M.loops(): return R(0)\n",
    "    k, n = M.rank(), M.size()\n",
    "    if k == n or k == 0: return R(1)\n",
    "    if not M.is_connected():\n",
    "        ans = R(1)\n",
    "        CC = M.components()\n",
    "        for N in CC:\n",
    "            res = M.delete(M.groundset() - N)\n",
    "            ans = ans * kl_inverse_fast(res)\n",
    "        return ans\n",
    "\n",
    "    if is_paving(M):\n",
    "        return kl_inverse_paving(M)\n",
    "    if is_paving(M.dual()):\n",
    "        return kl_inverse_copaving(M)\n",
    "    \"\"\"\n",
    "    if n <= 8 and M.is_connected():\n",
    "        for i in range(len(mat[n][k])):\n",
    "            if mat[n][k][i].is_isomorphic(M):\n",
    "                return ikl[n][k][i]\n",
    "    \"\"\"\n",
    "    LF = M.lattice_of_flats()\n",
    "    ans = R(0)\n",
    "    for F in LF:\n",
    "        if len(F) != n:\n",
    "            Res = M.delete(M.groundset() - F)\n",
    "            Con = M.contract(F)\n",
    "            chi = characteristic_polynomial(Con)(1/t) * t**(Con.rank())\n",
    "            PPP = kl_inverse_fast(Res)(t) * (-1)**(Res.rank())\n",
    "            ans = ans + chi * PPP\n",
    "    assert (t**k * ans(1/t)).numerator() == -ans(t)\n",
    "    ans = ans.numerator() * (-1)**(k+1)\n",
    "    return ans.truncate((k+1)//2)\n",
    "\n",
    "def kazhdan_lusztig_inverse_uniform(k, n):\n",
    "    if k == n:\n",
    "        return R(1)\n",
    "    d = k\n",
    "    m = n - d\n",
    "    ans = 0\n",
    "    for j in range((d-1)//2 + 1):\n",
    "        ans = ans + m * (d-2*j)/((m+j) * (m+d-j)) * binomial(d, j) * t**j\n",
    "    return ans * binomial(m+d, d)\n",
    "\n",
    "def kl_inverse_paving(M):\n",
    "    assert is_paving(M)\n",
    "    n = M.size()\n",
    "    k = M.rank()\n",
    "    ans = kazhdan_lusztig_inverse_uniform(k, n)\n",
    "    for H in M.hyperplanes():\n",
    "        h = len(H)\n",
    "        if h >= k:\n",
    "            ans = ans - q_kl(k, h)\n",
    "    return ans\n",
    "\n",
    "def kl_inverse_copaving(M):\n",
    "    assert is_paving(M.dual())\n",
    "    n = M.size()\n",
    "    k = M.rank()\n",
    "    ans = kazhdan_lusztig_inverse_uniform(k, n)\n",
    "    for H in M.dual().hyperplanes():\n",
    "        h = len(H)\n",
    "        if h >= n-k:\n",
    "            ans = ans - kli_vtilde_dual(n-k, h, n) + kazhdan_lusztig_inverse_uniform(h-n+k+1, h) * kazhdan_lusztig_inverse_uniform(n-h-1, n-h)\n",
    "    return ans\n",
    "\n",
    "def kli_vtilde_dual(k, h, n):\n",
    "    return helper1(n-k, h, n)\n",
    "\n",
    "def helper1(k, h, n):\n",
    "    c = n - h\n",
    "    ans1 = kazhdan_lusztig_inverse_uniform(k, n)\n",
    "    ans2 = helper2(c, k, n)\n",
    "    ans3 = kazhdan_lusztig_inverse_uniform(k-c+1, h) * kazhdan_lusztig_inverse_uniform(c-1, c)\n",
    "    return ans1 - ans2 + ans3\n",
    "\n",
    "def helper2(c, k, n):\n",
    "    h = n - c\n",
    "    ans = 0\n",
    "    for j in range(k-c+1):\n",
    "        ans = ans + binomial(n-c, j) * (-1)**(c-1+j) * kazhdan_lusztig_inverse_uniform(c-1, c) * t**(k-c-j+1) * chuly(k-c-j+1, n-c-j)(1/t)\n",
    "    for i in range(c-1):\n",
    "        for j in range(k-i):\n",
    "            ans = ans + binomial(c, i) * binomial(n-c, j) * (-1)**(i+j) * t**(k-i-j) * helper4(c, k, n, i, j)(1/t)\n",
    "    ans = ans.numerator().truncate((k-1)//2 + 1)\n",
    "    if ans[0] < 0:\n",
    "        ans = -ans\n",
    "    return ans\n",
    "\n",
    "def helper3(c, k, n):\n",
    "    ans = 0\n",
    "    for j in range(k-c+1):\n",
    "        ans = ans + binomial(n-c, j) * kazhdan_lusztig_uniform_matroid(c-1, c) * (-1)**(k-c-j+1) * kazhdan_lusztig_inverse_uniform(k-c-j+1, n-c-j)\n",
    "    for i in range(c-1):\n",
    "        for j in range(k-i):\n",
    "            ans = ans + binomial(c, i) * binomial(n-c, j) * (-1)**(k-i-j) * helper2(c-i, k-i-j, n-i-j)\n",
    "    return -ans\n",
    "\n",
    "def helper4(c, k, n, i, j):\n",
    "    ans = 0\n",
    "    for l in range(c-i-1):\n",
    "        ans = ans + (-1)**l * (t-1)**(max(n-i-j-l-1, 0))\n",
    "    for u in range(n-k-1):\n",
    "        ans = doit_once(ans)\n",
    "    return ans\n",
    "\n",
    "def chuly(a, b):\n",
    "    ans = (t-1)**b\n",
    "    for i in range(b-a):\n",
    "        ans = doit_once(ans)\n",
    "    return ans\n",
    "\n",
    "def doit_once(p):\n",
    "    p = p // t**2\n",
    "    p = p * t\n",
    "    p = p - p(1)\n",
    "    return p\n",
    "\n",
    "def lorenzo(k, h, n):\n",
    "    c = n - h\n",
    "    ans1 = kazhdan_lusztig_uniform_matroid(k, n) + kazhdan_lusztig_uniform_matroid(k-c+1, h) * kazhdan_lusztig_uniform_matroid(c-1, c)\n",
    "    ans2 = helper3(c, k, n)\n",
    "    return ans1 - ans2"
   ]
  },
  {
   "cell_type": "code",
   "execution_count": 64,
   "metadata": {
    "vscode": {
     "languageId": "sage"
    }
   },
   "outputs": [],
   "source": [
    "def kl(M):\n",
    "    return M.lattice_of_flats().kazhdan_lusztig_polynomial().factor()(t)\n",
    "\n",
    "def set_division(M, e):\n",
    "    L = M.lattice_of_flats()\n",
    "    divs = {'A': set(), 'B': set(), 'C': set(), 'D': set()}\n",
    "    for x in L[1:]:\n",
    "        if set(e).issubset(set(x)):\n",
    "            if frozenset(set(x) - set(e)) in L:\n",
    "                divs['A'].add(x)\n",
    "            else:\n",
    "                divs['D'].add(x)\n",
    "        else:\n",
    "            if frozenset(set(x) | set(e)) in L:\n",
    "                divs['C'].add(x)\n",
    "            else:\n",
    "                divs['B'].add(x)\n",
    "    return divs"
   ]
  },
  {
   "cell_type": "code",
   "execution_count": 65,
   "metadata": {
    "vscode": {
     "languageId": "sage"
    }
   },
   "outputs": [
    {
     "data": {
      "image/png": "[encoded data removed]",
      "text/plain": [
       "Graphics object consisting of 14 graphics primitives"
      ]
     },
     "metadata": {},
     "output_type": "display_data"
    },
    {
     "data": {
      "text/plain": [
       "frozenset({(0, 3)})"
      ]
     },
     "execution_count": 65,
     "metadata": {},
     "output_type": "execute_result"
    }
   ],
   "source": [
    "#creating parallel connection of cycles\n",
    "m, n = 4, 4\n",
    "\n",
    "def parallel_connection(m, n):\n",
    "    G = graphs.CycleGraph(m + n - 2)\n",
    "    G.add_edge(0, m-1)\n",
    "    edge_e = frozenset({(0, m - 1)})\n",
    "    return G, edge_e\n",
    "\n",
    "G, edge_e = parallel_connection(n, n)\n",
    "G.show()\n",
    "M = Matroid(G)\n",
    "\n",
    "flats = M.lattice_of_flats().list()\n",
    "gset = M.groundset()\n",
    "labels = {element: idx for idx, element in enumerate(gset)}\n",
    "relabel_flats = {flat: frozenset({labels[element] for element in flat}) for flat in flats}\n",
    "edge_e"
   ]
  },
  {
   "cell_type": "code",
   "execution_count": 66,
   "metadata": {
    "vscode": {
     "languageId": "sage"
    }
   },
   "outputs": [
    {
     "name": "stdout",
     "output_type": "stream",
     "text": [
      "A: [frozenset({0, 3, 5}), frozenset({2, 3}), frozenset({3, 4, 5}), frozenset({0, 2, 3}), frozenset({0, 3, 6}), frozenset({0, 3}), frozenset({1, 3, 5}), frozenset({3, 6}), frozenset({3, 4, 6}), frozenset({3, 4}), frozenset({3}), frozenset({1, 2, 3}), frozenset({1, 3, 6}), frozenset({1, 3}), frozenset({2, 3, 4}), frozenset({3, 5})]\n",
      "B: [frozenset({0, 4, 6}), frozenset({0, 4, 5, 6}), frozenset({0, 4, 5}), frozenset({0, 1, 2, 6}), frozenset({0, 2, 5}), frozenset({0, 4}), frozenset({0, 1, 2}), frozenset({1, 4, 5}), frozenset({1, 2, 4}), frozenset({1, 5, 6}), frozenset({0, 2, 6}), frozenset({0, 1, 2, 5}), frozenset({2, 6}), frozenset({4, 5, 6}), frozenset({1, 4, 6}), frozenset({5, 6}), frozenset({2, 4, 6}), frozenset({1, 2, 4, 5}), frozenset({1, 2, 6}), frozenset({0, 1, 6}), frozenset({2, 5}), frozenset({1, 4, 5, 6}), frozenset({1, 2, 4, 6}), frozenset({2, 4, 5}), frozenset({0, 1, 5, 6}), frozenset({1, 2, 5}), frozenset({1, 4}), frozenset({0, 1, 5}), frozenset({0, 1}), frozenset({0, 2, 4, 6}), frozenset({0, 2, 4}), frozenset({0, 5, 6}), frozenset({0, 2, 4, 5})]\n",
      "C: [frozenset({2}), frozenset({1, 6}), frozenset({0, 5}), frozenset({6}), frozenset({2, 4}), frozenset({4, 6}), frozenset({0}), frozenset({1, 2}), frozenset({0, 6}), frozenset({1, 5}), frozenset({5}), frozenset({4, 5}), frozenset({1}), frozenset({0, 2}), frozenset({4})]\n",
      "D: [frozenset({0, 1, 3, 4, 5}), frozenset({2, 3, 4, 5, 6}), frozenset({0, 1, 2, 3, 4, 5, 6}), frozenset({0, 2, 3, 5, 6}), frozenset({0, 1, 3, 4, 6}), frozenset({2, 3, 5, 6}), frozenset({0, 1, 2, 3, 4}), frozenset({0, 1, 3, 4}), frozenset({1, 2, 3, 5, 6})]\n",
      "A: [frozenset({2}), frozenset({0, 5}), frozenset({1, 6}), frozenset({6}), frozenset({2, 4}), frozenset({4, 6}), frozenset({0}), frozenset({1, 2}), frozenset({0, 6}), frozenset({1, 5}), frozenset({5}), frozenset({4, 5}), frozenset(), frozenset({1}), frozenset({0, 2}), frozenset({4})]\n",
      "B: [frozenset({0, 4, 6}), frozenset({0, 4, 5, 6}), frozenset({0, 4, 5}), frozenset({0, 2, 5}), frozenset({0, 1, 2, 6}), frozenset({0, 4}), frozenset({0, 1, 2}), frozenset({1, 4, 5}), frozenset({1, 2, 4}), frozenset({1, 5, 6}), frozenset({0, 2, 6}), frozenset({0, 1, 2, 5}), frozenset({2, 6}), frozenset({4, 5, 6}), frozenset({1, 4, 6}), frozenset({1, 2, 4, 5}), frozenset({5, 6}), frozenset({2, 4, 6}), frozenset({1, 2, 6}), frozenset({0, 1, 6}), frozenset({2, 5}), frozenset({1, 4, 5, 6}), frozenset({1, 2, 4, 6}), frozenset({2, 4, 5}), frozenset({0, 1, 5, 6}), frozenset({1, 2, 5}), frozenset({1, 4}), frozenset({0, 1, 5}), frozenset({0, 1}), frozenset({0, 2, 4, 6}), frozenset({0, 2, 4}), frozenset({0, 5, 6}), frozenset({0, 2, 4, 5})]\n",
      "C: [frozenset({2}), frozenset({1, 6}), frozenset({0, 5}), frozenset({6}), frozenset({2, 4}), frozenset({4, 6}), frozenset({0}), frozenset({1, 2}), frozenset({0, 6}), frozenset({1, 5}), frozenset({5}), frozenset({4, 5}), frozenset({1}), frozenset({0, 2}), frozenset({4})]\n",
      "D: [frozenset({0, 1, 2, 4, 5, 6}), frozenset({0, 2, 5, 6}), frozenset({2, 5, 6}), frozenset({0, 1, 4, 5}), frozenset({2, 4, 5, 6}), frozenset({0, 1, 2, 4}), frozenset({1, 2, 5, 6}), frozenset({0, 1, 4}), frozenset({0, 1, 4, 6})]\n"
     ]
    }
   ],
   "source": [
    "emptyset = frozenset()\n",
    "divs = set_division(M, edge_e)\n",
    "divs_deletion = {x: set(frozenset(set(y) - set(edge_e)) - {emptyset} for y in divs[x]) for x in divs}\n",
    "\n",
    "for key, value in divs.items():\n",
    "    print(f\"{key}: {[relabel_flats[v] for v in value]}\")\n",
    "\n",
    "deletion_flats = M.delete(edge_e).lattice_of_flats().list()\n",
    "\n",
    "relabel_flats_deletion = {flat: frozenset({labels[element] for element in flat}) for flat in deletion_flats}\n",
    "\n",
    "for key, value in divs_deletion.items():\n",
    "    print(f\"{key}: {[relabel_flats_deletion[v] for v in value]}\")"
   ]
  },
  {
   "cell_type": "code",
   "execution_count": 67,
   "metadata": {
    "vscode": {
     "languageId": "sage"
    }
   },
   "outputs": [
    {
     "data": {
      "text/html": [
       "<div>\n",
       "<style scoped>\n",
       "    .dataframe tbody tr th:only-of-type {\n",
       "        vertical-align: middle;\n",
       "    }\n",
       "\n",
       "    .dataframe tbody tr th {\n",
       "        vertical-align: top;\n",
       "    }\n",
       "\n",
       "    .dataframe thead th {\n",
       "        text-align: right;\n",
       "    }\n",
       "</style>\n",
       "<table border=\"1\" class=\"dataframe\">\n",
       "  <thead>\n",
       "    <tr style=\"text-align: right;\">\n",
       "      <th></th>\n",
       "      <th>Subset</th>\n",
       "      <th>Sum at Subset</th>\n",
       "      <th>Sum at Subset Deletion</th>\n",
       "      <th>difference</th>\n",
       "      <th>isom_restriction</th>\n",
       "      <th>isom_contraction</th>\n",
       "    </tr>\n",
       "  </thead>\n",
       "  <tbody>\n",
       "    <tr>\n",
       "      <th>0</th>\n",
       "      <td>A</td>\n",
       "      <td>-1</td>\n",
       "      <td>5*t^2 - 3*t + 8</td>\n",
       "      <td>-5*t^2 + 3*t - 9</td>\n",
       "      <td>5*t^2 - 3*t + 9</td>\n",
       "      <td>0</td>\n",
       "    </tr>\n",
       "    <tr>\n",
       "      <th>1</th>\n",
       "      <td>B</td>\n",
       "      <td>12*t - 9</td>\n",
       "      <td>12*t - 9</td>\n",
       "      <td>0</td>\n",
       "      <td>-24*t + 18</td>\n",
       "      <td>0</td>\n",
       "    </tr>\n",
       "    <tr>\n",
       "      <th>2</th>\n",
       "      <td>C</td>\n",
       "      <td>-21*t</td>\n",
       "      <td>-12*t + 3</td>\n",
       "      <td>-9*t - 3</td>\n",
       "      <td>33*t - 3</td>\n",
       "      <td>0</td>\n",
       "    </tr>\n",
       "    <tr>\n",
       "      <th>3</th>\n",
       "      <td>D</td>\n",
       "      <td>-5*t^2 - 4*t + 1</td>\n",
       "      <td>-5*t^2 - 9*t + 1</td>\n",
       "      <td>5*t</td>\n",
       "      <td>10*t^2 + 8*t - 2</td>\n",
       "      <td>5*t</td>\n",
       "    </tr>\n",
       "  </tbody>\n",
       "</table>\n",
       "</div>"
      ],
      "text/plain": [
       "  Subset     Sum at Subset Sum at Subset Deletion        difference  \\\n",
       "0      A                -1        5*t^2 - 3*t + 8  -5*t^2 + 3*t - 9   \n",
       "1      B          12*t - 9               12*t - 9                 0   \n",
       "2      C             -21*t              -12*t + 3          -9*t - 3   \n",
       "3      D  -5*t^2 - 4*t + 1       -5*t^2 - 9*t + 1               5*t   \n",
       "\n",
       "   isom_restriction isom_contraction  \n",
       "0   5*t^2 - 3*t + 9                0  \n",
       "1        -24*t + 18                0  \n",
       "2          33*t - 3                0  \n",
       "3  10*t^2 + 8*t - 2              5*t  "
      ]
     },
     "metadata": {},
     "output_type": "display_data"
    }
   ],
   "source": [
    "def sum_at_Subset(S, M):\n",
    "    return sum((-1) ** M.rank(F) * kl(M.delete(M.groundset() - set(F))) * kl_inverse_fast(M.contract(F)) for F in S)\n",
    "\n",
    "def isom_restriction(S, M, N, e):\n",
    "    return -sum((-1) ** M.rank(F) * kl(M.delete(M.groundset() - set(F))) *\n",
    "            (kl_inverse_fast(N.contract(F - set(e)))+ kl_inverse_fast(M.contract(F))) for F in S)\n",
    "\n",
    "def isom_contraction(S, M, N, e):\n",
    "    return -sum((-1) ** M.rank(F) *\n",
    "            (kl(N.delete(N.groundset() - (set(F) | {e}))) - kl(M.delete(M.groundset() - set(F)))) *\n",
    "            kl_inverse_fast(M.contract(F)) for F in S)\n",
    "    \n",
    "results = {\n",
    "        'Subset': [],\n",
    "        'Sum at Subset': [],\n",
    "        'Sum at Subset Deletion': [],\n",
    "        'difference': [],\n",
    "        'isom_restriction': [],\n",
    "        'isom_contraction': []\n",
    "    }\n",
    "\n",
    "for x in divs:\n",
    "    results['Subset'].append(x)\n",
    "    results['Sum at Subset'].append(sum_at_Subset(divs[x], M))\n",
    "    results['Sum at Subset Deletion'].append(sum_at_Subset(divs_deletion[x], M.delete(edge_e)))\n",
    "    results['difference'].append(results['Sum at Subset'][-1] - results['Sum at Subset Deletion'][-1])\n",
    "    results['isom_restriction'].append(isom_restriction(divs[x], M, M.delete(edge_e), edge_e))\n",
    "    results['isom_contraction'].append(isom_contraction(divs[x], M, M.delete(edge_e), edge_e))\n",
    "\n",
    "results_df = pd.DataFrame(results)\n",
    "display(results_df)"
   ]
  },
  {
   "cell_type": "code",
   "execution_count": 68,
   "metadata": {
    "vscode": {
     "languageId": "sage"
    }
   },
   "outputs": [
    {
     "data": {
      "text/plain": [
       "4"
      ]
     },
     "execution_count": 68,
     "metadata": {},
     "output_type": "execute_result"
    }
   ],
   "source": [
    "kl_inverse_fast(M.contract(edge_e))"
   ]
  },
  {
   "cell_type": "code",
   "execution_count": 69,
   "metadata": {
    "vscode": {
     "languageId": "sage"
    }
   },
   "outputs": [
    {
     "name": "stdout",
     "output_type": "stream",
     "text": [
      "5*t^2 + 13*t + 9 , 5*t^2 + 9*t + 5\n",
      "diff: (4) * (t + 1) 4*t + 4\n",
      "5*t^2 + 25*t\n",
      "-12*t + 9\n"
     ]
    },
    {
     "data": {
      "text/plain": [
       "5*t^2 + 13*t + 9"
      ]
     },
     "execution_count": 69,
     "metadata": {},
     "output_type": "execute_result"
    }
   ],
   "source": [
    "# Calculate and print the Kazhdan-Lusztig inverse for M and M.delete(edge_e)\n",
    "kl_inv_M = kl_inverse_fast(M)\n",
    "kl_inv_M_del = kl_inverse_fast(M.delete(edge_e))\n",
    "print(kl_inv_M, \",\", kl_inv_M_del)\n",
    "\n",
    "# Calculate and print the difference\n",
    "kl_inv_diff = kl_inv_M - kl_inv_M_del\n",
    "print(\"diff:\", kl_inv_diff.factor(), kl_inv_diff)\n",
    "\n",
    "# Calculate the sum s\n",
    "s = -results['Sum at Subset'][0] - results['Sum at Subset'][2] - results['Sum at Subset'][3]\n",
    "print(s)\n",
    "\n",
    "c = results['Sum at Subset Deletion'][0] + results['Sum at Subset Deletion'][3]\n",
    "print(c)\n",
    "# Update s with the sum at subset deletion values\n",
    "s += results['Sum at Subset Deletion'][0] + results['Sum at Subset Deletion'][3]\n",
    "s"
   ]
  },
  {
   "cell_type": "code",
   "execution_count": 70,
   "metadata": {
    "vscode": {
     "languageId": "sage"
    }
   },
   "outputs": [
    {
     "data": {
      "text/plain": [
       "5*t^2 + 9*t + 1"
      ]
     },
     "execution_count": 70,
     "metadata": {},
     "output_type": "execute_result"
    }
   ],
   "source": [
    "a = kl_inverse_fast(M.delete(edge_e)) - kl_inverse_fast(M.contract(edge_e))\n",
    "a"
   ]
  },
  {
   "cell_type": "code",
   "execution_count": 71,
   "metadata": {
    "vscode": {
     "languageId": "sage"
    }
   },
   "outputs": [
    {
     "data": {
      "text/plain": [
       "-7*t + 3"
      ]
     },
     "execution_count": 71,
     "metadata": {},
     "output_type": "execute_result"
    }
   ],
   "source": [
    "b = sum_at_Subset(divs_deletion['A'] - {frozenset()}, M.delete(edge_e)) + sum_at_Subset(divs['D'], M) - sum_at_Subset(divs_deletion['D'], M.delete(edge_e))\n",
    "b"
   ]
  },
  {
   "cell_type": "code",
   "execution_count": 72,
   "metadata": {
    "vscode": {
     "languageId": "sage"
    }
   },
   "outputs": [
    {
     "data": {
      "text/plain": [
       "5*t^2 + 16*t - 2"
      ]
     },
     "execution_count": 72,
     "metadata": {},
     "output_type": "execute_result"
    }
   ],
   "source": [
    "a-b"
   ]
  }
 ],
 "metadata": {
  "kernelspec": {
   "display_name": "SageMath 10.3",
   "language": "sage",
   "name": "sagemath"
  },
  "language_info": {
   "codemirror_mode": {
    "name": "ipython",
    "version": 3
   },
   "file_extension": ".py",
   "mimetype": "text/x-python",
   "name": "python",
   "nbconvert_exporter": "python",
   "pygments_lexer": "ipython3",
   "version": "3.11.9"
  }
 },
 "nbformat": 4,
 "nbformat_minor": 2
}
