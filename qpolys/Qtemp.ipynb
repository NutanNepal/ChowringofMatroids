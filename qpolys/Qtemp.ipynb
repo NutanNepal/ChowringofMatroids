{
 "cells": [
  {
   "cell_type": "markdown",
   "metadata": {},
   "source": [
    "$$ A(M) = x^{rk(M)}\\cdot \\hat{Q}_M(x^{-2})$$\n",
    "\n",
    "$$A(M\\setminus e) = (x + x^{-1})\\cdot A(M/e) + A(M) + \\sum_{G \\ni e;\\ \n",
    "e\\notin coloops(G)\n",
    "}{A(M/G)\\cdot\\tau(M^G_e)}$$"
   ]
  },
  {
   "cell_type": "code",
   "execution_count": 17,
   "metadata": {
    "vscode": {
     "languageId": "sage"
    }
   },
   "outputs": [],
   "source": [
    "\n",
    "R = PolynomialRing(ZZ, 't')\n",
    "t = R.gen()\n",
    "\n",
    "def cmp_elements_key(x):\n",
    "    return (isinstance(x, str), x)\n",
    "\n",
    "def characteristic_polynomial(M, la=None):\n",
    "    R = ZZ['l']\n",
    "    w = whitney_numbers(M)\n",
    "    w.reverse()\n",
    "    chi = R(w)\n",
    "    if la is not None:\n",
    "        return chi(la)\n",
    "    return chi\n",
    "\n",
    "def whitney_numbers(M):\n",
    "    abs_w = [0] * (M.rank() + 1)\n",
    "    for S in no_broken_circuits_sets_iterator(M):\n",
    "        abs_w[len(S)] += 1\n",
    "    return [ZZ((-1)**i * val) for i, val in enumerate(abs_w) if val != 0]\n",
    "\n",
    "def no_broken_circuits_sets_iterator(M, ordering=None):\n",
    "    if M.loops():\n",
    "        return\n",
    "    if ordering is None:\n",
    "        rev_order = sorted(M.groundset(), key=cmp_elements_key, reverse=True)\n",
    "    else:\n",
    "        if frozenset(ordering) != M.groundset():\n",
    "            raise ValueError(\"not an ordering of the groundset\")\n",
    "        rev_order = list(reversed(ordering))\n",
    "    \n",
    "    Tmax = len(rev_order)\n",
    "    reverse_dict = {value: key for key, value in enumerate(rev_order)}\n",
    "    yield frozenset()\n",
    "    next_level = [[val] for val in rev_order]\n",
    "    level = -1\n",
    "    \n",
    "    while next_level:\n",
    "        cur_level = next_level\n",
    "        next_level = []\n",
    "        level += 1\n",
    "        for H in cur_level:\n",
    "            tp = reverse_dict[H[level]] + 1\n",
    "            is_indep = True\n",
    "            Ht = [None] * (Tmax - tp)\n",
    "            for i in range(tp, Tmax):\n",
    "                temp = H + [rev_order[i]]\n",
    "                if not M._is_independent(frozenset(temp)):\n",
    "                    is_indep = False\n",
    "                    break\n",
    "                Ht[i - tp] = temp\n",
    "            if is_indep:\n",
    "                yield frozenset(H)\n",
    "                next_level.extend(Ht)\n",
    "\n",
    "def is_paving(M):\n",
    "    n = M.size()\n",
    "    r = M.rank()\n",
    "    return (len(M.independent_r_sets(r-1)) == binomial(n, r-1))\n",
    "\n",
    "def q_kl(k, h):\n",
    "    return kazhdan_lusztig_inverse_uniform(k, h+1) - kazhdan_lusztig_inverse_uniform(k-1, h)\n",
    "\n",
    "def kl_inverse_fast(M):\n",
    "    if M.loops(): return R(0)\n",
    "    k, n = M.rank(), M.size()\n",
    "    if k == n or k == 0: return R(1)\n",
    "    if not M.is_connected():\n",
    "        ans = R(1)\n",
    "        CC = M.components()\n",
    "        for N in CC:\n",
    "            res = M.delete(M.groundset() - N)\n",
    "            ans = ans * kl_inverse_fast(res)\n",
    "        return ans\n",
    "\n",
    "    if is_paving(M):\n",
    "        return kl_inverse_paving(M)\n",
    "    if is_paving(M.dual()):\n",
    "        return kl_inverse_copaving(M)\n",
    "        \n",
    "    LF = M.lattice_of_flats()\n",
    "    ans = R(0)\n",
    "    for F in LF:\n",
    "        if len(F) != n:\n",
    "            Res = M.delete(M.groundset() - F)\n",
    "            Con = M.contract(F)\n",
    "            chi = characteristic_polynomial(Con)(1/t) * t**(Con.rank())\n",
    "            PPP = kl_inverse_fast(Res)(t) * (-1)**(Res.rank())\n",
    "            ans = ans + chi * PPP\n",
    "    assert (t**k * ans(1/t)).numerator() == -ans(t)\n",
    "    ans = ans.numerator() * (-1)**(k+1)\n",
    "    return ans.truncate((k+1)//2)\n",
    "\n",
    "def kazhdan_lusztig_inverse_uniform(k, n):\n",
    "    if k == n:\n",
    "        return R(1)\n",
    "    d = k\n",
    "    m = n - d\n",
    "    ans = 0\n",
    "    for j in range((d-1)//2 + 1):\n",
    "        ans = ans + m * (d-2*j)/((m+j) * (m+d-j)) * binomial(d, j) * t**j\n",
    "    return ans * binomial(m+d, d)\n",
    "\n",
    "def kl_inverse_paving(M):\n",
    "    assert is_paving(M)\n",
    "    n = M.size()\n",
    "    k = M.rank()\n",
    "    ans = kazhdan_lusztig_inverse_uniform(k, n)\n",
    "    for H in M.hyperplanes():\n",
    "        h = len(H)\n",
    "        if h >= k:\n",
    "            ans = ans - q_kl(k, h)\n",
    "    return ans\n",
    "\n",
    "def kl_inverse_copaving(M):\n",
    "    assert is_paving(M.dual())\n",
    "    n = M.size()\n",
    "    k = M.rank()\n",
    "    ans = kazhdan_lusztig_inverse_uniform(k, n)\n",
    "    for H in M.dual().hyperplanes():\n",
    "        h = len(H)\n",
    "        if h >= n-k:\n",
    "            ans = ans - kli_vtilde_dual(n-k, h, n) + kazhdan_lusztig_inverse_uniform(h-n+k+1, h) * kazhdan_lusztig_inverse_uniform(n-h-1, n-h)\n",
    "    return ans\n",
    "\n",
    "def kli_vtilde_dual(k, h, n):\n",
    "    return helper1(n-k, h, n)\n",
    "\n",
    "def helper1(k, h, n):\n",
    "    c = n - h\n",
    "    ans1 = kazhdan_lusztig_inverse_uniform(k, n)\n",
    "    ans2 = helper2(c, k, n)\n",
    "    ans3 = kazhdan_lusztig_inverse_uniform(k-c+1, h) * kazhdan_lusztig_inverse_uniform(c-1, c)\n",
    "    return ans1 - ans2 + ans3\n",
    "\n",
    "def helper2(c, k, n):\n",
    "    h = n - c\n",
    "    ans = 0\n",
    "    for j in range(k-c+1):\n",
    "        ans = ans + binomial(n-c, j) * (-1)**(c-1+j) * kazhdan_lusztig_inverse_uniform(c-1, c) * t**(k-c-j+1) * chuly(k-c-j+1, n-c-j)(1/t)\n",
    "    for i in range(c-1):\n",
    "        for j in range(k-i):\n",
    "            ans = ans + binomial(c, i) * binomial(n-c, j) * (-1)**(i+j) * t**(k-i-j) * helper4(c, k, n, i, j)(1/t)\n",
    "    ans = ans.numerator().truncate((k-1)//2 + 1)\n",
    "    if ans[0] < 0:\n",
    "        ans = -ans\n",
    "    return ans\n",
    "\n",
    "def helper3(c, k, n):\n",
    "    ans = 0\n",
    "    for j in range(k-c+1):\n",
    "        ans = ans + binomial(n-c, j) * kazhdan_lusztig_uniform_matroid(c-1, c) * (-1)**(k-c-j+1) * kazhdan_lusztig_inverse_uniform(k-c-j+1, n-c-j)\n",
    "    for i in range(c-1):\n",
    "        for j in range(k-i):\n",
    "            ans = ans + binomial(c, i) * binomial(n-c, j) * (-1)**(k-i-j) * helper2(c-i, k-i-j, n-i-j)\n",
    "    return -ans\n",
    "\n",
    "def helper4(c, k, n, i, j):\n",
    "    ans = 0\n",
    "    for l in range(c-i-1):\n",
    "        ans = ans + (-1)**l * (t-1)**(max(n-i-j-l-1, 0))\n",
    "    for u in range(n-k-1):\n",
    "        ans = doit_once(ans)\n",
    "    return ans\n",
    "\n",
    "def chuly(a, b):\n",
    "    ans = (t-1)**b\n",
    "    for i in range(b-a):\n",
    "        ans = doit_once(ans)\n",
    "    return ans\n",
    "\n",
    "def doit_once(p):\n",
    "    p = p // t**2\n",
    "    p = p * t\n",
    "    p = p - p(1)\n",
    "    return p\n",
    "\n",
    "def lorenzo(k, h, n):\n",
    "    c = n - h\n",
    "    ans1 = kazhdan_lusztig_uniform_matroid(k, n) + kazhdan_lusztig_uniform_matroid(k-c+1, h) * kazhdan_lusztig_uniform_matroid(c-1, c)\n",
    "    ans2 = helper3(c, k, n)\n",
    "    return ans1 - ans2"
   ]
  },
  {
   "cell_type": "code",
   "execution_count": 18,
   "metadata": {
    "vscode": {
     "languageId": "sage"
    }
   },
   "outputs": [],
   "source": [
    "P = LaurentPolynomialRing(ZZ, 'x')\n",
    "\n",
    "def kl(M):\n",
    "    return M.lattice_of_flats().kazhdan_lusztig_polynomial()\n",
    "\n",
    "invkl = kl_inverse_fast\n",
    "\n",
    "def tau(matroid):\n",
    "    r = matroid.rank()\n",
    "    if r % 2 == 0:\n",
    "        return 0\n",
    "    klm = R(kl(matroid))\n",
    "    if len(klm.list()) <= r//2:\n",
    "        return 0\n",
    "    return klm.list()[r//2]\n",
    "\n",
    "def qhat(M):\n",
    "    return (-1) ^ M.rank() * kl_inverse_fast(M)\n",
    "\n",
    "def the_set_S(flats, e):\n",
    "    return set(F for F in flats if e.isdisjoint(F) and F.union(e) in flats)"
   ]
  },
  {
   "cell_type": "code",
   "execution_count": 19,
   "metadata": {
    "vscode": {
     "languageId": "sage"
    }
   },
   "outputs": [],
   "source": [
    "def A(L):\n",
    "    return (x^L.rank() * qhat(L)(x^-2)).expand()\n",
    "\n",
    "def delform_rhs(M, e):\n",
    "    r = M.rank()\n",
    "    x = P.gen()\n",
    "    rhs = (x + x^-1) * A(M.contract(e)) + A(M)\n",
    "    print(M, rhs.expand())\n",
    "    for G in L:\n",
    "        if e in G:\n",
    "            restricted = M.delete(M.groundset() - G)\n",
    "            if e not in restricted.coloops():\n",
    "                tauu = tau(restricted.contract(e))\n",
    "                Am = A(M.contract(G))\n",
    "                if tauu != 0:\n",
    "                    print(f\"Flat: {G}, A(M.contract(G)): {A(M.contract(G)).expand()}, \"\n",
    "                        f\"KL(restricted.contract(e)): {kl(restricted.contract(e))}, Tau: {tauu}\")\n",
    "                    rhs = rhs + Am * tauu\n",
    "    return rhs"
   ]
  },
  {
   "cell_type": "code",
   "execution_count": 20,
   "metadata": {
    "vscode": {
     "languageId": "sage"
    }
   },
   "outputs": [],
   "source": [
    "M = matroids.CompleteGraphic(5)\n",
    "e = next(x for x in M.groundset() if x not in M.coloops())\n",
    "L = M.lattice_of_flats()"
   ]
  },
  {
   "cell_type": "code",
   "execution_count": 21,
   "metadata": {
    "vscode": {
     "languageId": "sage"
    }
   },
   "outputs": [
    {
     "data": {
      "text/plain": [
       "[18*x^4 + 9*x^2, 24*x^4 + 10*x^2, -6*x^3 - x, -6*x^4 - 7*x^2 - 1]"
      ]
     },
     "execution_count": 21,
     "metadata": {},
     "output_type": "execute_result"
    }
   ],
   "source": [
    "[A(M.delete(e)), A(M), A(M.contract(e)), ((x + x^-1) * A(M.contract(e))).expand()]"
   ]
  },
  {
   "cell_type": "code",
   "execution_count": 22,
   "metadata": {
    "vscode": {
     "languageId": "sage"
    }
   },
   "outputs": [
    {
     "name": "stdout",
     "output_type": "stream",
     "text": [
      "M(K5): Graphic matroid of rank 4 on 10 elements 18*x^4 + 3*x^2 - 1\n",
      "Flat: frozenset({0, 1, 4}), A(M.contract(G)): 2*x^2, KL(restricted.contract(e)): 1, Tau: 1\n",
      "Flat: frozenset({0, 3, 6}), A(M.contract(G)): 2*x^2, KL(restricted.contract(e)): 1, Tau: 1\n",
      "Flat: frozenset({0, 2, 5}), A(M.contract(G)): 2*x^2, KL(restricted.contract(e)): 1, Tau: 1\n",
      "Flat: frozenset({0, 1, 2, 3, 4, 5, 6, 7, 8, 9}), A(M.contract(G)): 1, KL(restricted.contract(e)): q + 1, Tau: 1\n"
     ]
    },
    {
     "data": {
      "text/plain": [
       "18*x^4 + 9*x^2"
      ]
     },
     "execution_count": 22,
     "metadata": {},
     "output_type": "execute_result"
    }
   ],
   "source": [
    "rhs = delform_rhs(M, e)\n",
    "rhs.expand()"
   ]
  },
  {
   "cell_type": "markdown",
   "metadata": {},
   "source": [
    "$$Q_{M\\setminus e}(x) = - (1+ x)Q_{M/e}(x) + Q_M (x) + \\sum_{G\\ni e; e\\notin coloops(M^G)}{(-1)^g x^{g/2}\n",
    "Q_{M/G}(x)\\cdot\\tau(M^G_e)}$$"
   ]
  }
 ],
 "metadata": {
  "kernelspec": {
   "display_name": "SageMath 10.3",
   "language": "sage",
   "name": "sagemath"
  },
  "language_info": {
   "codemirror_mode": {
    "name": "ipython",
    "version": 3
   },
   "file_extension": ".py",
   "mimetype": "text/x-python",
   "name": "python",
   "nbconvert_exporter": "python",
   "pygments_lexer": "ipython3",
   "version": "3.11.9"
  }
 },
 "nbformat": 4,
 "nbformat_minor": 2
}
