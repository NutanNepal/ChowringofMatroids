{
 "cells": [
  {
   "cell_type": "markdown",
   "metadata": {},
   "source": [
    "$$ Z(M) = x^r\\cdot \\hat{Q}_M(x^{-2})$$\n",
    "\n",
    "$$Z(M\\setminus e) = Z(M/e) + Z(M) + \\sum_{G > e; e\\notin coloops(M\\mid_G)}{Z(M/G)\\cdot\\tau(M^G_e)}$$"
   ]
  },
  {
   "cell_type": "code",
   "execution_count": 699,
   "metadata": {
    "vscode": {
     "languageId": "sage"
    }
   },
   "outputs": [],
   "source": [
    "import sys\n",
    "sys.path.append('..')\n",
    "from db1 import *\n",
    "\n",
    "R = PolynomialRing(ZZ, 't')\n",
    "t = R.gen()\n",
    "\n",
    "def is_paving(M):\n",
    "    n = M.size()\n",
    "    r = M.rank()\n",
    "    return (len(M.independent_r_sets(r-1)) == binomial(n, r-1))\n",
    "\n",
    "def q_kl(k, h):\n",
    "    return kazhdan_lusztig_inverse_uniform(k, h+1) - kazhdan_lusztig_inverse_uniform(k-1, h)\n",
    "\n",
    "def kl_inverse_fast(M):\n",
    "    if M.loops(): return R(0)\n",
    "    k, n = M.rank(), M.size()\n",
    "    if k == n or k == 0: return R(1)\n",
    "    if not M.is_connected():\n",
    "        ans = R(1)\n",
    "        CC = M.components()\n",
    "        for N in CC:\n",
    "            res = M.delete(M.groundset() - N)\n",
    "            ans = ans * kl_inverse_fast(res)\n",
    "        return ans\n",
    "\n",
    "    if is_paving(M):\n",
    "        return kl_inverse_paving(M)\n",
    "    if is_paving(M.dual()):\n",
    "        return kl_inverse_copaving(M)\n",
    "        \n",
    "    LF = M.lattice_of_flats()\n",
    "    ans = R(0)\n",
    "    for F in LF:\n",
    "        if len(F) != n:\n",
    "            Res = M.delete(M.groundset() - F)\n",
    "            Con = M.contract(F)\n",
    "            chi = characteristic_polynomial(Con)(1/t) * t**(Con.rank())\n",
    "            PPP = kl_inverse_fast(Res)(t) * (-1)**(Res.rank())\n",
    "            ans = ans + chi * PPP\n",
    "    assert (t**k * ans(1/t)).numerator() == -ans(t)\n",
    "    ans = ans.numerator() * (-1)**(k+1)\n",
    "    return ans.truncate((k+1)//2)\n",
    "\n",
    "def kazhdan_lusztig_inverse_uniform(k, n):\n",
    "    if k == n:\n",
    "        return R(1)\n",
    "    d = k\n",
    "    m = n - d\n",
    "    ans = 0\n",
    "    for j in range((d-1)//2 + 1):\n",
    "        ans = ans + m * (d-2*j)/((m+j) * (m+d-j)) * binomial(d, j) * t**j\n",
    "    return ans * binomial(m+d, d)\n",
    "\n",
    "def kl_inverse_paving(M):\n",
    "    assert is_paving(M)\n",
    "    n = M.size()\n",
    "    k = M.rank()\n",
    "    ans = kazhdan_lusztig_inverse_uniform(k, n)\n",
    "    for H in M.hyperplanes():\n",
    "        h = len(H)\n",
    "        if h >= k:\n",
    "            ans = ans - q_kl(k, h)\n",
    "    return ans\n",
    "\n",
    "def kl_inverse_copaving(M):\n",
    "    assert is_paving(M.dual())\n",
    "    n = M.size()\n",
    "    k = M.rank()\n",
    "    ans = kazhdan_lusztig_inverse_uniform(k, n)\n",
    "    for H in M.dual().hyperplanes():\n",
    "        h = len(H)\n",
    "        if h >= n-k:\n",
    "            ans = ans - kli_vtilde_dual(n-k, h, n) + kazhdan_lusztig_inverse_uniform(h-n+k+1, h) * kazhdan_lusztig_inverse_uniform(n-h-1, n-h)\n",
    "    return ans\n",
    "\n",
    "def kli_vtilde_dual(k, h, n):\n",
    "    return helper1(n-k, h, n)\n",
    "\n",
    "def helper1(k, h, n):\n",
    "    c = n - h\n",
    "    ans1 = kazhdan_lusztig_inverse_uniform(k, n)\n",
    "    ans2 = helper2(c, k, n)\n",
    "    ans3 = kazhdan_lusztig_inverse_uniform(k-c+1, h) * kazhdan_lusztig_inverse_uniform(c-1, c)\n",
    "    return ans1 - ans2 + ans3\n",
    "\n",
    "def helper2(c, k, n):\n",
    "    h = n - c\n",
    "    ans = 0\n",
    "    for j in range(k-c+1):\n",
    "        ans = ans + binomial(n-c, j) * (-1)**(c-1+j) * kazhdan_lusztig_inverse_uniform(c-1, c) * t**(k-c-j+1) * chuly(k-c-j+1, n-c-j)(1/t)\n",
    "    for i in range(c-1):\n",
    "        for j in range(k-i):\n",
    "            ans = ans + binomial(c, i) * binomial(n-c, j) * (-1)**(i+j) * t**(k-i-j) * helper4(c, k, n, i, j)(1/t)\n",
    "    ans = ans.numerator().truncate((k-1)//2 + 1)\n",
    "    if ans[0] < 0:\n",
    "        ans = -ans\n",
    "    return ans\n",
    "\n",
    "def helper3(c, k, n):\n",
    "    ans = 0\n",
    "    for j in range(k-c+1):\n",
    "        ans = ans + binomial(n-c, j) * kazhdan_lusztig_uniform_matroid(c-1, c) * (-1)**(k-c-j+1) * kazhdan_lusztig_inverse_uniform(k-c-j+1, n-c-j)\n",
    "    for i in range(c-1):\n",
    "        for j in range(k-i):\n",
    "            ans = ans + binomial(c, i) * binomial(n-c, j) * (-1)**(k-i-j) * helper2(c-i, k-i-j, n-i-j)\n",
    "    return -ans\n",
    "\n",
    "def helper4(c, k, n, i, j):\n",
    "    ans = 0\n",
    "    for l in range(c-i-1):\n",
    "        ans = ans + (-1)**l * (t-1)**(max(n-i-j-l-1, 0))\n",
    "    for u in range(n-k-1):\n",
    "        ans = doit_once(ans)\n",
    "    return ans\n",
    "\n",
    "def chuly(a, b):\n",
    "    ans = (t-1)**b\n",
    "    for i in range(b-a):\n",
    "        ans = doit_once(ans)\n",
    "    return ans\n",
    "\n",
    "def doit_once(p):\n",
    "    p = p // t**2\n",
    "    p = p * t\n",
    "    p = p - p(1)\n",
    "    return p\n",
    "\n",
    "def lorenzo(k, h, n):\n",
    "    c = n - h\n",
    "    ans1 = kazhdan_lusztig_uniform_matroid(k, n) + kazhdan_lusztig_uniform_matroid(k-c+1, h) * kazhdan_lusztig_uniform_matroid(c-1, c)\n",
    "    ans2 = helper3(c, k, n)\n",
    "    return ans1 - ans2"
   ]
  },
  {
   "cell_type": "code",
   "execution_count": 700,
   "metadata": {
    "vscode": {
     "languageId": "sage"
    }
   },
   "outputs": [],
   "source": [
    "P = LaurentPolynomialRing(ZZ, 'x')\n",
    "\n",
    "def kl(M):\n",
    "    return M.lattice_of_flats().kazhdan_lusztig_polynomial()(x)\n",
    "\n",
    "invkl = kl_inverse_fast\n",
    "\n",
    "def tau(matroid):\n",
    "    print(matroid)\n",
    "    if matroid.rank() % 2 == 0:\n",
    "        print(\"even\")\n",
    "        return 0\n",
    "    print(kl(matroid))\n",
    "    klm = kl(matroid).monomial_coefficients()\n",
    "    return klm.get(x^matroid.rank()//2, 0)\n",
    "\n",
    "def qhat(M):\n",
    "    return (-1) ^ M.rank() * kl_inverse_fast(M)\n",
    "\n",
    "def the_set_S(flats, e):\n",
    "    return set(F for F in flats if e.isdisjoint(F) and F.union(e) in flats)"
   ]
  },
  {
   "cell_type": "code",
   "execution_count": 701,
   "metadata": {
    "vscode": {
     "languageId": "sage"
    }
   },
   "outputs": [],
   "source": [
    "def A(L):\n",
    "    return (x^L.rank() * qhat(L)(x^-2)).expand()\n",
    "\n",
    "def delform_rhs(M, e):\n",
    "    r = M.rank()\n",
    "    x = P.gen()\n",
    "    rhs = (x + x^-1) * A(M.contract(e)) + A(M)\n",
    "    print(M, rhs.expand())\n",
    "    for G in L:\n",
    "        if e in G:\n",
    "            restricted = M.delete(M.groundset() - G)\n",
    "            if e not in restricted.coloops():\n",
    "                print(G, restricted)\n",
    "                tauu = tau(restricted.contract(e))\n",
    "                Am = A(M.contract(G))\n",
    "                if tauu != 0:\n",
    "                    print(f\"Flat: {G}, A(M.contract(G)): {A(M.contract(G)).expand()}, \"\n",
    "                        f\"KL(restricted.contract(e)): {kl(restricted.contract(e))}, Tau: {tauu}\")\n",
    "                rhs = rhs + Am * tauu\n",
    "    return rhs"
   ]
  },
  {
   "cell_type": "code",
   "execution_count": 702,
   "metadata": {
    "vscode": {
     "languageId": "sage"
    }
   },
   "outputs": [],
   "source": [
    "M = matroids.CompleteGraphic(6)\n",
    "e = next(x for x in M.groundset() if x not in M.coloops())\n",
    "L = M.lattice_of_flats()"
   ]
  },
  {
   "cell_type": "code",
   "execution_count": 703,
   "metadata": {
    "vscode": {
     "languageId": "sage"
    }
   },
   "outputs": [
    {
     "data": {
      "text/plain": [
       "[-96*x^5 - 76*x^3 - 13*x, -120*x^5 - 86*x^3 - 15*x, 24*x^5 + 34*x^3 + 10*x]"
      ]
     },
     "execution_count": 703,
     "metadata": {},
     "output_type": "execute_result"
    }
   ],
   "source": [
    "[A(M.delete(e)), A(M), ((x + x^-1) * A(M.contract(e))).expand()]"
   ]
  },
  {
   "cell_type": "code",
   "execution_count": 704,
   "metadata": {
    "vscode": {
     "languageId": "sage"
    }
   },
   "outputs": [
    {
     "name": "stdout",
     "output_type": "stream",
     "text": [
      "M(K6): Graphic matroid of rank 5 on 15 elements -96*x^5 - 52*x^3 - 5*x\n",
      "frozenset({0, 1, 5}) Graphic matroid of rank 2 on 3 elements\n",
      "Graphic matroid of rank 1 on 2 elements\n",
      "1\n"
     ]
    },
    {
     "ename": "AttributeError",
     "evalue": "'sage.symbolic.expression.Expression' object has no attribute 'monomial_coefficients'",
     "output_type": "error",
     "traceback": [
      "\u001b[0;31m---------------------------------------------------------------------------\u001b[0m",
      "\u001b[0;31mAttributeError\u001b[0m                            Traceback (most recent call last)",
      "Cell \u001b[0;32mIn[704], line 1\u001b[0m\n\u001b[0;32m----> 1\u001b[0m \u001b[43mdelform_rhs\u001b[49m\u001b[43m(\u001b[49m\u001b[43mM\u001b[49m\u001b[43m,\u001b[49m\u001b[43m \u001b[49m\u001b[43me\u001b[49m\u001b[43m)\u001b[49m\u001b[38;5;241m.\u001b[39mexpand()\n",
      "Cell \u001b[0;32mIn[701], line 14\u001b[0m, in \u001b[0;36mdelform_rhs\u001b[0;34m(M, e)\u001b[0m\n\u001b[1;32m     12\u001b[0m \u001b[38;5;28;01mif\u001b[39;00m e \u001b[38;5;129;01mnot\u001b[39;00m \u001b[38;5;129;01min\u001b[39;00m restricted\u001b[38;5;241m.\u001b[39mcoloops():\n\u001b[1;32m     13\u001b[0m     \u001b[38;5;28mprint\u001b[39m(G, restricted)\n\u001b[0;32m---> 14\u001b[0m     tauu \u001b[38;5;241m=\u001b[39m \u001b[43mtau\u001b[49m\u001b[43m(\u001b[49m\u001b[43mrestricted\u001b[49m\u001b[38;5;241;43m.\u001b[39;49m\u001b[43mcontract\u001b[49m\u001b[43m(\u001b[49m\u001b[43me\u001b[49m\u001b[43m)\u001b[49m\u001b[43m)\u001b[49m\n\u001b[1;32m     15\u001b[0m     Am \u001b[38;5;241m=\u001b[39m A(M\u001b[38;5;241m.\u001b[39mcontract(G))\n\u001b[1;32m     16\u001b[0m     \u001b[38;5;28;01mif\u001b[39;00m tauu \u001b[38;5;241m!=\u001b[39m Integer(\u001b[38;5;241m0\u001b[39m):\n",
      "Cell \u001b[0;32mIn[700], line 14\u001b[0m, in \u001b[0;36mtau\u001b[0;34m(matroid)\u001b[0m\n\u001b[1;32m     12\u001b[0m     \u001b[38;5;28;01mreturn\u001b[39;00m Integer(\u001b[38;5;241m0\u001b[39m)\n\u001b[1;32m     13\u001b[0m \u001b[38;5;28mprint\u001b[39m(kl(matroid))\n\u001b[0;32m---> 14\u001b[0m klm \u001b[38;5;241m=\u001b[39m \u001b[43mkl\u001b[49m\u001b[43m(\u001b[49m\u001b[43mmatroid\u001b[49m\u001b[43m)\u001b[49m\u001b[38;5;241;43m.\u001b[39;49m\u001b[43mmonomial_coefficients\u001b[49m()\n\u001b[1;32m     15\u001b[0m \u001b[38;5;28;01mreturn\u001b[39;00m klm\u001b[38;5;241m.\u001b[39mget(x\u001b[38;5;241m*\u001b[39m\u001b[38;5;241m*\u001b[39mmatroid\u001b[38;5;241m.\u001b[39mrank()\u001b[38;5;241m/\u001b[39m\u001b[38;5;241m/\u001b[39mInteger(\u001b[38;5;241m2\u001b[39m), Integer(\u001b[38;5;241m0\u001b[39m))\n",
      "File \u001b[0;32m~/miniforge3/envs/sage/lib/python3.11/site-packages/sage/structure/element.pyx:489\u001b[0m, in \u001b[0;36msage.structure.element.Element.__getattr__ (build/cythonized/sage/structure/element.c:11627)\u001b[0;34m()\u001b[0m\n\u001b[1;32m    487\u001b[0m         AttributeError: 'LeftZeroSemigroup_with_category.element_class' object has no attribute 'blah_blah'...\n\u001b[1;32m    488\u001b[0m     \"\"\"\n\u001b[0;32m--> 489\u001b[0m     return self.getattr_from_category(name)\n\u001b[1;32m    490\u001b[0m \n\u001b[1;32m    491\u001b[0m cdef getattr_from_category(self, name) noexcept:\n",
      "File \u001b[0;32m~/miniforge3/envs/sage/lib/python3.11/site-packages/sage/structure/element.pyx:502\u001b[0m, in \u001b[0;36msage.structure.element.Element.getattr_from_category (build/cythonized/sage/structure/element.c:11737)\u001b[0;34m()\u001b[0m\n\u001b[1;32m    500\u001b[0m     else:\n\u001b[1;32m    501\u001b[0m         cls = P._abstract_element_class\n\u001b[0;32m--> 502\u001b[0m     return getattr_from_other_class(self, cls, name)\n\u001b[1;32m    503\u001b[0m \n\u001b[1;32m    504\u001b[0m def __dir__(self):\n",
      "File \u001b[0;32m~/miniforge3/envs/sage/lib/python3.11/site-packages/sage/cpython/getattr.pyx:362\u001b[0m, in \u001b[0;36msage.cpython.getattr.getattr_from_other_class (build/cythonized/sage/cpython/getattr.c:4461)\u001b[0;34m()\u001b[0m\n\u001b[1;32m    360\u001b[0m     dummy_error_message.cls = type(self)\n\u001b[1;32m    361\u001b[0m     dummy_error_message.name = name\n\u001b[0;32m--> 362\u001b[0m     raise AttributeError(dummy_error_message)\n\u001b[1;32m    363\u001b[0m attribute = <object>attr\n\u001b[1;32m    364\u001b[0m # Check for a descriptor (__get__ in Python)\n",
      "\u001b[0;31mAttributeError\u001b[0m: 'sage.symbolic.expression.Expression' object has no attribute 'monomial_coefficients'"
     ]
    }
   ],
   "source": [
    "delform_rhs(M, e).expand()"
   ]
  }
 ],
 "metadata": {
  "kernelspec": {
   "display_name": "SageMath 10.3",
   "language": "sage",
   "name": "sagemath"
  },
  "language_info": {
   "codemirror_mode": {
    "name": "ipython",
    "version": 3
   },
   "file_extension": ".py",
   "mimetype": "text/x-python",
   "name": "python",
   "nbconvert_exporter": "python",
   "pygments_lexer": "ipython3",
   "version": "3.11.9"
  }
 },
 "nbformat": 4,
 "nbformat_minor": 2
}
