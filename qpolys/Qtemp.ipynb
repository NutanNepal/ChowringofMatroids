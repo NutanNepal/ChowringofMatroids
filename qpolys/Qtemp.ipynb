{
 "cells": [
  {
   "cell_type": "markdown",
   "metadata": {},
   "source": [
    "$$Q_M(t) = -t^{1/2}\\cdot Q_{M/e}(t) + Q_M(t) + \\sum_{G\\leq E}{(-1)^g\\cdot t^{g/2}\\cdot \\tau(M_e^G)\\cdot Q_{M/G}(t)}$$"
   ]
  },
  {
   "cell_type": "markdown",
   "metadata": {},
   "source": [
    "$$Q_M(x^2) = -t\\cdot Q_{M/e}(t^2) + Q_M(x^2) + \\sum_{G\\leq E}{(-1)^g\\cdot x^{g}\\cdot \\tau(M_e^G)\\cdot Q_{M/G}(x^2)}$$"
   ]
  },
  {
   "cell_type": "code",
   "execution_count": 95,
   "metadata": {
    "vscode": {
     "languageId": "sage"
    }
   },
   "outputs": [],
   "source": [
    "R = PolynomialRing(ZZ, 't')\n",
    "t = R.gen()\n",
    "\n",
    "def is_paving(M):\n",
    "    n = M.size()\n",
    "    r = M.rank()\n",
    "    return (len(M.independent_r_sets(r-1)) == binomial(n, r-1))\n",
    "\n",
    "def q_kl(k, h):\n",
    "    return kazhdan_lusztig_inverse_uniform(k, h+1) - kazhdan_lusztig_inverse_uniform(k-1, h)\n",
    "\n",
    "def kl_inverse_fast(M):\n",
    "    if M.loops(): return R(0)\n",
    "    k, n = M.rank(), M.size()\n",
    "    if k == n or k == 0: return R(1)\n",
    "    if not M.is_connected():\n",
    "        ans = R(1)\n",
    "        CC = M.components()\n",
    "        for N in CC:\n",
    "            res = M.delete(M.groundset() - N)\n",
    "            ans = ans * kl_inverse_fast(res)\n",
    "        return ans\n",
    "\n",
    "    if is_paving(M):\n",
    "        return kl_inverse_paving(M)\n",
    "    if is_paving(M.dual()):\n",
    "        return kl_inverse_copaving(M)\n",
    "    \"\"\"\n",
    "    if n <= 8 and M.is_connected():\n",
    "        for i in range(len(mat[n][k])):\n",
    "            if mat[n][k][i].is_isomorphic(M):\n",
    "                return ikl[n][k][i]\n",
    "    \"\"\"\n",
    "    LF = M.lattice_of_flats()\n",
    "    ans = R(0)\n",
    "    for F in LF:\n",
    "        if len(F) != n:\n",
    "            Res = M.delete(M.groundset() - F)\n",
    "            Con = M.contract(F)\n",
    "            chi = characteristic_polynomial(Con)(1/t) * t**(Con.rank())\n",
    "            PPP = kl_inverse_fast(Res)(t) * (-1)**(Res.rank())\n",
    "            ans = ans + chi * PPP\n",
    "    assert (t**k * ans(1/t)).numerator() == -ans(t)\n",
    "    ans = ans.numerator() * (-1)**(k+1)\n",
    "    return ans.truncate((k+1)//2)\n",
    "\n",
    "def kazhdan_lusztig_inverse_uniform(k, n):\n",
    "    if k == n:\n",
    "        return R(1)\n",
    "    d = k\n",
    "    m = n - d\n",
    "    ans = 0\n",
    "    for j in range((d-1)//2 + 1):\n",
    "        ans = ans + m * (d-2*j)/((m+j) * (m+d-j)) * binomial(d, j) * t**j\n",
    "    return ans * binomial(m+d, d)\n",
    "\n",
    "def kl_inverse_paving(M):\n",
    "    assert is_paving(M)\n",
    "    n = M.size()\n",
    "    k = M.rank()\n",
    "    ans = kazhdan_lusztig_inverse_uniform(k, n)\n",
    "    for H in M.hyperplanes():\n",
    "        h = len(H)\n",
    "        if h >= k:\n",
    "            ans = ans - q_kl(k, h)\n",
    "    return ans\n",
    "\n",
    "def kl_inverse_copaving(M):\n",
    "    assert is_paving(M.dual())\n",
    "    n = M.size()\n",
    "    k = M.rank()\n",
    "    ans = kazhdan_lusztig_inverse_uniform(k, n)\n",
    "    for H in M.dual().hyperplanes():\n",
    "        h = len(H)\n",
    "        if h >= n-k:\n",
    "            ans = ans - kli_vtilde_dual(n-k, h, n) + kazhdan_lusztig_inverse_uniform(h-n+k+1, h) * kazhdan_lusztig_inverse_uniform(n-h-1, n-h)\n",
    "    return ans\n",
    "\n",
    "def kli_vtilde_dual(k, h, n):\n",
    "    return helper1(n-k, h, n)\n",
    "\n",
    "def helper1(k, h, n):\n",
    "    c = n - h\n",
    "    ans1 = kazhdan_lusztig_inverse_uniform(k, n)\n",
    "    ans2 = helper2(c, k, n)\n",
    "    ans3 = kazhdan_lusztig_inverse_uniform(k-c+1, h) * kazhdan_lusztig_inverse_uniform(c-1, c)\n",
    "    return ans1 - ans2 + ans3\n",
    "\n",
    "def helper2(c, k, n):\n",
    "    h = n - c\n",
    "    ans = 0\n",
    "    for j in range(k-c+1):\n",
    "        ans = ans + binomial(n-c, j) * (-1)**(c-1+j) * kazhdan_lusztig_inverse_uniform(c-1, c) * t**(k-c-j+1) * chuly(k-c-j+1, n-c-j)(1/t)\n",
    "    for i in range(c-1):\n",
    "        for j in range(k-i):\n",
    "            ans = ans + binomial(c, i) * binomial(n-c, j) * (-1)**(i+j) * t**(k-i-j) * helper4(c, k, n, i, j)(1/t)\n",
    "    ans = ans.numerator().truncate((k-1)//2 + 1)\n",
    "    if ans[0] < 0:\n",
    "        ans = -ans\n",
    "    return ans\n",
    "\n",
    "def helper3(c, k, n):\n",
    "    ans = 0\n",
    "    for j in range(k-c+1):\n",
    "        ans = ans + binomial(n-c, j) * kazhdan_lusztig_uniform_matroid(c-1, c) * (-1)**(k-c-j+1) * kazhdan_lusztig_inverse_uniform(k-c-j+1, n-c-j)\n",
    "    for i in range(c-1):\n",
    "        for j in range(k-i):\n",
    "            ans = ans + binomial(c, i) * binomial(n-c, j) * (-1)**(k-i-j) * helper2(c-i, k-i-j, n-i-j)\n",
    "    return -ans\n",
    "\n",
    "def helper4(c, k, n, i, j):\n",
    "    ans = 0\n",
    "    for l in range(c-i-1):\n",
    "        ans = ans + (-1)**l * (t-1)**(max(n-i-j-l-1, 0))\n",
    "    for u in range(n-k-1):\n",
    "        ans = doit_once(ans)\n",
    "    return ans\n",
    "\n",
    "def chuly(a, b):\n",
    "    ans = (t-1)**b\n",
    "    for i in range(b-a):\n",
    "        ans = doit_once(ans)\n",
    "    return ans\n",
    "\n",
    "def doit_once(p):\n",
    "    p = p // t**2\n",
    "    p = p * t\n",
    "    p = p - p(1)\n",
    "    return p\n",
    "\n",
    "def lorenzo(k, h, n):\n",
    "    c = n - h\n",
    "    ans1 = kazhdan_lusztig_uniform_matroid(k, n) + kazhdan_lusztig_uniform_matroid(k-c+1, h) * kazhdan_lusztig_uniform_matroid(c-1, c)\n",
    "    ans2 = helper3(c, k, n)\n",
    "    return ans1 - ans2"
   ]
  },
  {
   "cell_type": "code",
   "execution_count": 96,
   "metadata": {
    "vscode": {
     "languageId": "sage"
    }
   },
   "outputs": [],
   "source": [
    "P = LaurentPolynomialRing(ZZ, 't')\n",
    "\n",
    "def kl(M):\n",
    "    return M.lattice_of_flats().kazhdan_lusztig_polynomial()(t)\n",
    "\n",
    "invkl = kl_inverse_fast\n",
    "\n",
    "def tau(matroid):\n",
    "    if matroid.rank() % 2 == 0:\n",
    "        return 0\n",
    "    return kl(matroid).leading_coefficient()\n",
    "\n",
    "def qhat(M):\n",
    "    return (-1) ^ M.rank() * kl_inverse_fast(M)"
   ]
  },
  {
   "cell_type": "code",
   "execution_count": 97,
   "metadata": {
    "vscode": {
     "languageId": "sage"
    }
   },
   "outputs": [],
   "source": [
    "def delform_rhs(M, e):\n",
    "    rhs = -t * invkl(M.contract(e))(t^2) + invkl(M)(t^2)\n",
    "    for G in list(M.lattice_of_flats()):\n",
    "        if e in G:\n",
    "            tauu = tau(M.delete(M.groundset() - G).contract(e)) \n",
    "            rhs = rhs + (-t)^{M.rank(G)} * invkl(M.contract(G))(t^2) * tauu\n",
    "    return rhs"
   ]
  },
  {
   "cell_type": "code",
   "execution_count": 98,
   "metadata": {
    "vscode": {
     "languageId": "sage"
    }
   },
   "outputs": [
    {
     "data": {
      "text/plain": [
       "0"
      ]
     },
     "execution_count": 98,
     "metadata": {},
     "output_type": "execute_result"
    }
   ],
   "source": [
    "M = matroids.Uniform(4, 6)\n",
    "e = next(x for x in M.groundset() if x not in M.coloops())\n",
    "tau(M)"
   ]
  },
  {
   "cell_type": "code",
   "execution_count": 99,
   "metadata": {
    "vscode": {
     "languageId": "sage"
    }
   },
   "outputs": [
    {
     "ename": "TypeError",
     "evalue": "no canonical coercion from <class 'set'> to Rational Field",
     "output_type": "error",
     "traceback": [
      "\u001b[0;31m---------------------------------------------------------------------------\u001b[0m",
      "\u001b[0;31mTypeError\u001b[0m                                 Traceback (most recent call last)",
      "File \u001b[0;32m/private/var/tmp/sage-10.3-current/local/var/lib/sage/venv-python3.11.8/lib/python3.11/site-packages/sage/rings/polynomial/polynomial_integer_dense_flint.pyx:1130\u001b[0m, in \u001b[0;36msage.rings.polynomial.polynomial_integer_dense_flint.Polynomial_integer_dense_flint.__pow__ (build/cythonized/sage/rings/polynomial/polynomial_integer_dense_flint.cpp:20820)\u001b[0;34m()\u001b[0m\n\u001b[1;32m   1129\u001b[0m try:\n\u001b[0;32m-> 1130\u001b[0m     nn = pyobject_to_long(exp)\n\u001b[1;32m   1131\u001b[0m except TypeError:\n",
      "File \u001b[0;32m/private/var/tmp/sage-10.3-current/local/var/lib/sage/venv-python3.11.8/lib/python3.11/site-packages/sage/arith/long.pxd:74\u001b[0m, in \u001b[0;36msage.arith.long.pyobject_to_long (build/cythonized/sage/rings/polynomial/polynomial_integer_dense_flint.cpp:9344)\u001b[0;34m()\u001b[0m\n\u001b[1;32m     73\u001b[0m \n\u001b[0;32m---> 74\u001b[0m     return PyNumber_Index(x)\n\u001b[1;32m     75\u001b[0m \n",
      "\u001b[0;31mTypeError\u001b[0m: 'set' object cannot be interpreted as an integer",
      "\nDuring handling of the above exception, another exception occurred:\n",
      "\u001b[0;31mTypeError\u001b[0m                                 Traceback (most recent call last)",
      "Cell \u001b[0;32mIn[99], line 1\u001b[0m\n\u001b[0;32m----> 1\u001b[0m \u001b[43mdelform_rhs\u001b[49m\u001b[43m(\u001b[49m\u001b[43mM\u001b[49m\u001b[43m,\u001b[49m\u001b[43m \u001b[49m\u001b[43me\u001b[49m\u001b[43m)\u001b[49m\n",
      "Cell \u001b[0;32mIn[97], line 6\u001b[0m, in \u001b[0;36mdelform_rhs\u001b[0;34m(M, e)\u001b[0m\n\u001b[1;32m      4\u001b[0m     \u001b[38;5;28;01mif\u001b[39;00m e \u001b[38;5;129;01min\u001b[39;00m G:\n\u001b[1;32m      5\u001b[0m         tauu \u001b[38;5;241m=\u001b[39m tau(M\u001b[38;5;241m.\u001b[39mdelete(M\u001b[38;5;241m.\u001b[39mgroundset() \u001b[38;5;241m-\u001b[39m G)\u001b[38;5;241m.\u001b[39mcontract(e)) \n\u001b[0;32m----> 6\u001b[0m         rhs \u001b[38;5;241m=\u001b[39m rhs \u001b[38;5;241m+\u001b[39m \u001b[43m(\u001b[49m\u001b[38;5;241;43m-\u001b[39;49m\u001b[43mt\u001b[49m\u001b[43m)\u001b[49m\u001b[38;5;241;43m*\u001b[39;49m\u001b[38;5;241;43m*\u001b[39;49m\u001b[43m{\u001b[49m\u001b[43mM\u001b[49m\u001b[38;5;241;43m.\u001b[39;49m\u001b[43mrank\u001b[49m\u001b[43m(\u001b[49m\u001b[43mG\u001b[49m\u001b[43m)\u001b[49m\u001b[43m}\u001b[49m \u001b[38;5;241m*\u001b[39m invkl(M\u001b[38;5;241m.\u001b[39mcontract(G))(t\u001b[38;5;241m*\u001b[39m\u001b[38;5;241m*\u001b[39mInteger(\u001b[38;5;241m2\u001b[39m)) \u001b[38;5;241m*\u001b[39m tauu\n\u001b[1;32m      7\u001b[0m \u001b[38;5;28;01mreturn\u001b[39;00m rhs\n",
      "File \u001b[0;32m/private/var/tmp/sage-10.3-current/local/var/lib/sage/venv-python3.11.8/lib/python3.11/site-packages/sage/rings/polynomial/polynomial_integer_dense_flint.pyx:1132\u001b[0m, in \u001b[0;36msage.rings.polynomial.polynomial_integer_dense_flint.Polynomial_integer_dense_flint.__pow__ (build/cythonized/sage/rings/polynomial/polynomial_integer_dense_flint.cpp:21173)\u001b[0;34m()\u001b[0m\n\u001b[1;32m   1130\u001b[0m     nn = pyobject_to_long(exp)\n\u001b[1;32m   1131\u001b[0m except TypeError:\n\u001b[0;32m-> 1132\u001b[0m     n = QQ.coerce(exp)\n\u001b[1;32m   1133\u001b[0m     num = n.numerator()\n\u001b[1;32m   1134\u001b[0m     den = n.denominator()\n",
      "File \u001b[0;32m/private/var/tmp/sage-10.3-current/local/var/lib/sage/venv-python3.11.8/lib/python3.11/site-packages/sage/structure/parent.pyx:1191\u001b[0m, in \u001b[0;36msage.structure.parent.Parent.coerce (build/cythonized/sage/structure/parent.c:14454)\u001b[0;34m()\u001b[0m\n\u001b[1;32m   1189\u001b[0m         return False\n\u001b[1;32m   1190\u001b[0m \n\u001b[0;32m-> 1191\u001b[0m cpdef coerce(self, x) noexcept:\n\u001b[1;32m   1192\u001b[0m     \"\"\"\n\u001b[1;32m   1193\u001b[0m     Return x as an element of self, if and only if there is a canonical\n",
      "File \u001b[0;32m/private/var/tmp/sage-10.3-current/local/var/lib/sage/venv-python3.11.8/lib/python3.11/site-packages/sage/structure/parent.pyx:1221\u001b[0m, in \u001b[0;36msage.structure.parent.Parent.coerce (build/cythonized/sage/structure/parent.c:14298)\u001b[0;34m()\u001b[0m\n\u001b[1;32m   1219\u001b[0m         except Exception:\n\u001b[1;32m   1220\u001b[0m             _record_exception()\n\u001b[0;32m-> 1221\u001b[0m     raise TypeError(_LazyString(\"no canonical coercion from %s to %s\", (parent(x), self), {}))\n\u001b[1;32m   1222\u001b[0m else:\n\u001b[1;32m   1223\u001b[0m     return (<map.Map>mor)._call_(x)\n",
      "\u001b[0;31mTypeError\u001b[0m: no canonical coercion from <class 'set'> to Rational Field"
     ]
    }
   ],
   "source": [
    "delform_rhs(M, e)"
   ]
  }
 ],
 "metadata": {
  "kernelspec": {
   "display_name": "SageMath 10.3",
   "language": "sage",
   "name": "SageMath-10.3"
  },
  "language_info": {
   "codemirror_mode": {
    "name": "ipython",
    "version": 3
   },
   "file_extension": ".py",
   "mimetype": "text/x-python",
   "name": "python",
   "nbconvert_exporter": "python",
   "pygments_lexer": "ipython3",
   "version": "3.11.8"
  }
 },
 "nbformat": 4,
 "nbformat_minor": 2
}
