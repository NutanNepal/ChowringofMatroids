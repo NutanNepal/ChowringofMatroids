{
 "cells": [
  {
   "cell_type": "code",
   "execution_count": 3,
   "metadata": {},
   "outputs": [
    {
     "ename": "AttributeError",
     "evalue": "'sage.matroids.circuit_closures_matroid.CircuitClos' object has no attribute 'relabel'",
     "output_type": "error",
     "traceback": [
      "\u001b[0;31m---------------------------------------------------------------------------\u001b[0m",
      "\u001b[0;31mAttributeError\u001b[0m                            Traceback (most recent call last)",
      "Cell \u001b[0;32mIn[3], line 7\u001b[0m\n\u001b[1;32m      5\u001b[0m \u001b[38;5;66;03m# Step 1: Construct M1 = U(n-1, n) and M2 = U(m-1, m) with shared element 'e'\u001b[39;00m\n\u001b[1;32m      6\u001b[0m M1 \u001b[38;5;241m=\u001b[39m matroids\u001b[38;5;241m.\u001b[39mUniform(n\u001b[38;5;241m-\u001b[39mInteger(\u001b[38;5;241m1\u001b[39m), n)\n\u001b[0;32m----> 7\u001b[0m M1 \u001b[38;5;241m=\u001b[39m \u001b[43mM1\u001b[49m\u001b[38;5;241;43m.\u001b[39;49m\u001b[43mrelabel\u001b[49m({M1\u001b[38;5;241m.\u001b[39mgroundset_list()[Integer(\u001b[38;5;241m0\u001b[39m)]: \u001b[38;5;124m'\u001b[39m\u001b[38;5;124me\u001b[39m\u001b[38;5;124m'\u001b[39m})  \u001b[38;5;66;03m# Relabel an element to 'e'\u001b[39;00m\n\u001b[1;32m      9\u001b[0m M2 \u001b[38;5;241m=\u001b[39m matroids\u001b[38;5;241m.\u001b[39mUniformMatroid(m\u001b[38;5;241m-\u001b[39mInteger(\u001b[38;5;241m1\u001b[39m), m)\n\u001b[1;32m     10\u001b[0m M2 \u001b[38;5;241m=\u001b[39m M2\u001b[38;5;241m.\u001b[39mrelabel({M2\u001b[38;5;241m.\u001b[39mgroundset_list()[Integer(\u001b[38;5;241m0\u001b[39m)]: \u001b[38;5;124m'\u001b[39m\u001b[38;5;124me\u001b[39m\u001b[38;5;124m'\u001b[39m})\n",
      "\u001b[0;31mAttributeError\u001b[0m: 'sage.matroids.circuit_closures_matroid.CircuitClos' object has no attribute 'relabel'"
     ]
    }
   ],
   "source": [
    "n = 2  # For M1 = U(1,2)\n",
    "m = 2  # For M2 = U(1,2)\n",
    "t = polygen(ZZ, 't')\n",
    "\n",
    "# Step 1: Construct M1 = U(n-1, n) and M2 = U(m-1, m) with shared element 'e'\n",
    "M1 = matroids.Uniform(n-1, n)\n",
    "M1 = M1.relabel({M1.groundset_list()[0]: 'e'})  # Relabel an element to 'e'\n",
    "\n",
    "M2 = matroids.Uniform(m-1, m)\n",
    "M2 = M2.relabel({M2.groundset_list()[0]: 'e'})"
   ]
  },
  {
   "cell_type": "code",
   "execution_count": null,
   "metadata": {},
   "outputs": [],
   "source": [
    "    def relabel(self, mapping):\n",
    "        r\"\"\"\n",
    "        Return an isomorphic matroid with relabeled groundset.\n",
    "\n",
    "        The output is obtained by relabeling each element `e` by\n",
    "        ``mapping[e]``, where ``mapping`` is a given injective map. If\n",
    "        ``mapping[e]`` is not defined, then the identity map is assumed.\n",
    "\n",
    "        INPUT:\n",
    "\n",
    "        - ``mapping`` -- a Python object such that ``mapping[e]`` is the new\n",
    "          label of `e`\n",
    "\n",
    "        OUTPUT: matroid\n",
    "\n",
    "        EXAMPLES::\n",
    "\n",
    "            sage: from sage.matroids.rank_matroid import RankMatroid\n",
    "            sage: N = matroids.catalog.Sp8pp()\n",
    "            sage: M = RankMatroid(groundset=N.groundset(), rank_function=N.rank)\n",
    "            sage: sorted(M.groundset())\n",
    "            [1, 2, 3, 4, 5, 6, 7, 8]\n",
    "            sage: N = M.relabel({8: 0})\n",
    "            sage: sorted(N.groundset())\n",
    "            [0, 1, 2, 3, 4, 5, 6, 7]\n",
    "            sage: M.is_isomorphic(N)\n",
    "            True\n",
    "\n",
    "        TESTS::\n",
    "\n",
    "            sage: from sage.matroids.rank_matroid import RankMatroid\n",
    "            sage: N = matroids.catalog.Sp8pp()\n",
    "            sage: M = RankMatroid(groundset=N.groundset(), rank_function=N.rank)\n",
    "            sage: f = {1: 'a', 2: 'b', 3: 'c', 4: 'd', 5: 'e', 6: 'f', 7: 'g', 8: 'h'}\n",
    "            sage: N = M.relabel(f)\n",
    "            sage: for S in powerset(M.groundset()):\n",
    "            ....:     assert M.rank(S) == N.rank([f[x] for x in S])\n",
    "        \"\"\"\n",
    "        from sage.matroids.rank_matroid import RankMatroid\n",
    "        d = self._relabel_map(mapping)\n",
    "        E = [d[x] for x in self.groundset()]\n",
    "\n",
    "        def f_relabel(X):\n",
    "            d_inv = {d[x]: x for x in self.groundset()}\n",
    "            X_inv = frozenset([d_inv[x] for x in X])\n",
    "            return self._rank(X_inv)\n",
    "\n",
    "        M = RankMatroid(groundset=E, rank_function=f_relabel)\n",
    "        return M"
   ]
  }
 ],
 "metadata": {
  "kernelspec": {
   "display_name": "SageMath 10.3",
   "language": "sage",
   "name": "sagemath"
  },
  "language_info": {
   "codemirror_mode": {
    "name": "ipython",
    "version": 3
   },
   "file_extension": ".py",
   "mimetype": "text/x-python",
   "name": "sage",
   "nbconvert_exporter": "python",
   "pygments_lexer": "ipython3",
   "version": "3.11.9"
  }
 },
 "nbformat": 4,
 "nbformat_minor": 2
}
