{
 "cells": [
  {
   "cell_type": "code",
   "execution_count": 37,
   "metadata": {
    "vscode": {
     "languageId": "sage"
    }
   },
   "outputs": [],
   "source": [
    "M = matroids.catalog.UP14()\n",
    "if M.loops():\n",
    "    print(\"M has loops\")"
   ]
  },
  {
   "cell_type": "code",
   "execution_count": 38,
   "metadata": {
    "vscode": {
     "languageId": "sage"
    }
   },
   "outputs": [
    {
     "data": {
      "text/plain": [
       "x^7 - 14*x^6 + 91*x^5 - 358*x^4 + 924*x^3 - 1559*x^2 + 1547*x - 632"
      ]
     },
     "execution_count": 38,
     "metadata": {},
     "output_type": "execute_result"
    }
   ],
   "source": [
    "def cmp_elements_key(x):\n",
    "    \"\"\"\n",
    "    A helper function to compare elements which may be integers or strings.\n",
    "\n",
    "    EXAMPLES::\n",
    "\n",
    "        sage: from sage.matroids.utilities import cmp_elements_key\n",
    "        sage: l = ['a', 'b', 1, 3, 2, 10, 111, 100, 'c', 'aa']\n",
    "        sage: sorted(l, key=cmp_elements_key)\n",
    "        [1, 2, 3, 10, 100, 111, 'a', 'aa', 'b', 'c']\n",
    "    \"\"\"\n",
    "    return (isinstance(x, str), x)\n",
    "\n",
    "def characteristic_polynomial(M, la=None):\n",
    "    R = ZZ['l']\n",
    "    w = whitney_numbers(M)\n",
    "    w.reverse()\n",
    "    chi = R(w)\n",
    "    if la is not None:\n",
    "        return chi(la)\n",
    "    return chi\n",
    "\n",
    "def whitney_numbers(M):\n",
    "    abs_w = [0] * (M.rank() + 1)\n",
    "    for S in no_broken_circuits_sets_iterator(M):\n",
    "        abs_w[len(S)] += 1\n",
    "    return [ZZ((-1)**i * val) for i, val in enumerate(abs_w) if val != 0]\n",
    "\n",
    "def no_broken_circuits_sets_iterator(M, ordering=None):\n",
    "    if M.loops():\n",
    "        return\n",
    "    if ordering is None:\n",
    "        rev_order = sorted(M.groundset(), key=cmp_elements_key, reverse=True)\n",
    "    else:\n",
    "        if frozenset(ordering) != M.groundset():\n",
    "            raise ValueError(\"not an ordering of the groundset\")\n",
    "        rev_order = list(reversed(ordering))\n",
    "    \n",
    "    Tmax = len(rev_order)\n",
    "    reverse_dict = {value: key for key, value in enumerate(rev_order)}\n",
    "    yield frozenset()\n",
    "    next_level = [[val] for val in rev_order]\n",
    "    level = -1\n",
    "    \n",
    "    while next_level:\n",
    "        cur_level = next_level\n",
    "        next_level = []\n",
    "        level += 1\n",
    "        for H in cur_level:\n",
    "            tp = reverse_dict[H[level]] + 1\n",
    "            is_indep = True\n",
    "            Ht = [None] * (Tmax - tp)\n",
    "            for i in range(tp, Tmax):\n",
    "                temp = H + [rev_order[i]]\n",
    "                if not M._is_independent(frozenset(temp)):\n",
    "                    is_indep = False\n",
    "                    break\n",
    "                Ht[i - tp] = temp\n",
    "            if is_indep:\n",
    "                yield frozenset(H)\n",
    "                next_level.extend(Ht)\n",
    "\n",
    "characteristic_polynomial(M, x)"
   ]
  }
 ],
 "metadata": {
  "kernelspec": {
   "display_name": "SageMath 10.3",
   "language": "sage",
   "name": "sagemath"
  },
  "language_info": {
   "codemirror_mode": {
    "name": "ipython",
    "version": 3
   },
   "file_extension": ".py",
   "mimetype": "text/x-python",
   "name": "python",
   "nbconvert_exporter": "python",
   "pygments_lexer": "ipython3",
   "version": "3.11.9"
  }
 },
 "nbformat": 4,
 "nbformat_minor": 2
}
