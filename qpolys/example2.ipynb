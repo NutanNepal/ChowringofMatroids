{
 "cells": [
  {
   "cell_type": "code",
   "execution_count": 12,
   "metadata": {
    "vscode": {
     "languageId": "sage"
    }
   },
   "outputs": [],
   "source": [
    "import sys\n",
    "sys.path.append('..')\n",
    "from db1 import *\n",
    "import pandas as pd\n",
    "\n",
    "R = PolynomialRing(ZZ, 't')\n",
    "t = R.gen()\n",
    "\n",
    "def is_paving(M):\n",
    "    n = M.size()\n",
    "    r = M.rank()\n",
    "    return (len(M.independent_r_sets(r-1)) == binomial(n, r-1))\n",
    "\n",
    "def q_kl(k, h):\n",
    "    return kazhdan_lusztig_inverse_uniform(k, h+1) - kazhdan_lusztig_inverse_uniform(k-1, h)\n",
    "\n",
    "def kl_inverse_fast(M):\n",
    "    if M.loops(): return R(0)\n",
    "    k, n = M.rank(), M.size()\n",
    "    if k == n or k == 0: return R(1)\n",
    "    if not M.is_connected():\n",
    "        ans = R(1)\n",
    "        CC = M.components()\n",
    "        for N in CC:\n",
    "            res = M.delete(M.groundset() - N)\n",
    "            ans = ans * kl_inverse_fast(res)\n",
    "        return ans\n",
    "\n",
    "    if is_paving(M):\n",
    "        return kl_inverse_paving(M)\n",
    "    if is_paving(M.dual()):\n",
    "        return kl_inverse_copaving(M)\n",
    "    \"\"\"\n",
    "    if n <= 8 and M.is_connected():\n",
    "        for i in range(len(mat[n][k])):\n",
    "            if mat[n][k][i].is_isomorphic(M):\n",
    "                return ikl[n][k][i]\n",
    "    \"\"\"\n",
    "    LF = M.lattice_of_flats()\n",
    "    ans = R(0)\n",
    "    for F in LF:\n",
    "        if len(F) != n:\n",
    "            Res = M.delete(M.groundset() - F)\n",
    "            Con = M.contract(F)\n",
    "            chi = characteristic_polynomial(Con)(1/t) * t**(Con.rank())\n",
    "            PPP = kl_inverse_fast(Res)(t) * (-1)**(Res.rank())\n",
    "            ans = ans + chi * PPP\n",
    "    assert (t**k * ans(1/t)).numerator() == -ans(t)\n",
    "    ans = ans.numerator() * (-1)**(k+1)\n",
    "    return ans.truncate((k+1)//2)\n",
    "\n",
    "def kazhdan_lusztig_inverse_uniform(k, n):\n",
    "    if k == n:\n",
    "        return R(1)\n",
    "    d = k\n",
    "    m = n - d\n",
    "    ans = 0\n",
    "    for j in range((d-1)//2 + 1):\n",
    "        ans = ans + m * (d-2*j)/((m+j) * (m+d-j)) * binomial(d, j) * t**j\n",
    "    return ans * binomial(m+d, d)\n",
    "\n",
    "def kl_inverse_paving(M):\n",
    "    assert is_paving(M)\n",
    "    n = M.size()\n",
    "    k = M.rank()\n",
    "    ans = kazhdan_lusztig_inverse_uniform(k, n)\n",
    "    for H in M.hyperplanes():\n",
    "        h = len(H)\n",
    "        if h >= k:\n",
    "            ans = ans - q_kl(k, h)\n",
    "    return ans\n",
    "\n",
    "def kl_inverse_copaving(M):\n",
    "    assert is_paving(M.dual())\n",
    "    n = M.size()\n",
    "    k = M.rank()\n",
    "    ans = kazhdan_lusztig_inverse_uniform(k, n)\n",
    "    for H in M.dual().hyperplanes():\n",
    "        h = len(H)\n",
    "        if h >= n-k:\n",
    "            ans = ans - kli_vtilde_dual(n-k, h, n) + kazhdan_lusztig_inverse_uniform(h-n+k+1, h) * kazhdan_lusztig_inverse_uniform(n-h-1, n-h)\n",
    "    return ans\n",
    "\n",
    "def kli_vtilde_dual(k, h, n):\n",
    "    return helper1(n-k, h, n)\n",
    "\n",
    "def helper1(k, h, n):\n",
    "    c = n - h\n",
    "    ans1 = kazhdan_lusztig_inverse_uniform(k, n)\n",
    "    ans2 = helper2(c, k, n)\n",
    "    ans3 = kazhdan_lusztig_inverse_uniform(k-c+1, h) * kazhdan_lusztig_inverse_uniform(c-1, c)\n",
    "    return ans1 - ans2 + ans3\n",
    "\n",
    "def helper2(c, k, n):\n",
    "    h = n - c\n",
    "    ans = 0\n",
    "    for j in range(k-c+1):\n",
    "        ans = ans + binomial(n-c, j) * (-1)**(c-1+j) * kazhdan_lusztig_inverse_uniform(c-1, c) * t**(k-c-j+1) * chuly(k-c-j+1, n-c-j)(1/t)\n",
    "    for i in range(c-1):\n",
    "        for j in range(k-i):\n",
    "            ans = ans + binomial(c, i) * binomial(n-c, j) * (-1)**(i+j) * t**(k-i-j) * helper4(c, k, n, i, j)(1/t)\n",
    "    ans = ans.numerator().truncate((k-1)//2 + 1)\n",
    "    if ans[0] < 0:\n",
    "        ans = -ans\n",
    "    return ans\n",
    "\n",
    "def helper3(c, k, n):\n",
    "    ans = 0\n",
    "    for j in range(k-c+1):\n",
    "        ans = ans + binomial(n-c, j) * kazhdan_lusztig_uniform_matroid(c-1, c) * (-1)**(k-c-j+1) * kazhdan_lusztig_inverse_uniform(k-c-j+1, n-c-j)\n",
    "    for i in range(c-1):\n",
    "        for j in range(k-i):\n",
    "            ans = ans + binomial(c, i) * binomial(n-c, j) * (-1)**(k-i-j) * helper2(c-i, k-i-j, n-i-j)\n",
    "    return -ans\n",
    "\n",
    "def helper4(c, k, n, i, j):\n",
    "    ans = 0\n",
    "    for l in range(c-i-1):\n",
    "        ans = ans + (-1)**l * (t-1)**(max(n-i-j-l-1, 0))\n",
    "    for u in range(n-k-1):\n",
    "        ans = doit_once(ans)\n",
    "    return ans\n",
    "\n",
    "def chuly(a, b):\n",
    "    ans = (t-1)**b\n",
    "    for i in range(b-a):\n",
    "        ans = doit_once(ans)\n",
    "    return ans\n",
    "\n",
    "def doit_once(p):\n",
    "    p = p // t**2\n",
    "    p = p * t\n",
    "    p = p - p(1)\n",
    "    return p\n",
    "\n",
    "def lorenzo(k, h, n):\n",
    "    c = n - h\n",
    "    ans1 = kazhdan_lusztig_uniform_matroid(k, n) + kazhdan_lusztig_uniform_matroid(k-c+1, h) * kazhdan_lusztig_uniform_matroid(c-1, c)\n",
    "    ans2 = helper3(c, k, n)\n",
    "    return ans1 - ans2"
   ]
  },
  {
   "cell_type": "markdown",
   "metadata": {},
   "source": [
    "First, we initialize the matroid and obtain the lattice of flats. We relabel the flats for simple presentation."
   ]
  },
  {
   "cell_type": "code",
   "execution_count": 13,
   "metadata": {
    "vscode": {
     "languageId": "sage"
    }
   },
   "outputs": [],
   "source": [
    "r, n = 5, 6\n",
    "\n",
    "R.<q> = PolynomialRing(QQ)\n",
    "matroid = matroids.Uniform(r, n)\n",
    "flats = list(matroid.lattice_of_flats())"
   ]
  },
  {
   "cell_type": "code",
   "execution_count": 14,
   "metadata": {
    "vscode": {
     "languageId": "sage"
    }
   },
   "outputs": [
    {
     "data": {
      "text/plain": [
       "Graphics object consisting of 230 graphics primitives"
      ]
     },
     "execution_count": 14,
     "metadata": {},
     "output_type": "execute_result"
    }
   ],
   "source": [
    "#plottting the geometric lattice:\n",
    "#size = 0 for now\n",
    "\n",
    "labels = {element: idx for idx, element in enumerate(flats)}\n",
    "matroid.lattice_of_flats().plot(\n",
    "    element_labels = labels, element_color = \"white\",\n",
    "    figsize= 0, cover_color = \"grey\")"
   ]
  },
  {
   "cell_type": "code",
   "execution_count": 15,
   "metadata": {
    "vscode": {
     "languageId": "sage"
    }
   },
   "outputs": [
    {
     "data": {
      "text/plain": [
       "49*q + 30"
      ]
     },
     "execution_count": 15,
     "metadata": {},
     "output_type": "execute_result"
    }
   ],
   "source": [
    "def invKL(M):\n",
    "\tR = PolynomialRing(QQ, 'q')\n",
    "\tq = R.gen(0)\n",
    "\tif M.rank() == 0:\n",
    "\t\treturn R(1)\n",
    "\tL = M.lattice_of_flats()\n",
    "\tinvKLpoly = 0\n",
    "\tfor i in range(1,len(L)):\n",
    "\t\tMcon = M.contract(L[i])\n",
    "\t\tMres = M.delete(M.groundset()-L[i])\n",
    "\t\tLres = Mres.lattice_of_flats()\n",
    "\t\tinvKLpoly += (-1)^(Mres.rank())*Lres.kazhdan_lusztig_polynomial()*invKL(Mcon)\n",
    "\treturn -invKLpoly\n",
    "\n",
    "invKL(matroids.named_matroids.Vamos())"
   ]
  },
  {
   "cell_type": "markdown",
   "metadata": {},
   "source": [
    "Guess 1:\n",
    "$$Q_M(t) = Q_{M\\setminus e}(t)-tQ_{M/e}(t)+\\sum_{F\\in S}{\\tau(M/{F\\cup e})t^{\\text{crk}(F)/2}Q_{M\\mid F}(t)}.$$\n",
    "\n",
    "Functions needed for the r.h.s. will be written below:"
   ]
  },
  {
   "cell_type": "code",
   "execution_count": 16,
   "metadata": {
    "vscode": {
     "languageId": "sage"
    }
   },
   "outputs": [],
   "source": [
    "#the right hand side of the equality\n",
    "\n",
    "def q_tau(matroid, S, e):\n",
    "    q_tau = [] \n",
    "    for F in S:\n",
    "        modded_matroid = matroid.contract(F.union(e))\n",
    "        if modded_matroid.rank() % 2 == 0:\n",
    "            q_tau.append(0)\n",
    "        else:\n",
    "            q_tau.append(invKL(modded_matroid).leading_coefficient())\n",
    "    return q_tau\n",
    "\n",
    "def tau(matroid, S, e):\n",
    "    tau = [] \n",
    "    for F in S:\n",
    "        modded_matroid = matroid.contract(F.union(e))\n",
    "        if modded_matroid.rank() % 2 == 0:\n",
    "            tau.append(0)\n",
    "        else:\n",
    "            tau.append(modded_matroid.lattice_of_flats().kazhdan_lusztig_polynomial().leading_coefficient())\n",
    "    return tau\n",
    "\n",
    "def the_set_S(flats, e):\n",
    "    return set(F for F in flats if e.isdisjoint(F) and F.union(e) in flats)\n",
    "\n",
    "def delform_rhs(matroid, tau_func, inv_kl):\n",
    "    e = matroid.flats(1)[0]\n",
    "    flats = list(matroid.lattice_of_flats())\n",
    "\n",
    "    deletion = matroid.delete(e).simplify()\n",
    "    contraction = matroid.contract(e).simplify()\n",
    "\n",
    "    set_S = list(the_set_S(flats, e))\n",
    "\n",
    "    # Compute bv_tau_function and zip with set_S\n",
    "    tau_values = tau_func(matroid, set_S, e)\n",
    "\n",
    "    # Compute the summation over S\n",
    "    sum_S = sum(\n",
    "        x * q ** ((matroid.rank() - matroid.rank(y))//2) * inv_kl(matroid.delete(matroid.groundset() - y).simplify())\n",
    "        for x, y in zip(tau_values, set_S)\n",
    "    )\n",
    "    # Compute the RHS\n",
    "    return inv_kl(deletion) - (q + 1) * inv_kl(contraction) + sum_S"
   ]
  },
  {
   "cell_type": "code",
   "execution_count": null,
   "metadata": {
    "vscode": {
     "languageId": "sage"
    }
   },
   "outputs": [
    {
     "ename": "TypeError",
     "evalue": "unsupported operand parent(s) for +: 'Univariate Polynomial Ring in q over Rational Field' and 'Fraction Field of Univariate Polynomial Ring in t over Rational Field'",
     "output_type": "error",
     "traceback": [
      "\u001b[0;31m---------------------------------------------------------------------------\u001b[0m",
      "\u001b[0;31mTypeError\u001b[0m                                 Traceback (most recent call last)",
      "Cell \u001b[0;32mIn[17], line 10\u001b[0m\n\u001b[1;32m      4\u001b[0m \u001b[38;5;66;03m# Create a dataframe to store the results\u001b[39;00m\n\u001b[1;32m      5\u001b[0m \u001b[38;5;28;01mimport\u001b[39;00m \u001b[38;5;21;01mpandas\u001b[39;00m \u001b[38;5;28;01mas\u001b[39;00m \u001b[38;5;21;01mpd\u001b[39;00m\n\u001b[1;32m      7\u001b[0m data \u001b[38;5;241m=\u001b[39m {\n\u001b[1;32m      8\u001b[0m     \u001b[38;5;124m'\u001b[39m\u001b[38;5;124mMatroid\u001b[39m\u001b[38;5;124m'\u001b[39m: matroids_list,\n\u001b[1;32m      9\u001b[0m     \u001b[38;5;66;03m#'Kazhdan-Lusztig': [m.lattice_of_flats().kazhdan_lusztig_polynomial() for m in matroids_list],\u001b[39;00m\n\u001b[0;32m---> 10\u001b[0m     \u001b[38;5;124m'\u001b[39m\u001b[38;5;124minvKL\u001b[39m\u001b[38;5;124m'\u001b[39m: \u001b[43m[\u001b[49m\u001b[43mkl_inverse_fast\u001b[49m\u001b[43m(\u001b[49m\u001b[43mm\u001b[49m\u001b[43m)\u001b[49m\u001b[43m \u001b[49m\u001b[38;5;28;43;01mfor\u001b[39;49;00m\u001b[43m \u001b[49m\u001b[43mm\u001b[49m\u001b[43m \u001b[49m\u001b[38;5;129;43;01min\u001b[39;49;00m\u001b[43m \u001b[49m\u001b[43mmatroids_list\u001b[49m\u001b[43m]\u001b[49m,\n\u001b[1;32m     11\u001b[0m     \u001b[38;5;124m'\u001b[39m\u001b[38;5;124mdelform_rhs_qtau\u001b[39m\u001b[38;5;124m'\u001b[39m: [delform_rhs(m, q_tau, kl_inverse_fast) \u001b[38;5;28;01mfor\u001b[39;00m m \u001b[38;5;129;01min\u001b[39;00m matroids_list],\n\u001b[1;32m     12\u001b[0m     \u001b[38;5;124m'\u001b[39m\u001b[38;5;124mdifference\u001b[39m\u001b[38;5;124m'\u001b[39m: [x\u001b[38;5;241m-\u001b[39my \u001b[38;5;28;01mfor\u001b[39;00m x, y \u001b[38;5;129;01min\u001b[39;00m \u001b[38;5;28mzip\u001b[39m(data[\u001b[38;5;124m'\u001b[39m\u001b[38;5;124minvKL\u001b[39m\u001b[38;5;124m'\u001b[39m], data[\u001b[38;5;124m'\u001b[39m\u001b[38;5;124mdelform_rhs_tau\u001b[39m\u001b[38;5;124m'\u001b[39m])],\n\u001b[1;32m     13\u001b[0m     \u001b[38;5;124m'\u001b[39m\u001b[38;5;124mKL-M/e\u001b[39m\u001b[38;5;124m'\u001b[39m: [(\u001b[38;5;241m-\u001b[39mInteger(\u001b[38;5;241m1\u001b[39m)) \u001b[38;5;241m*\u001b[39m\u001b[38;5;241m*\u001b[39m m\u001b[38;5;241m.\u001b[39mrank() \u001b[38;5;241m*\u001b[39m m\u001b[38;5;241m.\u001b[39mcontract(m\u001b[38;5;241m.\u001b[39mflats(Integer(\u001b[38;5;241m1\u001b[39m))[Integer(\u001b[38;5;241m0\u001b[39m)])\u001b[38;5;241m.\u001b[39msimplify()\u001b[38;5;241m.\u001b[39mlattice_of_flats()\u001b[38;5;241m.\u001b[39mkazhdan_lusztig_polynomial() \u001b[38;5;28;01mfor\u001b[39;00m m \u001b[38;5;129;01min\u001b[39;00m matroids_list],\n\u001b[1;32m     14\u001b[0m }\n\u001b[1;32m     16\u001b[0m df \u001b[38;5;241m=\u001b[39m pd\u001b[38;5;241m.\u001b[39mDataFrame(data)\n\u001b[1;32m     17\u001b[0m display(df)\n",
      "Cell \u001b[0;32mIn[17], line 10\u001b[0m, in \u001b[0;36m<listcomp>\u001b[0;34m(.0)\u001b[0m\n\u001b[1;32m      4\u001b[0m \u001b[38;5;66;03m# Create a dataframe to store the results\u001b[39;00m\n\u001b[1;32m      5\u001b[0m \u001b[38;5;28;01mimport\u001b[39;00m \u001b[38;5;21;01mpandas\u001b[39;00m \u001b[38;5;28;01mas\u001b[39;00m \u001b[38;5;21;01mpd\u001b[39;00m\n\u001b[1;32m      7\u001b[0m data \u001b[38;5;241m=\u001b[39m {\n\u001b[1;32m      8\u001b[0m     \u001b[38;5;124m'\u001b[39m\u001b[38;5;124mMatroid\u001b[39m\u001b[38;5;124m'\u001b[39m: matroids_list,\n\u001b[1;32m      9\u001b[0m     \u001b[38;5;66;03m#'Kazhdan-Lusztig': [m.lattice_of_flats().kazhdan_lusztig_polynomial() for m in matroids_list],\u001b[39;00m\n\u001b[0;32m---> 10\u001b[0m     \u001b[38;5;124m'\u001b[39m\u001b[38;5;124minvKL\u001b[39m\u001b[38;5;124m'\u001b[39m: [\u001b[43mkl_inverse_fast\u001b[49m\u001b[43m(\u001b[49m\u001b[43mm\u001b[49m\u001b[43m)\u001b[49m \u001b[38;5;28;01mfor\u001b[39;00m m \u001b[38;5;129;01min\u001b[39;00m matroids_list],\n\u001b[1;32m     11\u001b[0m     \u001b[38;5;124m'\u001b[39m\u001b[38;5;124mdelform_rhs_qtau\u001b[39m\u001b[38;5;124m'\u001b[39m: [delform_rhs(m, q_tau, kl_inverse_fast) \u001b[38;5;28;01mfor\u001b[39;00m m \u001b[38;5;129;01min\u001b[39;00m matroids_list],\n\u001b[1;32m     12\u001b[0m     \u001b[38;5;124m'\u001b[39m\u001b[38;5;124mdifference\u001b[39m\u001b[38;5;124m'\u001b[39m: [x\u001b[38;5;241m-\u001b[39my \u001b[38;5;28;01mfor\u001b[39;00m x, y \u001b[38;5;129;01min\u001b[39;00m \u001b[38;5;28mzip\u001b[39m(data[\u001b[38;5;124m'\u001b[39m\u001b[38;5;124minvKL\u001b[39m\u001b[38;5;124m'\u001b[39m], data[\u001b[38;5;124m'\u001b[39m\u001b[38;5;124mdelform_rhs_tau\u001b[39m\u001b[38;5;124m'\u001b[39m])],\n\u001b[1;32m     13\u001b[0m     \u001b[38;5;124m'\u001b[39m\u001b[38;5;124mKL-M/e\u001b[39m\u001b[38;5;124m'\u001b[39m: [(\u001b[38;5;241m-\u001b[39mInteger(\u001b[38;5;241m1\u001b[39m)) \u001b[38;5;241m*\u001b[39m\u001b[38;5;241m*\u001b[39m m\u001b[38;5;241m.\u001b[39mrank() \u001b[38;5;241m*\u001b[39m m\u001b[38;5;241m.\u001b[39mcontract(m\u001b[38;5;241m.\u001b[39mflats(Integer(\u001b[38;5;241m1\u001b[39m))[Integer(\u001b[38;5;241m0\u001b[39m)])\u001b[38;5;241m.\u001b[39msimplify()\u001b[38;5;241m.\u001b[39mlattice_of_flats()\u001b[38;5;241m.\u001b[39mkazhdan_lusztig_polynomial() \u001b[38;5;28;01mfor\u001b[39;00m m \u001b[38;5;129;01min\u001b[39;00m matroids_list],\n\u001b[1;32m     14\u001b[0m }\n\u001b[1;32m     16\u001b[0m df \u001b[38;5;241m=\u001b[39m pd\u001b[38;5;241m.\u001b[39mDataFrame(data)\n\u001b[1;32m     17\u001b[0m display(df)\n",
      "Cell \u001b[0;32mIn[12], line 47\u001b[0m, in \u001b[0;36mkl_inverse_fast\u001b[0;34m(M)\u001b[0m\n\u001b[1;32m     45\u001b[0m         chi \u001b[38;5;241m=\u001b[39m characteristic_polynomial(Con)(Integer(\u001b[38;5;241m1\u001b[39m)\u001b[38;5;241m/\u001b[39mt) \u001b[38;5;241m*\u001b[39m t\u001b[38;5;241m*\u001b[39m\u001b[38;5;241m*\u001b[39m(Con\u001b[38;5;241m.\u001b[39mrank())\n\u001b[1;32m     46\u001b[0m         PPP \u001b[38;5;241m=\u001b[39m kl_inverse_fast(Res)(t) \u001b[38;5;241m*\u001b[39m (\u001b[38;5;241m-\u001b[39mInteger(\u001b[38;5;241m1\u001b[39m))\u001b[38;5;241m*\u001b[39m\u001b[38;5;241m*\u001b[39m(Res\u001b[38;5;241m.\u001b[39mrank())\n\u001b[0;32m---> 47\u001b[0m         ans \u001b[38;5;241m=\u001b[39m \u001b[43mans\u001b[49m\u001b[43m \u001b[49m\u001b[38;5;241;43m+\u001b[39;49m\u001b[43m \u001b[49m\u001b[43mchi\u001b[49m\u001b[43m \u001b[49m\u001b[38;5;241;43m*\u001b[39;49m\u001b[43m \u001b[49m\u001b[43mPPP\u001b[49m\n\u001b[1;32m     48\u001b[0m \u001b[38;5;28;01massert\u001b[39;00m (t\u001b[38;5;241m*\u001b[39m\u001b[38;5;241m*\u001b[39mk \u001b[38;5;241m*\u001b[39m ans(Integer(\u001b[38;5;241m1\u001b[39m)\u001b[38;5;241m/\u001b[39mt))\u001b[38;5;241m.\u001b[39mnumerator() \u001b[38;5;241m==\u001b[39m \u001b[38;5;241m-\u001b[39mans(t)\n\u001b[1;32m     49\u001b[0m ans \u001b[38;5;241m=\u001b[39m ans\u001b[38;5;241m.\u001b[39mnumerator() \u001b[38;5;241m*\u001b[39m (\u001b[38;5;241m-\u001b[39mInteger(\u001b[38;5;241m1\u001b[39m))\u001b[38;5;241m*\u001b[39m\u001b[38;5;241m*\u001b[39m(k\u001b[38;5;241m+\u001b[39mInteger(\u001b[38;5;241m1\u001b[39m))\n",
      "File \u001b[0;32m~/miniforge3/envs/sage/lib/python3.11/site-packages/sage/structure/element.pyx:1221\u001b[0m, in \u001b[0;36msage.structure.element.Element.__add__ (build/cythonized/sage/structure/element.c:18838)\u001b[0;34m()\u001b[0m\n\u001b[1;32m   1219\u001b[0m # Left and right are Sage elements => use coercion model\n\u001b[1;32m   1220\u001b[0m if BOTH_ARE_ELEMENT(cl):\n\u001b[0;32m-> 1221\u001b[0m     return coercion_model.bin_op(left, right, add)\n\u001b[1;32m   1222\u001b[0m \n\u001b[1;32m   1223\u001b[0m cdef long value\n",
      "File \u001b[0;32m~/miniforge3/envs/sage/lib/python3.11/site-packages/sage/structure/coerce.pyx:1278\u001b[0m, in \u001b[0;36msage.structure.coerce.CoercionModel.bin_op (build/cythonized/sage/structure/coerce.c:16875)\u001b[0;34m()\u001b[0m\n\u001b[1;32m   1276\u001b[0m     # We should really include the underlying error.\n\u001b[1;32m   1277\u001b[0m     # This causes so much headache.\n\u001b[0;32m-> 1278\u001b[0m     raise bin_op_exception(op, x, y)\n\u001b[1;32m   1279\u001b[0m \n\u001b[1;32m   1280\u001b[0m cpdef canonical_coercion(self, x, y) noexcept:\n",
      "\u001b[0;31mTypeError\u001b[0m: unsupported operand parent(s) for +: 'Univariate Polynomial Ring in q over Rational Field' and 'Fraction Field of Univariate Polynomial Ring in t over Rational Field'"
     ]
    }
   ],
   "source": [
    "# Create a list of matroids\n",
    "matroids_list = [matroids.Uniform(r, n) for r, n in [(2, 3), (2, 4), (2,5), (3, 4), (4, 5), (5,6), (3, 5), (4, 6)]] + \\\n",
    "    [matroids.Wheel(i) for i in range(3, 6)] + \\\n",
    "    [matroids.Whirl(i) for i in range(3, 5)]\n",
    "\n",
    "# Create a dataframe to store the results\n",
    "import pandas as pd\n",
    "\n",
    "data = {\n",
    "    'Matroid': matroids_list,\n",
    "    'invKL': [kl_inverse_fast(m) for m in matroids_list],\n",
    "    'delform_rhs_qtau': [delform_rhs(m, q_tau, kl_inverse_fast) for m in matroids_list],\n",
    "    'difference': [x-y for x, y in zip(data['invKL'], data['delform_rhs_tau'])],\n",
    "    'KL-M/e': [(-1) ** m.rank() * m.contract(m.flats(1)[0]).simplify().lattice_of_flats().kazhdan_lusztig_polynomial() for m in matroids_list],\n",
    "}\n",
    "\n",
    "df = pd.DataFrame(data)\n",
    "display(df)"
   ]
  }
 ],
 "metadata": {
  "kernelspec": {
   "display_name": "SageMath 10.3",
   "language": "sage",
   "name": "sagemath"
  },
  "language_info": {
   "codemirror_mode": {
    "name": "ipython",
    "version": 3
   },
   "file_extension": ".py",
   "mimetype": "text/x-python",
   "name": "python",
   "nbconvert_exporter": "python",
   "pygments_lexer": "ipython3",
   "version": "3.11.9"
  }
 },
 "nbformat": 4,
 "nbformat_minor": 2
}
