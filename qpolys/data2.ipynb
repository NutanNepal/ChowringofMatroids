{
 "cells": [
  {
   "cell_type": "code",
   "execution_count": 9,
   "metadata": {
    "vscode": {
     "languageId": "sage"
    }
   },
   "outputs": [],
   "source": [
    "import sys\n",
    "sys.path.append('..')\n",
    "from db1 import *\n",
    "import pandas as pd\n",
    "\n",
    "R = PolynomialRing(ZZ, 't')\n",
    "t = R.gen()\n",
    "\n",
    "def is_paving(M):\n",
    "    n = M.size()\n",
    "    r = M.rank()\n",
    "    return (len(M.independent_r_sets(r-1)) == binomial(n, r-1))\n",
    "\n",
    "def q_kl(k, h):\n",
    "    return kazhdan_lusztig_inverse_uniform(k, h+1) - kazhdan_lusztig_inverse_uniform(k-1, h)\n",
    "\n",
    "def kl_inverse_fast(M):\n",
    "    if M.loops(): return R(0)\n",
    "    k, n = M.rank(), M.size()\n",
    "    if k == n or k == 0: return R(1)\n",
    "    if not M.is_connected():\n",
    "        ans = R(1)\n",
    "        CC = M.components()\n",
    "        for N in CC:\n",
    "            res = M.delete(M.groundset() - N)\n",
    "            ans = ans * kl_inverse_fast(res)\n",
    "        return ans\n",
    "\n",
    "    if is_paving(M):\n",
    "        return kl_inverse_paving(M)\n",
    "    if is_paving(M.dual()):\n",
    "        return kl_inverse_copaving(M)\n",
    "    \"\"\"\n",
    "    if n <= 8 and M.is_connected():\n",
    "        for i in range(len(mat[n][k])):\n",
    "            if mat[n][k][i].is_isomorphic(M):\n",
    "                return ikl[n][k][i]\n",
    "    \"\"\"\n",
    "    LF = M.lattice_of_flats()\n",
    "    ans = R(0)\n",
    "    for F in LF:\n",
    "        if len(F) != n:\n",
    "            Res = M.delete(M.groundset() - F)\n",
    "            Con = M.contract(F)\n",
    "            chi = characteristic_polynomial(Con)(1/t) * t**(Con.rank())\n",
    "            PPP = kl_inverse_fast(Res)(t) * (-1)**(Res.rank())\n",
    "            ans = ans + chi * PPP\n",
    "    assert (t**k * ans(1/t)).numerator() == -ans(t)\n",
    "    ans = ans.numerator() * (-1)**(k+1)\n",
    "    return ans.truncate((k+1)//2)\n",
    "\n",
    "def kazhdan_lusztig_inverse_uniform(k, n):\n",
    "    if k == n:\n",
    "        return R(1)\n",
    "    d = k\n",
    "    m = n - d\n",
    "    ans = 0\n",
    "    for j in range((d-1)//2 + 1):\n",
    "        ans = ans + m * (d-2*j)/((m+j) * (m+d-j)) * binomial(d, j) * t**j\n",
    "    return ans * binomial(m+d, d)\n",
    "\n",
    "def kl_inverse_paving(M):\n",
    "    assert is_paving(M)\n",
    "    n = M.size()\n",
    "    k = M.rank()\n",
    "    ans = kazhdan_lusztig_inverse_uniform(k, n)\n",
    "    for H in M.hyperplanes():\n",
    "        h = len(H)\n",
    "        if h >= k:\n",
    "            ans = ans - q_kl(k, h)\n",
    "    return ans\n",
    "\n",
    "def kl_inverse_copaving(M):\n",
    "    assert is_paving(M.dual())\n",
    "    n = M.size()\n",
    "    k = M.rank()\n",
    "    ans = kazhdan_lusztig_inverse_uniform(k, n)\n",
    "    for H in M.dual().hyperplanes():\n",
    "        h = len(H)\n",
    "        if h >= n-k:\n",
    "            ans = ans - kli_vtilde_dual(n-k, h, n) + kazhdan_lusztig_inverse_uniform(h-n+k+1, h) * kazhdan_lusztig_inverse_uniform(n-h-1, n-h)\n",
    "    return ans\n",
    "\n",
    "def kli_vtilde_dual(k, h, n):\n",
    "    return helper1(n-k, h, n)\n",
    "\n",
    "def helper1(k, h, n):\n",
    "    c = n - h\n",
    "    ans1 = kazhdan_lusztig_inverse_uniform(k, n)\n",
    "    ans2 = helper2(c, k, n)\n",
    "    ans3 = kazhdan_lusztig_inverse_uniform(k-c+1, h) * kazhdan_lusztig_inverse_uniform(c-1, c)\n",
    "    return ans1 - ans2 + ans3\n",
    "\n",
    "def helper2(c, k, n):\n",
    "    h = n - c\n",
    "    ans = 0\n",
    "    for j in range(k-c+1):\n",
    "        ans = ans + binomial(n-c, j) * (-1)**(c-1+j) * kazhdan_lusztig_inverse_uniform(c-1, c) * t**(k-c-j+1) * chuly(k-c-j+1, n-c-j)(1/t)\n",
    "    for i in range(c-1):\n",
    "        for j in range(k-i):\n",
    "            ans = ans + binomial(c, i) * binomial(n-c, j) * (-1)**(i+j) * t**(k-i-j) * helper4(c, k, n, i, j)(1/t)\n",
    "    ans = ans.numerator().truncate((k-1)//2 + 1)\n",
    "    if ans[0] < 0:\n",
    "        ans = -ans\n",
    "    return ans\n",
    "\n",
    "def helper3(c, k, n):\n",
    "    ans = 0\n",
    "    for j in range(k-c+1):\n",
    "        ans = ans + binomial(n-c, j) * kazhdan_lusztig_uniform_matroid(c-1, c) * (-1)**(k-c-j+1) * kazhdan_lusztig_inverse_uniform(k-c-j+1, n-c-j)\n",
    "    for i in range(c-1):\n",
    "        for j in range(k-i):\n",
    "            ans = ans + binomial(c, i) * binomial(n-c, j) * (-1)**(k-i-j) * helper2(c-i, k-i-j, n-i-j)\n",
    "    return -ans\n",
    "\n",
    "def helper4(c, k, n, i, j):\n",
    "    ans = 0\n",
    "    for l in range(c-i-1):\n",
    "        ans = ans + (-1)**l * (t-1)**(max(n-i-j-l-1, 0))\n",
    "    for u in range(n-k-1):\n",
    "        ans = doit_once(ans)\n",
    "    return ans\n",
    "\n",
    "def chuly(a, b):\n",
    "    ans = (t-1)**b\n",
    "    for i in range(b-a):\n",
    "        ans = doit_once(ans)\n",
    "    return ans\n",
    "\n",
    "def doit_once(p):\n",
    "    p = p // t**2\n",
    "    p = p * t\n",
    "    p = p - p(1)\n",
    "    return p\n",
    "\n",
    "def lorenzo(k, h, n):\n",
    "    c = n - h\n",
    "    ans1 = kazhdan_lusztig_uniform_matroid(k, n) + kazhdan_lusztig_uniform_matroid(k-c+1, h) * kazhdan_lusztig_uniform_matroid(c-1, c)\n",
    "    ans2 = helper3(c, k, n)\n",
    "    return ans1 - ans2"
   ]
  },
  {
   "cell_type": "code",
   "execution_count": 10,
   "metadata": {
    "vscode": {
     "languageId": "sage"
    }
   },
   "outputs": [],
   "source": [
    "def parallel_connection(m, n):\n",
    "    G = graphs.CycleGraph(m + n - 2)\n",
    "    G.add_edge(0, m-1)\n",
    "    return G"
   ]
  },
  {
   "cell_type": "code",
   "execution_count": 11,
   "metadata": {
    "vscode": {
     "languageId": "sage"
    }
   },
   "outputs": [
    {
     "name": "stdout",
     "output_type": "stream",
     "text": [
      "2\n",
      "2*t + 3\n",
      "5*t + 4\n",
      "5*t^2 + 9*t + 5\n",
      "14*t^2 + 14*t + 6\n",
      "14*t^3 + 28*t^2 + 20*t + 7\n",
      "42*t^3 + 48*t^2 + 27*t + 8\n",
      "42*t^4 + 90*t^3 + 75*t^2 + 35*t + 9\n",
      "132*t^4 + 165*t^3 + 110*t^2 + 44*t + 10\n",
      "132*t^5 + 297*t^4 + 275*t^3 + 154*t^2 + 54*t + 11\n",
      "429*t^5 + 572*t^4 + 429*t^3 + 208*t^2 + 65*t + 12\n",
      "429*t^6 + 1001*t^5 + 1001*t^4 + 637*t^3 + 273*t^2 + 77*t + 13\n"
     ]
    }
   ],
   "source": [
    "for n in range (3, 15):\n",
    "    G = graphs.CycleGraph(n)\n",
    "    print(kl_inverse_fast(Matroid(G)))"
   ]
  },
  {
   "cell_type": "code",
   "execution_count": 12,
   "metadata": {
    "vscode": {
     "languageId": "sage"
    }
   },
   "outputs": [
    {
     "name": "stdout",
     "output_type": "stream",
     "text": [
      "14\n",
      "90*t + 91\n",
      "715*t + 364\n",
      "1925*t^2 + 2925*t + 1001\n",
      "9450*t^2 + 7722*t + 2002\n",
      "13650*t^3 + 24948*t^2 + 14300*t + 3003\n",
      "42042*t^3 + 43120*t^2 + 19305*t + 3432\n",
      "34398*t^4 + 70070*t^3 + 51975*t^2 + 19305*t + 3003\n",
      "63700*t^4 + 75075*t^3 + 44550*t^2 + 14300*t + 2002\n",
      "28028*t^5 + 61425*t^4 + 53625*t^3 + 26950*t^2 + 7722*t + 1001\n",
      "27027*t^5 + 35100*t^4 + 25025*t^3 + 11088*t^2 + 2925*t + 364\n",
      "5005*t^6 + 11583*t^5 + 11375*t^4 + 7007*t^3 + 2835*t^2 + 715*t + 91\n",
      "1430*t^6 + 2002*t^5 + 1638*t^4 + 910*t^3 + 350*t^2 + 90*t + 14\n"
     ]
    }
   ],
   "source": [
    "for n in range (2, 15):\n",
    "    M = matroids.Uniform(n, 15)\n",
    "    print(kl_inverse_fast(M))"
   ]
  },
  {
   "cell_type": "code",
   "execution_count": 13,
   "metadata": {
    "vscode": {
     "languageId": "sage"
    }
   },
   "outputs": [
    {
     "name": "stdout",
     "output_type": "stream",
     "text": [
      "1\n",
      "t + 4\n",
      "5*t^2 + 13*t + 9\n",
      "10*t^3 + 32*t^2 + 41*t + 16\n",
      "42*t^4 + 115*t^3 + 140*t^2 + 91*t + 25\n",
      "107*t^5 + 322*t^4 + 446*t^3 + 375*t^2 + 169*t + 36\n",
      "429*t^6 + 1197*t^5 + 1589*t^4 + 1393*t^3 + 805*t^2 + 281*t + 49\n",
      "1234*t^7 + 3628*t^6 + 5208*t^5 + 5012*t^4 + 3368*t^3 + 1512*t^2 + 433*t + 64\n",
      "4862*t^8 + 13698*t^7 + 19056*t^6 + 18600*t^5 + 13344*t^4 + 7005*t^3 + 2592*t^2 + 631*t + 81\n",
      "15032*t^9 + 43754*t^8 + 64110*t^7 + 66660*t^6 + 51621*t^5 + 30210*t^4 + 13150*t^3 + 4155*t^2 + 881*t + 100\n",
      "58786*t^10 + 166650*t^9 + 238634*t^8 + 249051*t^7 + 200112*t^6 + 125455*t^5 + 61259*t^4 + 22891*t^3 + 6325*t^2 + 1189*t + 121\n",
      "190588*t^11 + 552312*t^10 + 820369*t^9 + 896192*t^8 + 760474*t^7 + 509641*t^6 + 271722*t^5 + 114510*t^4 + 37588*t^3 + 9240*t^2 + 1561*t + 144\n",
      "742900*t^12 + 2115581*t^11 + 3089242*t^10 + 3373227*t^9 + 2926781*t^8 + 2051478*t^7 + 1168453*t^6 + 540332*t^5 + 200928*t^4 + 58903*t^3 + 13052*t^2 + 2003*t + 169\n"
     ]
    }
   ],
   "source": [
    "for n in range (2, 15):\n",
    "    M = Matroid(parallel_connection(n, n))\n",
    "    print(kl_inverse_fast(M))"
   ]
  },
  {
   "cell_type": "code",
   "execution_count": 15,
   "metadata": {
    "vscode": {
     "languageId": "sage"
    }
   },
   "outputs": [
    {
     "name": "stdout",
     "output_type": "stream",
     "text": [
      "t + 6\n",
      "9*t + 14\n",
      "5*t^2 + 31*t + 30\n",
      "36*t^2 + 85*t + 62\n",
      "21*t^3 + 133*t^2 + 211*t + 126\n",
      "140*t^3 + 400*t^2 + 497*t + 254\n",
      "84*t^4 + 540*t^3 + 1089*t^2 + 1135*t + 510\n"
     ]
    }
   ],
   "source": [
    "for n in range (3, 10):\n",
    "    M = matroids.Wheel(n)\n",
    "    print(kl_inverse_fast(M))"
   ]
  }
 ],
 "metadata": {
  "kernelspec": {
   "display_name": "SageMath 10.3",
   "language": "sage",
   "name": "sagemath"
  },
  "language_info": {
   "codemirror_mode": {
    "name": "ipython",
    "version": 3
   },
   "file_extension": ".py",
   "mimetype": "text/x-python",
   "name": "python",
   "nbconvert_exporter": "python",
   "pygments_lexer": "ipython3",
   "version": "3.11.9"
  }
 },
 "nbformat": 4,
 "nbformat_minor": 2
}
