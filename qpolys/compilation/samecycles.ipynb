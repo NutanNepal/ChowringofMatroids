{
 "cells": [
  {
   "cell_type": "code",
   "execution_count": 95,
   "metadata": {
    "vscode": {
     "languageId": "sage"
    }
   },
   "outputs": [],
   "source": [
    "import sys\n",
    "sys.path.append('..')\n",
    "from db1 import *\n",
    "import pandas as pd\n",
    "\n",
    "R = PolynomialRing(ZZ, 't')\n",
    "t = R.gen()\n",
    "\n",
    "def is_paving(M):\n",
    "    n = M.size()\n",
    "    r = M.rank()\n",
    "    return (len(M.independent_r_sets(r-1)) == binomial(n, r-1))\n",
    "\n",
    "def q_kl(k, h):\n",
    "    return kazhdan_lusztig_inverse_uniform(k, h+1) - kazhdan_lusztig_inverse_uniform(k-1, h)\n",
    "\n",
    "def kl_inverse_fast(M):\n",
    "    if M.loops(): return R(0)\n",
    "    k, n = M.rank(), M.size()\n",
    "    if k == n or k == 0: return R(1)\n",
    "    if not M.is_connected():\n",
    "        ans = R(1)\n",
    "        CC = M.components()\n",
    "        for N in CC:\n",
    "            res = M.delete(M.groundset() - N)\n",
    "            ans = ans * kl_inverse_fast(res)\n",
    "        return ans\n",
    "\n",
    "    if is_paving(M):\n",
    "        return kl_inverse_paving(M)\n",
    "    if is_paving(M.dual()):\n",
    "        return kl_inverse_copaving(M)\n",
    "    \"\"\"\n",
    "    if n <= 8 and M.is_connected():\n",
    "        for i in range(len(mat[n][k])):\n",
    "            if mat[n][k][i].is_isomorphic(M):\n",
    "                return ikl[n][k][i]\n",
    "    \"\"\"\n",
    "    LF = M.lattice_of_flats()\n",
    "    ans = R(0)\n",
    "    for F in LF:\n",
    "        if len(F) != n:\n",
    "            Res = M.delete(M.groundset() - F)\n",
    "            Con = M.contract(F)\n",
    "            chi = characteristic_polynomial(Con)(1/t) * t**(Con.rank())\n",
    "            PPP = kl_inverse_fast(Res)(t) * (-1)**(Res.rank())\n",
    "            ans = ans + chi * PPP\n",
    "    assert (t**k * ans(1/t)).numerator() == -ans(t)\n",
    "    ans = ans.numerator() * (-1)**(k+1)\n",
    "    return ans.truncate((k+1)//2)\n",
    "\n",
    "def kazhdan_lusztig_inverse_uniform(k, n):\n",
    "    if k == n:\n",
    "        return R(1)\n",
    "    d = k\n",
    "    m = n - d\n",
    "    ans = 0\n",
    "    for j in range((d-1)//2 + 1):\n",
    "        ans = ans + m * (d-2*j)/((m+j) * (m+d-j)) * binomial(d, j) * t**j\n",
    "    return ans * binomial(m+d, d)\n",
    "\n",
    "def kl_inverse_paving(M):\n",
    "    assert is_paving(M)\n",
    "    n = M.size()\n",
    "    k = M.rank()\n",
    "    ans = kazhdan_lusztig_inverse_uniform(k, n)\n",
    "    for H in M.hyperplanes():\n",
    "        h = len(H)\n",
    "        if h >= k:\n",
    "            ans = ans - q_kl(k, h)\n",
    "    return ans\n",
    "\n",
    "def kl_inverse_copaving(M):\n",
    "    assert is_paving(M.dual())\n",
    "    n = M.size()\n",
    "    k = M.rank()\n",
    "    ans = kazhdan_lusztig_inverse_uniform(k, n)\n",
    "    for H in M.dual().hyperplanes():\n",
    "        h = len(H)\n",
    "        if h >= n-k:\n",
    "            ans = ans - kli_vtilde_dual(n-k, h, n) + kazhdan_lusztig_inverse_uniform(h-n+k+1, h) * kazhdan_lusztig_inverse_uniform(n-h-1, n-h)\n",
    "    return ans\n",
    "\n",
    "def kli_vtilde_dual(k, h, n):\n",
    "    return helper1(n-k, h, n)\n",
    "\n",
    "def helper1(k, h, n):\n",
    "    c = n - h\n",
    "    ans1 = kazhdan_lusztig_inverse_uniform(k, n)\n",
    "    ans2 = helper2(c, k, n)\n",
    "    ans3 = kazhdan_lusztig_inverse_uniform(k-c+1, h) * kazhdan_lusztig_inverse_uniform(c-1, c)\n",
    "    return ans1 - ans2 + ans3\n",
    "\n",
    "def helper2(c, k, n):\n",
    "    h = n - c\n",
    "    ans = 0\n",
    "    for j in range(k-c+1):\n",
    "        ans = ans + binomial(n-c, j) * (-1)**(c-1+j) * kazhdan_lusztig_inverse_uniform(c-1, c) * t**(k-c-j+1) * chuly(k-c-j+1, n-c-j)(1/t)\n",
    "    for i in range(c-1):\n",
    "        for j in range(k-i):\n",
    "            ans = ans + binomial(c, i) * binomial(n-c, j) * (-1)**(i+j) * t**(k-i-j) * helper4(c, k, n, i, j)(1/t)\n",
    "    ans = ans.numerator().truncate((k-1)//2 + 1)\n",
    "    if ans[0] < 0:\n",
    "        ans = -ans\n",
    "    return ans\n",
    "\n",
    "def helper3(c, k, n):\n",
    "    ans = 0\n",
    "    for j in range(k-c+1):\n",
    "        ans = ans + binomial(n-c, j) * kazhdan_lusztig_uniform_matroid(c-1, c) * (-1)**(k-c-j+1) * kazhdan_lusztig_inverse_uniform(k-c-j+1, n-c-j)\n",
    "    for i in range(c-1):\n",
    "        for j in range(k-i):\n",
    "            ans = ans + binomial(c, i) * binomial(n-c, j) * (-1)**(k-i-j) * helper2(c-i, k-i-j, n-i-j)\n",
    "    return -ans\n",
    "\n",
    "def helper4(c, k, n, i, j):\n",
    "    ans = 0\n",
    "    for l in range(c-i-1):\n",
    "        ans = ans + (-1)**l * (t-1)**(max(n-i-j-l-1, 0))\n",
    "    for u in range(n-k-1):\n",
    "        ans = doit_once(ans)\n",
    "    return ans\n",
    "\n",
    "def chuly(a, b):\n",
    "    ans = (t-1)**b\n",
    "    for i in range(b-a):\n",
    "        ans = doit_once(ans)\n",
    "    return ans\n",
    "\n",
    "def doit_once(p):\n",
    "    p = p // t**2\n",
    "    p = p * t\n",
    "    p = p - p(1)\n",
    "    return p\n",
    "\n",
    "def lorenzo(k, h, n):\n",
    "    c = n - h\n",
    "    ans1 = kazhdan_lusztig_uniform_matroid(k, n) + kazhdan_lusztig_uniform_matroid(k-c+1, h) * kazhdan_lusztig_uniform_matroid(c-1, c)\n",
    "    ans2 = helper3(c, k, n)\n",
    "    return ans1 - ans2"
   ]
  },
  {
   "cell_type": "code",
   "execution_count": 96,
   "metadata": {
    "vscode": {
     "languageId": "sage"
    }
   },
   "outputs": [],
   "source": [
    "def parallel_connection(m, n):\n",
    "    G = graphs.CycleGraph(m + n - 2)\n",
    "    G.add_edge(0, m-1)\n",
    "    edge_e = frozenset({(0, m - 1)})\n",
    "    return G, edge_e\n",
    "\n",
    "def kl(M):\n",
    "    return M.lattice_of_flats().kazhdan_lusztig_polynomial().factor()(t)\n",
    "\n",
    "def set_division(M, e):\n",
    "    L = M.lattice_of_flats()\n",
    "    divs = {'A': set(), 'B': set(), 'C': set(), 'D': set()}\n",
    "    for x in L[1:]:\n",
    "        if set(e).issubset(set(x)):\n",
    "            if frozenset(set(x) - set(e)) in L[1:]:\n",
    "                divs['A'].add(x)\n",
    "            else:\n",
    "                divs['D'].add(x)\n",
    "        else:\n",
    "            if frozenset(set(x) | set(e)) in L:\n",
    "                divs['C'].add(x)\n",
    "            else:\n",
    "                divs['B'].add(x)\n",
    "    return divs"
   ]
  },
  {
   "cell_type": "code",
   "execution_count": 97,
   "metadata": {
    "vscode": {
     "languageId": "sage"
    }
   },
   "outputs": [],
   "source": [
    "n = 5\n",
    "G, e = parallel_connection(n, n)\n",
    "M = Matroid(G)\n",
    "\n",
    "flats = M.lattice_of_flats().list()\n",
    "gset = M.groundset()\n",
    "labels = {element: idx for idx, element in enumerate(gset)}\n",
    "relabel_flats = {flat: frozenset({labels[element] for element in flat}) for flat in flats}"
   ]
  },
  {
   "cell_type": "code",
   "execution_count": 98,
   "metadata": {
    "vscode": {
     "languageId": "sage"
    }
   },
   "outputs": [],
   "source": [
    "def q_tau(matroid, S, e):\n",
    "    q_tau = [] \n",
    "    for F in S:\n",
    "        modded_matroid = matroid.delete(matroid.groundset() - F)\n",
    "        if modded_matroid.rank() % 2 == 0:\n",
    "            q_tau.append(0)\n",
    "        else:\n",
    "            q_tau.append(kl_inverse_fast(modded_matroid).leading_coefficient())\n",
    "    return q_tau\n",
    "\n",
    "def the_set_S(flats, e):\n",
    "    return set(F for F in flats if e.isdisjoint(F) and F.union(e) in flats)\n",
    "\n",
    "def delform_rhs(matroid, e):\n",
    "    contraction = matroid.contract(e).simplify()\n",
    "    return (t + 1) * kl_inverse_fast(contraction)\n",
    "\n",
    "def sum_S(matroid, e):\n",
    "    flats = list(matroid.lattice_of_flats())\n",
    "    set_S = list(the_set_S(flats, e))\n",
    "    tau_values = q_tau(matroid, set_S, e)\n",
    "\n",
    "    sum_S = sum(\n",
    "        x * t ** (matroid.rank(y)//2) * kl_inverse_fast(matroid.contract(y))\n",
    "        for x, y in zip(tau_values, set_S)\n",
    "    )\n",
    "    return sum_S"
   ]
  },
  {
   "cell_type": "code",
   "execution_count": 99,
   "metadata": {
    "vscode": {
     "languageId": "sage"
    }
   },
   "outputs": [
    {
     "name": "stdout",
     "output_type": "stream",
     "text": [
      "A: [frozenset({3, 4, 5, 6, 8}), frozenset({0, 1, 3, 5, 6}), frozenset({1, 3, 4, 5, 8}), frozenset({1, 3, 4, 7}), frozenset({0, 3, 6}), frozenset({8, 3, 4}), frozenset({0, 1, 3}), frozenset({2, 3}), frozenset({0, 1, 3, 5}), frozenset({8, 2, 3, 6}), frozenset({2, 3, 6}), frozenset({0, 2, 3, 6, 7}), frozenset({2, 3, 4, 7, 8}), frozenset({0, 8, 3, 4}), frozenset({1, 3, 5, 6}), frozenset({1, 3, 4, 5, 7}), frozenset({2, 3, 5}), frozenset({1, 2, 3, 4, 6}), frozenset({0, 1, 2, 3, 8}), frozenset({1, 3, 4, 5}), frozenset({0, 1, 3, 4}), frozenset({1, 3}), frozenset({3, 5, 6}), frozenset({0, 8, 3, 7}), frozenset({3, 4, 6, 7}), frozenset({0, 3, 7}), frozenset({8, 3, 5, 7}), frozenset({2, 3, 5, 6}), frozenset({0, 2, 3, 7}), frozenset({0, 1, 2, 3, 6}), frozenset({1, 2, 3, 4, 8}), frozenset({1, 2, 3}), frozenset({0, 3, 5, 6}), frozenset({8, 3, 4, 5}), frozenset({2, 3, 4, 6, 8}), frozenset({8, 3, 7}), frozenset({8, 3, 6}), frozenset({0, 3, 4}), frozenset({0, 1, 3, 4, 7}), frozenset({3, 4, 7}), frozenset({0, 1, 3, 6}), frozenset({8, 1, 3, 4}), frozenset({0, 3, 5, 7, 8}), frozenset({3, 4, 5, 6, 7}), frozenset({1, 3, 5, 7}), frozenset({2, 3, 4, 7}), frozenset({0, 3, 5}), frozenset({3, 7}), frozenset({1, 2, 3, 6}), frozenset({1, 3, 6}), frozenset({1, 2, 3, 4, 7}), frozenset({2, 3, 5, 7}), frozenset({0, 3, 4, 7, 8}), frozenset({8, 3, 5, 6}), frozenset({0, 3, 4, 6, 8}), frozenset({0, 3, 5, 6, 7}), frozenset({3, 4, 5, 7, 8}), frozenset({3, 5, 7}), frozenset({1, 2, 3, 5, 6}), frozenset({8, 3}), frozenset({8, 2, 3, 7}), frozenset({0, 3, 6, 7}), frozenset({8, 3, 4, 7}), frozenset({0, 1, 3, 7}), frozenset({0, 1, 3, 5, 8}), frozenset({1, 3, 4, 5, 6}), frozenset({1, 2, 3, 4}), frozenset({2, 3, 5, 7, 8}), frozenset({3, 6, 7}), frozenset({0, 2, 3, 6, 8}), frozenset({2, 3, 4, 6, 7}), frozenset({0, 2, 3, 7, 8}), frozenset({3, 4, 5, 7}), frozenset({1, 3, 5}), frozenset({2, 3, 4}), frozenset({0, 1, 3, 8}), frozenset({1, 3, 4, 6}), frozenset({0, 3}), frozenset({2, 3, 5, 6, 7}), frozenset({8, 1, 2, 3}), frozenset({2, 3, 7}), frozenset({0, 1, 2, 3, 7}), frozenset({8, 1, 3}), frozenset({8, 3, 5}), frozenset({0, 3, 5, 6, 8}), frozenset({0, 2, 3}), frozenset({8, 2, 3, 5}), frozenset({1, 3, 4}), frozenset({0, 1, 3, 4, 6}), frozenset({0, 3, 4, 7}), frozenset({0, 8, 3, 5}), frozenset({3, 4, 5, 6}), frozenset({2, 3, 6, 7}), frozenset({3, 6}), frozenset({8, 1, 3, 5}), frozenset({3, 5}), frozenset({0, 1, 2, 3}), frozenset({0, 1, 3, 5, 7}), frozenset({1, 2, 3, 5}), frozenset({0, 8, 3, 6}), frozenset({0, 1, 3, 4, 8}), frozenset({8, 2, 3, 4}), frozenset({3, 4, 5}), frozenset({1, 2, 3, 5, 7}), frozenset({0, 3, 5, 7}), frozenset({2, 3, 4, 6}), frozenset({0, 8, 2, 3}), frozenset({0, 3, 4, 6, 7}), frozenset({3, 5, 6, 7}), frozenset({0, 8, 3}), frozenset({3, 4, 6}), frozenset({8, 3, 4, 6}), frozenset({3, 4}), frozenset({1, 3, 7}), frozenset({8, 2, 3}), frozenset({1, 2, 3, 7}), frozenset({1, 2, 3, 5, 8}), frozenset({2, 3, 5, 6, 8}), frozenset({0, 3, 4, 6}), frozenset({0, 2, 3, 6})]\n",
      "B: [frozenset({0, 4, 5, 6}), frozenset({0, 1, 4, 5, 6, 7}), frozenset({1, 4, 5, 6, 8}), frozenset({0, 1, 4, 5}), frozenset({8, 1, 5, 6}), frozenset({0, 1, 4, 7, 8}), frozenset({0, 4, 5, 6, 7}), frozenset({0, 2, 5}), frozenset({1, 2, 4, 5, 6, 7}), frozenset({0, 1, 2, 5, 7, 8}), frozenset({8, 6, 7}), frozenset({0, 2, 4, 7, 8}), frozenset({0, 8, 4, 5}), frozenset({8, 4, 6, 7}), frozenset({0, 1, 4, 5, 8}), frozenset({0, 1, 2, 6, 8}), frozenset({0, 2, 5, 6, 8}), frozenset({4, 5, 6, 7, 8}), frozenset({1, 4, 5, 7, 8}), frozenset({0, 4, 5, 7}), frozenset({0, 1, 5, 6, 7}), frozenset({8, 5, 6, 7}), frozenset({0, 1, 2, 4, 6}), frozenset({8, 1, 6}), frozenset({0, 2, 5, 6, 7, 8}), frozenset({0, 1, 2, 4}), frozenset({8, 1, 2, 6}), frozenset({0, 2, 4, 6}), frozenset({0, 1, 2, 4, 6, 7}), frozenset({1, 5, 6, 7}), frozenset({0, 1, 5, 7, 8}), frozenset({1, 4, 5, 6, 7}), frozenset({0, 1, 4, 5, 6, 8}), frozenset({2, 4, 5}), frozenset({0, 4, 5, 7, 8}), frozenset({0, 2, 6, 7, 8}), frozenset({0, 2, 4, 6, 7, 8}), frozenset({0, 2, 4, 6, 7}), frozenset({0, 1, 8, 7}), frozenset({1, 4, 6, 7}), frozenset({1, 2, 4, 5}), frozenset({0, 1, 2, 6, 7}), frozenset({1, 2, 4, 7, 8}), frozenset({8, 1, 2, 7}), frozenset({0, 1, 4, 5, 7}), frozenset({2, 4, 6, 7, 8}), frozenset({0, 1, 4, 5, 6}), frozenset({8, 1, 7}), frozenset({0, 5, 6, 7, 8}), frozenset({0, 1, 2, 5, 6}), frozenset({1, 2, 4, 5, 8}), frozenset({0, 1, 2, 5, 7}), frozenset({8, 1, 4, 7}), frozenset({0, 1, 6, 7}), frozenset({0, 1, 2, 4, 8}), frozenset({0, 1, 4, 6, 7}), frozenset({0, 1, 2, 4, 6, 8}), frozenset({1, 2, 6, 7}), frozenset({0, 2, 4}), frozenset({1, 6, 7}), frozenset({8, 1, 5, 7}), frozenset({0, 1, 2, 4, 7}), frozenset({1, 2, 4, 5, 7}), frozenset({0, 4, 6, 7, 8}), frozenset({0, 8, 6, 7}), frozenset({2, 4, 5, 6, 7}), frozenset({0, 2, 5, 7, 8}), frozenset({0, 1, 2, 5, 6, 8}), frozenset({1, 2, 5, 6, 7}), frozenset({2, 4, 5, 6, 8}), frozenset({8, 1, 4, 6}), frozenset({0, 4, 5, 6, 7, 8}), frozenset({0, 2, 5, 7}), frozenset({1, 2, 5, 7, 8}), frozenset({1, 2, 4, 5, 6, 8}), frozenset({2, 5, 6, 7, 8}), frozenset({0, 4, 5, 6, 8}), frozenset({0, 1, 2, 4, 7, 8}), frozenset({0, 1, 4, 6, 8}), frozenset({0, 1, 6, 8}), frozenset({1, 2, 4, 5, 6}), frozenset({0, 1, 2, 5, 8}), frozenset({0, 2, 4, 7}), frozenset({8, 2, 6, 7}), frozenset({2, 4, 5, 6}), frozenset({0, 8, 2, 5}), frozenset({2, 4, 5, 7}), frozenset({1, 2, 4, 6, 8}), frozenset({0, 1, 5, 6, 8}), frozenset({0, 2, 4, 6, 8}), frozenset({0, 1, 4, 5, 7, 8}), frozenset({0, 4, 5}), frozenset({0, 2, 5, 6, 7}), frozenset({1, 2, 4, 6, 7}), frozenset({2, 4, 5, 7, 8}), frozenset({0, 1, 2, 7, 8}), frozenset({0, 1, 2, 5}), frozenset({2, 4, 5, 6, 7, 8}), frozenset({1, 2, 5, 6, 8}), frozenset({0, 1, 2, 5, 6, 7}), frozenset({1, 2, 4, 5, 7, 8}), frozenset({0, 2, 5, 6}), frozenset({8, 2, 4, 5}), frozenset({0, 8, 2, 4})]\n",
      "C: [frozenset({0, 1}), frozenset({0, 1, 2, 7}), frozenset({0, 1, 2, 6}), frozenset({8, 1, 2, 4}), frozenset({1, 5}), frozenset({1, 2, 5, 7}), frozenset({0, 4}), frozenset({8, 6}), frozenset({0, 4, 6}), frozenset({0, 4, 7}), frozenset({4, 5}), frozenset({8, 4, 5, 6}), frozenset({0, 8, 5}), frozenset({4, 5, 6}), frozenset({1, 2, 6}), frozenset({2, 6}), frozenset({8, 1, 2, 5}), frozenset({0, 8, 6}), frozenset({1, 2, 4, 6}), frozenset({0, 1, 2, 8}), frozenset({4}), frozenset({0, 8, 2, 6}), frozenset({4, 7}), frozenset({1, 6}), frozenset({7}), frozenset({8, 1, 2}), frozenset({8, 4, 5}), frozenset({0, 5, 6}), frozenset({0, 2, 6, 7}), frozenset({8, 2, 4, 7}), frozenset({2, 4, 6}), frozenset({0, 8, 2}), frozenset({5, 6}), frozenset({0, 6, 7}), frozenset({8, 4, 7}), frozenset({0, 1, 7}), frozenset({0, 1, 4}), frozenset({0, 1, 5, 7}), frozenset({2, 6, 7}), frozenset({0, 8, 4, 7}), frozenset({1, 2, 4, 7}), frozenset({1, 4}), frozenset({8, 1, 5}), frozenset({2, 5, 7}), frozenset({8, 2}), frozenset({0, 8, 5, 6}), frozenset({0, 1, 5, 8}), frozenset({1, 4, 5, 6}), frozenset({5, 6, 7}), frozenset({8, 4, 6}), frozenset({2, 4, 7}), frozenset({2, 5, 6, 7}), frozenset({0, 7}), frozenset({8, 2, 4, 6}), frozenset({1, 2, 7}), frozenset({8, 4, 5, 7}), frozenset({0, 5, 6, 7}), frozenset({1, 4, 5}), frozenset({8, 5, 7}), frozenset({1, 2, 5}), frozenset({8, 2, 5, 7}), frozenset({1, 4, 7}), frozenset({0, 5, 7}), frozenset({0, 8, 5, 7}), frozenset({4, 5, 6, 7}), frozenset({0, 5}), frozenset({8, 2, 6}), frozenset({6, 7}), frozenset({1, 2, 5, 6}), frozenset({8, 4}), frozenset({5, 7}), frozenset({4, 5, 7}), frozenset({8}), frozenset({1, 2}), frozenset({8, 7}), frozenset({2, 4, 6, 7}), frozenset({0, 8, 2, 7}), frozenset({0, 8, 7}), frozenset({8, 5}), frozenset({4, 6, 7}), frozenset({0, 1, 2}), frozenset({8, 2, 7}), frozenset({0, 8, 4}), frozenset({0, 4, 6, 7}), frozenset({8, 2, 5}), frozenset({8, 1, 4}), frozenset({0, 1, 6}), frozenset({1, 5, 7}), frozenset({1, 5, 6}), frozenset({0}), frozenset({2, 4}), frozenset({1, 2, 4}), frozenset({2, 7}), frozenset({0, 8, 4, 6}), frozenset({8, 1}), frozenset({2}), frozenset({0, 1, 4, 8}), frozenset({8, 1, 4, 5}), frozenset({0, 1, 5, 6}), frozenset({0, 8}), frozenset({4, 6}), frozenset({0, 1, 8}), frozenset({1, 4, 6}), frozenset({2, 5, 6}), frozenset({8, 2, 5, 6}), frozenset({2, 5}), frozenset({0, 2, 7}), frozenset({0, 2, 6}), frozenset({8, 2, 4}), frozenset({0, 2}), frozenset({8, 5, 6}), frozenset({1, 4, 5, 7}), frozenset({0, 1, 4, 6}), frozenset({0, 1, 4, 7}), frozenset({6}), frozenset({1, 7}), frozenset({0, 1, 5}), frozenset({1}), frozenset({0, 6}), frozenset({5})]\n",
      "D: [frozenset({0, 1, 2, 3, 4, 5, 6, 7, 8}), frozenset({1, 3, 6, 7, 8}), frozenset({1, 2, 3, 6, 7, 8}), frozenset({0, 1, 2, 3, 6, 7, 8}), frozenset({1, 2, 3, 4, 6, 7, 8}), frozenset({0, 1, 2, 3, 4, 5, 6}), frozenset({1, 3, 4, 5, 6, 7, 8}), frozenset({0, 1, 2, 3, 4, 5, 7}), frozenset({1, 2, 3, 5, 6, 7, 8}), frozenset({0, 1, 3, 4, 6, 7, 8}), frozenset({0, 1, 3, 6, 7, 8}), frozenset({0, 2, 3, 4, 5, 7, 8}), frozenset({0, 2, 3, 4, 5, 8}), frozenset({1, 3, 5, 6, 7, 8}), frozenset({0, 1, 2, 3, 4, 5}), frozenset({0, 2, 3, 4, 5, 6, 7}), frozenset({1, 3, 4, 6, 7, 8}), frozenset({0, 2, 3, 4, 5, 6, 8}), frozenset({3}), frozenset({0, 1, 3, 5, 6, 7, 8}), frozenset({0, 1, 2, 3, 4, 5, 8}), frozenset({0, 2, 3, 4, 5}), frozenset({0, 2, 3, 4, 5, 7}), frozenset({0, 2, 3, 4, 5, 6})]\n"
     ]
    },
    {
     "data": {
      "text/plain": [
       "frozenset({(0, 4)})"
      ]
     },
     "execution_count": 99,
     "metadata": {},
     "output_type": "execute_result"
    }
   ],
   "source": [
    "divs = set_division(M, e)\n",
    "divs_deletion = {x: set(frozenset(set(y) - set(e)) - {frozenset()} for y in divs[x]) for x in divs}\n",
    "\n",
    "for key, value in divs.items():\n",
    "    print(f\"{key}: {[relabel_flats[v] for v in value]}\")\n",
    "\n",
    "divs_contraction = {x: set(frozenset(set(y) - set(e)) for y in divs[x] if set(e).issubset(set(y))) - {frozenset()} for x in divs}\n",
    "e"
   ]
  },
  {
   "cell_type": "code",
   "execution_count": 100,
   "metadata": {
    "vscode": {
     "languageId": "sage"
    }
   },
   "outputs": [
    {
     "name": "stdout",
     "output_type": "stream",
     "text": [
      "A: {frozenset({(2, 3), (0, 7), (1, 2)}), frozenset({(0, 1), (0, 7)}), frozenset({(0, 1), (0, 7), (4, 5), (1, 2)}), frozenset({(0, 1), (0, 7), (1, 2), (6, 7)}), frozenset({(0, 7), (1, 2), (3, 4), (5, 6)}), frozenset({(2, 3), (4, 5), (1, 2), (5, 6)}), frozenset({(2, 3), (0, 7)}), frozenset({(2, 3), (0, 7), (4, 5), (1, 2)}), frozenset({(0, 7), (4, 5), (3, 4)}), frozenset({(6, 7), (5, 6)}), frozenset({(0, 1), (3, 4)}), frozenset({(0, 1), (4, 5), (2, 3)}), frozenset({(0, 1), (4, 5), (2, 3), (5, 6)}), frozenset({(0, 1), (6, 7), (3, 4)}), frozenset({(2, 3), (6, 7), (4, 5), (3, 4)}), frozenset({(0, 1), (4, 5), (3, 4)}), frozenset({(0, 1), (2, 3)}), frozenset({(2, 3), (3, 4)}), frozenset({(6, 7), (1, 2), (5, 6)}), frozenset({(2, 3), (6, 7), (5, 6), (3, 4)}), frozenset({(0, 1), (2, 3), (5, 6)}), frozenset({(0, 7), (1, 2), (6, 7)}), frozenset({(2, 3), (6, 7), (3, 4)}), frozenset({(6, 7), (4, 5)}), frozenset({(6, 7), (1, 2)}), frozenset({(2, 3), (0, 7), (1, 2), (5, 6)}), frozenset({(2, 3), (0, 7), (1, 2), (6, 7)}), frozenset({(5, 6), (3, 4)}), frozenset({(0, 1), (6, 7), (5, 6)}), frozenset({(2, 3), (4, 5)}), frozenset({(0, 7)}), frozenset({(0, 7), (1, 2), (6, 7), (3, 4)}), frozenset({(0, 1), (0, 7), (1, 2), (5, 6)}), frozenset({(3, 4)}), frozenset({(0, 1), (6, 7), (1, 2), (5, 6)}), frozenset({(4, 5), (3, 4)}), frozenset({(2, 3), (4, 5), (3, 4)}), frozenset({(0, 7), (6, 7)}), frozenset({(4, 5)}), frozenset({(0, 7), (1, 2)}), frozenset({(5, 6)}), frozenset({(0, 7), (1, 2), (5, 6)}), frozenset({(0, 1), (6, 7), (2, 3)}), frozenset({(2, 3), (5, 6), (3, 4)}), frozenset({(4, 5), (5, 6)}), frozenset({(6, 7), (4, 5), (1, 2), (3, 4)}), frozenset({(0, 1), (6, 7), (4, 5), (1, 2)}), frozenset({(4, 5), (1, 2), (3, 4), (5, 6)}), frozenset({(0, 1), (4, 5), (1, 2), (5, 6)}), frozenset({(6, 7), (1, 2), (3, 4)}), frozenset({(0, 1), (1, 2), (5, 6)}), frozenset({(2, 3), (6, 7)}), frozenset({(0, 1), (6, 7), (4, 5)}), frozenset({(4, 5), (5, 6), (3, 4)}), frozenset({(0, 1), (4, 5), (5, 6)}), frozenset({(0, 1), (0, 7), (4, 5)}), frozenset({(6, 7), (4, 5), (3, 4)}), frozenset({(2, 3), (5, 6)}), frozenset({(0, 1), (0, 7), (1, 2)}), frozenset({(0, 1), (0, 7), (3, 4)}), frozenset({(0, 1), (0, 7), (4, 5), (2, 3)}), frozenset({(4, 5), (1, 2), (5, 6)}), frozenset({(6, 7), (4, 5), (1, 2)}), frozenset({(0, 1), (5, 6), (3, 4)}), frozenset({(0, 1), (6, 7), (4, 5), (3, 4)}), frozenset({(0, 1), (4, 5), (5, 6), (3, 4)}), frozenset({(2, 3), (1, 2), (5, 6)}), frozenset({(0, 1), (0, 7), (6, 7)}), frozenset({(0, 7), (5, 6), (3, 4)}), frozenset({(0, 7), (4, 5), (1, 2), (3, 4)}), frozenset({(0, 7), (3, 4)}), frozenset({(2, 3), (0, 7), (4, 5)}), frozenset({(2, 3), (0, 7), (5, 6)}), frozenset({(2, 3), (0, 7), (6, 7)}), frozenset({(0, 1)}), frozenset({(2, 3), (4, 5), (1, 2)}), frozenset({(1, 2), (3, 4)}), frozenset({(0, 7), (1, 2), (3, 4)}), frozenset({(4, 5), (1, 2)}), frozenset({(0, 1), (6, 7), (5, 6), (3, 4)}), frozenset({(1, 2)}), frozenset({(0, 7), (5, 6)}), frozenset({(0, 1), (0, 7), (5, 6), (3, 4)}), frozenset({(0, 1), (6, 7), (2, 3), (5, 6)}), frozenset({(0, 1), (0, 7), (2, 3), (5, 6)}), frozenset({(2, 3), (0, 7), (6, 7), (3, 4)}), frozenset({(0, 1), (0, 7), (2, 3), (6, 7)}), frozenset({(2, 3), (0, 7), (5, 6), (3, 4)}), frozenset({(2, 3), (6, 7), (4, 5)}), frozenset({(0, 1), (5, 6)}), frozenset({(6, 7), (3, 4)}), frozenset({(0, 1), (0, 7), (5, 6)}), frozenset({(2, 3), (6, 7), (1, 2)}), frozenset({(0, 7), (6, 7), (3, 4)}), frozenset({(2, 3), (6, 7), (1, 2), (5, 6)}), frozenset({(6, 7), (5, 6), (3, 4)}), frozenset({(4, 5), (1, 2), (3, 4)}), frozenset({(2, 3), (1, 2)}), frozenset({(0, 1), (4, 5), (1, 2)}), frozenset({(0, 1), (6, 7)}), frozenset({(1, 2), (3, 4), (5, 6)}), frozenset({(0, 1), (6, 7), (1, 2)}), frozenset({(2, 3), (6, 7), (4, 5), (1, 2)}), frozenset({(0, 1), (1, 2)}), frozenset({(0, 1), (4, 5)}), frozenset({(6, 7), (1, 2), (3, 4), (5, 6)}), frozenset({(2, 3), (6, 7), (5, 6)}), frozenset({(2, 3), (0, 7), (4, 5), (3, 4)}), frozenset({(0, 7), (4, 5), (1, 2)}), frozenset({(0, 1), (6, 7), (4, 5), (2, 3)}), frozenset({(2, 3), (4, 5), (5, 6), (3, 4)}), frozenset({(0, 1), (0, 7), (6, 7), (3, 4)}), frozenset({(0, 1), (0, 7), (4, 5), (3, 4)}), frozenset({(6, 7)}), frozenset({(2, 3), (0, 7), (3, 4)}), frozenset({(0, 7), (4, 5)}), frozenset({(0, 1), (0, 7), (2, 3)}), frozenset({(1, 2), (5, 6)}), frozenset({(2, 3), (4, 5), (5, 6)}), frozenset({(2, 3)})}\n",
      "B: set()\n",
      "C: set()\n",
      "D: {frozenset({(0, 1), (0, 7), (6, 7), (1, 2), (4, 5), (5, 6)}), frozenset({(0, 7), (6, 7), (1, 2), (4, 5), (3, 4), (5, 6)}), frozenset({(0, 1), (0, 7), (6, 7), (4, 5), (5, 6)}), frozenset({(0, 7), (6, 7), (4, 5), (3, 4), (5, 6)}), frozenset({(2, 3), (0, 7), (6, 7), (4, 5), (3, 4), (5, 6)}), frozenset({(0, 1), (2, 3), (4, 5), (1, 2), (3, 4)}), frozenset({(0, 1), (1, 2), (2, 3), (3, 4)}), frozenset({(0, 1), (2, 3), (6, 7), (1, 2), (3, 4), (5, 6)}), frozenset({(0, 1), (2, 3), (6, 7), (1, 2), (4, 5), (3, 4)}), frozenset({(0, 1), (0, 7), (2, 3), (1, 2), (3, 4), (5, 6)}), frozenset({(0, 1), (0, 7), (1, 2), (3, 4), (2, 3), (6, 7), (4, 5), (5, 6)}), frozenset({(0, 1), (0, 7), (2, 3), (1, 2), (3, 4)}), frozenset({(0, 1), (0, 7), (2, 3), (1, 2), (4, 5), (3, 4)}), frozenset({(2, 3), (0, 7), (6, 7), (1, 2), (4, 5), (5, 6)}), frozenset({(2, 3), (0, 7), (6, 7), (4, 5), (5, 6)}), frozenset({(0, 7), (4, 5), (6, 7), (5, 6)}), frozenset({(0, 1), (2, 3), (4, 5), (1, 2), (3, 4), (5, 6)}), frozenset({(0, 1), (2, 3), (6, 7), (1, 2), (3, 4)}), frozenset({(0, 7), (6, 7), (1, 2), (4, 5), (5, 6)}), frozenset({(0, 1), (0, 7), (6, 7), (4, 5), (3, 4), (5, 6)}), frozenset({(0, 1), (2, 3), (1, 2), (3, 4), (5, 6)}), frozenset({(0, 1), (0, 7), (2, 3), (1, 2), (6, 7), (3, 4)}), frozenset({(0, 1), (0, 7), (2, 3), (6, 7), (4, 5), (5, 6)})}\n"
     ]
    }
   ],
   "source": [
    "for key, value in divs_contraction.items():\n",
    "    print(f\"{key}: {value}\")"
   ]
  },
  {
   "cell_type": "code",
   "execution_count": 101,
   "metadata": {
    "vscode": {
     "languageId": "sage"
    }
   },
   "outputs": [
    {
     "name": "stdout",
     "output_type": "stream",
     "text": [
      "A: [frozenset({0, 1}), frozenset({0, 1, 2, 7}), frozenset({0, 1, 2, 6}), frozenset({8, 1, 2, 4}), frozenset({1, 5}), frozenset({1, 2, 5, 7}), frozenset({8, 6}), frozenset({0, 4}), frozenset({0, 4, 6}), frozenset({0, 4, 7}), frozenset({4, 5}), frozenset({8, 4, 5, 6}), frozenset({0, 8, 5}), frozenset({1, 2, 6}), frozenset({4, 5, 6}), frozenset({2, 6}), frozenset({8, 1, 2, 5}), frozenset({0, 8, 6}), frozenset({1, 2, 4, 6}), frozenset({0, 1, 2, 8}), frozenset({4}), frozenset({0, 8, 2, 6}), frozenset({4, 7}), frozenset({1, 6}), frozenset({7}), frozenset({8, 1, 2}), frozenset({0, 5, 6}), frozenset({8, 4, 5}), frozenset({0, 2, 6, 7}), frozenset({8, 2, 4, 7}), frozenset({2, 4, 6}), frozenset({0, 8, 2}), frozenset({5, 6}), frozenset({0, 6, 7}), frozenset({8, 4, 7}), frozenset({0, 1, 7}), frozenset({0, 1, 4}), frozenset({0, 1, 5, 7}), frozenset({2, 6, 7}), frozenset({0, 8, 4, 7}), frozenset({1, 2, 4, 7}), frozenset({1, 4}), frozenset({8, 1, 5}), frozenset({2, 5, 7}), frozenset({8, 2}), frozenset({0, 8, 5, 6}), frozenset({0, 1, 5, 8}), frozenset({1, 4, 5, 6}), frozenset({5, 6, 7}), frozenset({8, 4, 6}), frozenset({2, 4, 7}), frozenset({2, 5, 6, 7}), frozenset({0, 7}), frozenset({8, 2, 4, 6}), frozenset({1, 2, 7}), frozenset({0, 5, 6, 7}), frozenset({8, 4, 5, 7}), frozenset({1, 4, 5}), frozenset({8, 5, 7}), frozenset({1, 2, 5}), frozenset({8, 2, 5, 7}), frozenset({1, 4, 7}), frozenset({0, 5, 7}), frozenset({0, 8, 5, 7}), frozenset({4, 5, 6, 7}), frozenset({0, 5}), frozenset({8, 2, 6}), frozenset({6, 7}), frozenset({1, 2, 5, 6}), frozenset({8, 4}), frozenset({5, 7}), frozenset({4, 5, 7}), frozenset({1, 2}), frozenset({8}), frozenset({8, 7}), frozenset({2, 4, 6, 7}), frozenset({0, 8, 2, 7}), frozenset({0, 8, 7}), frozenset({4, 6, 7}), frozenset({8, 5}), frozenset({0, 1, 2}), frozenset({8, 2, 7}), frozenset({0, 8, 4}), frozenset({0, 4, 6, 7}), frozenset({8, 2, 5}), frozenset({0, 1, 6}), frozenset({8, 1, 4}), frozenset({1, 5, 7}), frozenset({1, 5, 6}), frozenset({0}), frozenset({2, 4}), frozenset({1, 2, 4}), frozenset({2, 7}), frozenset({0, 8, 4, 6}), frozenset({2}), frozenset({8, 1}), frozenset({0, 1, 4, 8}), frozenset({0, 1, 5, 6}), frozenset({8, 1, 4, 5}), frozenset({0, 8}), frozenset({4, 6}), frozenset({0, 1, 8}), frozenset({2, 5, 6}), frozenset({1, 4, 6}), frozenset({8, 2, 5, 6}), frozenset({2, 5}), frozenset({0, 2, 7}), frozenset({8, 2, 4}), frozenset({0, 2, 6}), frozenset({0, 2}), frozenset({8, 5, 6}), frozenset({1, 4, 5, 7}), frozenset({0, 1, 4, 6}), frozenset({0, 1, 4, 7}), frozenset({6}), frozenset({1, 7}), frozenset({0, 1, 5}), frozenset({1}), frozenset({0, 6}), frozenset({5})]\n",
      "B: [frozenset({0, 4, 5, 6}), frozenset({0, 1, 4, 5, 6, 7}), frozenset({1, 4, 5, 6, 8}), frozenset({8, 1, 5, 6}), frozenset({0, 1, 4, 5}), frozenset({0, 1, 4, 7, 8}), frozenset({0, 4, 5, 6, 7}), frozenset({0, 2, 5}), frozenset({0, 1, 2, 5, 7, 8}), frozenset({1, 2, 4, 5, 6, 7}), frozenset({8, 6, 7}), frozenset({0, 2, 4, 7, 8}), frozenset({0, 8, 4, 5}), frozenset({8, 4, 6, 7}), frozenset({0, 1, 4, 5, 8}), frozenset({0, 1, 2, 6, 8}), frozenset({0, 2, 5, 6, 8}), frozenset({4, 5, 6, 7, 8}), frozenset({1, 4, 5, 7, 8}), frozenset({0, 4, 5, 7}), frozenset({0, 1, 5, 6, 7}), frozenset({8, 5, 6, 7}), frozenset({0, 1, 2, 4, 6}), frozenset({8, 1, 6}), frozenset({0, 2, 5, 6, 7, 8}), frozenset({0, 1, 2, 4}), frozenset({8, 1, 2, 6}), frozenset({0, 2, 4, 6}), frozenset({0, 1, 2, 4, 6, 7}), frozenset({1, 5, 6, 7}), frozenset({0, 1, 5, 7, 8}), frozenset({1, 4, 5, 6, 7}), frozenset({0, 1, 4, 5, 6, 8}), frozenset({2, 4, 5}), frozenset({0, 4, 5, 7, 8}), frozenset({0, 2, 6, 7, 8}), frozenset({0, 2, 4, 6, 7, 8}), frozenset({0, 2, 4, 6, 7}), frozenset({0, 1, 8, 7}), frozenset({1, 4, 6, 7}), frozenset({1, 2, 4, 5}), frozenset({0, 1, 2, 6, 7}), frozenset({1, 2, 4, 7, 8}), frozenset({8, 1, 2, 7}), frozenset({0, 1, 4, 5, 7}), frozenset({2, 4, 6, 7, 8}), frozenset({0, 1, 4, 5, 6}), frozenset({8, 1, 7}), frozenset({0, 5, 6, 7, 8}), frozenset({0, 1, 2, 5, 6}), frozenset({1, 2, 4, 5, 8}), frozenset({0, 1, 2, 5, 7}), frozenset({8, 1, 4, 7}), frozenset({0, 1, 6, 7}), frozenset({0, 1, 2, 4, 8}), frozenset({0, 1, 4, 6, 7}), frozenset({0, 1, 2, 4, 6, 8}), frozenset({1, 2, 6, 7}), frozenset({0, 2, 4}), frozenset({1, 6, 7}), frozenset({8, 1, 5, 7}), frozenset({0, 1, 2, 4, 7}), frozenset({1, 2, 4, 5, 7}), frozenset({0, 4, 6, 7, 8}), frozenset({0, 8, 6, 7}), frozenset({2, 4, 5, 6, 7}), frozenset({0, 2, 5, 7, 8}), frozenset({0, 1, 2, 5, 6, 8}), frozenset({1, 2, 5, 6, 7}), frozenset({2, 4, 5, 6, 8}), frozenset({8, 1, 4, 6}), frozenset({0, 4, 5, 6, 7, 8}), frozenset({0, 2, 5, 7}), frozenset({1, 2, 5, 7, 8}), frozenset({1, 2, 4, 5, 6, 8}), frozenset({2, 5, 6, 7, 8}), frozenset({0, 4, 5, 6, 8}), frozenset({0, 1, 2, 4, 7, 8}), frozenset({0, 1, 4, 6, 8}), frozenset({0, 1, 6, 8}), frozenset({1, 2, 4, 5, 6}), frozenset({0, 1, 2, 5, 8}), frozenset({0, 2, 4, 7}), frozenset({8, 2, 6, 7}), frozenset({2, 4, 5, 6}), frozenset({0, 8, 2, 5}), frozenset({2, 4, 5, 7}), frozenset({1, 2, 4, 6, 8}), frozenset({0, 1, 5, 6, 8}), frozenset({0, 2, 4, 6, 8}), frozenset({0, 1, 4, 5, 7, 8}), frozenset({0, 4, 5}), frozenset({0, 2, 5, 6, 7}), frozenset({1, 2, 4, 6, 7}), frozenset({2, 4, 5, 7, 8}), frozenset({0, 1, 2, 7, 8}), frozenset({0, 1, 2, 5}), frozenset({2, 4, 5, 6, 7, 8}), frozenset({1, 2, 5, 6, 8}), frozenset({0, 1, 2, 5, 6, 7}), frozenset({1, 2, 4, 5, 7, 8}), frozenset({0, 2, 5, 6}), frozenset({8, 2, 4, 5}), frozenset({0, 8, 2, 4})]\n",
      "C: [frozenset({0, 1}), frozenset({0, 1, 2, 7}), frozenset({0, 1, 2, 6}), frozenset({8, 1, 2, 4}), frozenset({1, 5}), frozenset({1, 2, 5, 7}), frozenset({0, 4}), frozenset({8, 6}), frozenset({0, 4, 6}), frozenset({0, 4, 7}), frozenset({4, 5}), frozenset({8, 4, 5, 6}), frozenset({0, 8, 5}), frozenset({4, 5, 6}), frozenset({1, 2, 6}), frozenset({2, 6}), frozenset({8, 1, 2, 5}), frozenset({0, 8, 6}), frozenset({1}), frozenset({1, 2, 4, 6}), frozenset({0, 1, 2, 8}), frozenset({4}), frozenset({0, 8, 2, 6}), frozenset({4, 7}), frozenset({1, 6}), frozenset({7}), frozenset({8, 1, 2}), frozenset({8, 4, 5}), frozenset({0, 5, 6}), frozenset({0, 2, 6, 7}), frozenset({8, 2, 4, 7}), frozenset({2, 4, 6}), frozenset({0, 8, 2}), frozenset({5, 6}), frozenset({0, 6, 7}), frozenset({8, 4, 7}), frozenset({0, 1, 7}), frozenset({0, 1, 4}), frozenset({0, 1, 5, 7}), frozenset({2, 6, 7}), frozenset({0, 8, 4, 7}), frozenset({1, 2, 4, 7}), frozenset({1, 4}), frozenset({8, 1, 5}), frozenset({2, 5, 7}), frozenset({0, 8, 5, 6}), frozenset({0, 1, 5, 8}), frozenset({1, 4, 5, 6}), frozenset({5, 6, 7}), frozenset({8, 4, 6}), frozenset({2, 4, 7}), frozenset({0, 6}), frozenset({2, 5, 6, 7}), frozenset({0, 7}), frozenset({8, 2, 4, 6}), frozenset({1, 2, 7}), frozenset({8, 4, 5, 7}), frozenset({0, 5, 6, 7}), frozenset({1, 4, 5}), frozenset({8, 5, 7}), frozenset({1, 2, 5}), frozenset({8, 2, 5, 7}), frozenset({1, 4, 7}), frozenset({0, 5, 7}), frozenset({0, 8, 5, 7}), frozenset({4, 5, 6, 7}), frozenset({0, 5}), frozenset({8, 2, 6}), frozenset({6, 7}), frozenset({1, 2, 5, 6}), frozenset({5, 7}), frozenset({4, 5, 7}), frozenset({8}), frozenset({1, 2}), frozenset({8, 7}), frozenset({2, 4, 6, 7}), frozenset({0, 8, 2, 7}), frozenset({0, 8, 7}), frozenset({8, 5}), frozenset({4, 6, 7}), frozenset({0, 1, 2}), frozenset({8, 2, 7}), frozenset({0, 8, 4}), frozenset({0, 4, 6, 7}), frozenset({8, 2, 5}), frozenset({8, 1, 4}), frozenset({0, 1, 6}), frozenset({1, 5, 7}), frozenset({1, 5, 6}), frozenset({0}), frozenset({2, 4}), frozenset({1, 2, 4}), frozenset({2, 7}), frozenset({0, 8, 4, 6}), frozenset({8, 1}), frozenset({2}), frozenset({0, 1, 4, 8}), frozenset({8, 1, 4, 5}), frozenset({0, 1, 5, 6}), frozenset({0, 8}), frozenset({4, 6}), frozenset({0, 1, 8}), frozenset({1, 4, 6}), frozenset({2, 5, 6}), frozenset({8, 2, 5, 6}), frozenset({2, 5}), frozenset({0, 2, 7}), frozenset({0, 2, 6}), frozenset({8, 2, 4}), frozenset({0, 2}), frozenset({8, 5, 6}), frozenset({1, 4, 5, 7}), frozenset({0, 1, 4, 6}), frozenset({0, 1, 4, 7}), frozenset({6}), frozenset({1, 7}), frozenset({0, 1, 5}), frozenset({8, 2}), frozenset({8, 4}), frozenset({5})]\n",
      "D: [frozenset({1, 4, 5, 6, 7, 8}), frozenset({0, 2, 4, 5, 7}), frozenset({0, 2, 4, 5, 6, 8}), frozenset({0, 2, 4, 5, 6, 7}), frozenset({0, 2, 4, 5, 7, 8}), frozenset({0, 2, 4, 5, 6}), frozenset({1, 2, 6, 7, 8}), frozenset({0, 1, 4, 6, 7, 8}), frozenset({0, 2, 4, 5, 8}), frozenset({0, 1, 5, 6, 7, 8}), frozenset({0, 1, 2, 6, 7, 8}), frozenset({1, 2, 4, 6, 7, 8}), frozenset({0, 1, 6, 7, 8}), frozenset({1, 4, 6, 7, 8}), frozenset({0, 2, 4, 5}), frozenset({0, 1, 2, 4, 5, 8}), frozenset({0, 1, 2, 4, 5, 6, 7, 8}), frozenset({0, 1, 2, 4, 5}), frozenset({0, 1, 2, 4, 5, 7}), frozenset({1, 2, 5, 6, 7, 8}), frozenset({1, 5, 6, 7, 8}), frozenset({8, 1, 6, 7}), frozenset({0, 1, 2, 4, 5, 6}), frozenset()]\n"
     ]
    }
   ],
   "source": [
    "deletion_flats = M.delete(e).lattice_of_flats().list()\n",
    "\n",
    "relabel_flats_deletion = {flat: frozenset({labels[element] for element in flat}) for flat in deletion_flats}\n",
    "\n",
    "for key, value in divs_deletion.items():\n",
    "    print(f\"{key}: {[relabel_flats_deletion[v] for v in value]}\")"
   ]
  },
  {
   "cell_type": "code",
   "execution_count": 102,
   "metadata": {
    "vscode": {
     "languageId": "sage"
    }
   },
   "outputs": [
    {
     "data": {
      "text/html": [
       "<div>\n",
       "<style scoped>\n",
       "    .dataframe tbody tr th:only-of-type {\n",
       "        vertical-align: middle;\n",
       "    }\n",
       "\n",
       "    .dataframe tbody tr th {\n",
       "        vertical-align: top;\n",
       "    }\n",
       "\n",
       "    .dataframe thead th {\n",
       "        text-align: right;\n",
       "    }\n",
       "</style>\n",
       "<table border=\"1\" class=\"dataframe\">\n",
       "  <thead>\n",
       "    <tr style=\"text-align: right;\">\n",
       "      <th></th>\n",
       "      <th>Subset</th>\n",
       "      <th>Sum at Subset</th>\n",
       "      <th>Sum at Subset Deletion</th>\n",
       "      <th>Sum at Subset Contraction</th>\n",
       "      <th>difference</th>\n",
       "    </tr>\n",
       "  </thead>\n",
       "  <tbody>\n",
       "    <tr>\n",
       "      <th>0</th>\n",
       "      <td>A</td>\n",
       "      <td>8*t + 8</td>\n",
       "      <td>28*t^2 - 28*t + 8</td>\n",
       "      <td>-8*t - 8</td>\n",
       "      <td>28*t^2 - 36*t</td>\n",
       "    </tr>\n",
       "    <tr>\n",
       "      <th>1</th>\n",
       "      <td>B</td>\n",
       "      <td>24*t - 16</td>\n",
       "      <td>24*t - 16</td>\n",
       "      <td>0</td>\n",
       "      <td>0</td>\n",
       "    </tr>\n",
       "    <tr>\n",
       "      <th>2</th>\n",
       "      <td>C</td>\n",
       "      <td>4*t^2 - 56*t</td>\n",
       "      <td>28*t^2 - 28*t + 8</td>\n",
       "      <td>0</td>\n",
       "      <td>24*t^2 + 28*t + 8</td>\n",
       "    </tr>\n",
       "    <tr>\n",
       "      <th>3</th>\n",
       "      <td>D</td>\n",
       "      <td>-10*t^3 - 36*t^2 - 17*t - 8</td>\n",
       "      <td>-28*t^2 + 4*t + 8</td>\n",
       "      <td>-4*t^2 - 4*t - 1</td>\n",
       "      <td>10*t^3 + 8*t^2 + 21*t + 16</td>\n",
       "    </tr>\n",
       "  </tbody>\n",
       "</table>\n",
       "</div>"
      ],
      "text/plain": [
       "  Subset                Sum at Subset Sum at Subset Deletion  \\\n",
       "0      A                      8*t + 8      28*t^2 - 28*t + 8   \n",
       "1      B                    24*t - 16              24*t - 16   \n",
       "2      C                 4*t^2 - 56*t      28*t^2 - 28*t + 8   \n",
       "3      D  -10*t^3 - 36*t^2 - 17*t - 8      -28*t^2 + 4*t + 8   \n",
       "\n",
       "  Sum at Subset Contraction                  difference  \n",
       "0                  -8*t - 8               28*t^2 - 36*t  \n",
       "1                         0                           0  \n",
       "2                         0           24*t^2 + 28*t + 8  \n",
       "3          -4*t^2 - 4*t - 1  10*t^3 + 8*t^2 + 21*t + 16  "
      ]
     },
     "metadata": {},
     "output_type": "display_data"
    }
   ],
   "source": [
    "def sum_at_Subset(S, M):\n",
    "    return sum((-1) ** M.rank(F) * kl(M.delete(M.groundset() - set(F))) * kl_inverse_fast(M.contract(F)) for F in S)\n",
    "\n",
    "results = {\n",
    "        'Subset': [],\n",
    "        'Sum at Subset': [],\n",
    "        'Sum at Subset Deletion': [],\n",
    "        'Sum at Subset Contraction': [],\n",
    "        'difference': []\n",
    "    }\n",
    "\n",
    "for x in divs:\n",
    "    results['Subset'].append(x)\n",
    "    results['Sum at Subset'].append(sum_at_Subset(divs[x], M))\n",
    "    results['Sum at Subset Deletion'].append(sum_at_Subset(divs_deletion[x], M.delete(e)))\n",
    "    results['Sum at Subset Contraction'].append(sum_at_Subset(divs_contraction[x], M.contract(e)))\n",
    "    results['difference'].append(results['Sum at Subset Deletion'][-1] - results['Sum at Subset'][-1])\n",
    "\n",
    "results_df = pd.DataFrame(results)\n",
    "display(results_df)"
   ]
  },
  {
   "cell_type": "code",
   "execution_count": 104,
   "metadata": {
    "vscode": {
     "languageId": "sage"
    }
   },
   "outputs": [
    {
     "name": "stdout",
     "output_type": "stream",
     "text": [
      "-4*t^3 + 9*t\n"
     ]
    }
   ],
   "source": [
    "print(kl_inverse_fast(M) - kl_inverse_fast(M.delete(e)) - kl_inverse_fast(M.contract(e)))"
   ]
  },
  {
   "cell_type": "code",
   "execution_count": 105,
   "metadata": {
    "vscode": {
     "languageId": "sage"
    }
   },
   "outputs": [
    {
     "name": "stdout",
     "output_type": "stream",
     "text": [
      "kl_inverse_fast(M): 10*t^3 + 32*t^2 + 41*t + 16\n",
      "kl_inverse_fast(M.delete(e)): 14*t^3 + 28*t^2 + 20*t + 7\n",
      "kl_inverse_fast(M.contract(e)): 4*t^2 + 12*t + 9\n"
     ]
    }
   ],
   "source": [
    "print(f\"kl_inverse_fast(M): {kl_inverse_fast(M)}\")\n",
    "print(f\"kl_inverse_fast(M.delete(e)): {kl_inverse_fast(M.delete(e))}\")\n",
    "print(f\"kl_inverse_fast(M.contract(e)): {kl_inverse_fast(M.contract(e))}\")"
   ]
  }
 ],
 "metadata": {
  "kernelspec": {
   "display_name": "SageMath 10.3",
   "language": "sage",
   "name": "sagemath"
  },
  "language_info": {
   "codemirror_mode": {
    "name": "ipython",
    "version": 3
   },
   "file_extension": ".py",
   "mimetype": "text/x-python",
   "name": "python",
   "nbconvert_exporter": "python",
   "pygments_lexer": "ipython3",
   "version": "3.11.9"
  }
 },
 "nbformat": 4,
 "nbformat_minor": 2
}
