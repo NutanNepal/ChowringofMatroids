{
 "cells": [
  {
   "cell_type": "code",
   "execution_count": 137,
   "metadata": {
    "vscode": {
     "languageId": "sage"
    }
   },
   "outputs": [],
   "source": [
    "import sys\n",
    "sys.path.append('..')\n",
    "from db1 import *\n",
    "\n",
    "import networkx as nx\n",
    "import ipycytoscape\n",
    "\n",
    "R = PolynomialRing(QQ, 't')\n",
    "S = PolynomialRing(ZZ, 't')\n",
    "t = R.gen()\n",
    "\n",
    "def is_paving(M):\n",
    "    n = M.size()\n",
    "    r = M.rank()\n",
    "    return (len(M.independent_r_sets(r-1)) == binomial(n, r-1))\n",
    "\n",
    "def q_kl(k, h):\n",
    "    return kazhdan_lusztig_inverse_uniform(k, h+1) - kazhdan_lusztig_inverse_uniform(k-1, h)\n",
    "\n",
    "def kl_inverse_fast(M):\n",
    "    if M.loops(): return R(0)\n",
    "    k, n = M.rank(), M.size()\n",
    "    if k == n or k == 0: return R(1)\n",
    "    if not M.is_connected():\n",
    "        ans = R(1)\n",
    "        CC = M.components()\n",
    "        for N in CC:\n",
    "            res = M.delete(M.groundset() - N)\n",
    "            ans = ans * kl_inverse_fast(res)\n",
    "        return ans\n",
    "\n",
    "    if is_paving(M):\n",
    "        return kl_inverse_paving(M)\n",
    "    if is_paving(M.dual()):\n",
    "        return kl_inverse_copaving(M)\n",
    "    \"\"\"\n",
    "    if n <= 8 and M.is_connected():\n",
    "        for i in range(len(mat[n][k])):\n",
    "            if mat[n][k][i].is_isomorphic(M):\n",
    "                return ikl[n][k][i]\n",
    "    \"\"\"\n",
    "    LF = M.lattice_of_flats()\n",
    "    ans = R(0)\n",
    "    for F in LF:\n",
    "        if len(F) != n:\n",
    "            Res = M.delete(M.groundset() - F)\n",
    "            Con = M.contract(F)\n",
    "            chi = characteristic_polynomial(Con)(1/t) * t**(Con.rank())\n",
    "            PPP = kl_inverse_fast(Res)(t) * (-1)**(Res.rank())\n",
    "            ans = ans + chi * PPP\n",
    "    assert (t**k * ans(1/t)).numerator() == -ans(t)\n",
    "    ans = ans.numerator() * (-1)**(k+1)\n",
    "    return ans.truncate((k+1)//2)\n",
    "\n",
    "def kazhdan_lusztig_inverse_uniform(k, n):\n",
    "    if k == n:\n",
    "        return R(1)\n",
    "    d = k\n",
    "    m = n - d\n",
    "    ans = 0\n",
    "    for j in range((d-1)//2 + 1):\n",
    "        ans = ans + m * (d-2*j)/((m+j) * (m+d-j)) * binomial(d, j) * t**j\n",
    "    return ans * binomial(m+d, d)\n",
    "\n",
    "def kl_inverse_paving(M):\n",
    "    assert is_paving(M)\n",
    "    n = M.size()\n",
    "    k = M.rank()\n",
    "    ans = kazhdan_lusztig_inverse_uniform(k, n)\n",
    "    for H in M.hyperplanes():\n",
    "        h = len(H)\n",
    "        if h >= k:\n",
    "            ans = ans - q_kl(k, h)\n",
    "    return ans\n",
    "\n",
    "def kl_inverse_copaving(M):\n",
    "    assert is_paving(M.dual())\n",
    "    n = M.size()\n",
    "    k = M.rank()\n",
    "    ans = kazhdan_lusztig_inverse_uniform(k, n)\n",
    "    for H in M.dual().hyperplanes():\n",
    "        h = len(H)\n",
    "        if h >= n-k:\n",
    "            ans = ans - kli_vtilde_dual(n-k, h, n) + kazhdan_lusztig_inverse_uniform(h-n+k+1, h) * kazhdan_lusztig_inverse_uniform(n-h-1, n-h)\n",
    "    return ans\n",
    "\n",
    "def kli_vtilde_dual(k, h, n):\n",
    "    return helper1(n-k, h, n)\n",
    "\n",
    "def helper1(k, h, n):\n",
    "    c = n - h\n",
    "    ans1 = kazhdan_lusztig_inverse_uniform(k, n)\n",
    "    ans2 = helper2(c, k, n)\n",
    "    ans3 = kazhdan_lusztig_inverse_uniform(k-c+1, h) * kazhdan_lusztig_inverse_uniform(c-1, c)\n",
    "    return ans1 - ans2 + ans3\n",
    "\n",
    "def helper2(c, k, n):\n",
    "    h = n - c\n",
    "    ans = 0\n",
    "    for j in range(k-c+1):\n",
    "        ans = ans + binomial(n-c, j) * (-1)**(c-1+j) * kazhdan_lusztig_inverse_uniform(c-1, c) * t**(k-c-j+1) * chuly(k-c-j+1, n-c-j)(1/t)\n",
    "    for i in range(c-1):\n",
    "        for j in range(k-i):\n",
    "            ans = ans + binomial(c, i) * binomial(n-c, j) * (-1)**(i+j) * t**(k-i-j) * helper4(c, k, n, i, j)(1/t)\n",
    "    ans = ans.numerator().truncate((k-1)//2 + 1)\n",
    "    if ans[0] < 0:\n",
    "        ans = -ans\n",
    "    return ans\n",
    "\n",
    "def helper3(c, k, n):\n",
    "    ans = 0\n",
    "    for j in range(k-c+1):\n",
    "        ans = ans + binomial(n-c, j) * uniformKLpoly(c-1, c) * (-1)**(k-c-j+1) * kazhdan_lusztig_inverse_uniform(k-c-j+1, n-c-j)\n",
    "    for i in range(c-1):\n",
    "        for j in range(k-i):\n",
    "            ans = ans + binomial(c, i) * binomial(n-c, j) * (-1)**(k-i-j) * helper2(c-i, k-i-j, n-i-j)\n",
    "    return -ans\n",
    "\n",
    "def helper4(c, k, n, i, j):\n",
    "    ans = 0\n",
    "    for l in range(c-i-1):\n",
    "        ans = ans + (-1)**l * (t-1)**(max(n-i-j-l-1, 0))\n",
    "    for u in range(n-k-1):\n",
    "        ans = doit_once(ans)\n",
    "    return ans\n",
    "\n",
    "def chuly(a, b):\n",
    "    ans = (t-1)**b\n",
    "    for i in range(b-a):\n",
    "        ans = doit_once(ans)\n",
    "    return ans\n",
    "\n",
    "def doit_once(p):\n",
    "    p = p // t**2\n",
    "    p = p * t\n",
    "    p = p - p(1)\n",
    "    return p\n",
    "\n",
    "def lorenzo(k, h, n):\n",
    "    c = n - h\n",
    "    ans1 = uniformKLpoly(k, n) + uniformKLpoly(k-c+1, h) * uniformKLpoly(c-1, c)\n",
    "    ans2 = helper3(c, k, n)\n",
    "    return ans1 - ans2"
   ]
  },
  {
   "cell_type": "code",
   "execution_count": 138,
   "metadata": {
    "vscode": {
     "languageId": "sage"
    }
   },
   "outputs": [],
   "source": [
    "invkl = kl_inverse_fast\n",
    "\n",
    "def kl(M):\n",
    "    return M.lattice_of_flats().kazhdan_lusztig_polynomial()(t)\n",
    "\n",
    "def parallel_connection(m, n):\n",
    "    G = graphs.CycleGraph(m + n - 2)\n",
    "    G.add_edge(0, m-1)\n",
    "    edge_e = frozenset({(0, m - 1)})\n",
    "    return G, edge_e\n",
    "\n",
    "def qhat(M):\n",
    "    return (-1) ^ M.rank() * invkl(M)\n",
    "\n",
    "def uniformQhat(r, n):\n",
    "    return (-1) ^ r * uniformQpoly(r, n)\n",
    "\n",
    "def sum_prhc(M, S):\n",
    "    return sum(kl(M.delete(M.groundset() - set(F))) * \\\n",
    "            qhat(M.contract(F)) for F in S)\n",
    "\n",
    "def sum_pchr(M, S):\n",
    "    return sum(qhat(M.delete(M.groundset() - set(F))) * \\\n",
    "            kl(M.contract(F)) for F in S)\n",
    "\n",
    "def set_division(M, e):\n",
    "    L = M.lattice_of_flats()\n",
    "    divs = {'A': set(), 'B': set(), 'C': set(), 'D': set()}\n",
    "    for x in L[1:]:\n",
    "        if set(e).issubset(set(x)):\n",
    "            if frozenset(set(x) - set(e)) in L:\n",
    "                divs['A'].add(x)\n",
    "            else:\n",
    "                divs['D'].add(x)\n",
    "        else:\n",
    "            if frozenset(set(x) | set(e)) in L:\n",
    "                divs['C'].add(x)\n",
    "            else:\n",
    "                divs['B'].add(x)\n",
    "    return divs\n",
    "\n",
    "def prhc_at_flats(M, L):\n",
    "    return {F: kl(M.delete(M.groundset() - set(F))) * qhat(M.contract(F)) for F in L}"
   ]
  },
  {
   "cell_type": "code",
   "execution_count": 139,
   "metadata": {
    "vscode": {
     "languageId": "sage"
    }
   },
   "outputs": [],
   "source": [
    "def leading_term(p):\n",
    "    return p.leading_coefficient() * t ** p.degree()\n",
    "\n",
    "def lt(M):\n",
    "    r = M.rank()\n",
    "    if r % 2 == 1:\n",
    "        return leading_term(kl_inverse_fast(M))\n",
    "    else:\n",
    "        return 0\n",
    "\n",
    "def circuits_containing_element(M, e):\n",
    "    circuits_with_e = [circuit for circuit in M.circuits() if e.issubset(set(circuit))]\n",
    "    return circuits_with_e\n",
    "\n",
    "def sum_at_Circuits(M, C):\n",
    "    sum = 0\n",
    "    for c in C:\n",
    "        sum += t * kl_inverse_fast(M.contract(c)) *\\\n",
    "        lt(M.delete(M.groundset() - c).contract(e))\n",
    "    return sum"
   ]
  },
  {
   "cell_type": "code",
   "execution_count": null,
   "metadata": {
    "vscode": {
     "languageId": "sage"
    }
   },
   "outputs": [],
   "source": [
    "import networkx as nx\n",
    "import ipycytoscape\n",
    "import json\n",
    "\n",
    "def interactive_graph(M):\n",
    "    L = M.lattice_of_flats()\n",
    "    G = nx.DiGraph()\n",
    "\n",
    "    rank_colors = ['#DFDF00', '#00F0F0', '#FFFF00', '#FFD0DF']\n",
    "    prhc_vals = prhc_at_flats(M, list(L))\n",
    "\n",
    "    flat_to_label = {flat: f\"{i}: {prhc_vals.get(flat, 0)}\" for i, flat in enumerate(L)}\n",
    "    for flat, label in flat_to_label.items():\n",
    "        G.add_node(label, rank=M.rank(flat), color=rank_colors[M.rank(flat) % len(rank_colors)])\n",
    "\n",
    "    for x, y in L.cover_relations():\n",
    "        G.add_edge(flat_to_label[y], flat_to_label[x])\n",
    "\n",
    "    # Convert the graph to Cytoscape.js format\n",
    "    cyto_data = {\n",
    "        \"nodes\": [{\"data\": {\"id\": node, \"label\": node, \"color\": data.get(\"color\", \"#000000\")}} for node, data in G.nodes(data=True)],\n",
    "        \"edges\": [{\"data\": {\"source\": u, \"target\": v}} for u, v in G.edges()]\n",
    "    }\n",
    "\n",
    "    # Create a Cytoscape widget\n",
    "    cyto_graph = ipycytoscape.CytoscapeWidget()\n",
    "    cyto_graph.graph.add_graph_from_networkx(G)\n",
    "\n",
    "    # Apply styling\n",
    "    style = [\n",
    "        {\n",
    "            'selector': 'node',\n",
    "            'style': {\n",
    "                'label': 'data(id)',\n",
    "                'background-color': 'data(color)',\n",
    "                'text-valign': 'center',\n",
    "                'text-halign': 'center',\n",
    "                'color': 'black',\n",
    "                'font-size': '5px',\n",
    "                'width': 20,\n",
    "                'height': 20\n",
    "            }\n",
    "        },\n",
    "        {\n",
    "            'selector': 'edge',\n",
    "            'style': {\n",
    "                'curve-style': 'straight',\n",
    "                'width': 1,\n",
    "                'line-color': '#999',\n",
    "                'target-arrow-color': '#0000',\n",
    "                'target-arrow-shape': 'none'\n",
    "            }\n",
    "        }\n",
    "    ]\n",
    "    cyto_graph.set_style(style)\n",
    "\n",
    "    # Position nodes using multipartite_layout\n",
    "    pos = nx.multipartite_layout(G, subset_key='rank', align='horizontal', scale=1.5)\n",
    "    for node in cyto_graph.graph.nodes:\n",
    "        node.position = {'x': pos[node.data['id']][0] * 100 * M.rank(), 'y': -pos[node.data['id']][1] * 200 * M.rank()}\n",
    "\n",
    "    cyto_graph.set_layout(name='preset')\n",
    "\n",
    "    return cyto_graph"
   ]
  },
  {
   "cell_type": "code",
   "execution_count": 141,
   "metadata": {
    "notebookRunGroups": {
     "groupValue": "1"
    },
    "vscode": {
     "languageId": "sage"
    }
   },
   "outputs": [
    {
     "data": {
      "application/vnd.jupyter.widget-view+json": {
       "model_id": "0e0a2905be1d4c22a0812de1364f5b05",
       "version_major": 2,
       "version_minor": 0
      },
      "text/plain": [
       "CytoscapeWidget(cytoscape_layout={'name': 'preset'}, cytoscape_style=[{'selector': 'node', 'style': {'label': 'data(id)', 'background-color': 'data(color)', 'text-valign': 'center', 'text-halign': 'center', 'color': 'black', 'font-size': '5px', 'width': 20, 'height': 20}}, {'selector': 'edge', 'style': {'curve-style': 'straight', 'width': 1, 'line-color': '#999', 'target-arrow-color': '#0000', 'target-arrow-shape': 'none'}}], graph=Graph(edges=[Edge(classes=' directed ', data={'source': '1: -t - 4', 'target': '0: 5*t + 6'}), Edge(classes=' directed ', data={'source': '2: -2', 'target': '0: 5*t + 6'}), Edge(classes=' directed ', data={'source': '3: 1', 'target': '1: -t - 4'}), Edge(classes=' directed ', data={'source': '3: 1', 'target': '2: -2'}), Edge(classes=' directed ', data={'source': '4: -t - 4', 'target': '0: 5*t + 6'}), Edge(classes=' directed ', data={'source': '5: 2', 'target': '1: -t - 4'}), Edge(classes=' directed ', data={'source': '5: 2', 'target': '4: -t - 4'}), Edge(classes=' directed ', data={'source': '6: 1', 'target': '2: -2'}), Edge(classes=' directed ', data={'source': '6: 1', 'target': '4: -t - 4'}), Edge(classes=' directed ', data={'source': '7: -2*t - 3', 'target': '0: 5*t + 6'}), Edge(classes=' directed ', data={'source': '8: 2', 'target': '1: -t - 4'}), Edge(classes=' directed ', data={'source': '8: 2', 'target': '7: -2*t - 3'}), Edge(classes=' directed ', data={'source': '9: 2', 'target': '4: -t - 4'}), Edge(classes=' directed ', data={'source': '9: 2', 'target': '7: -2*t - 3'}), Edge(classes=' directed ', data={'source': '10: -1', 'target': '5: 2'}), Edge(classes=' directed ', data={'source': '10: -1', 'target': '8: 2'}), Edge(classes=' directed ', data={'source': '10: -1', 'target': '9: 2'}), Edge(classes=' directed ', data={'source': '11: -2*t - 3', 'target': '0: 5*t + 6'}), Edge(classes=' directed ', data={'source': '12: 2', 'target': '1: -t - 4'}), Edge(classes=' directed ', data={'source': '12: 2', 'target': '11: -2*t - 3'}), Edge(classes=' directed ', data={'source': '13: 2', 'target': '2: -2'}), Edge(classes=' directed ', data={'source': '13: 2', 'target': '7: -2*t - 3'}), Edge(classes=' directed ', data={'source': '13: 2', 'target': '11: -2*t - 3'}), Edge(classes=' directed ', data={'source': '14: -1', 'target': '3: 1'}), Edge(classes=' directed ', data={'source': '14: -1', 'target': '8: 2'}), Edge(classes=' directed ', data={'source': '14: -1', 'target': '12: 2'}), Edge(classes=' directed ', data={'source': '14: -1', 'target': '13: 2'}), Edge(classes=' directed ', data={'source': '15: 2', 'target': '4: -t - 4'}), Edge(classes=' directed ', data={'source': '15: 2', 'target': '11: -2*t - 3'}), Edge(classes=' directed ', data={'source': '16: -1', 'target': '6: 1'}), Edge(classes=' directed ', data={'source': '16: -1', 'target': '9: 2'}), Edge(classes=' directed ', data={'source': '16: -1', 'target': '13: 2'}), Edge(classes=' directed ', data={'source': '16: -1', 'target': '15: 2'}), Edge(classes=' directed ', data={'source': '17: -1', 'target': '5: 2'}), Edge(classes=' directed ', data={'source': '17: -1', 'target': '12: 2'}), Edge(classes=' directed ', data={'source': '17: -1', 'target': '15: 2'}), Edge(classes=' directed ', data={'source': '18: -t - 4', 'target': '0: 5*t + 6'}), Edge(classes=' directed ', data={'source': '19: 2', 'target': '1: -t - 4'}), Edge(classes=' directed ', data={'source': '19: 2', 'target': '18: -t - 4'}), Edge(classes=' directed ', data={'source': '20: 1', 'target': '2: -2'}), Edge(classes=' directed ', data={'source': '20: 1', 'target': '18: -t - 4'}), Edge(classes=' directed ', data={'source': '21: 2', 'target': '11: -2*t - 3'}), Edge(classes=' directed ', data={'source': '21: 2', 'target': '18: -t - 4'}), Edge(classes=' directed ', data={'source': '22: -1', 'target': '12: 2'}), Edge(classes=' directed ', data={'source': '22: -1', 'target': '19: 2'}), Edge(classes=' directed ', data={'source': '22: -1', 'target': '21: 2'}), Edge(classes=' directed ', data={'source': '23: 2', 'target': '4: -t - 4'}), Edge(classes=' directed ', data={'source': '23: 2', 'target': '18: -t - 4'}), Edge(classes=' directed ', data={'source': '24: -1', 'target': '15: 2'}), Edge(classes=' directed ', data={'source': '24: -1', 'target': '21: 2'}), Edge(classes=' directed ', data={'source': '24: -1', 'target': '23: 2'}), Edge(classes=' directed ', data={'source': '25: -2*t - 1', 'target': '3: 1'}), Edge(classes=' directed ', data={'source': '25: -2*t - 1', 'target': '5: 2'}), Edge(classes=' directed ', data={'source': '25: -2*t - 1', 'target': '6: 1'}), Edge(classes=' directed ', data={'source': '25: -2*t - 1', 'target': '19: 2'}), Edge(classes=' directed ', data={'source': '25: -2*t - 1', 'target': '20: 1'}), Edge(classes=' directed ', data={'source': '25: -2*t - 1', 'target': '23: 2'}), Edge(classes=' directed ', data={'source': '26: 2', 'target': '7: -2*t - 3'}), Edge(classes=' directed ', data={'source': '26: 2', 'target': '18: -t - 4'}), Edge(classes=' directed ', data={'source': '27: -1', 'target': '13: 2'}), Edge(classes=' directed ', data={'source': '27: -1', 'target': '20: 1'}), Edge(classes=' directed ', data={'source': '27: -1', 'target': '21: 2'}), Edge(classes=' directed ', data={'source': '27: -1', 'target': '26: 2'}), Edge(classes=' directed ', data={'source': '28: -1', 'target': '9: 2'}), Edge(classes=' directed ', data={'source': '28: -1', 'target': '23: 2'}), Edge(classes=' directed ', data={'source': '28: -1', 'target': '26: 2'}), Edge(classes=' directed ', data={'source': '29: -1', 'target': '8: 2'}), Edge(classes=' directed ', data={'source': '29: -1', 'target': '19: 2'}), Edge(classes=' directed ', data={'source': '29: -1', 'target': '26: 2'}), Edge(classes=' directed ', data={'source': '30: 4*t + 1', 'target': '10: -1'}), Edge(classes=' directed ', data={'source': '30: 4*t + 1', 'target': '14: -1'}), Edge(classes=' directed ', data={'source': '30: 4*t + 1', 'target': '16: -1'}), Edge(classes=' directed ', data={'source': '30: 4*t + 1', 'target': '17: -1'}), Edge(classes=' directed ', data={'source': '30: 4*t + 1', 'target': '22: -1'}), Edge(classes=' directed ', data={'source': '30: 4*t + 1', 'target': '24: -1'}), Edge(classes=' directed ', data={'source': '30: 4*t + 1', 'target': '25: -2*t - 1'}), Edge(classes=' directed ', data={'source': '30: 4*t + 1', 'target': '27: -1'}), Edge(classes=' directed ', data={'source': '30: 4*t + 1', 'target': '28: -1'}), Edge(classes=' directed ', data={'source': '30: 4*t + 1', 'target': '29: -1'})], nodes=[Node(data={'rank': 0, 'color': '#DFDF00', 'id': '0: 5*t + 6'}, position={'x': 0.0, 'y': 425.8064516129032}), Node(data={'rank': 1, 'color': '#00F0F0', 'id': '1: -t - 4'}, position={'x': 250.0, 'y': 225.8064516129032}), Node(data={'rank': 1, 'color': '#00F0F0', 'id': '2: -2'}, position={'x': 150.0, 'y': 225.8064516129032}), Node(data={'rank': 2, 'color': '#FFFF00', 'id': '3: 1'}, position={'x': 600.0, 'y': 25.806451612903224}), Node(data={'rank': 1, 'color': '#00F0F0', 'id': '4: -t - 4'}, position={'x': 50.0, 'y': 225.8064516129032}), Node(data={'rank': 2, 'color': '#FFFF00', 'id': '5: 2'}, position={'x': 500.0, 'y': 25.806451612903224}), Node(data={'rank': 2, 'color': '#FFFF00', 'id': '6: 1'}, position={'x': 400.0, 'y': 25.806451612903224}), Node(data={'rank': 1, 'color': '#00F0F0', 'id': '7: -2*t - 3'}, position={'x': -50.0, 'y': 225.8064516129032}), Node(data={'rank': 2, 'color': '#FFFF00', 'id': '8: 2'}, position={'x': 300.0, 'y': 25.806451612903224}), Node(data={'rank': 2, 'color': '#FFFF00', 'id': '9: 2'}, position={'x': 200.0, 'y': 25.806451612903224}), Node(data={'rank': 3, 'color': '#FFD0DF', 'id': '10: -1'}, position={'x': 450.0, 'y': -174.19354838709677}), Node(data={'rank': 1, 'color': '#00F0F0', 'id': '11: -2*t - 3'}, position={'x': -150.0, 'y': 225.8064516129032}), Node(data={'rank': 2, 'color': '#FFFF00', 'id': '12: 2'}, position={'x': 100.0, 'y': 25.806451612903224}), Node(data={'rank': 2, 'color': '#FFFF00', 'id': '13: 2'}, position={'x': 0.0, 'y': 25.806451612903224}), Node(data={'rank': 3, 'color': '#FFD0DF', 'id': '14: -1'}, position={'x': 350.0, 'y': -174.19354838709677}), Node(data={'rank': 2, 'color': '#FFFF00', 'id': '15: 2'}, position={'x': -100.0, 'y': 25.806451612903224}), Node(data={'rank': 3, 'color': '#FFD0DF', 'id': '16: -1'}, position={'x': 250.0, 'y': -174.19354838709677}), Node(data={'rank': 3, 'color': '#FFD0DF', 'id': '17: -1'}, position={'x': 150.0, 'y': -174.19354838709677}), Node(data={'rank': 1, 'color': '#00F0F0', 'id': '18: -t - 4'}, position={'x': -250.0, 'y': 225.8064516129032}), Node(data={'rank': 2, 'color': '#FFFF00', 'id': '19: 2'}, position={'x': -200.0, 'y': 25.806451612903224}), Node(data={'rank': 2, 'color': '#FFFF00', 'id': '20: 1'}, position={'x': -300.0, 'y': 25.806451612903224}), Node(data={'rank': 2, 'color': '#FFFF00', 'id': '21: 2'}, position={'x': -400.0, 'y': 25.806451612903224}), Node(data={'rank': 3, 'color': '#FFD0DF', 'id': '22: -1'}, position={'x': 50.0, 'y': -174.19354838709677}), Node(data={'rank': 2, 'color': '#FFFF00', 'id': '23: 2'}, position={'x': -500.0, 'y': 25.806451612903224}), Node(data={'rank': 3, 'color': '#FFD0DF', 'id': '24: -1'}, position={'x': -50.0, 'y': -174.19354838709677}), Node(data={'rank': 3, 'color': '#FFD0DF', 'id': '25: -2*t - 1'}, position={'x': -150.0, 'y': -174.19354838709677}), Node(data={'rank': 2, 'color': '#FFFF00', 'id': '26: 2'}, position={'x': -600.0, 'y': 25.806451612903224}), Node(data={'rank': 3, 'color': '#FFD0DF', 'id': '27: -1'}, position={'x': -250.0, 'y': -174.19354838709677}), Node(data={'rank': 3, 'color': '#FFD0DF', 'id': '28: -1'}, position={'x': -350.0, 'y': -174.19354838709677}), Node(data={'rank': 3, 'color': '#FFD0DF', 'id': '29: -1'}, position={'x': -450.0, 'y': -174.19354838709677}), Node(data={'rank': 4, 'color': '#DFDF00', 'id': '30: 4*t + 1'}, position={'x': 0.0, 'y': -374.1935483870968})]), rendered_position={'renderedPosition': {'x': 100, 'y': 100}})"
      ]
     },
     "execution_count": 141,
     "metadata": {},
     "output_type": "execute_result"
    }
   ],
   "source": [
    "m, n = 4, 3\n",
    "\n",
    "G, e = parallel_connection(m, n)\n",
    "M = Matroid(G)\n",
    "\n",
    "interactive_graph(M)"
   ]
  },
  {
   "cell_type": "code",
   "execution_count": null,
   "metadata": {
    "vscode": {
     "languageId": "sage"
    }
   },
   "outputs": [
    {
     "name": "stdout",
     "output_type": "stream",
     "text": [
      "HTML file saved as graph_pcr4-3.html\n"
     ]
    }
   ],
   "source": [
    "def save_to_html(m, n, M):\n",
    "    # Generate the JSON data\n",
    "    L = M.lattice_of_flats()\n",
    "    G = nx.DiGraph()\n",
    "\n",
    "    rank_colors = ['#DFDF00', '#00F0F0', '#FFFF00', '#FFD0DF']\n",
    "    prhc_vals = prhc_at_flats(M, list(L))\n",
    "\n",
    "    flat_to_label = {flat: f\"{i}: {prhc_vals.get(flat, 0)}\" for i, flat in enumerate(L)}\n",
    "    for flat, label in flat_to_label.items():\n",
    "        G.add_node(label, rank=M.rank(flat), color=rank_colors[M.rank(flat) % len(rank_colors)])\n",
    "\n",
    "    for x, y in L.cover_relations():\n",
    "        G.add_edge(flat_to_label[y], flat_to_label[x])\n",
    "\n",
    "    # Calculate positions using multipartite_layout\n",
    "    pos = nx.multipartite_layout(G, subset_key='rank', align='horizontal', scale=1.5)\n",
    "\n",
    "    # Scale and transform positions for Cytoscape.js\n",
    "    scaled_pos = {node: {'x': pos[node][0] * 300, 'y': -pos[node][1] * 400} for node in pos}\n",
    "\n",
    "    # Convert the graph to Cytoscape.js format\n",
    "    cyto_data = {\n",
    "        \"nodes\": [{\"data\": {\"id\": node, \"label\": node, \"color\": data.get(\"color\", \"#000000\")},\n",
    "        \"position\": scaled_pos[node]} for node, data in G.nodes(data=True)],\n",
    "        \"edges\": [{\"data\": {\"source\": u, \"target\": v}} for u, v in G.edges()]\n",
    "    }\n",
    "\n",
    "    # Save the data to a JSON file\n",
    "    with open(f\"graph_data_pcr{m}-{n}.json\", \"w\") as f:\n",
    "        json.dump(cyto_data, f, indent=4)\n",
    "\n",
    "    # Generate the HTML file\n",
    "    html_content = f\"\"\"\n",
    "    <!DOCTYPE html>\n",
    "    <html lang=\"en\">\n",
    "    <head>\n",
    "        <meta charset=\"UTF-8\">\n",
    "        <meta name=\"viewport\" content=\"width=device-width, initial-scale=1.0\">\n",
    "        <title>Cytoscape.js Graph</title>\n",
    "        <style>\n",
    "            #cy {{\n",
    "                width: 100%;\n",
    "                height: 600px;\n",
    "                border: 1px solid #ccc;\n",
    "            }}\n",
    "        </style>\n",
    "        <script src=\"https://cdnjs.cloudflare.com/ajax/libs/cytoscape/3.23.0/cytoscape.min.js\"></script>\n",
    "    </head>\n",
    "    <body>\n",
    "        <h1>Interactive Graph</h1>\n",
    "        <div id=\"cy\"></div>\n",
    "        <script>\n",
    "            fetch('graph_data_pcr{m}-{n}.json')\n",
    "                .then(response => response.json())\n",
    "                .then(data => {{\n",
    "                    var cy = cytoscape({{\n",
    "                        container: document.getElementById('cy'),\n",
    "                        elements: data,\n",
    "                        style: [\n",
    "                            {{\n",
    "                                selector: 'node',\n",
    "                                style: {{\n",
    "                                    'label': 'data(label)',\n",
    "                                    'background-color': 'data(color)',\n",
    "                                    'text-valign': 'center',\n",
    "                                    'text-halign': 'center',\n",
    "                                    'color': 'black',\n",
    "                                    'font-size': '2px',\n",
    "                                    'width': 10,\n",
    "                                    'height': 10\n",
    "                                }}\n",
    "                            }},\n",
    "                            {{\n",
    "                                selector: 'edge',\n",
    "                                style: {{\n",
    "                                    'curve-style': 'straight',\n",
    "                                    'width': 1,\n",
    "                                    'line-color': '#999',\n",
    "                                    'target-arrow-color': '#0000',\n",
    "                                    'target-arrow-shape': 'none'\n",
    "                                }}\n",
    "                            }}\n",
    "                        ],\n",
    "                        layout: {{ name: 'preset' }}\n",
    "                    }});\n",
    "                }});\n",
    "        </script>\n",
    "    </body>\n",
    "    </html>\n",
    "    \"\"\"\n",
    "\n",
    "    with open(f\"graph_pcr{m}-{n}.html\", \"w\") as f:\n",
    "        f.write(html_content)\n",
    "\n",
    "    print(f\"HTML file saved as graph_pcr{m}-{n}.html\")\n",
    "\n",
    "save_to_html(m, n, M)"
   ]
  },
  {
   "cell_type": "code",
   "execution_count": 143,
   "metadata": {
    "vscode": {
     "languageId": "sage"
    }
   },
   "outputs": [
    {
     "name": "stdout",
     "output_type": "stream",
     "text": [
      "+----+---------------------------+---------------------------+---------------------------+---------------------------+---------------------------+---------------------------+\n",
      "| n  |            QMn            |           QMdel           |           Qdiff           |            Qcon           |          diffQcon         |         extra term        |\n",
      "+----+---------------------------+---------------------------+---------------------------+---------------------------+---------------------------+---------------------------+\n",
      "| 3  |     -3*t^2 - 11*t - 8     |      -5*t^2 - 9*t - 5     |      2*t^2 - 2*t - 3      |          2*t + 3          |            -3*t           |        4*t^2 + 3*t        |\n",
      "| 4  |     14*t^2 + 24*t + 12    |     14*t^2 + 14*t + 6     |          10*t + 6         |          -4*t - 6         |           -4*t^2          |           4*t^2           |\n",
      "| 5  | -10*t^3 - 32*t^2 - 41*t - | -14*t^3 - 28*t^2 - 20*t - |  4*t^3 - 4*t^2 - 21*t - 9 |      4*t^2 + 12*t + 9     |       -12*t^2 - 18*t      |       8*t^3 + 12*t^2      |\n",
      "|    |             16            |             7             |                           |                           |                           |                           |\n",
      "| 6  |  42*t^3 + 73*t^2 + 62*t + |  42*t^3 + 48*t^2 + 27*t + |     25*t^2 + 35*t + 12    |    -10*t^2 - 23*t - 12    |      -10*t^3 - 8*t^2      |       10*t^3 + 8*t^2      |\n",
      "|    |             20            |             8             |                           |                           |                           |                           |\n",
      "| 7  |    -32*t^4 - 100*t^3 -    | -42*t^4 - 90*t^3 - 75*t^2 |  10*t^4 - 10*t^3 - 60*t^2 |  10*t^3 + 33*t^2 + 37*t + |  -33*t^3 - 64*t^2 - 30*t  |  20*t^4 + 33*t^3 + 10*t^2 |\n",
      "|    |    135*t^2 - 87*t - 24    |         - 35*t - 9        |        - 52*t - 15        |             15            |                           |                           |\n",
      "| 8  |    132*t^4 + 235*t^3 +    |    132*t^4 + 165*t^3 +    | 70*t^3 + 112*t^2 + 72*t + | -28*t^3 - 70*t^2 - 54*t - | -28*t^4 - 28*t^3 - 12*t^2 |  28*t^4 + 28*t^3 + 12*t^2 |\n",
      "|    |    222*t^2 + 116*t + 28   |    110*t^2 + 44*t + 10    |             18            |             18            |                           |                           |\n",
      "| 9  |    -104*t^5 - 325*t^4 -   |    -132*t^5 - 297*t^4 -   | 28*t^5 - 28*t^4 - 182*t^3 | 28*t^4 + 98*t^3 + 124*t^2 |    -98*t^4 - 208*t^3 -    |  56*t^5 + 98*t^4 + 40*t^3 |\n",
      "|    | 457*t^3 - 338*t^2 - 149*t |  275*t^3 - 154*t^2 - 54*t |   - 184*t^2 - 95*t - 21   |        + 74*t + 21        |       134*t^2 - 42*t      |          + 14*t^2         |\n",
      "|    |            - 32           |            - 11           |                           |                           |                           |                           |\n",
      "| 10 |    429*t^5 + 782*t^4 +    |    429*t^5 + 572*t^4 +    |    210*t^4 + 366*t^3 +    |    -84*t^4 - 222*t^3 -    | -84*t^5 - 96*t^4 - 54*t^3 |  84*t^5 + 96*t^4 + 54*t^3 |\n",
      "|    | 795*t^3 + 487*t^2 + 186*t |  429*t^3 + 208*t^2 + 65*t |    279*t^2 + 121*t + 24   |    198*t^2 - 97*t - 24    |          - 16*t^2         |          + 16*t^2         |\n",
      "|    |            + 36           |            + 12           |                           |                           |                           |                           |\n",
      "| 11 |   -345*t^6 - 1085*t^5 -   |   -429*t^6 - 1001*t^5 -   | 84*t^6 - 84*t^5 - 576*t^4 |     84*t^5 + 306*t^4 +    |    -306*t^5 - 690*t^4 -   |    168*t^6 + 306*t^5 +    |\n",
      "|    |   1577*t^4 - 1282*t^3 -   |    1001*t^4 - 637*t^3 -   |   - 645*t^3 - 400*t^2 -   | 420*t^3 + 295*t^2 + 123*t |  520*t^3 - 228*t^2 - 54*t | 150*t^4 + 70*t^3 + 18*t^2 |\n",
      "|    |    673*t^2 - 227*t - 40   |    273*t^2 - 77*t - 13    |         150*t - 27        |            + 27           |                           |                           |\n",
      "| 12 |   1430*t^6 + 2662*t^5 +   |   1430*t^6 + 2002*t^5 +   |    660*t^5 + 1221*t^4 +   |    -264*t^5 - 726*t^4 -   |    -264*t^6 - 330*t^5 -   |    264*t^6 + 330*t^5 +    |\n",
      "|    |   2859*t^4 + 1955*t^3 +   |    1638*t^4 + 910*t^3 +   |    1045*t^3 + 550*t^2 +   | 715*t^3 - 418*t^2 - 152*t | 220*t^4 - 88*t^3 - 20*t^2 | 220*t^4 + 88*t^3 + 20*t^2 |\n",
      "|    |    900*t^2 + 272*t + 44   |    350*t^2 + 90*t + 14    |         182*t + 30        |            - 30           |                           |                           |\n",
      "| 13 |   -1166*t^7 - 3696*t^6 -  |   -1430*t^7 - 3432*t^6 -  |    264*t^7 - 264*t^6 -    |    264*t^6 + 990*t^5 +    |   -990*t^6 - 2332*t^5 -   |    528*t^7 + 990*t^6 +    |\n",
      "|    |   5521*t^5 - 4814*t^4 -   |   3640*t^5 - 2548*t^4 -   |   1881*t^5 - 2266*t^4 -   |   1441*t^4 + 1133*t^3 +   |   1958*t^4 - 1032*t^3 -   |    550*t^5 + 308*t^4 +    |\n",
      "|    |   2855*t^3 - 1172*t^2 -   |    1260*t^3 - 440*t^2 -   |    1595*t^3 - 732*t^2 -   |    570*t^2 + 184*t + 33   |       346*t^2 - 66*t      |      108*t^3 + 22*t^2     |\n",
      "|    |         321*t - 48        |         104*t - 15        |         217*t - 33        |                           |                           |                           |\n",
      "| 14 |   4862*t^7 + 9217*t^6 +   |   4862*t^7 + 7072*t^6 +   |   2145*t^6 + 4147*t^5 +   |   -858*t^6 - 2431*t^5 -   |   -858*t^7 - 1144*t^6 -   |    858*t^7 + 1144*t^6 +   |\n",
      "|    |   10335*t^5 + 7669*t^4 +  |   6188*t^5 + 3808*t^4 +   |   3861*t^4 + 2327*t^3 +   |   2574*t^4 - 1703*t^3 -   |    858*t^5 - 416*t^4 -    |    858*t^5 + 416*t^4 +    |\n",
      "|    |   4027*t^3 + 1493*t^2 +   |    1700*t^3 + 544*t^2 +   |    949*t^2 + 255*t + 36   |    754*t^2 - 219*t - 36   |      130*t^3 - 24*t^2     |      130*t^3 + 24*t^2     |\n",
      "|    |         374*t + 52        |         119*t + 16        |                           |                           |                           |                           |\n",
      "+----+---------------------------+---------------------------+---------------------------+---------------------------+---------------------------+---------------------------+\n"
     ]
    }
   ],
   "source": [
    "from prettytable import PrettyTable\n",
    "\n",
    "table = PrettyTable()\n",
    "table.field_names = [\"n\", \"QMn\", \"QMdel\", \"Qdiff\", \"Qcon\", \"diffQcon\", \"extra term\"]\n",
    "\n",
    "m = 5\n",
    "for n in range(3, 15):\n",
    "    G, e = parallel_connection(m, n)\n",
    "    M = Matroid(G)\n",
    "    QMn = S(qhat(Matroid(G)))\n",
    "    QMdel = S(uniformQhat(n+m-3, n+m-2))\n",
    "    Qdiff = QMn - QMdel\n",
    "    Qcon = S(uniformQhat(n-2, n-1) * uniformQhat(m-2, m-1))\n",
    "    diffQcon = Qdiff + ((-1)^M.rank() * t + 1 ) * Qcon\n",
    "    extra_term = sum_at_Circuits(M, circuits_containing_element(M, e))\n",
    "    table.add_row([n, QMn, QMdel, Qdiff, Qcon, diffQcon, extra_term])\n",
    "\n",
    "table.max_width = 25  # Set the maximum width for each column\n",
    "\n",
    "print(table)"
   ]
  }
 ],
 "metadata": {
  "kernelspec": {
   "display_name": "SageMath 10.3",
   "language": "sage",
   "name": "SageMath-10.3"
  },
  "language_info": {
   "codemirror_mode": {
    "name": "ipython",
    "version": 3
   },
   "file_extension": ".py",
   "mimetype": "text/x-python",
   "name": "python",
   "nbconvert_exporter": "python",
   "pygments_lexer": "ipython3",
   "version": "3.11.8"
  },
  "widgets": {
   "application/vnd.jupyter.widget-state+json": {
    "state": {
     "02bf5147ceb64fb4bf22994a5c78f550": {
      "model_module": "jupyter-cytoscape",
      "model_module_version": "^1.3.3",
      "model_name": "EdgeModel",
      "state": {
       "_model_module_version": "^1.3.3",
       "_view_module_version": "^1.3.3",
       "classes": " directed ",
       "data": {
        "id": "1fbbe715-fdfc-4a01-8a86-a4209c69d8b0",
        "source": "16: -1",
        "target": "9: 2"
       },
       "selectable": false
      }
     },
     "030dfad4f48b4a98acad33c4d3762771": {
      "model_module": "jupyter-cytoscape",
      "model_module_version": "^1.3.3",
      "model_name": "NodeModel",
      "state": {
       "_model_module_version": "^1.3.3",
       "_view_module_version": "^1.3.3",
       "data": {
        "color": "#FFFF00",
        "id": "9: 2",
        "rank": 2
       },
       "grabbable": true,
       "grabbed": false,
       "position": {
        "x": 200,
        "y": 25.806451612903224
       },
       "selectable": false
      }
     },
     "0640ac0b0ca7453b94a7973ebb0591d3": {
      "model_module": "jupyter-cytoscape",
      "model_module_version": "^1.3.3",
      "model_name": "EdgeModel",
      "state": {
       "_model_module_version": "^1.3.3",
       "_view_module_version": "^1.3.3",
       "classes": " directed ",
       "data": {
        "id": "bc2d1339-4932-4ce9-9018-7fd5ec7c2191",
        "source": "15: 2",
        "target": "11: -2*t - 3"
       },
       "selectable": false
      }
     },
     "0890f6a5a43d469d8e2b423be8c5970a": {
      "model_module": "jupyter-cytoscape",
      "model_module_version": "^1.3.3",
      "model_name": "EdgeModel",
      "state": {
       "_model_module_version": "^1.3.3",
       "_view_module_version": "^1.3.3",
       "classes": " directed ",
       "data": {
        "id": "df996385-2f41-4986-aae9-c185d2a188e7",
        "source": "30: 4*t + 1",
        "target": "10: -1"
       },
       "selectable": false
      }
     },
     "0a44c583502d4116a1f660b596f79f8b": {
      "model_module": "jupyter-cytoscape",
      "model_module_version": "^1.3.3",
      "model_name": "EdgeModel",
      "state": {
       "_model_module_version": "^1.3.3",
       "_view_module_version": "^1.3.3",
       "classes": " directed ",
       "data": {
        "id": "b2b8b2d7-f8b4-47b5-b9d0-87cfffa30061",
        "source": "12: 2",
        "target": "11: -2*t - 3"
       },
       "selectable": false
      }
     },
     "0b1119e0db8d4a6a9b6c40e05e5e40fd": {
      "model_module": "jupyter-cytoscape",
      "model_module_version": "^1.3.3",
      "model_name": "EdgeModel",
      "state": {
       "_model_module_version": "^1.3.3",
       "_view_module_version": "^1.3.3",
       "classes": " directed ",
       "data": {
        "id": "863e4528-4fac-4726-9287-7fee7e8b9d5d",
        "source": "28: -1",
        "target": "26: 2"
       },
       "selectable": false
      }
     },
     "0b69fc78ae7c47f19e90ba52ea8bf47f": {
      "model_module": "jupyter-cytoscape",
      "model_module_version": "^1.3.3",
      "model_name": "NodeModel",
      "state": {
       "_model_module_version": "^1.3.3",
       "_view_module_version": "^1.3.3",
       "data": {
        "color": "#FFFF00",
        "id": "19: 2",
        "rank": 2
       },
       "grabbable": true,
       "grabbed": false,
       "position": {
        "x": -200,
        "y": 25.806451612903224
       },
       "selectable": false
      }
     },
     "0b7ec34ae9014326ba161c74511c5838": {
      "model_module": "jupyter-cytoscape",
      "model_module_version": "^1.3.3",
      "model_name": "EdgeModel",
      "state": {
       "_model_module_version": "^1.3.3",
       "_view_module_version": "^1.3.3",
       "classes": " directed ",
       "data": {
        "id": "cebc35fb-7c13-4778-8d09-b66a9d009d73",
        "source": "30: 4*t + 1",
        "target": "14: -1"
       },
       "selectable": false
      }
     },
     "0d17e2691c074221928905fb91125564": {
      "model_module": "jupyter-cytoscape",
      "model_module_version": "^1.3.3",
      "model_name": "EdgeModel",
      "state": {
       "_model_module_version": "^1.3.3",
       "_view_module_version": "^1.3.3",
       "classes": " directed ",
       "data": {
        "id": "4dbbea82-65e8-4944-b627-b723b0eb6418",
        "source": "19: 2",
        "target": "18: -t - 4"
       },
       "selectable": false
      }
     },
     "0dbc7143594f40efa9ffd15d2ccf778c": {
      "model_module": "jupyter-cytoscape",
      "model_module_version": "^1.3.3",
      "model_name": "NodeModel",
      "state": {
       "_model_module_version": "^1.3.3",
       "_view_module_version": "^1.3.3",
       "data": {
        "color": "#FFD0DF",
        "id": "28: -1",
        "rank": 3
       },
       "grabbable": true,
       "grabbed": false,
       "position": {
        "x": -350,
        "y": -174.19354838709677
       },
       "selectable": false
      }
     },
     "0ea85110c0774c7cb36a54b90c811e01": {
      "model_module": "jupyter-cytoscape",
      "model_module_version": "^1.3.3",
      "model_name": "EdgeModel",
      "state": {
       "_model_module_version": "^1.3.3",
       "_view_module_version": "^1.3.3",
       "classes": " directed ",
       "data": {
        "id": "691f65b2-dac1-4b49-8232-ec43d17ec4ac",
        "source": "30: 4*t + 1",
        "target": "22: -1"
       },
       "selectable": false
      }
     },
     "121fe9f66da64ddd98db09d6b86d5bd8": {
      "model_module": "jupyter-cytoscape",
      "model_module_version": "^1.3.3",
      "model_name": "EdgeModel",
      "state": {
       "_model_module_version": "^1.3.3",
       "_view_module_version": "^1.3.3",
       "classes": " directed ",
       "data": {
        "id": "5623b2e2-db54-483f-8975-f1db8967f79b",
        "source": "16: -1",
        "target": "6: 1"
       },
       "selectable": false
      }
     },
     "12651936f08b45aaaa9f9bdf20a24da9": {
      "model_module": "jupyter-cytoscape",
      "model_module_version": "^1.3.3",
      "model_name": "NodeModel",
      "state": {
       "_model_module_version": "^1.3.3",
       "_view_module_version": "^1.3.3",
       "data": {
        "color": "#FFFF00",
        "id": "5: 2",
        "rank": 2
       },
       "grabbable": true,
       "grabbed": false,
       "position": {
        "x": 500,
        "y": 25.806451612903224
       },
       "selectable": false
      }
     },
     "14a59dbf85f5480eb80d97aed6a9f4d7": {
      "model_module": "jupyter-cytoscape",
      "model_module_version": "^1.3.3",
      "model_name": "EdgeModel",
      "state": {
       "_model_module_version": "^1.3.3",
       "_view_module_version": "^1.3.3",
       "classes": " directed ",
       "data": {
        "id": "b71c60e9-46c1-467a-af2d-e9f32f7adfaf",
        "source": "26: 2",
        "target": "7: -2*t - 3"
       },
       "selectable": false
      }
     },
     "180ee687b22d43c1ac8161b4553350a1": {
      "model_module": "jupyter-cytoscape",
      "model_module_version": "^1.3.3",
      "model_name": "NodeModel",
      "state": {
       "_model_module_version": "^1.3.3",
       "_view_module_version": "^1.3.3",
       "data": {
        "color": "#FFFF00",
        "id": "20: 1",
        "rank": 2
       },
       "grabbable": true,
       "grabbed": false,
       "position": {
        "x": -300,
        "y": 25.806451612903224
       },
       "selectable": false
      }
     },
     "1a9eddfd313d4e8986cb58129a8ca72f": {
      "model_module": "jupyter-cytoscape",
      "model_module_version": "^1.3.3",
      "model_name": "EdgeModel",
      "state": {
       "_model_module_version": "^1.3.3",
       "_view_module_version": "^1.3.3",
       "classes": " directed ",
       "data": {
        "id": "41385c92-7d6c-4a43-98a1-b1b2349ff585",
        "source": "22: -1",
        "target": "12: 2"
       },
       "selectable": false
      }
     },
     "1d86ac91115b4fa3bfa6d9c922136500": {
      "model_module": "jupyter-cytoscape",
      "model_module_version": "^1.3.3",
      "model_name": "EdgeModel",
      "state": {
       "_model_module_version": "^1.3.3",
       "_view_module_version": "^1.3.3",
       "classes": " directed ",
       "data": {
        "id": "55ba43f9-1440-446e-b917-ca69b3352d92",
        "source": "25: -2*t - 1",
        "target": "3: 1"
       },
       "selectable": false
      }
     },
     "1d95565fb90d4dc8bbe4796767c11a07": {
      "model_module": "jupyter-cytoscape",
      "model_module_version": "^1.3.3",
      "model_name": "EdgeModel",
      "state": {
       "_model_module_version": "^1.3.3",
       "_view_module_version": "^1.3.3",
       "classes": " directed ",
       "data": {
        "id": "1c591310-c537-4db1-ae48-e454cd8a4943",
        "source": "7: -2*t - 3",
        "target": "0: 5*t + 6"
       },
       "selectable": false
      }
     },
     "1ff6c05239dc44ada70ee90944e35f17": {
      "model_module": "jupyter-cytoscape",
      "model_module_version": "^1.3.3",
      "model_name": "EdgeModel",
      "state": {
       "_model_module_version": "^1.3.3",
       "_view_module_version": "^1.3.3",
       "classes": " directed ",
       "data": {
        "id": "5f7ebd16-fe0a-4bf9-815c-6a91d61f06b6",
        "source": "9: 2",
        "target": "4: -t - 4"
       },
       "selectable": false
      }
     },
     "265ed39df5d74a5383c31be607d97869": {
      "model_module": "jupyter-cytoscape",
      "model_module_version": "^1.3.3",
      "model_name": "EdgeModel",
      "state": {
       "_model_module_version": "^1.3.3",
       "_view_module_version": "^1.3.3",
       "classes": " directed ",
       "data": {
        "id": "33c942a6-927c-4143-8575-362913abf700",
        "source": "1: -t - 4",
        "target": "0: 5*t + 6"
       },
       "selectable": false
      }
     },
     "2909bc9bafb04716b4d868984497d449": {
      "model_module": "@jupyter-widgets/base",
      "model_module_version": "2.0.0",
      "model_name": "LayoutModel",
      "state": {}
     },
     "2a42a9ba969b480e9624a3b08100a102": {
      "model_module": "jupyter-cytoscape",
      "model_module_version": "^1.3.3",
      "model_name": "EdgeModel",
      "state": {
       "_model_module_version": "^1.3.3",
       "_view_module_version": "^1.3.3",
       "classes": " directed ",
       "data": {
        "id": "e944d751-f1fa-40b7-badb-60b57d09b17b",
        "source": "23: 2",
        "target": "4: -t - 4"
       },
       "selectable": false
      }
     },
     "2b546e0317804956a5ea96f0b4e7fea4": {
      "model_module": "jupyter-cytoscape",
      "model_module_version": "^1.3.3",
      "model_name": "GraphModel",
      "state": {
       "_adj": {
        "0: 5*t + 6": {},
        "10: -1": {},
        "11: -2*t - 3": {},
        "12: 2": {},
        "13: 2": {},
        "14: -1": {},
        "15: 2": {},
        "16: -1": {},
        "17: -1": {},
        "18: -t - 4": {},
        "19: 2": {},
        "1: -t - 4": {},
        "20: 1": {},
        "21: 2": {},
        "22: -1": {},
        "23: 2": {},
        "24: -1": {},
        "25: -2*t - 1": {},
        "26: 2": {},
        "27: -1": {},
        "28: -1": {},
        "29: -1": {},
        "2: -2": {},
        "30: 4*t + 1": {},
        "3: 1": {},
        "4: -t - 4": {},
        "5: 2": {},
        "6: 1": {},
        "7: -2*t - 3": {},
        "8: 2": {},
        "9: 2": {}
       },
       "_model_module_version": "^1.3.3",
       "_view_module": "jupyter-cytoscape",
       "_view_module_version": "^1.3.3",
       "edges": [
        "IPY_MODEL_265ed39df5d74a5383c31be607d97869",
        "IPY_MODEL_3a783fe92ad94cc2b625ae141258e15e",
        "IPY_MODEL_3433ada0d53b40bab19c0ec6282f45c3",
        "IPY_MODEL_781a2caa3c244e9d937a0f1eede55bdc",
        "IPY_MODEL_952ba5666dcd47f6818ba7e53b0134ea",
        "IPY_MODEL_e478fbf730db4aeba7b44584982ed93d",
        "IPY_MODEL_2f6186c4caa24d8aa6704d58fe2fbef5",
        "IPY_MODEL_7d453b7d229e4e5489c6dc4293a27ca1",
        "IPY_MODEL_d5ca34c5b4e74b449007161f48e8a30a",
        "IPY_MODEL_1d95565fb90d4dc8bbe4796767c11a07",
        "IPY_MODEL_97a783da881f441c97e30564ac41980a",
        "IPY_MODEL_64b30b1e11ea46e3b9e043796d4d3917",
        "IPY_MODEL_1ff6c05239dc44ada70ee90944e35f17",
        "IPY_MODEL_f35fd2615e344e238f528f5a211e4af8",
        "IPY_MODEL_3f9c08cf460a482e8def2f3d5b3e96f2",
        "IPY_MODEL_c281ce9b455e4990a1b4477cd4382789",
        "IPY_MODEL_a375ecd2866a4f5999c3632f17f1628f",
        "IPY_MODEL_cf5478384eb3478cbe359f66cd1229e2",
        "IPY_MODEL_3648bda9010c43f09b73421f0e4b05f3",
        "IPY_MODEL_0a44c583502d4116a1f660b596f79f8b",
        "IPY_MODEL_81013f272c214bce8deb2838e128c4e6",
        "IPY_MODEL_bbc5a2e8db1044e9a78d0ee77e89e422",
        "IPY_MODEL_d746b76c55e84725b2d54fe18f75cec5",
        "IPY_MODEL_7c48250eedb145749bf726004d55ba14",
        "IPY_MODEL_4d34e125b7fd4b42bbb0344b1f803bce",
        "IPY_MODEL_c358ddeebc8c4bba8f1aee830f0566dd",
        "IPY_MODEL_8ec57d0d9fcc4d1ca06effab2b88dc14",
        "IPY_MODEL_9b2e0cba066b4e3ea3b3eda661cee950",
        "IPY_MODEL_0640ac0b0ca7453b94a7973ebb0591d3",
        "IPY_MODEL_121fe9f66da64ddd98db09d6b86d5bd8",
        "IPY_MODEL_02bf5147ceb64fb4bf22994a5c78f550",
        "IPY_MODEL_4412719af5374a08a4f165c532c55b97",
        "IPY_MODEL_92065337336c432695e04407964157d5",
        "IPY_MODEL_c2381133633648198d323e79690fb1d1",
        "IPY_MODEL_b150addd34084445b58f35e72fbd7138",
        "IPY_MODEL_e47b8ec624ad4c1ba203edfeaeae0bb9",
        "IPY_MODEL_8121d27cdf35454d8e521d0dd5371f90",
        "IPY_MODEL_307d216c0aab439baa31b8995ef1ee78",
        "IPY_MODEL_0d17e2691c074221928905fb91125564",
        "IPY_MODEL_65822f4c01ab4ad990ec59298edca508",
        "IPY_MODEL_fa67f87cb0ee499c90951915b458842d",
        "IPY_MODEL_aa7658621d0545d4b343ea7ab4235b68",
        "IPY_MODEL_ce6764a02ed541549d86df113a6c5c52",
        "IPY_MODEL_1a9eddfd313d4e8986cb58129a8ca72f",
        "IPY_MODEL_cba56e4eee334a8d98f8e327f5a724e3",
        "IPY_MODEL_b3ee53129e87412185487dd2f638ef94",
        "IPY_MODEL_2a42a9ba969b480e9624a3b08100a102",
        "IPY_MODEL_63344706e7934f829bc60b38606fed32",
        "IPY_MODEL_de329881637144cc9383e237f718b2bf",
        "IPY_MODEL_cee381bc060f439c976d66aabbdaa6c1",
        "IPY_MODEL_aa3f098b8fc94a6da45ae5bf6a137bbe",
        "IPY_MODEL_1d86ac91115b4fa3bfa6d9c922136500",
        "IPY_MODEL_8778ab25c94244409741e02bee80a842",
        "IPY_MODEL_ac13a93072154f78b3d7363cae24fe29",
        "IPY_MODEL_cf46240121284f998643499f9eae981f",
        "IPY_MODEL_714b07782b0f4622a90cbbf9f4b0b070",
        "IPY_MODEL_ea9348265232425ab3fd95aa601802b4",
        "IPY_MODEL_14a59dbf85f5480eb80d97aed6a9f4d7",
        "IPY_MODEL_e6838b502bb64d388beb1a73a4df510e",
        "IPY_MODEL_63259198930041c8958c24e9c784cc41",
        "IPY_MODEL_c42dbec3a2c64bdabedbf53401c293da",
        "IPY_MODEL_72c76617d67c498fa048ec10efc913ec",
        "IPY_MODEL_b72909f9b0d1460db9e9fc0997b14197",
        "IPY_MODEL_cc0a3a93ef9f4e6b84a33fb3a8a1b857",
        "IPY_MODEL_2eb6a3a74bcc4a67ae0fef97194ad1b8",
        "IPY_MODEL_0b1119e0db8d4a6a9b6c40e05e5e40fd",
        "IPY_MODEL_92798be6f99243e3841ab3d968107386",
        "IPY_MODEL_bb1be23fc4b94c698be234eb19299dd7",
        "IPY_MODEL_5dcf90f1d4594ecfaba8c0498e502c68",
        "IPY_MODEL_0890f6a5a43d469d8e2b423be8c5970a",
        "IPY_MODEL_0b7ec34ae9014326ba161c74511c5838",
        "IPY_MODEL_c7025a794363401d83436655bf206c9d",
        "IPY_MODEL_e5da0f38f4e2497d9acfb5795053cda8",
        "IPY_MODEL_0ea85110c0774c7cb36a54b90c811e01",
        "IPY_MODEL_bf15a4c76b19457387cdf7a6fec0818b",
        "IPY_MODEL_40c12a13e7344a62b5a25684a5e3626c",
        "IPY_MODEL_f0141239d999429cade2d1ee2a2c8ad3",
        "IPY_MODEL_6884128c299440408cb47160068aa114",
        "IPY_MODEL_9c6ee2d2fff640ef8471e0274611664c"
       ],
       "nodes": [
        "IPY_MODEL_6015558c11e64f87987ce8284c8c24be",
        "IPY_MODEL_91a9f3dca7284439bde528a47cefea66",
        "IPY_MODEL_44fe58a3f5e24de0a95d29b476809e3e",
        "IPY_MODEL_5990cd48047c4bd6997148e535243c86",
        "IPY_MODEL_456f0a699a3d43409c2343408ac7caef",
        "IPY_MODEL_12651936f08b45aaaa9f9bdf20a24da9",
        "IPY_MODEL_98de0ae5d49842628c8d5fc1d6d9100e",
        "IPY_MODEL_4d1c2572a91c466596351b378768a7e1",
        "IPY_MODEL_420968d517364931a6a4d129c2653eb3",
        "IPY_MODEL_030dfad4f48b4a98acad33c4d3762771",
        "IPY_MODEL_af9f10af9f3d4c889d4c57dd4885483f",
        "IPY_MODEL_48dfff25f49c46fab68eec92ea7c666b",
        "IPY_MODEL_815e5b62af484958bfb0838b8638e9de",
        "IPY_MODEL_a70ec135da05403ba4f7ea1472b86887",
        "IPY_MODEL_ba474f1488004315889ae99593c01c8e",
        "IPY_MODEL_f5523c44efe943f8a7eeef3f26c54809",
        "IPY_MODEL_85fea51075204c35ac1ba9d87fa7c9b7",
        "IPY_MODEL_7efcb4ad25fd4972b663954837294fb3",
        "IPY_MODEL_2ebf62e673e045b6b7c49a9267b908e1",
        "IPY_MODEL_0b69fc78ae7c47f19e90ba52ea8bf47f",
        "IPY_MODEL_180ee687b22d43c1ac8161b4553350a1",
        "IPY_MODEL_91d761352bac4076a60ac503513b7d33",
        "IPY_MODEL_e5f40d1a4b4747cb8cde28d718beb3b9",
        "IPY_MODEL_9ee14044826a4bbd9c3d187775f75aea",
        "IPY_MODEL_34cd45e1d0a542db9a9ce54ee29b120e",
        "IPY_MODEL_870aa75a3774494089c862c173d87293",
        "IPY_MODEL_47ec5b022b1748f9bd27a659fddbd327",
        "IPY_MODEL_e117583dbb084b1cae59e154466ac353",
        "IPY_MODEL_0dbc7143594f40efa9ffd15d2ccf778c",
        "IPY_MODEL_4501351fa9d940168ffdfef2d0ca0b7f",
        "IPY_MODEL_feaf8554696f4e00972e6bba54ea6037"
       ]
      }
     },
     "2eb6a3a74bcc4a67ae0fef97194ad1b8": {
      "model_module": "jupyter-cytoscape",
      "model_module_version": "^1.3.3",
      "model_name": "EdgeModel",
      "state": {
       "_model_module_version": "^1.3.3",
       "_view_module_version": "^1.3.3",
       "classes": " directed ",
       "data": {
        "id": "42ef9191-7361-4301-ace3-df4e09576a63",
        "source": "28: -1",
        "target": "23: 2"
       },
       "selectable": false
      }
     },
     "2ebf62e673e045b6b7c49a9267b908e1": {
      "model_module": "jupyter-cytoscape",
      "model_module_version": "^1.3.3",
      "model_name": "NodeModel",
      "state": {
       "_model_module_version": "^1.3.3",
       "_view_module_version": "^1.3.3",
       "data": {
        "color": "#00F0F0",
        "id": "18: -t - 4",
        "rank": 1
       },
       "grabbable": true,
       "grabbed": false,
       "position": {
        "x": -250,
        "y": 225.8064516129032
       },
       "selectable": false
      }
     },
     "2f6186c4caa24d8aa6704d58fe2fbef5": {
      "model_module": "jupyter-cytoscape",
      "model_module_version": "^1.3.3",
      "model_name": "EdgeModel",
      "state": {
       "_model_module_version": "^1.3.3",
       "_view_module_version": "^1.3.3",
       "classes": " directed ",
       "data": {
        "id": "a4bb71df-e11d-4a79-9125-b30c7dd18e39",
        "source": "5: 2",
        "target": "4: -t - 4"
       },
       "selectable": false
      }
     },
     "307d216c0aab439baa31b8995ef1ee78": {
      "model_module": "jupyter-cytoscape",
      "model_module_version": "^1.3.3",
      "model_name": "EdgeModel",
      "state": {
       "_model_module_version": "^1.3.3",
       "_view_module_version": "^1.3.3",
       "classes": " directed ",
       "data": {
        "id": "b6c5142b-05fb-4636-b9b4-ae65372872ba",
        "source": "19: 2",
        "target": "1: -t - 4"
       },
       "selectable": false
      }
     },
     "3433ada0d53b40bab19c0ec6282f45c3": {
      "model_module": "jupyter-cytoscape",
      "model_module_version": "^1.3.3",
      "model_name": "EdgeModel",
      "state": {
       "_model_module_version": "^1.3.3",
       "_view_module_version": "^1.3.3",
       "classes": " directed ",
       "data": {
        "id": "4b1e5be8-a07d-43f5-9f20-486603da462c",
        "source": "3: 1",
        "target": "1: -t - 4"
       },
       "selectable": false
      }
     },
     "34cd45e1d0a542db9a9ce54ee29b120e": {
      "model_module": "jupyter-cytoscape",
      "model_module_version": "^1.3.3",
      "model_name": "NodeModel",
      "state": {
       "_model_module_version": "^1.3.3",
       "_view_module_version": "^1.3.3",
       "data": {
        "color": "#FFD0DF",
        "id": "24: -1",
        "rank": 3
       },
       "grabbable": true,
       "grabbed": false,
       "position": {
        "x": -50,
        "y": -174.19354838709677
       },
       "selectable": false
      }
     },
     "3648bda9010c43f09b73421f0e4b05f3": {
      "model_module": "jupyter-cytoscape",
      "model_module_version": "^1.3.3",
      "model_name": "EdgeModel",
      "state": {
       "_model_module_version": "^1.3.3",
       "_view_module_version": "^1.3.3",
       "classes": " directed ",
       "data": {
        "id": "7dc44533-e137-4146-9614-9a441072ff97",
        "source": "12: 2",
        "target": "1: -t - 4"
       },
       "selectable": false
      }
     },
     "3a783fe92ad94cc2b625ae141258e15e": {
      "model_module": "jupyter-cytoscape",
      "model_module_version": "^1.3.3",
      "model_name": "EdgeModel",
      "state": {
       "_model_module_version": "^1.3.3",
       "_view_module_version": "^1.3.3",
       "classes": " directed ",
       "data": {
        "id": "23003758-cee9-4bac-bbfb-dbbf34346994",
        "source": "2: -2",
        "target": "0: 5*t + 6"
       },
       "selectable": false
      }
     },
     "3f9c08cf460a482e8def2f3d5b3e96f2": {
      "model_module": "jupyter-cytoscape",
      "model_module_version": "^1.3.3",
      "model_name": "EdgeModel",
      "state": {
       "_model_module_version": "^1.3.3",
       "_view_module_version": "^1.3.3",
       "classes": " directed ",
       "data": {
        "id": "12fac814-2bb1-4627-8885-a20cdfb20f56",
        "source": "10: -1",
        "target": "5: 2"
       },
       "selectable": false
      }
     },
     "40c12a13e7344a62b5a25684a5e3626c": {
      "model_module": "jupyter-cytoscape",
      "model_module_version": "^1.3.3",
      "model_name": "EdgeModel",
      "state": {
       "_model_module_version": "^1.3.3",
       "_view_module_version": "^1.3.3",
       "classes": " directed ",
       "data": {
        "id": "00649260-d24f-4c2d-bb28-b5af8f562c1c",
        "source": "30: 4*t + 1",
        "target": "25: -2*t - 1"
       },
       "selectable": false
      }
     },
     "420968d517364931a6a4d129c2653eb3": {
      "model_module": "jupyter-cytoscape",
      "model_module_version": "^1.3.3",
      "model_name": "NodeModel",
      "state": {
       "_model_module_version": "^1.3.3",
       "_view_module_version": "^1.3.3",
       "data": {
        "color": "#FFFF00",
        "id": "8: 2",
        "rank": 2
       },
       "grabbable": true,
       "grabbed": false,
       "position": {
        "x": 300,
        "y": 25.806451612903224
       },
       "selectable": false
      }
     },
     "4412719af5374a08a4f165c532c55b97": {
      "model_module": "jupyter-cytoscape",
      "model_module_version": "^1.3.3",
      "model_name": "EdgeModel",
      "state": {
       "_model_module_version": "^1.3.3",
       "_view_module_version": "^1.3.3",
       "classes": " directed ",
       "data": {
        "id": "b075662f-3e88-48ea-8d8a-82e48d09c918",
        "source": "16: -1",
        "target": "13: 2"
       },
       "selectable": false
      }
     },
     "44fe58a3f5e24de0a95d29b476809e3e": {
      "model_module": "jupyter-cytoscape",
      "model_module_version": "^1.3.3",
      "model_name": "NodeModel",
      "state": {
       "_model_module_version": "^1.3.3",
       "_view_module_version": "^1.3.3",
       "data": {
        "color": "#00F0F0",
        "id": "2: -2",
        "rank": 1
       },
       "grabbable": true,
       "grabbed": false,
       "position": {
        "x": 150,
        "y": 225.8064516129032
       },
       "selectable": false
      }
     },
     "4501351fa9d940168ffdfef2d0ca0b7f": {
      "model_module": "jupyter-cytoscape",
      "model_module_version": "^1.3.3",
      "model_name": "NodeModel",
      "state": {
       "_model_module_version": "^1.3.3",
       "_view_module_version": "^1.3.3",
       "data": {
        "color": "#FFD0DF",
        "id": "29: -1",
        "rank": 3
       },
       "grabbable": true,
       "grabbed": false,
       "position": {
        "x": -450,
        "y": -174.19354838709677
       },
       "selectable": false
      }
     },
     "456f0a699a3d43409c2343408ac7caef": {
      "model_module": "jupyter-cytoscape",
      "model_module_version": "^1.3.3",
      "model_name": "NodeModel",
      "state": {
       "_model_module_version": "^1.3.3",
       "_view_module_version": "^1.3.3",
       "data": {
        "color": "#00F0F0",
        "id": "4: -t - 4",
        "rank": 1
       },
       "grabbable": true,
       "grabbed": false,
       "position": {
        "x": 50,
        "y": 225.8064516129032
       },
       "selectable": false
      }
     },
     "47ec5b022b1748f9bd27a659fddbd327": {
      "model_module": "jupyter-cytoscape",
      "model_module_version": "^1.3.3",
      "model_name": "NodeModel",
      "state": {
       "_model_module_version": "^1.3.3",
       "_view_module_version": "^1.3.3",
       "data": {
        "color": "#FFFF00",
        "id": "26: 2",
        "rank": 2
       },
       "grabbable": true,
       "grabbed": false,
       "position": {
        "x": -600,
        "y": 25.806451612903224
       },
       "selectable": false
      }
     },
     "48dfff25f49c46fab68eec92ea7c666b": {
      "model_module": "jupyter-cytoscape",
      "model_module_version": "^1.3.3",
      "model_name": "NodeModel",
      "state": {
       "_model_module_version": "^1.3.3",
       "_view_module_version": "^1.3.3",
       "data": {
        "color": "#00F0F0",
        "id": "11: -2*t - 3",
        "rank": 1
       },
       "grabbable": true,
       "grabbed": false,
       "position": {
        "x": -150,
        "y": 225.8064516129032
       },
       "selectable": false
      }
     },
     "4d1c2572a91c466596351b378768a7e1": {
      "model_module": "jupyter-cytoscape",
      "model_module_version": "^1.3.3",
      "model_name": "NodeModel",
      "state": {
       "_model_module_version": "^1.3.3",
       "_view_module_version": "^1.3.3",
       "data": {
        "color": "#00F0F0",
        "id": "7: -2*t - 3",
        "rank": 1
       },
       "grabbable": true,
       "grabbed": false,
       "position": {
        "x": -50,
        "y": 225.8064516129032
       },
       "selectable": false
      }
     },
     "4d34e125b7fd4b42bbb0344b1f803bce": {
      "model_module": "jupyter-cytoscape",
      "model_module_version": "^1.3.3",
      "model_name": "EdgeModel",
      "state": {
       "_model_module_version": "^1.3.3",
       "_view_module_version": "^1.3.3",
       "classes": " directed ",
       "data": {
        "id": "979d65d1-7ddb-4a55-b390-631ee09a77d8",
        "source": "14: -1",
        "target": "8: 2"
       },
       "selectable": false
      }
     },
     "5990cd48047c4bd6997148e535243c86": {
      "model_module": "jupyter-cytoscape",
      "model_module_version": "^1.3.3",
      "model_name": "NodeModel",
      "state": {
       "_model_module_version": "^1.3.3",
       "_view_module_version": "^1.3.3",
       "data": {
        "color": "#FFFF00",
        "id": "3: 1",
        "rank": 2
       },
       "grabbable": true,
       "grabbed": false,
       "position": {
        "x": 600,
        "y": 25.806451612903224
       },
       "selectable": false
      }
     },
     "5dcf90f1d4594ecfaba8c0498e502c68": {
      "model_module": "jupyter-cytoscape",
      "model_module_version": "^1.3.3",
      "model_name": "EdgeModel",
      "state": {
       "_model_module_version": "^1.3.3",
       "_view_module_version": "^1.3.3",
       "classes": " directed ",
       "data": {
        "id": "e33c29d7-4316-4102-8891-217d1c8cd400",
        "source": "29: -1",
        "target": "26: 2"
       },
       "selectable": false
      }
     },
     "6015558c11e64f87987ce8284c8c24be": {
      "model_module": "jupyter-cytoscape",
      "model_module_version": "^1.3.3",
      "model_name": "NodeModel",
      "state": {
       "_model_module_version": "^1.3.3",
       "_view_module_version": "^1.3.3",
       "data": {
        "color": "#DFDF00",
        "id": "0: 5*t + 6",
        "rank": 0
       },
       "grabbable": true,
       "grabbed": false,
       "position": {
        "x": 0,
        "y": 425.8064516129032
       },
       "selectable": false
      }
     },
     "63259198930041c8958c24e9c784cc41": {
      "model_module": "jupyter-cytoscape",
      "model_module_version": "^1.3.3",
      "model_name": "EdgeModel",
      "state": {
       "_model_module_version": "^1.3.3",
       "_view_module_version": "^1.3.3",
       "classes": " directed ",
       "data": {
        "id": "399858d9-3396-4de6-8bfb-beac7a3499ce",
        "source": "27: -1",
        "target": "13: 2"
       },
       "selectable": false
      }
     },
     "63344706e7934f829bc60b38606fed32": {
      "model_module": "jupyter-cytoscape",
      "model_module_version": "^1.3.3",
      "model_name": "EdgeModel",
      "state": {
       "_model_module_version": "^1.3.3",
       "_view_module_version": "^1.3.3",
       "classes": " directed ",
       "data": {
        "id": "314ac46b-2295-4441-900b-c0fb31b289fa",
        "source": "23: 2",
        "target": "18: -t - 4"
       },
       "selectable": false
      }
     },
     "64b30b1e11ea46e3b9e043796d4d3917": {
      "model_module": "jupyter-cytoscape",
      "model_module_version": "^1.3.3",
      "model_name": "EdgeModel",
      "state": {
       "_model_module_version": "^1.3.3",
       "_view_module_version": "^1.3.3",
       "classes": " directed ",
       "data": {
        "id": "d2132454-c588-4109-a247-c5820c019868",
        "source": "8: 2",
        "target": "7: -2*t - 3"
       },
       "selectable": false
      }
     },
     "65822f4c01ab4ad990ec59298edca508": {
      "model_module": "jupyter-cytoscape",
      "model_module_version": "^1.3.3",
      "model_name": "EdgeModel",
      "state": {
       "_model_module_version": "^1.3.3",
       "_view_module_version": "^1.3.3",
       "classes": " directed ",
       "data": {
        "id": "016beff4-205b-4d2f-bf19-9bd90bac4a50",
        "source": "20: 1",
        "target": "2: -2"
       },
       "selectable": false
      }
     },
     "6884128c299440408cb47160068aa114": {
      "model_module": "jupyter-cytoscape",
      "model_module_version": "^1.3.3",
      "model_name": "EdgeModel",
      "state": {
       "_model_module_version": "^1.3.3",
       "_view_module_version": "^1.3.3",
       "classes": " directed ",
       "data": {
        "id": "65437614-d1ea-40a8-b3de-e7a290eedb1f",
        "source": "30: 4*t + 1",
        "target": "28: -1"
       },
       "selectable": false
      }
     },
     "714b07782b0f4622a90cbbf9f4b0b070": {
      "model_module": "jupyter-cytoscape",
      "model_module_version": "^1.3.3",
      "model_name": "EdgeModel",
      "state": {
       "_model_module_version": "^1.3.3",
       "_view_module_version": "^1.3.3",
       "classes": " directed ",
       "data": {
        "id": "eb3d19ba-1d30-4a25-b6c2-621b32041702",
        "source": "25: -2*t - 1",
        "target": "20: 1"
       },
       "selectable": false
      }
     },
     "72c76617d67c498fa048ec10efc913ec": {
      "model_module": "jupyter-cytoscape",
      "model_module_version": "^1.3.3",
      "model_name": "EdgeModel",
      "state": {
       "_model_module_version": "^1.3.3",
       "_view_module_version": "^1.3.3",
       "classes": " directed ",
       "data": {
        "id": "78aeec94-d61f-4644-9853-40303eb59cb3",
        "source": "27: -1",
        "target": "21: 2"
       },
       "selectable": false
      }
     },
     "781a2caa3c244e9d937a0f1eede55bdc": {
      "model_module": "jupyter-cytoscape",
      "model_module_version": "^1.3.3",
      "model_name": "EdgeModel",
      "state": {
       "_model_module_version": "^1.3.3",
       "_view_module_version": "^1.3.3",
       "classes": " directed ",
       "data": {
        "id": "d4fcf3ca-e47e-4b54-b417-bf4c6123105f",
        "source": "3: 1",
        "target": "2: -2"
       },
       "selectable": false
      }
     },
     "7c48250eedb145749bf726004d55ba14": {
      "model_module": "jupyter-cytoscape",
      "model_module_version": "^1.3.3",
      "model_name": "EdgeModel",
      "state": {
       "_model_module_version": "^1.3.3",
       "_view_module_version": "^1.3.3",
       "classes": " directed ",
       "data": {
        "id": "5030a1a7-c776-4c0c-a5f5-46fe202f3519",
        "source": "14: -1",
        "target": "3: 1"
       },
       "selectable": false
      }
     },
     "7d453b7d229e4e5489c6dc4293a27ca1": {
      "model_module": "jupyter-cytoscape",
      "model_module_version": "^1.3.3",
      "model_name": "EdgeModel",
      "state": {
       "_model_module_version": "^1.3.3",
       "_view_module_version": "^1.3.3",
       "classes": " directed ",
       "data": {
        "id": "522fbc33-9a15-4bf1-9d1c-37bde71c72ae",
        "source": "6: 1",
        "target": "2: -2"
       },
       "selectable": false
      }
     },
     "7efcb4ad25fd4972b663954837294fb3": {
      "model_module": "jupyter-cytoscape",
      "model_module_version": "^1.3.3",
      "model_name": "NodeModel",
      "state": {
       "_model_module_version": "^1.3.3",
       "_view_module_version": "^1.3.3",
       "data": {
        "color": "#FFD0DF",
        "id": "17: -1",
        "rank": 3
       },
       "grabbable": true,
       "grabbed": false,
       "position": {
        "x": 150,
        "y": -174.19354838709677
       },
       "selectable": false
      }
     },
     "81013f272c214bce8deb2838e128c4e6": {
      "model_module": "jupyter-cytoscape",
      "model_module_version": "^1.3.3",
      "model_name": "EdgeModel",
      "state": {
       "_model_module_version": "^1.3.3",
       "_view_module_version": "^1.3.3",
       "classes": " directed ",
       "data": {
        "id": "45c11adb-e943-435f-a5ff-f221c39c9bba",
        "source": "13: 2",
        "target": "2: -2"
       },
       "selectable": false
      }
     },
     "8121d27cdf35454d8e521d0dd5371f90": {
      "model_module": "jupyter-cytoscape",
      "model_module_version": "^1.3.3",
      "model_name": "EdgeModel",
      "state": {
       "_model_module_version": "^1.3.3",
       "_view_module_version": "^1.3.3",
       "classes": " directed ",
       "data": {
        "id": "d0343410-6a71-41fa-91e5-76d1318fed5e",
        "source": "18: -t - 4",
        "target": "0: 5*t + 6"
       },
       "selectable": false
      }
     },
     "815e5b62af484958bfb0838b8638e9de": {
      "model_module": "jupyter-cytoscape",
      "model_module_version": "^1.3.3",
      "model_name": "NodeModel",
      "state": {
       "_model_module_version": "^1.3.3",
       "_view_module_version": "^1.3.3",
       "data": {
        "color": "#FFFF00",
        "id": "12: 2",
        "rank": 2
       },
       "grabbable": true,
       "grabbed": false,
       "position": {
        "x": 100,
        "y": 25.806451612903224
       },
       "selectable": false
      }
     },
     "85fea51075204c35ac1ba9d87fa7c9b7": {
      "model_module": "jupyter-cytoscape",
      "model_module_version": "^1.3.3",
      "model_name": "NodeModel",
      "state": {
       "_model_module_version": "^1.3.3",
       "_view_module_version": "^1.3.3",
       "data": {
        "color": "#FFD0DF",
        "id": "16: -1",
        "rank": 3
       },
       "grabbable": true,
       "grabbed": false,
       "position": {
        "x": 250,
        "y": -174.19354838709677
       },
       "selectable": false
      }
     },
     "870aa75a3774494089c862c173d87293": {
      "model_module": "jupyter-cytoscape",
      "model_module_version": "^1.3.3",
      "model_name": "NodeModel",
      "state": {
       "_model_module_version": "^1.3.3",
       "_view_module_version": "^1.3.3",
       "data": {
        "color": "#FFD0DF",
        "id": "25: -2*t - 1",
        "rank": 3
       },
       "grabbable": true,
       "grabbed": false,
       "position": {
        "x": -150,
        "y": -174.19354838709677
       },
       "selectable": false
      }
     },
     "8778ab25c94244409741e02bee80a842": {
      "model_module": "jupyter-cytoscape",
      "model_module_version": "^1.3.3",
      "model_name": "EdgeModel",
      "state": {
       "_model_module_version": "^1.3.3",
       "_view_module_version": "^1.3.3",
       "classes": " directed ",
       "data": {
        "id": "5c26522f-1d39-48d8-9d93-de3b42bc809b",
        "source": "25: -2*t - 1",
        "target": "5: 2"
       },
       "selectable": false
      }
     },
     "8ec57d0d9fcc4d1ca06effab2b88dc14": {
      "model_module": "jupyter-cytoscape",
      "model_module_version": "^1.3.3",
      "model_name": "EdgeModel",
      "state": {
       "_model_module_version": "^1.3.3",
       "_view_module_version": "^1.3.3",
       "classes": " directed ",
       "data": {
        "id": "91dc3e49-5eca-44dd-a2ac-d9f16c234e7a",
        "source": "14: -1",
        "target": "13: 2"
       },
       "selectable": false
      }
     },
     "91a9f3dca7284439bde528a47cefea66": {
      "model_module": "jupyter-cytoscape",
      "model_module_version": "^1.3.3",
      "model_name": "NodeModel",
      "state": {
       "_model_module_version": "^1.3.3",
       "_view_module_version": "^1.3.3",
       "data": {
        "color": "#00F0F0",
        "id": "1: -t - 4",
        "rank": 1
       },
       "grabbable": true,
       "grabbed": false,
       "position": {
        "x": 250,
        "y": 225.8064516129032
       },
       "selectable": false
      }
     },
     "91d761352bac4076a60ac503513b7d33": {
      "model_module": "jupyter-cytoscape",
      "model_module_version": "^1.3.3",
      "model_name": "NodeModel",
      "state": {
       "_model_module_version": "^1.3.3",
       "_view_module_version": "^1.3.3",
       "data": {
        "color": "#FFFF00",
        "id": "21: 2",
        "rank": 2
       },
       "grabbable": true,
       "grabbed": false,
       "position": {
        "x": -400,
        "y": 25.806451612903224
       },
       "selectable": false
      }
     },
     "92065337336c432695e04407964157d5": {
      "model_module": "jupyter-cytoscape",
      "model_module_version": "^1.3.3",
      "model_name": "EdgeModel",
      "state": {
       "_model_module_version": "^1.3.3",
       "_view_module_version": "^1.3.3",
       "classes": " directed ",
       "data": {
        "id": "1d6cfb3d-99b9-4e55-97ab-cb7fa42e34c6",
        "source": "16: -1",
        "target": "15: 2"
       },
       "selectable": false
      }
     },
     "92798be6f99243e3841ab3d968107386": {
      "model_module": "jupyter-cytoscape",
      "model_module_version": "^1.3.3",
      "model_name": "EdgeModel",
      "state": {
       "_model_module_version": "^1.3.3",
       "_view_module_version": "^1.3.3",
       "classes": " directed ",
       "data": {
        "id": "5adbcee0-9efc-4041-94bd-c6201bd55354",
        "source": "29: -1",
        "target": "8: 2"
       },
       "selectable": false
      }
     },
     "952ba5666dcd47f6818ba7e53b0134ea": {
      "model_module": "jupyter-cytoscape",
      "model_module_version": "^1.3.3",
      "model_name": "EdgeModel",
      "state": {
       "_model_module_version": "^1.3.3",
       "_view_module_version": "^1.3.3",
       "classes": " directed ",
       "data": {
        "id": "dea39cf9-a9a7-484e-a493-8a73aede9991",
        "source": "4: -t - 4",
        "target": "0: 5*t + 6"
       },
       "selectable": false
      }
     },
     "97a783da881f441c97e30564ac41980a": {
      "model_module": "jupyter-cytoscape",
      "model_module_version": "^1.3.3",
      "model_name": "EdgeModel",
      "state": {
       "_model_module_version": "^1.3.3",
       "_view_module_version": "^1.3.3",
       "classes": " directed ",
       "data": {
        "id": "77387f3e-1754-4b10-9dbd-650e8f244bda",
        "source": "8: 2",
        "target": "1: -t - 4"
       },
       "selectable": false
      }
     },
     "98de0ae5d49842628c8d5fc1d6d9100e": {
      "model_module": "jupyter-cytoscape",
      "model_module_version": "^1.3.3",
      "model_name": "NodeModel",
      "state": {
       "_model_module_version": "^1.3.3",
       "_view_module_version": "^1.3.3",
       "data": {
        "color": "#FFFF00",
        "id": "6: 1",
        "rank": 2
       },
       "grabbable": true,
       "grabbed": false,
       "position": {
        "x": 400,
        "y": 25.806451612903224
       },
       "selectable": false
      }
     },
     "9b2e0cba066b4e3ea3b3eda661cee950": {
      "model_module": "jupyter-cytoscape",
      "model_module_version": "^1.3.3",
      "model_name": "EdgeModel",
      "state": {
       "_model_module_version": "^1.3.3",
       "_view_module_version": "^1.3.3",
       "classes": " directed ",
       "data": {
        "id": "131d857b-7d8f-4eb7-b40a-43c4164e8690",
        "source": "15: 2",
        "target": "4: -t - 4"
       },
       "selectable": false
      }
     },
     "9c6ee2d2fff640ef8471e0274611664c": {
      "model_module": "jupyter-cytoscape",
      "model_module_version": "^1.3.3",
      "model_name": "EdgeModel",
      "state": {
       "_model_module_version": "^1.3.3",
       "_view_module_version": "^1.3.3",
       "classes": " directed ",
       "data": {
        "id": "092221fb-f17a-41e1-839d-6526fb0827c1",
        "source": "30: 4*t + 1",
        "target": "29: -1"
       },
       "selectable": false
      }
     },
     "9dc2717f5e054ae1922063cdd4592098": {
      "model_module": "jupyter-cytoscape",
      "model_module_version": "^1.3.3",
      "model_name": "GraphModel",
      "state": {
       "_adj": {},
       "_model_module_version": "^1.3.3",
       "_view_module": "jupyter-cytoscape",
       "_view_module_version": "^1.3.3"
      }
     },
     "9ee14044826a4bbd9c3d187775f75aea": {
      "model_module": "jupyter-cytoscape",
      "model_module_version": "^1.3.3",
      "model_name": "NodeModel",
      "state": {
       "_model_module_version": "^1.3.3",
       "_view_module_version": "^1.3.3",
       "data": {
        "color": "#FFFF00",
        "id": "23: 2",
        "rank": 2
       },
       "grabbable": true,
       "grabbed": false,
       "position": {
        "x": -500,
        "y": 25.806451612903224
       },
       "selectable": false
      }
     },
     "a375ecd2866a4f5999c3632f17f1628f": {
      "model_module": "jupyter-cytoscape",
      "model_module_version": "^1.3.3",
      "model_name": "EdgeModel",
      "state": {
       "_model_module_version": "^1.3.3",
       "_view_module_version": "^1.3.3",
       "classes": " directed ",
       "data": {
        "id": "f9e50b7c-14f1-46eb-bdf2-900aa5d0cb12",
        "source": "10: -1",
        "target": "9: 2"
       },
       "selectable": false
      }
     },
     "a70ec135da05403ba4f7ea1472b86887": {
      "model_module": "jupyter-cytoscape",
      "model_module_version": "^1.3.3",
      "model_name": "NodeModel",
      "state": {
       "_model_module_version": "^1.3.3",
       "_view_module_version": "^1.3.3",
       "data": {
        "color": "#FFFF00",
        "id": "13: 2",
        "rank": 2
       },
       "grabbable": true,
       "grabbed": false,
       "position": {
        "x": 0,
        "y": 25.806451612903224
       },
       "selectable": false
      }
     },
     "aa3f098b8fc94a6da45ae5bf6a137bbe": {
      "model_module": "jupyter-cytoscape",
      "model_module_version": "^1.3.3",
      "model_name": "EdgeModel",
      "state": {
       "_model_module_version": "^1.3.3",
       "_view_module_version": "^1.3.3",
       "classes": " directed ",
       "data": {
        "id": "0c205239-467b-4a12-b399-00030ae5a9e7",
        "source": "24: -1",
        "target": "23: 2"
       },
       "selectable": false
      }
     },
     "aa7658621d0545d4b343ea7ab4235b68": {
      "model_module": "jupyter-cytoscape",
      "model_module_version": "^1.3.3",
      "model_name": "EdgeModel",
      "state": {
       "_model_module_version": "^1.3.3",
       "_view_module_version": "^1.3.3",
       "classes": " directed ",
       "data": {
        "id": "1e917ad0-c275-4cf0-a7cd-d7e7291888ae",
        "source": "21: 2",
        "target": "11: -2*t - 3"
       },
       "selectable": false
      }
     },
     "ac13a93072154f78b3d7363cae24fe29": {
      "model_module": "jupyter-cytoscape",
      "model_module_version": "^1.3.3",
      "model_name": "EdgeModel",
      "state": {
       "_model_module_version": "^1.3.3",
       "_view_module_version": "^1.3.3",
       "classes": " directed ",
       "data": {
        "id": "0437ec72-6891-414a-b239-b461df1643a8",
        "source": "25: -2*t - 1",
        "target": "6: 1"
       },
       "selectable": false
      }
     },
     "af9f10af9f3d4c889d4c57dd4885483f": {
      "model_module": "jupyter-cytoscape",
      "model_module_version": "^1.3.3",
      "model_name": "NodeModel",
      "state": {
       "_model_module_version": "^1.3.3",
       "_view_module_version": "^1.3.3",
       "data": {
        "color": "#FFD0DF",
        "id": "10: -1",
        "rank": 3
       },
       "grabbable": true,
       "grabbed": false,
       "position": {
        "x": 450,
        "y": -174.19354838709677
       },
       "selectable": false
      }
     },
     "b150addd34084445b58f35e72fbd7138": {
      "model_module": "jupyter-cytoscape",
      "model_module_version": "^1.3.3",
      "model_name": "EdgeModel",
      "state": {
       "_model_module_version": "^1.3.3",
       "_view_module_version": "^1.3.3",
       "classes": " directed ",
       "data": {
        "id": "424a7356-d58f-46bd-9c9b-1b1529fc2d1e",
        "source": "17: -1",
        "target": "12: 2"
       },
       "selectable": false
      }
     },
     "b3ee53129e87412185487dd2f638ef94": {
      "model_module": "jupyter-cytoscape",
      "model_module_version": "^1.3.3",
      "model_name": "EdgeModel",
      "state": {
       "_model_module_version": "^1.3.3",
       "_view_module_version": "^1.3.3",
       "classes": " directed ",
       "data": {
        "id": "1787c7a5-6ea0-4b3a-82a1-c5acbe839c50",
        "source": "22: -1",
        "target": "21: 2"
       },
       "selectable": false
      }
     },
     "b72909f9b0d1460db9e9fc0997b14197": {
      "model_module": "jupyter-cytoscape",
      "model_module_version": "^1.3.3",
      "model_name": "EdgeModel",
      "state": {
       "_model_module_version": "^1.3.3",
       "_view_module_version": "^1.3.3",
       "classes": " directed ",
       "data": {
        "id": "47bba2af-915f-43dd-a4fc-c12e9b25ffcf",
        "source": "27: -1",
        "target": "26: 2"
       },
       "selectable": false
      }
     },
     "ba474f1488004315889ae99593c01c8e": {
      "model_module": "jupyter-cytoscape",
      "model_module_version": "^1.3.3",
      "model_name": "NodeModel",
      "state": {
       "_model_module_version": "^1.3.3",
       "_view_module_version": "^1.3.3",
       "data": {
        "color": "#FFD0DF",
        "id": "14: -1",
        "rank": 3
       },
       "grabbable": true,
       "grabbed": false,
       "position": {
        "x": 350,
        "y": -174.19354838709677
       },
       "selectable": false
      }
     },
     "bb1be23fc4b94c698be234eb19299dd7": {
      "model_module": "jupyter-cytoscape",
      "model_module_version": "^1.3.3",
      "model_name": "EdgeModel",
      "state": {
       "_model_module_version": "^1.3.3",
       "_view_module_version": "^1.3.3",
       "classes": " directed ",
       "data": {
        "id": "94358845-43b1-4cdc-bef4-f66024aeed46",
        "source": "29: -1",
        "target": "19: 2"
       },
       "selectable": false
      }
     },
     "bbc5a2e8db1044e9a78d0ee77e89e422": {
      "model_module": "jupyter-cytoscape",
      "model_module_version": "^1.3.3",
      "model_name": "EdgeModel",
      "state": {
       "_model_module_version": "^1.3.3",
       "_view_module_version": "^1.3.3",
       "classes": " directed ",
       "data": {
        "id": "fb78d7bb-504f-4b13-b3e7-dc948a880f7e",
        "source": "13: 2",
        "target": "7: -2*t - 3"
       },
       "selectable": false
      }
     },
     "bf15a4c76b19457387cdf7a6fec0818b": {
      "model_module": "jupyter-cytoscape",
      "model_module_version": "^1.3.3",
      "model_name": "EdgeModel",
      "state": {
       "_model_module_version": "^1.3.3",
       "_view_module_version": "^1.3.3",
       "classes": " directed ",
       "data": {
        "id": "d8762a05-56a6-4cea-9ef3-9a8c73edf19a",
        "source": "30: 4*t + 1",
        "target": "24: -1"
       },
       "selectable": false
      }
     },
     "c2381133633648198d323e79690fb1d1": {
      "model_module": "jupyter-cytoscape",
      "model_module_version": "^1.3.3",
      "model_name": "EdgeModel",
      "state": {
       "_model_module_version": "^1.3.3",
       "_view_module_version": "^1.3.3",
       "classes": " directed ",
       "data": {
        "id": "8c97ac88-7e23-4eae-a319-0035b4ea7bf3",
        "source": "17: -1",
        "target": "5: 2"
       },
       "selectable": false
      }
     },
     "c281ce9b455e4990a1b4477cd4382789": {
      "model_module": "jupyter-cytoscape",
      "model_module_version": "^1.3.3",
      "model_name": "EdgeModel",
      "state": {
       "_model_module_version": "^1.3.3",
       "_view_module_version": "^1.3.3",
       "classes": " directed ",
       "data": {
        "id": "4dc2624e-3829-4989-9de5-16ec6ec5f629",
        "source": "10: -1",
        "target": "8: 2"
       },
       "selectable": false
      }
     },
     "c358ddeebc8c4bba8f1aee830f0566dd": {
      "model_module": "jupyter-cytoscape",
      "model_module_version": "^1.3.3",
      "model_name": "EdgeModel",
      "state": {
       "_model_module_version": "^1.3.3",
       "_view_module_version": "^1.3.3",
       "classes": " directed ",
       "data": {
        "id": "9b30494e-2810-4022-8eec-5783700f565d",
        "source": "14: -1",
        "target": "12: 2"
       },
       "selectable": false
      }
     },
     "c3715e17effb4148a337e4354f69fc8a": {
      "model_module": "jupyter-cytoscape",
      "model_module_version": "^1.3.3",
      "model_name": "CytoscapeModel",
      "state": {
       "_interaction_handlers": {},
       "_model_module_version": "^1.3.3",
       "_view_module_version": "^1.3.3",
       "auto_ungrabify": false,
       "autolock": false,
       "cytoscape_layout": {
        "name": "preset"
       },
       "cytoscape_style": [
        {
         "selector": "node",
         "style": {
          "background-color": "data(color)",
          "color": "black",
          "font-size": "5px",
          "height": 20,
          "label": "data(id)",
          "text-halign": "center",
          "text-valign": "center",
          "width": 20
         }
        },
        {
         "selector": "edge",
         "style": {
          "curve-style": "straight",
          "line-color": "#999",
          "target-arrow-color": "#0000",
          "target-arrow-shape": "none",
          "width": 1
         }
        }
       ],
       "desktop_tap_threshold": 4,
       "graph": "IPY_MODEL_2b546e0317804956a5ea96f0b4e7fea4",
       "headless": false,
       "hide_edges_on_viewport": false,
       "layout": "IPY_MODEL_2909bc9bafb04716b4d868984497d449",
       "max_zoom": 1e+50,
       "min_zoom": 1e-50,
       "motion_blur": false,
       "motion_blur_opacity": 0.2,
       "panning_enabled": true,
       "pixel_ratio": "auto",
       "rendered_position": {
        "renderedPosition": {
         "x": 100,
         "y": 100
        }
       },
       "selection_type": "single",
       "style_enabled": true,
       "texture_on_viewport": false,
       "tooltip_source": "tooltip",
       "touch_tap_threshold": 8,
       "user_panning_enabled": true,
       "user_zooming_enabled": true,
       "wheel_sensitivity": 1,
       "zoom": 2,
       "zooming_enabled": true
      }
     },
     "c42dbec3a2c64bdabedbf53401c293da": {
      "model_module": "jupyter-cytoscape",
      "model_module_version": "^1.3.3",
      "model_name": "EdgeModel",
      "state": {
       "_model_module_version": "^1.3.3",
       "_view_module_version": "^1.3.3",
       "classes": " directed ",
       "data": {
        "id": "307617c2-5f97-412d-a7b6-8071d2428391",
        "source": "27: -1",
        "target": "20: 1"
       },
       "selectable": false
      }
     },
     "c7025a794363401d83436655bf206c9d": {
      "model_module": "jupyter-cytoscape",
      "model_module_version": "^1.3.3",
      "model_name": "EdgeModel",
      "state": {
       "_model_module_version": "^1.3.3",
       "_view_module_version": "^1.3.3",
       "classes": " directed ",
       "data": {
        "id": "e1b5f783-05d2-4153-99d0-144c105f5e6d",
        "source": "30: 4*t + 1",
        "target": "16: -1"
       },
       "selectable": false
      }
     },
     "cba56e4eee334a8d98f8e327f5a724e3": {
      "model_module": "jupyter-cytoscape",
      "model_module_version": "^1.3.3",
      "model_name": "EdgeModel",
      "state": {
       "_model_module_version": "^1.3.3",
       "_view_module_version": "^1.3.3",
       "classes": " directed ",
       "data": {
        "id": "90723e47-f035-44a3-9a82-475ae8bb970f",
        "source": "22: -1",
        "target": "19: 2"
       },
       "selectable": false
      }
     },
     "cc0a3a93ef9f4e6b84a33fb3a8a1b857": {
      "model_module": "jupyter-cytoscape",
      "model_module_version": "^1.3.3",
      "model_name": "EdgeModel",
      "state": {
       "_model_module_version": "^1.3.3",
       "_view_module_version": "^1.3.3",
       "classes": " directed ",
       "data": {
        "id": "3c4f73a5-6dd9-4573-85ce-8d3561f14b49",
        "source": "28: -1",
        "target": "9: 2"
       },
       "selectable": false
      }
     },
     "ce6764a02ed541549d86df113a6c5c52": {
      "model_module": "jupyter-cytoscape",
      "model_module_version": "^1.3.3",
      "model_name": "EdgeModel",
      "state": {
       "_model_module_version": "^1.3.3",
       "_view_module_version": "^1.3.3",
       "classes": " directed ",
       "data": {
        "id": "89165b01-d6d4-4d9a-8718-5768c338255f",
        "source": "21: 2",
        "target": "18: -t - 4"
       },
       "selectable": false
      }
     },
     "cee381bc060f439c976d66aabbdaa6c1": {
      "model_module": "jupyter-cytoscape",
      "model_module_version": "^1.3.3",
      "model_name": "EdgeModel",
      "state": {
       "_model_module_version": "^1.3.3",
       "_view_module_version": "^1.3.3",
       "classes": " directed ",
       "data": {
        "id": "5dbab10a-8bd2-4555-9de6-6105388f17d2",
        "source": "24: -1",
        "target": "21: 2"
       },
       "selectable": false
      }
     },
     "cf46240121284f998643499f9eae981f": {
      "model_module": "jupyter-cytoscape",
      "model_module_version": "^1.3.3",
      "model_name": "EdgeModel",
      "state": {
       "_model_module_version": "^1.3.3",
       "_view_module_version": "^1.3.3",
       "classes": " directed ",
       "data": {
        "id": "947e320a-f87b-40ad-ae62-adba6956b03a",
        "source": "25: -2*t - 1",
        "target": "19: 2"
       },
       "selectable": false
      }
     },
     "cf5478384eb3478cbe359f66cd1229e2": {
      "model_module": "jupyter-cytoscape",
      "model_module_version": "^1.3.3",
      "model_name": "EdgeModel",
      "state": {
       "_model_module_version": "^1.3.3",
       "_view_module_version": "^1.3.3",
       "classes": " directed ",
       "data": {
        "id": "32d48ff2-4406-4b17-a4f4-126d1d9a5c43",
        "source": "11: -2*t - 3",
        "target": "0: 5*t + 6"
       },
       "selectable": false
      }
     },
     "d5ca34c5b4e74b449007161f48e8a30a": {
      "model_module": "jupyter-cytoscape",
      "model_module_version": "^1.3.3",
      "model_name": "EdgeModel",
      "state": {
       "_model_module_version": "^1.3.3",
       "_view_module_version": "^1.3.3",
       "classes": " directed ",
       "data": {
        "id": "f54ce72f-ff74-4574-9915-d7f6099382af",
        "source": "6: 1",
        "target": "4: -t - 4"
       },
       "selectable": false
      }
     },
     "d746b76c55e84725b2d54fe18f75cec5": {
      "model_module": "jupyter-cytoscape",
      "model_module_version": "^1.3.3",
      "model_name": "EdgeModel",
      "state": {
       "_model_module_version": "^1.3.3",
       "_view_module_version": "^1.3.3",
       "classes": " directed ",
       "data": {
        "id": "0a63c18c-019b-490d-8350-341cbe8f234d",
        "source": "13: 2",
        "target": "11: -2*t - 3"
       },
       "selectable": false
      }
     },
     "de329881637144cc9383e237f718b2bf": {
      "model_module": "jupyter-cytoscape",
      "model_module_version": "^1.3.3",
      "model_name": "EdgeModel",
      "state": {
       "_model_module_version": "^1.3.3",
       "_view_module_version": "^1.3.3",
       "classes": " directed ",
       "data": {
        "id": "ddd2d634-0669-4b03-8ac9-7bd56e029b2c",
        "source": "24: -1",
        "target": "15: 2"
       },
       "selectable": false
      }
     },
     "e117583dbb084b1cae59e154466ac353": {
      "model_module": "jupyter-cytoscape",
      "model_module_version": "^1.3.3",
      "model_name": "NodeModel",
      "state": {
       "_model_module_version": "^1.3.3",
       "_view_module_version": "^1.3.3",
       "data": {
        "color": "#FFD0DF",
        "id": "27: -1",
        "rank": 3
       },
       "grabbable": true,
       "grabbed": false,
       "position": {
        "x": -250,
        "y": -174.19354838709677
       },
       "selectable": false
      }
     },
     "e478fbf730db4aeba7b44584982ed93d": {
      "model_module": "jupyter-cytoscape",
      "model_module_version": "^1.3.3",
      "model_name": "EdgeModel",
      "state": {
       "_model_module_version": "^1.3.3",
       "_view_module_version": "^1.3.3",
       "classes": " directed ",
       "data": {
        "id": "2702766a-cb07-4610-b53e-78d1b69dc30c",
        "source": "5: 2",
        "target": "1: -t - 4"
       },
       "selectable": false
      }
     },
     "e47b8ec624ad4c1ba203edfeaeae0bb9": {
      "model_module": "jupyter-cytoscape",
      "model_module_version": "^1.3.3",
      "model_name": "EdgeModel",
      "state": {
       "_model_module_version": "^1.3.3",
       "_view_module_version": "^1.3.3",
       "classes": " directed ",
       "data": {
        "id": "7cd2e60f-960e-4d6f-9e82-7ed187ff563f",
        "source": "17: -1",
        "target": "15: 2"
       },
       "selectable": false
      }
     },
     "e5da0f38f4e2497d9acfb5795053cda8": {
      "model_module": "jupyter-cytoscape",
      "model_module_version": "^1.3.3",
      "model_name": "EdgeModel",
      "state": {
       "_model_module_version": "^1.3.3",
       "_view_module_version": "^1.3.3",
       "classes": " directed ",
       "data": {
        "id": "0e76ba61-3c6c-4869-8df9-9f3fe6b196d2",
        "source": "30: 4*t + 1",
        "target": "17: -1"
       },
       "selectable": false
      }
     },
     "e5f40d1a4b4747cb8cde28d718beb3b9": {
      "model_module": "jupyter-cytoscape",
      "model_module_version": "^1.3.3",
      "model_name": "NodeModel",
      "state": {
       "_model_module_version": "^1.3.3",
       "_view_module_version": "^1.3.3",
       "data": {
        "color": "#FFD0DF",
        "id": "22: -1",
        "rank": 3
       },
       "grabbable": true,
       "grabbed": false,
       "position": {
        "x": 50,
        "y": -174.19354838709677
       },
       "selectable": false
      }
     },
     "e6838b502bb64d388beb1a73a4df510e": {
      "model_module": "jupyter-cytoscape",
      "model_module_version": "^1.3.3",
      "model_name": "EdgeModel",
      "state": {
       "_model_module_version": "^1.3.3",
       "_view_module_version": "^1.3.3",
       "classes": " directed ",
       "data": {
        "id": "5ee9b22a-b7d7-4a21-9010-d19cd3268d30",
        "source": "26: 2",
        "target": "18: -t - 4"
       },
       "selectable": false
      }
     },
     "ea9348265232425ab3fd95aa601802b4": {
      "model_module": "jupyter-cytoscape",
      "model_module_version": "^1.3.3",
      "model_name": "EdgeModel",
      "state": {
       "_model_module_version": "^1.3.3",
       "_view_module_version": "^1.3.3",
       "classes": " directed ",
       "data": {
        "id": "3bea1c27-ddb9-40a7-a44b-9a1aeab37f00",
        "source": "25: -2*t - 1",
        "target": "23: 2"
       },
       "selectable": false
      }
     },
     "f0141239d999429cade2d1ee2a2c8ad3": {
      "model_module": "jupyter-cytoscape",
      "model_module_version": "^1.3.3",
      "model_name": "EdgeModel",
      "state": {
       "_model_module_version": "^1.3.3",
       "_view_module_version": "^1.3.3",
       "classes": " directed ",
       "data": {
        "id": "196bb9b7-267e-4c9d-98aa-8d6be06ab38d",
        "source": "30: 4*t + 1",
        "target": "27: -1"
       },
       "selectable": false
      }
     },
     "f35fd2615e344e238f528f5a211e4af8": {
      "model_module": "jupyter-cytoscape",
      "model_module_version": "^1.3.3",
      "model_name": "EdgeModel",
      "state": {
       "_model_module_version": "^1.3.3",
       "_view_module_version": "^1.3.3",
       "classes": " directed ",
       "data": {
        "id": "96f1552d-d78d-48c6-81e1-7a965baff894",
        "source": "9: 2",
        "target": "7: -2*t - 3"
       },
       "selectable": false
      }
     },
     "f5523c44efe943f8a7eeef3f26c54809": {
      "model_module": "jupyter-cytoscape",
      "model_module_version": "^1.3.3",
      "model_name": "NodeModel",
      "state": {
       "_model_module_version": "^1.3.3",
       "_view_module_version": "^1.3.3",
       "data": {
        "color": "#FFFF00",
        "id": "15: 2",
        "rank": 2
       },
       "grabbable": true,
       "grabbed": false,
       "position": {
        "x": -100,
        "y": 25.806451612903224
       },
       "selectable": false
      }
     },
     "fa67f87cb0ee499c90951915b458842d": {
      "model_module": "jupyter-cytoscape",
      "model_module_version": "^1.3.3",
      "model_name": "EdgeModel",
      "state": {
       "_model_module_version": "^1.3.3",
       "_view_module_version": "^1.3.3",
       "classes": " directed ",
       "data": {
        "id": "8a23955d-399b-4b0f-ae34-0ec59d85d296",
        "source": "20: 1",
        "target": "18: -t - 4"
       },
       "selectable": false
      }
     },
     "feaf8554696f4e00972e6bba54ea6037": {
      "model_module": "jupyter-cytoscape",
      "model_module_version": "^1.3.3",
      "model_name": "NodeModel",
      "state": {
       "_model_module_version": "^1.3.3",
       "_view_module_version": "^1.3.3",
       "data": {
        "color": "#DFDF00",
        "id": "30: 4*t + 1",
        "rank": 4
       },
       "grabbable": true,
       "grabbed": false,
       "position": {
        "x": 0,
        "y": -374.1935483870968
       },
       "selectable": false
      }
     }
    },
    "version_major": 2,
    "version_minor": 0
   }
  }
 },
 "nbformat": 4,
 "nbformat_minor": 4
}
