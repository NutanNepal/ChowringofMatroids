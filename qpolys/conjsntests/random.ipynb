{
 "cells": [
  {
   "cell_type": "code",
   "execution_count": 5,
   "metadata": {
    "vscode": {
     "languageId": "sage"
    }
   },
   "outputs": [
    {
     "data": {
      "text/plain": [
       "[array([ 1,  0,  1,  1, -4,  5, -4]),\n",
       " array([ 0,  0,  0,  1,  0,  1,  1, -4,  5, -4,  0,  0,  0])]"
      ]
     },
     "execution_count": 5,
     "metadata": {},
     "output_type": "execute_result"
    }
   ],
   "source": [
    "import numpy as np\n",
    "\n",
    "p = [1, 2, 3, 4]\n",
    "q = [-1, 2, -2, 1]\n",
    "r = 7\n",
    "\n",
    "def f(p, q):\n",
    "    return np.convolve(p, list(reversed(q)))\n",
    "\n",
    "def pf(p, q, r):\n",
    "    return np.convolve(p + [0]*(r- len(p)), [0]*(r- len(q)) + list(reversed(q)))\n",
    "\n",
    "[f(p, q), pf(p, q, r)]"
   ]
  },
  {
   "cell_type": "code",
   "execution_count": 6,
   "metadata": {
    "vscode": {
     "languageId": "sage"
    }
   },
   "outputs": [
    {
     "data": {
      "text/plain": [
       "1"
      ]
     },
     "execution_count": 6,
     "metadata": {},
     "output_type": "execute_result"
    }
   ],
   "source": [
    "q[-1]"
   ]
  }
 ],
 "metadata": {
  "kernelspec": {
   "display_name": "SageMath 10.3",
   "language": "sage",
   "name": "sagemath"
  },
  "language_info": {
   "codemirror_mode": {
    "name": "ipython",
    "version": 3
   },
   "file_extension": ".py",
   "mimetype": "text/x-python",
   "name": "python",
   "nbconvert_exporter": "python",
   "pygments_lexer": "ipython3",
   "version": "3.11.9"
  }
 },
 "nbformat": 4,
 "nbformat_minor": 2
}
