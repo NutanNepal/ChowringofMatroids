{
 "cells": [
  {
   "cell_type": "code",
   "execution_count": 68,
   "metadata": {
    "vscode": {
     "languageId": "sage"
    }
   },
   "outputs": [],
   "source": [
    "import sys\n",
    "sys.path.append('..')\n",
    "from db1 import *\n",
    "\n",
    "R = PolynomialRing(QQ, 't')\n",
    "S = PolynomialRing(ZZ, 't')\n",
    "t = R.gen()\n",
    "\n",
    "def is_paving(M):\n",
    "    n = M.size()\n",
    "    r = M.rank()\n",
    "    return (len(M.independent_r_sets(r-1)) == binomial(n, r-1))\n",
    "\n",
    "def q_kl(k, h):\n",
    "    return kazhdan_lusztig_inverse_uniform(k, h+1) - kazhdan_lusztig_inverse_uniform(k-1, h)\n",
    "\n",
    "def kl_inverse_fast(M):\n",
    "    if M.loops(): return R(0)\n",
    "    k, n = M.rank(), M.size()\n",
    "    if k == n or k == 0: return R(1)\n",
    "    if not M.is_connected():\n",
    "        ans = R(1)\n",
    "        CC = M.components()\n",
    "        for N in CC:\n",
    "            res = M.delete(M.groundset() - N)\n",
    "            ans = ans * kl_inverse_fast(res)\n",
    "        return ans\n",
    "\n",
    "    if is_paving(M):\n",
    "        return kl_inverse_paving(M)\n",
    "    if is_paving(M.dual()):\n",
    "        return kl_inverse_copaving(M)\n",
    "    \"\"\"\n",
    "    if n <= 8 and M.is_connected():\n",
    "        for i in range(len(mat[n][k])):\n",
    "            if mat[n][k][i].is_isomorphic(M):\n",
    "                return ikl[n][k][i]\n",
    "    \"\"\"\n",
    "    LF = M.lattice_of_flats()\n",
    "    ans = R(0)\n",
    "    for F in LF:\n",
    "        if len(F) != n:\n",
    "            Res = M.delete(M.groundset() - F)\n",
    "            Con = M.contract(F)\n",
    "            chi = characteristic_polynomial(Con)(1/t) * t**(Con.rank())\n",
    "            PPP = kl_inverse_fast(Res)(t) * (-1)**(Res.rank())\n",
    "            ans = ans + chi * PPP\n",
    "    assert (t**k * ans(1/t)).numerator() == -ans(t)\n",
    "    ans = ans.numerator() * (-1)**(k+1)\n",
    "    return ans.truncate((k+1)//2)\n",
    "\n",
    "def kazhdan_lusztig_inverse_uniform(k, n):\n",
    "    if k == n:\n",
    "        return R(1)\n",
    "    d = k\n",
    "    m = n - d\n",
    "    ans = 0\n",
    "    for j in range((d-1)//2 + 1):\n",
    "        ans = ans + m * (d-2*j)/((m+j) * (m+d-j)) * binomial(d, j) * t**j\n",
    "    return ans * binomial(m+d, d)\n",
    "\n",
    "def kl_inverse_paving(M):\n",
    "    assert is_paving(M)\n",
    "    n = M.size()\n",
    "    k = M.rank()\n",
    "    ans = kazhdan_lusztig_inverse_uniform(k, n)\n",
    "    for H in M.hyperplanes():\n",
    "        h = len(H)\n",
    "        if h >= k:\n",
    "            ans = ans - q_kl(k, h)\n",
    "    return ans\n",
    "\n",
    "def kl_inverse_copaving(M):\n",
    "    assert is_paving(M.dual())\n",
    "    n = M.size()\n",
    "    k = M.rank()\n",
    "    ans = kazhdan_lusztig_inverse_uniform(k, n)\n",
    "    for H in M.dual().hyperplanes():\n",
    "        h = len(H)\n",
    "        if h >= n-k:\n",
    "            ans = ans - kli_vtilde_dual(n-k, h, n) + kazhdan_lusztig_inverse_uniform(h-n+k+1, h) * kazhdan_lusztig_inverse_uniform(n-h-1, n-h)\n",
    "    return ans\n",
    "\n",
    "def kli_vtilde_dual(k, h, n):\n",
    "    return helper1(n-k, h, n)\n",
    "\n",
    "def helper1(k, h, n):\n",
    "    c = n - h\n",
    "    ans1 = kazhdan_lusztig_inverse_uniform(k, n)\n",
    "    ans2 = helper2(c, k, n)\n",
    "    ans3 = kazhdan_lusztig_inverse_uniform(k-c+1, h) * kazhdan_lusztig_inverse_uniform(c-1, c)\n",
    "    return ans1 - ans2 + ans3\n",
    "\n",
    "def helper2(c, k, n):\n",
    "    h = n - c\n",
    "    ans = 0\n",
    "    for j in range(k-c+1):\n",
    "        ans = ans + binomial(n-c, j) * (-1)**(c-1+j) * kazhdan_lusztig_inverse_uniform(c-1, c) * t**(k-c-j+1) * chuly(k-c-j+1, n-c-j)(1/t)\n",
    "    for i in range(c-1):\n",
    "        for j in range(k-i):\n",
    "            ans = ans + binomial(c, i) * binomial(n-c, j) * (-1)**(i+j) * t**(k-i-j) * helper4(c, k, n, i, j)(1/t)\n",
    "    ans = ans.numerator().truncate((k-1)//2 + 1)\n",
    "    if ans[0] < 0:\n",
    "        ans = -ans\n",
    "    return ans\n",
    "\n",
    "def helper3(c, k, n):\n",
    "    ans = 0\n",
    "    for j in range(k-c+1):\n",
    "        ans = ans + binomial(n-c, j) * kazhdan_lusztig_uniform_matroid(c-1, c) * (-1)**(k-c-j+1) * kazhdan_lusztig_inverse_uniform(k-c-j+1, n-c-j)\n",
    "    for i in range(c-1):\n",
    "        for j in range(k-i):\n",
    "            ans = ans + binomial(c, i) * binomial(n-c, j) * (-1)**(k-i-j) * helper2(c-i, k-i-j, n-i-j)\n",
    "    return -ans\n",
    "\n",
    "def helper4(c, k, n, i, j):\n",
    "    ans = 0\n",
    "    for l in range(c-i-1):\n",
    "        ans = ans + (-1)**l * (t-1)**(max(n-i-j-l-1, 0))\n",
    "    for u in range(n-k-1):\n",
    "        ans = doit_once(ans)\n",
    "    return ans\n",
    "\n",
    "def chuly(a, b):\n",
    "    ans = (t-1)**b\n",
    "    for i in range(b-a):\n",
    "        ans = doit_once(ans)\n",
    "    return ans\n",
    "\n",
    "def doit_once(p):\n",
    "    p = p // t**2\n",
    "    p = p * t\n",
    "    p = p - p(1)\n",
    "    return p\n",
    "\n",
    "def lorenzo(k, h, n):\n",
    "    c = n - h\n",
    "    ans1 = kazhdan_lusztig_uniform_matroid(k, n) + kazhdan_lusztig_uniform_matroid(k-c+1, h) * kazhdan_lusztig_uniform_matroid(c-1, c)\n",
    "    ans2 = helper3(c, k, n)\n",
    "    return ans1 - ans2"
   ]
  },
  {
   "cell_type": "code",
   "execution_count": 69,
   "metadata": {
    "vscode": {
     "languageId": "sage"
    }
   },
   "outputs": [
    {
     "data": {
      "image/png": "[encoded data removed]",
      "text/plain": [
       "Graphics object consisting of 19 graphics primitives"
      ]
     },
     "metadata": {},
     "output_type": "display_data"
    }
   ],
   "source": [
    "n = 8\n",
    "\n",
    "G = graphs.CycleGraph(n)\n",
    "G.add_edges({(0, 2), (3, 7)})\n",
    "e1, e2 = frozenset({(0, 2)}), frozenset({(3,7)})\n",
    "G.show()\n"
   ]
  },
  {
   "cell_type": "code",
   "execution_count": 70,
   "metadata": {
    "vscode": {
     "languageId": "sage"
    }
   },
   "outputs": [
    {
     "data": {
      "text/plain": [
       "[frozenset({(0, 1), (0, 2), (1, 2)}),\n",
       " frozenset({(0, 2), (0, 7), (2, 3), (3, 7)}),\n",
       " frozenset({(0, 1), (0, 2), (0, 7), (1, 2), (2, 3), (3, 7)}),\n",
       " frozenset({(0, 2), (0, 7), (2, 3), (3, 4), (3, 7), (4, 5), (5, 6), (6, 7)}),\n",
       " frozenset({(0, 1),\n",
       "            (0, 2),\n",
       "            (0, 7),\n",
       "            (1, 2),\n",
       "            (2, 3),\n",
       "            (3, 4),\n",
       "            (3, 7),\n",
       "            (4, 5),\n",
       "            (5, 6),\n",
       "            (6, 7)})]"
      ]
     },
     "execution_count": 70,
     "metadata": {},
     "output_type": "execute_result"
    }
   ],
   "source": [
    "M = Matroid(G)\n",
    "cc = M.circuit_closures()\n",
    "[x for c in cc.keys() for x in cc[c] if set(e1).issubset(x)]"
   ]
  }
 ],
 "metadata": {
  "kernelspec": {
   "display_name": "SageMath 10.3",
   "language": "sage",
   "name": "SageMath-10.3"
  },
  "language_info": {
   "codemirror_mode": {
    "name": "ipython",
    "version": 3
   },
   "file_extension": ".py",
   "mimetype": "text/x-python",
   "name": "python",
   "nbconvert_exporter": "python",
   "pygments_lexer": "ipython3",
   "version": "3.11.8"
  }
 },
 "nbformat": 4,
 "nbformat_minor": 2
}
