{
 "cells": [
  {
   "cell_type": "code",
   "execution_count": 79,
   "metadata": {
    "vscode": {
     "languageId": "sage"
    }
   },
   "outputs": [],
   "source": [
    "import sys\n",
    "sys.path.append('..')\n",
    "from db1 import *\n",
    "\n",
    "R = PolynomialRing(QQ, 't')\n",
    "S = PolynomialRing(ZZ, 't')\n",
    "t = R.gen()\n",
    "\n",
    "def is_paving(M):\n",
    "    n = M.size()\n",
    "    r = M.rank()\n",
    "    return (len(M.independent_r_sets(r-1)) == binomial(n, r-1))\n",
    "\n",
    "def q_kl(k, h):\n",
    "    return kazhdan_lusztig_inverse_uniform(k, h+1) - kazhdan_lusztig_inverse_uniform(k-1, h)\n",
    "\n",
    "def kl_inverse_fast(M):\n",
    "    if M.loops(): return R(0)\n",
    "    k, n = M.rank(), M.size()\n",
    "    if k == n or k == 0: return R(1)\n",
    "    if not M.is_connected():\n",
    "        ans = R(1)\n",
    "        CC = M.components()\n",
    "        for N in CC:\n",
    "            res = M.delete(M.groundset() - N)\n",
    "            ans = ans * kl_inverse_fast(res)\n",
    "        return ans\n",
    "\n",
    "    if is_paving(M):\n",
    "        return kl_inverse_paving(M)\n",
    "    if is_paving(M.dual()):\n",
    "        return kl_inverse_copaving(M)\n",
    "    \"\"\"\n",
    "    if n <= 8 and M.is_connected():\n",
    "        for i in range(len(mat[n][k])):\n",
    "            if mat[n][k][i].is_isomorphic(M):\n",
    "                return ikl[n][k][i]\n",
    "    \"\"\"\n",
    "    LF = M.lattice_of_flats()\n",
    "    ans = R(0)\n",
    "    for F in LF:\n",
    "        if len(F) != n:\n",
    "            Res = M.delete(M.groundset() - F)\n",
    "            Con = M.contract(F)\n",
    "            chi = characteristic_polynomial(Con)(1/t) * t**(Con.rank())\n",
    "            PPP = kl_inverse_fast(Res)(t) * (-1)**(Res.rank())\n",
    "            ans = ans + chi * PPP\n",
    "    assert (t**k * ans(1/t)).numerator() == -ans(t)\n",
    "    ans = ans.numerator() * (-1)**(k+1)\n",
    "    return ans.truncate((k+1)//2)\n",
    "\n",
    "def kazhdan_lusztig_inverse_uniform(k, n):\n",
    "    if k == n:\n",
    "        return R(1)\n",
    "    d = k\n",
    "    m = n - d\n",
    "    ans = 0\n",
    "    for j in range((d-1)//2 + 1):\n",
    "        ans = ans + m * (d-2*j)/((m+j) * (m+d-j)) * binomial(d, j) * t**j\n",
    "    return ans * binomial(m+d, d)\n",
    "\n",
    "def kl_inverse_paving(M):\n",
    "    assert is_paving(M)\n",
    "    n = M.size()\n",
    "    k = M.rank()\n",
    "    ans = kazhdan_lusztig_inverse_uniform(k, n)\n",
    "    for H in M.hyperplanes():\n",
    "        h = len(H)\n",
    "        if h >= k:\n",
    "            ans = ans - q_kl(k, h)\n",
    "    return ans\n",
    "\n",
    "def kl_inverse_copaving(M):\n",
    "    assert is_paving(M.dual())\n",
    "    n = M.size()\n",
    "    k = M.rank()\n",
    "    ans = kazhdan_lusztig_inverse_uniform(k, n)\n",
    "    for H in M.dual().hyperplanes():\n",
    "        h = len(H)\n",
    "        if h >= n-k:\n",
    "            ans = ans - kli_vtilde_dual(n-k, h, n) + kazhdan_lusztig_inverse_uniform(h-n+k+1, h) * kazhdan_lusztig_inverse_uniform(n-h-1, n-h)\n",
    "    return ans\n",
    "\n",
    "def kli_vtilde_dual(k, h, n):\n",
    "    return helper1(n-k, h, n)\n",
    "\n",
    "def helper1(k, h, n):\n",
    "    c = n - h\n",
    "    ans1 = kazhdan_lusztig_inverse_uniform(k, n)\n",
    "    ans2 = helper2(c, k, n)\n",
    "    ans3 = kazhdan_lusztig_inverse_uniform(k-c+1, h) * kazhdan_lusztig_inverse_uniform(c-1, c)\n",
    "    return ans1 - ans2 + ans3\n",
    "\n",
    "def helper2(c, k, n):\n",
    "    h = n - c\n",
    "    ans = 0\n",
    "    for j in range(k-c+1):\n",
    "        ans = ans + binomial(n-c, j) * (-1)**(c-1+j) * kazhdan_lusztig_inverse_uniform(c-1, c) * t**(k-c-j+1) * chuly(k-c-j+1, n-c-j)(1/t)\n",
    "    for i in range(c-1):\n",
    "        for j in range(k-i):\n",
    "            ans = ans + binomial(c, i) * binomial(n-c, j) * (-1)**(i+j) * t**(k-i-j) * helper4(c, k, n, i, j)(1/t)\n",
    "    ans = ans.numerator().truncate((k-1)//2 + 1)\n",
    "    if ans[0] < 0:\n",
    "        ans = -ans\n",
    "    return ans\n",
    "\n",
    "def helper3(c, k, n):\n",
    "    ans = 0\n",
    "    for j in range(k-c+1):\n",
    "        ans = ans + binomial(n-c, j) * kazhdan_lusztig_uniform_matroid(c-1, c) * (-1)**(k-c-j+1) * kazhdan_lusztig_inverse_uniform(k-c-j+1, n-c-j)\n",
    "    for i in range(c-1):\n",
    "        for j in range(k-i):\n",
    "            ans = ans + binomial(c, i) * binomial(n-c, j) * (-1)**(k-i-j) * helper2(c-i, k-i-j, n-i-j)\n",
    "    return -ans\n",
    "\n",
    "def helper4(c, k, n, i, j):\n",
    "    ans = 0\n",
    "    for l in range(c-i-1):\n",
    "        ans = ans + (-1)**l * (t-1)**(max(n-i-j-l-1, 0))\n",
    "    for u in range(n-k-1):\n",
    "        ans = doit_once(ans)\n",
    "    return ans\n",
    "\n",
    "def chuly(a, b):\n",
    "    ans = (t-1)**b\n",
    "    for i in range(b-a):\n",
    "        ans = doit_once(ans)\n",
    "    return ans\n",
    "\n",
    "def doit_once(p):\n",
    "    p = p // t**2\n",
    "    p = p * t\n",
    "    p = p - p(1)\n",
    "    return p\n",
    "\n",
    "def lorenzo(k, h, n):\n",
    "    c = n - h\n",
    "    ans1 = kazhdan_lusztig_uniform_matroid(k, n) + kazhdan_lusztig_uniform_matroid(k-c+1, h) * kazhdan_lusztig_uniform_matroid(c-1, c)\n",
    "    ans2 = helper3(c, k, n)\n",
    "    return ans1 - ans2\n",
    "\n",
    "def kl(M):\n",
    "    return M.lattice_of_flats().kazhdan_lusztig_polynomial()\n",
    "invkl = kl_inverse_fast"
   ]
  },
  {
   "cell_type": "code",
   "execution_count": 80,
   "metadata": {
    "vscode": {
     "languageId": "sage"
    }
   },
   "outputs": [
    {
     "data": {
      "text/plain": [
       "E[frozenset({0, 1, 2})]"
      ]
     },
     "execution_count": 80,
     "metadata": {},
     "output_type": "execute_result"
    }
   ],
   "source": [
    "P = LaurentPolynomialRing(ZZ, 'x')\n",
    "x = P.gen() \n",
    "M = matroids.CompleteGraphic(3)\n",
    "e = next(x for x in M.groundset() if x  not in M.coloops())\n",
    "Mdel_e = M.delete(e)\n",
    "L = M.lattice_of_flats()\n",
    "Ldel_e = M.delete(e).lattice_of_flats()\n",
    "\n",
    "Eq_M = L.quantum_moebius_algebra(x)\n",
    "Eq_Mdel_e = Ldel_e.quantum_moebius_algebra(x)\n",
    "unit = Eq_M.one()\n",
    "\n",
    "kl = Eq_M.kazhdan_lusztig()\n",
    "kl_basis = kl.basis()\n",
    "kl_Mdel_e = Eq_Mdel_e.kazhdan_lusztig()\n",
    "kl_Mdel_e_basis = kl_Mdel_e.basis()\n",
    "\n",
    "E = Eq_M.natural()\n",
    "E_basis = E.basis()\n",
    "E_Mdel_e = Eq_Mdel_e.natural()\n",
    "E_Mdel_e_basis = E_Mdel_e.basis()\n",
    "\n",
    "C = Eq_M.characteristic_basis()\n",
    "C_basis = C.basis()\n",
    "\n",
    "L.kazhdan_lusztig_polynomial()(x)\n",
    "E(kl_basis.values()[-1])"
   ]
  },
  {
   "cell_type": "code",
   "execution_count": 81,
   "metadata": {
    "vscode": {
     "languageId": "sage"
    }
   },
   "outputs": [
    {
     "data": {
      "text/plain": [
       "{KL[frozenset()]: 2*E[frozenset()] + x*E[frozenset({2})] + x*E[frozenset({1})] + x^2*E[frozenset({1, 2})],\n",
       " KL[frozenset({2})]: E[frozenset({2})] + x*E[frozenset({1, 2})],\n",
       " KL[frozenset({1})]: E[frozenset({1})] + x*E[frozenset({1, 2})],\n",
       " KL[frozenset({0})]: (x^-1)*E[frozenset()] + x*E[frozenset({1, 2})],\n",
       " KL[frozenset({0, 1, 2})]: E[frozenset({1, 2})]}"
      ]
     },
     "execution_count": 81,
     "metadata": {},
     "output_type": "execute_result"
    }
   ],
   "source": [
    "def delta_flat(F):\n",
    "    F_del_e = frozenset(set(F) - {e})\n",
    "    return Eq_Mdel_e(x^( - M.rank(F) + Mdel_e.rank(F_del_e)) * E_Mdel_e_basis[F_del_e])\n",
    "    \n",
    "def delta(elem):\n",
    "    rep = E(elem)\n",
    "    rev = {value: key for key, value in E_basis.items()}\n",
    "    decom = {monomial: coeff for monomial, coeff in zip(rep.monomials(), rep.coefficients())}\n",
    "    return Eq_Mdel_e(sum(decom[F] * delta_flat(rev[F]) for F in decom))\n",
    "\n",
    "def sum_coeffs(elem):\n",
    "    return sum(elem.coefficients())\n",
    "\n",
    "{kl_basis.values()[i]: delta(kl_basis.values()[i]) for i in range(len(kl_basis))}"
   ]
  },
  {
   "cell_type": "code",
   "execution_count": 82,
   "metadata": {
    "vscode": {
     "languageId": "sage"
    }
   },
   "outputs": [
    {
     "data": {
      "text/plain": [
       "[2 + 2*x + x^2, 1 + x, 1 + x, x^-1 + x, 1]"
      ]
     },
     "execution_count": 82,
     "metadata": {},
     "output_type": "execute_result"
    }
   ],
   "source": [
    "[sum_coeffs(delta(kl_basis.values()[i])) for i in range(len(kl_basis))]"
   ]
  },
  {
   "cell_type": "code",
   "execution_count": 83,
   "metadata": {
    "vscode": {
     "languageId": "sage"
    }
   },
   "outputs": [
    {
     "data": {
      "text/plain": [
       "2"
      ]
     },
     "execution_count": 83,
     "metadata": {},
     "output_type": "execute_result"
    }
   ],
   "source": [
    "Q = P(invkl(M))\n",
    "Q"
   ]
  },
  {
   "cell_type": "code",
   "execution_count": 84,
   "metadata": {
    "vscode": {
     "languageId": "sage"
    }
   },
   "outputs": [
    {
     "name": "stdout",
     "output_type": "stream",
     "text": [
      "[1, -x, -x, -x, 2*x^2]\n"
     ]
    },
    {
     "data": {
      "text/plain": [
       "KL[frozenset()] - x*KL[frozenset({2})] - x*KL[frozenset({1})] - x*KL[frozenset({0})] + 2*x^2*KL[frozenset({0, 1, 2})]"
      ]
     },
     "execution_count": 84,
     "metadata": {},
     "output_type": "execute_result"
    }
   ],
   "source": [
    "P(x^M.rank() * Q(x^-2))\n",
    "i = 0\n",
    "\n",
    "s = []\n",
    "for f in L.principal_order_filter(L[i]):\n",
    "    s.append(P((-x)^(M.rank(f) - M.rank(L[i])) * invkl(M.delete(M.groundset() - f).contract(L[i]))(x^-2)))\n",
    "\n",
    "print(s)\n",
    "kl(E_basis.values()[i])"
   ]
  },
  {
   "cell_type": "code",
   "execution_count": 85,
   "metadata": {
    "notebookRunGroups": {
     "groupValue": "2"
    },
    "vscode": {
     "languageId": "sage"
    }
   },
   "outputs": [],
   "source": [
    "def change_of_basis(old, new, f):\n",
    "    cob = []\n",
    "    for b in old:\n",
    "        k = f(b)\n",
    "        coefficients_dict = {monomial: coeff for monomial, coeff in zip(k.monomials(), k.coefficients())}\n",
    "        row = [coefficients_dict.get(Kb, 0) for Kb in new]\n",
    "        cob.append(row)\n",
    "    return cob\n",
    "\n",
    "cob_e2kl = change_of_basis(E_basis, kl_basis, kl)       # e = A * kl\n",
    "cob_kl2e = change_of_basis(kl_basis, E_basis, E)        # kl = A * e\n",
    "cob_e2c = change_of_basis(E_basis, C_basis, C)\n",
    "cob_c2e = change_of_basis(C_basis, E_basis, E)\n",
    "cob_kl2c = change_of_basis(kl_basis, C_basis, C)\n",
    "cob_c2kl = change_of_basis(C_basis, kl_basis, kl)"
   ]
  },
  {
   "cell_type": "code",
   "execution_count": 86,
   "metadata": {
    "vscode": {
     "languageId": "sage"
    }
   },
   "outputs": [
    {
     "name": "stdout",
     "output_type": "stream",
     "text": [
      "[1, -x, -x, -x, 2*x^2]\n",
      "[0, 1, 0, 0, -x]\n",
      "[0, 0, 1, 0, -x]\n",
      "[0, 0, 0, 1, -x]\n",
      "[0, 0, 0, 0, 1]\n"
     ]
    }
   ],
   "source": [
    "for f in cob_e2kl:\n",
    "    print(f)"
   ]
  },
  {
   "cell_type": "code",
   "execution_count": 87,
   "metadata": {
    "vscode": {
     "languageId": "sage"
    }
   },
   "outputs": [
    {
     "name": "stdout",
     "output_type": "stream",
     "text": [
      "[1, x, x, x, x^2]\n",
      "[0, 1, 0, 0, x]\n",
      "[0, 0, 1, 0, x]\n",
      "[0, 0, 0, 1, x]\n",
      "[0, 0, 0, 0, 1]\n"
     ]
    }
   ],
   "source": [
    "for f in cob_kl2e:\n",
    "    print(f)"
   ]
  },
  {
   "cell_type": "code",
   "execution_count": 88,
   "metadata": {
    "vscode": {
     "languageId": "sage"
    }
   },
   "outputs": [
    {
     "name": "stdout",
     "output_type": "stream",
     "text": [
      "[1, -1 + x, -1 + x, -1 + x, 2 - 3*x + x^2]\n",
      "[0, 1, 0, 0, -1 + x]\n",
      "[0, 0, 1, 0, -1 + x]\n",
      "[0, 0, 0, 1, -1 + x]\n",
      "[0, 0, 0, 0, 1]\n"
     ]
    }
   ],
   "source": [
    "for f in cob_c2e:\n",
    "    print(f)"
   ]
  },
  {
   "cell_type": "code",
   "execution_count": 89,
   "metadata": {
    "vscode": {
     "languageId": "sage"
    }
   },
   "outputs": [
    {
     "name": "stdout",
     "output_type": "stream",
     "text": [
      "[1, 1 - x, 1 - x, 1 - x, 1 - 3*x + 2*x^2]\n",
      "[0, 1, 0, 0, 1 - x]\n",
      "[0, 0, 1, 0, 1 - x]\n",
      "[0, 0, 0, 1, 1 - x]\n",
      "[0, 0, 0, 0, 1]\n"
     ]
    }
   ],
   "source": [
    "for f in cob_e2c:\n",
    "    print(f)"
   ]
  },
  {
   "cell_type": "code",
   "execution_count": 90,
   "metadata": {
    "vscode": {
     "languageId": "sage"
    }
   },
   "outputs": [
    {
     "name": "stdout",
     "output_type": "stream",
     "text": [
      "[1, 1, 1, 1, 1]\n",
      "[0, 1, 0, 0, 1]\n",
      "[0, 0, 1, 0, 1]\n",
      "[0, 0, 0, 1, 1]\n",
      "[0, 0, 0, 0, 1]\n"
     ]
    }
   ],
   "source": [
    "for f in cob_kl2c:\n",
    "    print(f)"
   ]
  },
  {
   "cell_type": "code",
   "execution_count": 91,
   "metadata": {
    "vscode": {
     "languageId": "sage"
    }
   },
   "outputs": [
    {
     "name": "stdout",
     "output_type": "stream",
     "text": [
      "[1, -1, -1, -1, 2]\n",
      "[0, 1, 0, 0, -1]\n",
      "[0, 0, 1, 0, -1]\n",
      "[0, 0, 0, 1, -1]\n",
      "[0, 0, 0, 0, 1]\n"
     ]
    }
   ],
   "source": [
    "for f in cob_c2kl:\n",
    "    print(f)"
   ]
  }
 ],
 "metadata": {
  "kernelspec": {
   "display_name": "SageMath 10.3",
   "language": "sage",
   "name": "sagemath"
  },
  "language_info": {
   "codemirror_mode": {
    "name": "ipython",
    "version": 3
   },
   "file_extension": ".py",
   "mimetype": "text/x-python",
   "name": "python",
   "nbconvert_exporter": "python",
   "pygments_lexer": "ipython3",
   "version": "3.11.9"
  }
 },
 "nbformat": 4,
 "nbformat_minor": 2
}
