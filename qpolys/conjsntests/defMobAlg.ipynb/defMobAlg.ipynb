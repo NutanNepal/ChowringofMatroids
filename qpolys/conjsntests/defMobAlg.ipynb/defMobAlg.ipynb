{
 "cells": [
  {
   "cell_type": "code",
   "execution_count": 72,
   "metadata": {},
   "outputs": [
    {
     "data": {
      "text/plain": [
       "(q^-3)*E[frozenset()] - (q^-3-q^-2)*E[frozenset({'c'})] - (q^-3-q^-2)*E[frozenset({'b'})] - (q^-3-q^-2)*E[frozenset({'d'})] + (2*q^-3-3*q^-2+q^-1)*E[frozenset({'c', 'b', 'd'})] - (q^-3-q^-2)*E[frozenset({'g'})] - (q^-3-q^-2)*E[frozenset({'f'})] + (2*q^-3-3*q^-2+q^-1)*E[frozenset({'c', 'g', 'f'})] + (q^-3-2*q^-2+q^-1)*E[frozenset({'d', 'f'})] - (q^-3-q^-2)*E[frozenset({'e'})] + (2*q^-3-3*q^-2+q^-1)*E[frozenset({'e', 'b', 'g'})] + (q^-3-2*q^-2+q^-1)*E[frozenset({'e', 'd'})] + (q^-3-2*q^-2+q^-1)*E[frozenset({'e', 'f'})] - (q^-3-q^-2)*E[frozenset({'a'})] + (2*q^-3-3*q^-2+q^-1)*E[frozenset({'c', 'a', 'e'})] + (2*q^-3-3*q^-2+q^-1)*E[frozenset({'a', 'g', 'd'})] + (2*q^-3-3*q^-2+q^-1)*E[frozenset({'a', 'b', 'f'})] - (9*q^-3-17*q^-2+9*q^-1-1)*E[frozenset({'c', 'e', 'd', 'f', 'g', 'b', 'a'})]"
      ]
     },
     "execution_count": 72,
     "metadata": {},
     "output_type": "execute_result"
    }
   ],
   "source": [
    "P = LaurentPolynomialRing(QQ, 'x')\n",
    "M = matroids.catalog.NonFano()\n",
    "L = M.lattice_of_flats()\n",
    "\n",
    "flats_dict = {'ee': frozenset()}\n",
    "for f in L:\n",
    "    if f:\n",
    "        flats_dict[''.join(sorted(re.sub(r'[^a-zA-Z0-9]', '', str(set(f)))))] = frozenset(f)\n",
    "H = FreeAlgebra(P, list(flats_dict.keys()))\n",
    "\n",
    "Eq_M = L.quantum_moebius_algebra()\n",
    "Eq_M.natural().one()\n"
   ]
  },
  {
   "cell_type": "code",
   "execution_count": 73,
   "metadata": {},
   "outputs": [],
   "source": [
    "def product(a, b):\n",
    "    flat_a = flats_dict[a]\n",
    "    flat_b = flats_dict[b]\n",
    "    "
   ]
  },
  {
   "cell_type": "code",
   "execution_count": 74,
   "metadata": {},
   "outputs": [
    {
     "data": {
      "text/plain": [
       "\"{'2', '1'}\""
      ]
     },
     "execution_count": 74,
     "metadata": {},
     "output_type": "execute_result"
    }
   ],
   "source": [
    "f = frozenset(['1', '2'])\n",
    "str(set(f))"
   ]
  }
 ],
 "metadata": {
  "kernelspec": {
   "display_name": "SageMath 10.3",
   "language": "sage",
   "name": "sagemath"
  },
  "language_info": {
   "codemirror_mode": {
    "name": "ipython",
    "version": 3
   },
   "file_extension": ".py",
   "mimetype": "text/x-python",
   "name": "sage",
   "nbconvert_exporter": "python",
   "pygments_lexer": "ipython3",
   "version": "3.11.9"
  }
 },
 "nbformat": 4,
 "nbformat_minor": 2
}
