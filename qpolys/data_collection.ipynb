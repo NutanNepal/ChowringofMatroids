{
 "cells": [
  {
   "cell_type": "code",
   "execution_count": 107,
   "metadata": {
    "vscode": {
     "languageId": "sage"
    }
   },
   "outputs": [],
   "source": [
    "import sys\n",
    "sys.path.append('..')\n",
    "from db1 import *\n",
    "import pandas as pd\n",
    "\n",
    "R = PolynomialRing(ZZ, 't')\n",
    "t = R.gen()\n",
    "\n",
    "def is_paving(M):\n",
    "    n = M.size()\n",
    "    r = M.rank()\n",
    "    return (len(M.independent_r_sets(r-1)) == binomial(n, r-1))\n",
    "\n",
    "def q_kl(k, h):\n",
    "    return kazhdan_lusztig_inverse_uniform(k, h+1) - kazhdan_lusztig_inverse_uniform(k-1, h)\n",
    "\n",
    "def kl_inverse_fast(M):\n",
    "    if M.loops(): return R(0)\n",
    "    k, n = M.rank(), M.size()\n",
    "    if k == n or k == 0: return R(1)\n",
    "    if not M.is_connected():\n",
    "        ans = R(1)\n",
    "        CC = M.components()\n",
    "        for N in CC:\n",
    "            res = M.delete(M.groundset() - N)\n",
    "            ans = ans * kl_inverse_fast(res)\n",
    "        return ans\n",
    "\n",
    "    if is_paving(M):\n",
    "        return kl_inverse_paving(M)\n",
    "    if is_paving(M.dual()):\n",
    "        return kl_inverse_copaving(M)\n",
    "    \"\"\"\n",
    "    if n <= 8 and M.is_connected():\n",
    "        for i in range(len(mat[n][k])):\n",
    "            if mat[n][k][i].is_isomorphic(M):\n",
    "                return ikl[n][k][i]\n",
    "    \"\"\"\n",
    "    LF = M.lattice_of_flats()\n",
    "    ans = R(0)\n",
    "    for F in LF:\n",
    "        if len(F) != n:\n",
    "            Res = M.delete(M.groundset() - F)\n",
    "            Con = M.contract(F)\n",
    "            chi = characteristic_polynomial(Con)(1/t) * t**(Con.rank())\n",
    "            PPP = kl_inverse_fast(Res)(t) * (-1)**(Res.rank())\n",
    "            ans = ans + chi * PPP\n",
    "    assert (t**k * ans(1/t)).numerator() == -ans(t)\n",
    "    ans = ans.numerator() * (-1)**(k+1)\n",
    "    return ans.truncate((k+1)//2)\n",
    "\n",
    "def kazhdan_lusztig_inverse_uniform(k, n):\n",
    "    if k == n:\n",
    "        return R(1)\n",
    "    d = k\n",
    "    m = n - d\n",
    "    ans = 0\n",
    "    for j in range((d-1)//2 + 1):\n",
    "        ans = ans + m * (d-2*j)/((m+j) * (m+d-j)) * binomial(d, j) * t**j\n",
    "    return ans * binomial(m+d, d)\n",
    "\n",
    "def kl_inverse_paving(M):\n",
    "    assert is_paving(M)\n",
    "    n = M.size()\n",
    "    k = M.rank()\n",
    "    ans = kazhdan_lusztig_inverse_uniform(k, n)\n",
    "    for H in M.hyperplanes():\n",
    "        h = len(H)\n",
    "        if h >= k:\n",
    "            ans = ans - q_kl(k, h)\n",
    "    return ans\n",
    "\n",
    "def kl_inverse_copaving(M):\n",
    "    assert is_paving(M.dual())\n",
    "    n = M.size()\n",
    "    k = M.rank()\n",
    "    ans = kazhdan_lusztig_inverse_uniform(k, n)\n",
    "    for H in M.dual().hyperplanes():\n",
    "        h = len(H)\n",
    "        if h >= n-k:\n",
    "            ans = ans - kli_vtilde_dual(n-k, h, n) + kazhdan_lusztig_inverse_uniform(h-n+k+1, h) * kazhdan_lusztig_inverse_uniform(n-h-1, n-h)\n",
    "    return ans\n",
    "\n",
    "def kli_vtilde_dual(k, h, n):\n",
    "    return helper1(n-k, h, n)\n",
    "\n",
    "def helper1(k, h, n):\n",
    "    c = n - h\n",
    "    ans1 = kazhdan_lusztig_inverse_uniform(k, n)\n",
    "    ans2 = helper2(c, k, n)\n",
    "    ans3 = kazhdan_lusztig_inverse_uniform(k-c+1, h) * kazhdan_lusztig_inverse_uniform(c-1, c)\n",
    "    return ans1 - ans2 + ans3\n",
    "\n",
    "def helper2(c, k, n):\n",
    "    h = n - c\n",
    "    ans = 0\n",
    "    for j in range(k-c+1):\n",
    "        ans = ans + binomial(n-c, j) * (-1)**(c-1+j) * kazhdan_lusztig_inverse_uniform(c-1, c) * t**(k-c-j+1) * chuly(k-c-j+1, n-c-j)(1/t)\n",
    "    for i in range(c-1):\n",
    "        for j in range(k-i):\n",
    "            ans = ans + binomial(c, i) * binomial(n-c, j) * (-1)**(i+j) * t**(k-i-j) * helper4(c, k, n, i, j)(1/t)\n",
    "    ans = ans.numerator().truncate((k-1)//2 + 1)\n",
    "    if ans[0] < 0:\n",
    "        ans = -ans\n",
    "    return ans\n",
    "\n",
    "def helper3(c, k, n):\n",
    "    ans = 0\n",
    "    for j in range(k-c+1):\n",
    "        ans = ans + binomial(n-c, j) * kazhdan_lusztig_uniform_matroid(c-1, c) * (-1)**(k-c-j+1) * kazhdan_lusztig_inverse_uniform(k-c-j+1, n-c-j)\n",
    "    for i in range(c-1):\n",
    "        for j in range(k-i):\n",
    "            ans = ans + binomial(c, i) * binomial(n-c, j) * (-1)**(k-i-j) * helper2(c-i, k-i-j, n-i-j)\n",
    "    return -ans\n",
    "\n",
    "def helper4(c, k, n, i, j):\n",
    "    ans = 0\n",
    "    for l in range(c-i-1):\n",
    "        ans = ans + (-1)**l * (t-1)**(max(n-i-j-l-1, 0))\n",
    "    for u in range(n-k-1):\n",
    "        ans = doit_once(ans)\n",
    "    return ans\n",
    "\n",
    "def chuly(a, b):\n",
    "    ans = (t-1)**b\n",
    "    for i in range(b-a):\n",
    "        ans = doit_once(ans)\n",
    "    return ans\n",
    "\n",
    "def doit_once(p):\n",
    "    p = p // t**2\n",
    "    p = p * t\n",
    "    p = p - p(1)\n",
    "    return p\n",
    "\n",
    "def lorenzo(k, h, n):\n",
    "    c = n - h\n",
    "    ans1 = kazhdan_lusztig_uniform_matroid(k, n) + kazhdan_lusztig_uniform_matroid(k-c+1, h) * kazhdan_lusztig_uniform_matroid(c-1, c)\n",
    "    ans2 = helper3(c, k, n)\n",
    "    return ans1 - ans2"
   ]
  },
  {
   "cell_type": "code",
   "execution_count": 108,
   "metadata": {
    "vscode": {
     "languageId": "sage"
    }
   },
   "outputs": [],
   "source": [
    "#creating parallel connection of cycles\n",
    "m, n = 4, 5\n",
    "\n",
    "def parallel_connection(m, n):\n",
    "    G = graphs.CycleGraph(m + n - 2)\n",
    "    G.add_edge(0, m-1)\n",
    "    edge_e = frozenset({(0, m - 1)})\n",
    "    return G, edge_e"
   ]
  },
  {
   "cell_type": "code",
   "execution_count": 109,
   "metadata": {
    "vscode": {
     "languageId": "sage"
    }
   },
   "outputs": [],
   "source": [
    "def leading_term(p):\n",
    "    return p.leading_coefficient() * t ** p.degree()\n",
    "\n",
    "def lt(M):\n",
    "    r = M.rank()\n",
    "    if r % 2 == 1:\n",
    "        return leading_term(kl_inverse_fast(M))\n",
    "    else:\n",
    "        return 0\n",
    "\n",
    "def extra(m, n):\n",
    "    return S( t * uniformQpoly(m-2, m-1) * lt(matroids.Uniform(n-2, n-1))\n",
    "            + t * uniformQpoly(n-2, n-1) * lt(matroids.Uniform(m-2, m-1)))"
   ]
  },
  {
   "cell_type": "code",
   "execution_count": 110,
   "metadata": {
    "vscode": {
     "languageId": "sage"
    }
   },
   "outputs": [
    {
     "name": "stdout",
     "output_type": "stream",
     "text": [
      "+----+---------------------------+---------------------------+---------------------------+---------------------------+---------------------------+------------+\n",
      "| n  |            QMn            |           QMdel           |           Qdiff           |            Qcon           |          diffQcon         | extra term |\n",
      "+----+---------------------------+---------------------------+---------------------------+---------------------------+---------------------------+------------+\n",
      "| 3  |    (t + 1) * (3*t + 8)    |      5*t^2 + 9*t + 5      |      -2*t^2 + 2*t + 3     |          2*t + 3          |        -4*t^2 - 3*t       |     0      |\n",
      "| 4  |   2 * (7*t^2 + 12*t + 6)  |   2 * (7*t^2 + 7*t + 3)   |          10*t + 6         |       2 * (2*t + 3)       |           -4*t^2          |     0      |\n",
      "| 5  |  10*t^3 + 32*t^2 + 41*t + |  14*t^3 + 28*t^2 + 20*t + | -4*t^3 + 4*t^2 + 21*t + 9 |        (2*t + 3)^2        |      -8*t^3 - 12*t^2      |     0      |\n",
      "|    |             16            |             7             |                           |                           |                           |            |\n",
      "| 6  |  42*t^3 + 73*t^2 + 62*t + |  42*t^3 + 48*t^2 + 27*t + |     25*t^2 + 35*t + 12    |   (2*t + 3) * (5*t + 4)   |      -10*t^3 - 8*t^2      |     0      |\n",
      "|    |             20            |             8             |                           |                           |                           |            |\n",
      "| 7  |     32*t^4 + 100*t^3 +    |  42*t^4 + 90*t^3 + 75*t^2 | -10*t^4 + 10*t^3 + 60*t^2 |  (2*t + 3) * (5*t^2 + 9*t | -20*t^4 - 33*t^3 - 10*t^2 |     0      |\n",
      "|    |    135*t^2 + 87*t + 24    |         + 35*t + 9        |        + 52*t + 15        |            + 5)           |                           |            |\n",
      "| 8  |    132*t^4 + 235*t^3 +    |    132*t^4 + 165*t^3 +    | 70*t^3 + 112*t^2 + 72*t + |  2 * (2*t + 3) * (7*t^2 + | -28*t^4 - 28*t^3 - 12*t^2 |     0      |\n",
      "|    |    222*t^2 + 116*t + 28   |    110*t^2 + 44*t + 10    |             18            |          7*t + 3)         |                           |            |\n",
      "| 9  |    104*t^5 + 325*t^4 +    |    132*t^5 + 297*t^4 +    |     -28*t^5 + 28*t^4 +    |   (2*t + 3) * (14*t^3 +   | -56*t^5 - 98*t^4 - 40*t^3 |     0      |\n",
      "|    | 457*t^3 + 338*t^2 + 149*t |  275*t^3 + 154*t^2 + 54*t |  182*t^3 + 184*t^2 + 95*t |     28*t^2 + 20*t + 7)    |          - 14*t^2         |            |\n",
      "|    |            + 32           |            + 11           |            + 21           |                           |                           |            |\n",
      "| 10 |    429*t^5 + 782*t^4 +    |    429*t^5 + 572*t^4 +    |    210*t^4 + 366*t^3 +    |   (2*t + 3) * (42*t^3 +   | -84*t^5 - 96*t^4 - 54*t^3 |     0      |\n",
      "|    | 795*t^3 + 487*t^2 + 186*t |  429*t^3 + 208*t^2 + 65*t |    279*t^2 + 121*t + 24   |     48*t^2 + 27*t + 8)    |          - 16*t^2         |            |\n",
      "|    |            + 36           |            + 12           |                           |                           |                           |            |\n",
      "| 11 |    345*t^6 + 1085*t^5 +   |    429*t^6 + 1001*t^5 +   |     -84*t^6 + 84*t^5 +    |   (2*t + 3) * (42*t^4 +   |    -168*t^6 - 306*t^5 -   |     0      |\n",
      "|    |   1577*t^4 + 1282*t^3 +   |    1001*t^4 + 637*t^3 +   |    576*t^4 + 645*t^3 +    |  90*t^3 + 75*t^2 + 35*t + | 150*t^4 - 70*t^3 - 18*t^2 |            |\n",
      "|    |    673*t^2 + 227*t + 40   |    273*t^2 + 77*t + 13    |    400*t^2 + 150*t + 27   |             9)            |                           |            |\n",
      "| 12 |   1430*t^6 + 2662*t^5 +   | 2 * (715*t^6 + 1001*t^5 + |    660*t^5 + 1221*t^4 +   |   (2*t + 3) * (132*t^4 +  |    -264*t^6 - 330*t^5 -   |     0      |\n",
      "|    |   2859*t^4 + 1955*t^3 +   |    819*t^4 + 455*t^3 +    |    1045*t^3 + 550*t^2 +   |  165*t^3 + 110*t^2 + 44*t | 220*t^4 - 88*t^3 - 20*t^2 |            |\n",
      "|    |    900*t^2 + 272*t + 44   |    175*t^2 + 45*t + 7)    |         182*t + 30        |           + 10)           |                           |            |\n",
      "| 13 |   1166*t^7 + 3696*t^6 +   |   1430*t^7 + 3432*t^6 +   |    -264*t^7 + 264*t^6 +   |   (2*t + 3) * (132*t^5 +  |    -528*t^7 - 990*t^6 -   |     0      |\n",
      "|    |   5521*t^5 + 4814*t^4 +   |   3640*t^5 + 2548*t^4 +   |   1881*t^5 + 2266*t^4 +   |    297*t^4 + 275*t^3 +    |    550*t^5 - 308*t^4 -    |            |\n",
      "|    |   2855*t^3 + 1172*t^2 +   |    1260*t^3 + 440*t^2 +   |    1595*t^3 + 732*t^2 +   |    154*t^2 + 54*t + 11)   |      108*t^3 - 22*t^2     |            |\n",
      "|    |         321*t + 48        |         104*t + 15        |         217*t + 33        |                           |                           |            |\n",
      "| 14 |   4862*t^7 + 9217*t^6 +   |   4862*t^7 + 7072*t^6 +   |   2145*t^6 + 4147*t^5 +   |   (2*t + 3) * (429*t^5 +  |   -858*t^7 - 1144*t^6 -   |     0      |\n",
      "|    |   10335*t^5 + 7669*t^4 +  |   6188*t^5 + 3808*t^4 +   |   3861*t^4 + 2327*t^3 +   |    572*t^4 + 429*t^3 +    |    858*t^5 - 416*t^4 -    |            |\n",
      "|    |   4027*t^3 + 1493*t^2 +   |    1700*t^3 + 544*t^2 +   |    949*t^2 + 255*t + 36   |    208*t^2 + 65*t + 12)   |      130*t^3 - 24*t^2     |            |\n",
      "|    |         374*t + 52        |         119*t + 16        |                           |                           |                           |            |\n",
      "| 15 |   4004*t^8 + 12792*t^7 +  |   4862*t^8 + 11934*t^7 +  |    -858*t^8 + 858*t^7 +   |   (2*t + 3) * (429*t^6 +  |   -1716*t^8 - 3289*t^7 -  |     0      |\n",
      "|    |  19552*t^6 + 18004*t^5 +  |   13260*t^6 + 9996*t^5 +  |   6292*t^6 + 8008*t^5 +   |   1001*t^5 + 1001*t^4 +   |   2002*t^6 - 1274*t^5 -   |            |\n",
      "|    |   11696*t^4 + 5520*t^3 +  |   5508*t^4 + 2244*t^3 +   |   6188*t^4 + 3276*t^3 +   |  637*t^3 + 273*t^2 + 77*t |    546*t^4 - 154*t^3 -    |            |\n",
      "|    |   1867*t^2 + 431*t + 56   |    663*t^2 + 135*t + 17   |   1204*t^2 + 296*t + 39   |           + 13)           |           26*t^2          |            |\n",
      "| 16 |  16796*t^8 + 32344*t^7 +  |  16796*t^8 + 25194*t^7 +  |   7150*t^7 + 14300*t^6 +  |  2 * (2*t + 3) * (715*t^6 |   -2860*t^8 - 4004*t^7 -  |     0      |\n",
      "|    |  37556*t^6 + 29700*t^5 +  |  23256*t^6 + 15504*t^5 +  |   14196*t^5 + 9464*t^4 +  |   + 1001*t^5 + 819*t^4 +  |   3276*t^6 - 1820*t^5 -   |            |\n",
      "|    |   17216*t^4 + 7387*t^3 +  |   7752*t^4 + 2907*t^3 +   |   4480*t^3 + 1500*t^2 +   |  455*t^3 + 175*t^2 + 45*t |    700*t^4 - 180*t^3 -    |            |\n",
      "|    |   2298*t^2 + 492*t + 60   |    798*t^2 + 152*t + 18   |         340*t + 42        |            + 7)           |           28*t^2          |            |\n",
      "| 17 |  13936*t^9 + 44850*t^8 +  |  16796*t^9 + 41990*t^8 +  |   -2860*t^9 + 2860*t^8 +  |  (2*t + 3) * (1430*t^7 +  |  -5720*t^9 - 11154*t^8 -  |     0      |\n",
      "|    |  69900*t^7 + 67256*t^6 +  |  48450*t^7 + 38760*t^6 +  |  21450*t^7 + 28496*t^6 +  |   3432*t^6 + 3640*t^5 +   |   7280*t^7 - 5096*t^6 -   |            |\n",
      "|    |  46916*t^5 + 24603*t^4 +  |  23256*t^5 + 10659*t^4 +  |  23660*t^5 + 13944*t^4 +  |   2548*t^4 + 1260*t^3 +   |    2520*t^5 - 880*t^4 -   |            |\n",
      "|    |   9685*t^3 + 2790*t^2 +   |    3705*t^3 + 950*t^2 +   |   5980*t^3 + 1840*t^2 +   |   440*t^2 + 104*t + 15)   |      208*t^3 - 30*t^2     |            |\n",
      "|    |         557*t + 64        |         170*t + 19        |         387*t + 45        |                           |                           |            |\n",
      "| 18 |  58786*t^9 + 114750*t^8 + |  58786*t^9 + 90440*t^8 +  |  24310*t^8 + 49946*t^7 +  |  (2*t + 3) * (4862*t^7 +  |  -9724*t^9 - 14144*t^8 -  |     0      |\n",
      "|    | 137156*t^7 + 114172*t^6 + |  87210*t^7 + 62016*t^6 +  |  52156*t^6 + 37604*t^5 +  |   7072*t^6 + 6188*t^5 +   |   12376*t^7 - 7616*t^6 -  |            |\n",
      "|    |  71519*t^5 + 34288*t^4 +  |  33915*t^5 + 14364*t^4 +  |   19924*t^4 + 7820*t^3 +  |   3808*t^4 + 1700*t^3 +   |   3400*t^5 - 1088*t^4 -   |            |\n",
      "|    |   12475*t^3 + 3347*t^2 +  |   4655*t^3 + 1120*t^2 +   |   2227*t^2 + 437*t + 48   |   544*t^2 + 119*t + 16)   |      238*t^3 - 32*t^2     |            |\n",
      "|    |         626*t + 68        |         189*t + 20        |                           |                           |                           |            |\n",
      "| 19 | 49062*t^10 + 158950*t^9 + | 58786*t^10 + 149226*t^9 + |  -9724*t^10 + 9724*t^9 +  |  (2*t + 3) * (4862*t^8 +  | -19448*t^10 - 38454*t^9 - |     0      |\n",
      "|    | 251906*t^8 + 251328*t^7 + | 177650*t^8 + 149226*t^7 + |  74256*t^8 + 102102*t^7 + |  11934*t^7 + 13260*t^6 +  |  26520*t^8 - 19992*t^7 -  |            |\n",
      "|    | 185691*t^6 + 105807*t^5 + |  95931*t^6 + 48279*t^5 +  |  89760*t^6 + 57528*t^5 +  |   9996*t^5 + 5508*t^4 +   |   11016*t^6 - 4488*t^5 -  |            |\n",
      "|    |  46763*t^4 + 15822*t^3 +  |   19019*t^4 + 5775*t^3 +  |  27744*t^4 + 10047*t^3 +  |    2244*t^3 + 663*t^2 +   |    1326*t^4 - 270*t^3 -   |            |\n",
      "|    |   3973*t^2 + 699*t + 72   |   1309*t^2 + 209*t + 21   |   2664*t^2 + 490*t + 51   |        135*t + 17)        |           34*t^2          |            |\n",
      "+----+---------------------------+---------------------------+---------------------------+---------------------------+---------------------------+------------+\n",
      "n = 3, Qdiff = (-1) * (2*t^2 - 2*t - 3)\n",
      "QMn = (t + 1) * (3*t + 8), QMdel = 5*t^2 + 9*t + 5, Qcon = 2*t + 3\n",
      "diffQcon = -4*t^2 - 3*t\n",
      "\n",
      "extra term = 4*t^2 + 3*t\n",
      "\n",
      "n = 4, Qdiff = 2 * (5*t + 3)\n",
      "QMn = 2 * (7*t^2 + 12*t + 6), QMdel = 2 * (7*t^2 + 7*t + 3), Qcon = 2 * (2*t + 3)\n",
      "diffQcon = -4*t^2\n",
      "\n",
      "extra term = 4*t^2\n",
      "\n",
      "n = 5, Qdiff = (-1) * (t - 3) * (2*t + 1) * (2*t + 3)\n",
      "QMn = 10*t^3 + 32*t^2 + 41*t + 16, QMdel = 14*t^3 + 28*t^2 + 20*t + 7, Qcon = (2*t + 3)^2\n",
      "diffQcon = -8*t^3 - 12*t^2\n",
      "\n",
      "extra term = 8*t^3 + 12*t^2\n",
      "\n",
      "n = 6, Qdiff = (5*t + 3) * (5*t + 4)\n",
      "QMn = 42*t^3 + 73*t^2 + 62*t + 20, QMdel = 42*t^3 + 48*t^2 + 27*t + 8, Qcon = (2*t + 3) * (5*t + 4)\n",
      "diffQcon = -10*t^3 - 8*t^2\n",
      "\n",
      "extra term = 10*t^3 + 8*t^2\n",
      "\n",
      "n = 7, Qdiff = (-1) * (10*t^4 - 10*t^3 - 60*t^2 - 52*t - 15)\n",
      "QMn = 32*t^4 + 100*t^3 + 135*t^2 + 87*t + 24, QMdel = 42*t^4 + 90*t^3 + 75*t^2 + 35*t + 9, Qcon = (2*t + 3) * (5*t^2 + 9*t + 5)\n",
      "diffQcon = -20*t^4 - 33*t^3 - 10*t^2\n",
      "\n",
      "extra term = 20*t^4 + 33*t^3 + 10*t^2\n",
      "\n",
      "n = 8, Qdiff = 2 * (5*t + 3) * (7*t^2 + 7*t + 3)\n",
      "QMn = 132*t^4 + 235*t^3 + 222*t^2 + 116*t + 28, QMdel = 132*t^4 + 165*t^3 + 110*t^2 + 44*t + 10, Qcon = 2 * (2*t + 3) * (7*t^2 + 7*t + 3)\n",
      "diffQcon = -28*t^4 - 28*t^3 - 12*t^2\n",
      "\n",
      "extra term = 28*t^4 + 28*t^3 + 12*t^2\n",
      "\n",
      "n = 9, Qdiff = (-1) * (28*t^5 - 28*t^4 - 182*t^3 - 184*t^2 - 95*t - 21)\n",
      "QMn = 104*t^5 + 325*t^4 + 457*t^3 + 338*t^2 + 149*t + 32, QMdel = 132*t^5 + 297*t^4 + 275*t^3 + 154*t^2 + 54*t + 11, Qcon = (2*t + 3) * (14*t^3 + 28*t^2 + 20*t + 7)\n",
      "diffQcon = -56*t^5 - 98*t^4 - 40*t^3 - 14*t^2\n",
      "\n",
      "extra term = 56*t^5 + 98*t^4 + 40*t^3 + 14*t^2\n",
      "\n",
      "n = 10, Qdiff = (5*t + 3) * (42*t^3 + 48*t^2 + 27*t + 8)\n",
      "QMn = 429*t^5 + 782*t^4 + 795*t^3 + 487*t^2 + 186*t + 36, QMdel = 429*t^5 + 572*t^4 + 429*t^3 + 208*t^2 + 65*t + 12, Qcon = (2*t + 3) * (42*t^3 + 48*t^2 + 27*t + 8)\n",
      "diffQcon = -84*t^5 - 96*t^4 - 54*t^3 - 16*t^2\n",
      "\n",
      "extra term = 84*t^5 + 96*t^4 + 54*t^3 + 16*t^2\n",
      "\n",
      "n = 11, Qdiff = (-1) * (84*t^6 - 84*t^5 - 576*t^4 - 645*t^3 - 400*t^2 - 150*t - 27)\n",
      "QMn = 345*t^6 + 1085*t^5 + 1577*t^4 + 1282*t^3 + 673*t^2 + 227*t + 40, QMdel = 429*t^6 + 1001*t^5 + 1001*t^4 + 637*t^3 + 273*t^2 + 77*t + 13, Qcon = (2*t + 3) * (42*t^4 + 90*t^3 + 75*t^2 + 35*t + 9)\n",
      "diffQcon = -168*t^6 - 306*t^5 - 150*t^4 - 70*t^3 - 18*t^2\n",
      "\n",
      "extra term = 168*t^6 + 306*t^5 + 150*t^4 + 70*t^3 + 18*t^2\n",
      "\n",
      "n = 12, Qdiff = (5*t + 3) * (132*t^4 + 165*t^3 + 110*t^2 + 44*t + 10)\n",
      "QMn = 1430*t^6 + 2662*t^5 + 2859*t^4 + 1955*t^3 + 900*t^2 + 272*t + 44, QMdel = 2 * (715*t^6 + 1001*t^5 + 819*t^4 + 455*t^3 + 175*t^2 + 45*t + 7), Qcon = (2*t + 3) * (132*t^4 + 165*t^3 + 110*t^2 + 44*t + 10)\n",
      "diffQcon = -264*t^6 - 330*t^5 - 220*t^4 - 88*t^3 - 20*t^2\n",
      "\n",
      "extra term = 264*t^6 + 330*t^5 + 220*t^4 + 88*t^3 + 20*t^2\n",
      "\n"
     ]
    }
   ],
   "source": [
    "S = PolynomialRing(ZZ, 't')\n",
    "\n",
    "from prettytable import PrettyTable\n",
    "\n",
    "table = PrettyTable()\n",
    "table.field_names = [\"n\", \"QMn\", \"QMdel\", \"Qdiff\", \"Qcon\", \"diffQcon\", \"extra term\"]\n",
    "\n",
    "m = 5\n",
    "for n in range(3, 20):\n",
    "    G, e = parallel_connection(m, n)\n",
    "    QMn = S(kl_inverse_fast(Matroid(G)))\n",
    "    QMdel = S(uniformQpoly(n+m-3, n+m-2))\n",
    "    Qdiff = S(QMn - QMdel)\n",
    "    Qcon = S(uniformQpoly(n-2, n-1) * uniformQpoly(m-2, m-1))\n",
    "    diffQcon = Qdiff - S(t + 1) * Qcon\n",
    "    extra_term = extra(m, n) + diffQcon\n",
    "    table.add_row([n, QMn.factor(), QMdel.factor(), Qdiff, Qcon.factor(), diffQcon, extra_term])\n",
    "\n",
    "table.max_width = 25  # Set the maximum width for each column\n",
    "\n",
    "print(table)\n",
    "\n",
    "for n in range(3, 13):\n",
    "    G, e = parallel_connection(m, n)\n",
    "    QMn = S(kl_inverse_fast(Matroid(G)))\n",
    "    QMdel = S(uniformQpoly(n+m-3, n+m-2))\n",
    "    Qdiff = S(QMn - QMdel)\n",
    "    Qcon = S(uniformQpoly(n-2, n-1) * uniformQpoly(m-2, m-1))\n",
    "    diffQcon = Qdiff - S(t+1) * Qcon\n",
    "    extra_term = extra(m, n)\n",
    "\n",
    "    print(f\"n = {n}, Qdiff = {Qdiff.factor()}\")\n",
    "    print(f\"QMn = {QMn.factor()}, QMdel = {QMdel.factor()}, Qcon = {Qcon.factor()}\")\n",
    "    print(f\"diffQcon = {diffQcon}\\n\")\n",
    "    print(f\"extra term = {extra_term}\\n\")"
   ]
  },
  {
   "cell_type": "code",
   "execution_count": 111,
   "metadata": {
    "vscode": {
     "languageId": "sage"
    }
   },
   "outputs": [],
   "source": [
    "matroids_list = [matroids.Uniform(r, n) for r, n in [(4, 7), (2, 4), (2,5), (3, 4), (4, 5), (5,6), (3, 5), (4, 6)]] + \\\n",
    "    [matroids.Wheel(i) for i in range(3, 6)] + \\\n",
    "    [matroids.Whirl(i) for i in range(3, 5)] + \\\n",
    "    [matroids.PG(n, 2) for n in range(3, 4)] + \\\n",
    "    [matroids.PG(n, 3) for n in range(3, 4)]\n",
    "\n",
    "es = [next(({e} for e in m.groundset() if e not in m.coloops()), None) for m in matroids_list]"
   ]
  },
  {
   "cell_type": "code",
   "execution_count": 112,
   "metadata": {
    "vscode": {
     "languageId": "sage"
    }
   },
   "outputs": [],
   "source": [
    "def set_division(L, e):\n",
    "    divs = {'A': set(), 'B': set(), 'C': set(), 'D': set()}\n",
    "    for x in L:\n",
    "        if set(e).issubset(set(x)):\n",
    "            if frozenset(set(x) - set(e)) in L:\n",
    "                divs['A'].add(x)\n",
    "            else:\n",
    "                divs['D'].add(x)\n",
    "        else:\n",
    "            if frozenset(set(x) | set(e)) in L:\n",
    "                divs['C'].add(x)\n",
    "            else:\n",
    "                divs['B'].add(x)\n",
    "    return divs\n",
    "\n",
    "def qtau(M):\n",
    "    return (kl_inverse_fast(M).leading_coefficient() if M.rank() % 2 == 1 else 0) \n",
    "    \n",
    "def extra_terms(M, e):\n",
    "    L = M.lattice_of_flats()\n",
    "    set_divs = set_division(L, e)\n",
    "    extra = 0\n",
    "    for x in set_divs['C']:\n",
    "        if M.contract(x.union(e)).rank() % 2 == 1:\n",
    "            extra += qtau(M.contract(x.union(e))) * t**((M.rank()-M.rank(x))/2) * \\\n",
    "                    kl_inverse_fast(M.delete(x))\n",
    "                \n",
    "    return extra"
   ]
  },
  {
   "cell_type": "code",
   "execution_count": 113,
   "metadata": {
    "vscode": {
     "languageId": "sage"
    }
   },
   "outputs": [
    {
     "name": "stdout",
     "output_type": "stream",
     "text": [
      "+----------+---------------------+----------------------+-----------------+---------------+--------------+----------------------------------+\n",
      "| M.rank() |         QMn         |        QMdel         |      Qdiff      |      Qcon     |   diffQcon   |            extra term            |\n",
      "+----------+---------------------+----------------------+-----------------+---------------+--------------+----------------------------------+\n",
      "|    4     |    5 * (7*t + 4)    |    2 * (8*t + 5)     |    19*t + 10    |    9*t + 10   |    -9*t^2    |     315*t^3 + 255*t^2 + 60*t     |\n",
      "|    2     |          3          |          2           |        1        |       1       |      -t      |               3*t                |\n",
      "|    2     |         2^2         |          3           |        1        |       1       |      -t      |               4*t                |\n",
      "|    3     |       2*t + 3       |          1           |     2*t + 2     |       2       |      0       |               3*t                |\n",
      "|    4     |       5*t + 4       |          1           |     5*t + 3     |    2*t + 3    |    -2*t^2    |       10*t^3 + 8*t^2 + 6*t       |\n",
      "|    5     |   5*t^2 + 9*t + 5   |          1           | 5*t^2 + 9*t + 4 |    5*t + 4    |      0       |          10*t^2 + 10*t           |\n",
      "|    3     |       5*t + 6       |       2*t + 3        |     3*t + 3     |       3       |      0       |           8*t^2 + 12*t           |\n",
      "|    4     |    2 * (8*t + 5)    |       5*t + 4        |     11*t + 6    |    5*t + 6    |    -5*t^2    |      80*t^3 + 50*t^2 + 10*t      |\n",
      "|    3     |        t + 6        |        t + 4         |        2        |       2       |     -2*t     |            t^2 + 4*t             |\n",
      "|    4     |       9*t + 14      |    2 * (4*t + 5)     |      t + 4      |     t + 4     |  -t^2 - 4*t  |       9*t^3 + 15*t^2 + 4*t       |\n",
      "|    5     | (t + 5) * (5*t + 6) | (t + 1) * (5*t + 22) |     4*t + 8     | 2^2 * (t + 2) | -4*t^2 - 8*t | 26*t^4 + 144*t^3 + 137*t^2 + 4*t |\n",
      "|    3     |       3*t + 7       |       3*t + 5        |        2        |       2       |     -2*t     |            t^2 + 4*t             |\n",
      "|    4     |    3 * (4*t + 5)    |     11 * (t + 1)     |      t + 4      |     t + 4     |  -t^2 - 4*t  |      12*t^3 + 16*t^2 + 4*t       |\n",
      "|    4     |         2^6         |    2 * (3*t + 28)    |     -6*t + 8    |      2^3      |    -14*t     |             512*t^2              |\n",
      "|    4     |         3^6         | 2 * 3 * (2*t + 117)  |    -12*t + 27   |      3^3      |    -39*t     |            19683*t^2             |\n",
      "+----------+---------------------+----------------------+-----------------+---------------+--------------+----------------------------------+\n"
     ]
    }
   ],
   "source": [
    "table2 = PrettyTable()\n",
    "table2.field_names = [\"M.rank()\", \"QMn\", \"QMdel\", \"Qdiff\", \"Qcon\", \"diffQcon\", \"extra term\"]\n",
    "\n",
    "for m, e in zip(matroids_list, es):\n",
    "    QMn = S(kl_inverse_fast(m))\n",
    "    QMdel = S(kl_inverse_fast(m.delete(e)))\n",
    "    Qdiff = S(QMn - QMdel)\n",
    "    Qcon = S(kl_inverse_fast(m.contract(e)))\n",
    "    diffQcon = Qdiff - S(t+1) * Qcon\n",
    "    extra_term = extra_terms(m, e)\n",
    "    table2.add_row([m.rank(), QMn.factor(), QMdel.factor(), Qdiff, Qcon.factor(), diffQcon, extra_term])\n",
    "\n",
    "table.max_width = 30  # Set the maximum width for each column\n",
    "\n",
    "print(table2)"
   ]
  },
  {
   "cell_type": "code",
   "execution_count": 114,
   "metadata": {
    "vscode": {
     "languageId": "sage"
    }
   },
   "outputs": [
    {
     "name": "stdout",
     "output_type": "stream",
     "text": [
      "+----+---------------------------+-------+---------------------------+---------------------------+----------+---------------------------+\n",
      "| n  |            QMn            | QMdel |           Qdiff           |            Qcon           | diffQcon |         extra term        |\n",
      "+----+---------------------------+-------+---------------------------+---------------------------+----------+---------------------------+\n",
      "| 3  |             2             |   1   |             1             |             1             |    -t    |            2*t            |\n",
      "| 4  |          2*t + 3          |   1   |          2*t + 2          |             2             |    0     |            3*t            |\n",
      "| 5  |          5*t + 4          |   1   |          5*t + 3          |          2*t + 3          |  -2*t^2  |    10*t^3 + 8*t^2 + 6*t   |\n",
      "| 6  |      5*t^2 + 9*t + 5      |   1   |      5*t^2 + 9*t + 4      |          5*t + 4          |    0     |       10*t^2 + 10*t       |\n",
      "| 7  |   2 * (7*t^2 + 7*t + 3)   |   1   |     14*t^2 + 14*t + 5     |      5*t^2 + 9*t + 5      |  -5*t^3  |  70*t^5 + 70*t^4 + 30*t^3 |\n",
      "|    |                           |       |                           |                           |          |      + 30*t^2 + 15*t      |\n",
      "| 8  |  14*t^3 + 28*t^2 + 20*t + |   1   |  14*t^3 + 28*t^2 + 20*t + |   2 * (7*t^2 + 7*t + 3)   |    0     |   35*t^3 + 70*t^2 + 21*t  |\n",
      "|    |             7             |       |             6             |                           |          |                           |\n",
      "| 9  |  42*t^3 + 48*t^2 + 27*t + |   1   |  42*t^3 + 48*t^2 + 27*t + |  14*t^3 + 28*t^2 + 20*t + | -14*t^4  |    588*t^7 + 672*t^6 +    |\n",
      "|    |             8             |       |             7             |             7             |          |    378*t^5 + 112*t^4 +    |\n",
      "|    |                           |       |                           |                           |          |  140*t^3 + 140*t^2 + 28*t |\n",
      "| 10 |  42*t^4 + 90*t^3 + 75*t^2 |   1   |  42*t^4 + 90*t^3 + 75*t^2 |  42*t^3 + 48*t^2 + 27*t + |    0     |    126*t^4 + 420*t^3 +    |\n",
      "|    |         + 35*t + 9        |       |         + 35*t + 8        |             8             |          |       252*t^2 + 36*t      |\n",
      "| 11 |    132*t^4 + 165*t^3 +    |   1   |    132*t^4 + 165*t^3 +    |  42*t^4 + 90*t^3 + 75*t^2 | -42*t^5  |   5544*t^9 + 6930*t^8 +   |\n",
      "|    |    110*t^2 + 44*t + 10    |       |     110*t^2 + 44*t + 9    |         + 35*t + 9        |          |   4620*t^7 + 1848*t^6 +   |\n",
      "|    |                           |       |                           |                           |          |    420*t^5 + 630*t^4 +    |\n",
      "|    |                           |       |                           |                           |          | 1050*t^3 + 420*t^2 + 45*t |\n",
      "| 12 |    132*t^5 + 297*t^4 +    |   1   |    132*t^5 + 297*t^4 +    |    132*t^4 + 165*t^3 +    |    0     |    462*t^5 + 2310*t^4 +   |\n",
      "|    |  275*t^3 + 154*t^2 + 54*t |       |  275*t^3 + 154*t^2 + 54*t |    110*t^2 + 44*t + 10    |          | 2310*t^3 + 660*t^2 + 55*t |\n",
      "|    |            + 11           |       |            + 10           |                           |          |                           |\n",
      "+----+---------------------------+-------+---------------------------+---------------------------+----------+---------------------------+\n"
     ]
    }
   ],
   "source": [
    "table3 = PrettyTable()\n",
    "table3.field_names = [\"n\", \"QMn\", \"QMdel\", \"Qdiff\", \"Qcon\", \"diffQcon\", \"extra term\"]\n",
    "\n",
    "for n in range(3, 13):\n",
    "    M = matroids.Uniform(n-1, n)\n",
    "    e = next(({e} for e in M.groundset() if e not in M.coloops()), None)\n",
    "    QMn = S(uniformQpoly(n-1, n))\n",
    "    QMdel = S(1)\n",
    "    Qdiff = S(QMn - QMdel)\n",
    "    Qcon = S(uniformQpoly(n-2, n-1))\n",
    "    diffQcon = Qdiff - S(t + 1) * Qcon\n",
    "    extra_term = extra_terms(M, e)\n",
    "    table3.add_row([n, QMn.factor(), QMdel.factor(), Qdiff, Qcon.factor(), diffQcon, extra_term])\n",
    "\n",
    "table3.max_width = 25  # Set the maximum width for each column\n",
    "\n",
    "print(table3)"
   ]
  },
  {
   "cell_type": "code",
   "execution_count": 185,
   "metadata": {
    "vscode": {
     "languageId": "sage"
    }
   },
   "outputs": [
    {
     "data": {
      "image/png": "[encoded data removed]",
      "text/plain": [
       "Graphics object consisting of 23 graphics primitives"
      ]
     },
     "metadata": {},
     "output_type": "display_data"
    }
   ],
   "source": [
    "n = 10\n",
    "k = 3\n",
    "G2 = graphs.CycleGraph(n)\n",
    "G2.add_edge(0,k)\n",
    "G2.add_edge(k,n-1)\n",
    "e = frozenset({(k, n-1)})\n",
    "G2.show()"
   ]
  },
  {
   "cell_type": "code",
   "execution_count": 186,
   "metadata": {
    "vscode": {
     "languageId": "sage"
    }
   },
   "outputs": [
    {
     "name": "stdout",
     "output_type": "stream",
     "text": [
      "32*t^4 + 118*t^3 + 173*t^2 + 117*t + 36\n"
     ]
    }
   ],
   "source": [
    "M = Matroid(G2)\n",
    "print(kl_inverse_fast(Matroid(G2)))"
   ]
  },
  {
   "cell_type": "code",
   "execution_count": 187,
   "metadata": {
    "vscode": {
     "languageId": "sage"
    }
   },
   "outputs": [
    {
     "data": {
      "text/plain": [
       "[frozenset({(0, 1), (0, 9), (1, 2), (2, 3), (3, 9)}),\n",
       " frozenset({(3, 4), (3, 9), (4, 5), (5, 6), (6, 7), (7, 8), (8, 9)}),\n",
       " frozenset({(0, 3), (0, 9), (3, 9)})]"
      ]
     },
     "execution_count": 187,
     "metadata": {},
     "output_type": "execute_result"
    }
   ],
   "source": [
    "def circuits_containing_element(M, e):\n",
    "    circuits_with_e = [circuit for circuit in M.circuits() if e.issubset(set(circuit))]\n",
    "    return circuits_with_e\n",
    "\n",
    "circuits_containing_element(M, e)"
   ]
  },
  {
   "cell_type": "code",
   "execution_count": 188,
   "metadata": {
    "vscode": {
     "languageId": "sage"
    }
   },
   "outputs": [
    {
     "data": {
      "text/plain": [
       "10*t^4 + 25*t^3 + 18*t^2 + 10*t"
      ]
     },
     "execution_count": 188,
     "metadata": {},
     "output_type": "execute_result"
    }
   ],
   "source": [
    "def sumatC(M, C):\n",
    "    sum = 0\n",
    "    for c in C:\n",
    "        sum += S( t * kl_inverse_fast(M.contract(c)) *\\\n",
    "        lt(M.delete(M.groundset() - c).contract(e)))\n",
    "    return sum\n",
    "\n",
    "sumatC(M, circuits_containing_element(M, e))"
   ]
  },
  {
   "cell_type": "code",
   "execution_count": 189,
   "metadata": {
    "vscode": {
     "languageId": "sage"
    }
   },
   "outputs": [
    {
     "data": {
      "text/plain": [
       "-20*t^4 - 43*t^3 - 28*t^2 - 10*t"
      ]
     },
     "execution_count": 189,
     "metadata": {},
     "output_type": "execute_result"
    }
   ],
   "source": [
    "kl_inverse_fast(M) - kl_inverse_fast(M.delete(e)) - (t+1) * kl_inverse_fast(M.contract(e))"
   ]
  }
 ],
 "metadata": {
  "kernelspec": {
   "display_name": "SageMath 10.3",
   "language": "sage",
   "name": "SageMath-10.3"
  },
  "language_info": {
   "codemirror_mode": {
    "name": "ipython",
    "version": 3
   },
   "file_extension": ".py",
   "mimetype": "text/x-python",
   "name": "python",
   "nbconvert_exporter": "python",
   "pygments_lexer": "ipython3",
   "version": "3.11.8"
  }
 },
 "nbformat": 4,
 "nbformat_minor": 2
}
