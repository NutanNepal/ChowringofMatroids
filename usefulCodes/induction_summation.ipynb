{
 "cells": [
  {
   "cell_type": "code",
   "execution_count": 14,
   "metadata": {
    "vscode": {
     "languageId": "sage"
    }
   },
   "outputs": [],
   "source": [
    "def perm_representation(grp, subgrps):\n",
    "    fn = ClassFunction(grp, [0] * len(grp.conjugacy_classes()))\n",
    "    for subgrp in subgrps:\n",
    "        chi = subgrp.trivial_character()\n",
    "        fn += chi.induct(grp)\n",
    "\n",
    "    return fn\n",
    "\n",
    "def print_representations(fn):\n",
    "    for x, y in fn.decompose():\n",
    "        print(f\"{x} copies of {y.values()}\")"
   ]
  }
 ],
 "metadata": {
  "kernelspec": {
   "display_name": "SageMath 10.3",
   "language": "sage",
   "name": "sagemath"
  },
  "language_info": {
   "codemirror_mode": {
    "name": "ipython",
    "version": 3
   },
   "file_extension": ".py",
   "mimetype": "text/x-python",
   "name": "python",
   "nbconvert_exporter": "python",
   "pygments_lexer": "ipython3",
   "version": "3.11.9"
  }
 },
 "nbformat": 4,
 "nbformat_minor": 2
}
