{
 "cells": [
  {
   "cell_type": "code",
   "execution_count": 19,
   "metadata": {},
   "outputs": [
    {
     "name": "stdout",
     "output_type": "stream",
     "text": [
      "21*x - 21\n",
      "140*x^2 - 294*x + 154\n",
      "350*x^3 - 1225*x^2 + 1456*x - 581\n",
      "301*x^4 - 1540*x^3 + 3150*x^2 - 2954*x + 1043\n",
      "63*x^5 - 350*x^4 + 1085*x^3 - 1995*x^2 + 1918*x - 721\n",
      "x^6 + 42*x^5 - 175*x^4 + 350*x^3 - 371*x^2 + 154*x - 1\n",
      "x^6 + 42*x^5 - 175*x^4 + 350*x^3 - 371*x^2 + 154*x - 1\n"
     ]
    }
   ],
   "source": [
    "def restriction(M, flat):\n",
    "    return M.delete(M.groundset() - flat).simplify()\n",
    "\n",
    "def contraction(M, flat):\n",
    "    return M.contract(flat).simplify()\n",
    "\n",
    "def reduced_char_poly(M):\n",
    "    if M.rank() == 0: return -1\n",
    "    return char_poly(M) // (x - 1)\n",
    "\n",
    "def char_poly(M):\n",
    "    T = M.tutte_polynomial()\n",
    "    x = var('x')\n",
    "    subbed_Tpoly = T.subs(x = 1 - x, y = 0)\n",
    "    char_poly = (-1) ** M.rank() * subbed_Tpoly\n",
    "    R = PolynomialRing(QQ, 'x')\n",
    "\n",
    "    return R(char_poly)\n",
    "\n",
    "R = PolynomialRing(QQ, 'x')\n",
    "\n",
    "def conj(M):\n",
    "    poly = R(0)\n",
    "    for i in range(1, M.rank()+ 1):\n",
    "        flats_i = M.flats(i)\n",
    "        for flat in flats_i:\n",
    "            N = restriction(M, flat)\n",
    "            poly = poly + char_poly(N)\n",
    "\n",
    "        print(poly)\n",
    "\n",
    "    return poly\n",
    "\n",
    "\"\"\"\n",
    "for i in range(3, 8):\n",
    "    print(conj(matroids.CompleteGraphic(i)))\n",
    "    \"\"\"\n",
    "\n",
    "print(conj(matroids.CompleteGraphic(7)))\n"
   ]
  },
  {
   "cell_type": "code",
   "execution_count": 20,
   "metadata": {},
   "outputs": [
    {
     "data": {
      "text/plain": [
       "-1"
      ]
     },
     "execution_count": 20,
     "metadata": {},
     "output_type": "execute_result"
    }
   ],
   "source": [
    "\n",
    "reduced_char_poly(matroids.CompleteGraphic(1))"
   ]
  }
 ],
 "metadata": {
  "kernelspec": {
   "display_name": "SageMath 10.3",
   "language": "sage",
   "name": "SageMath-10.3"
  },
  "language_info": {
   "codemirror_mode": {
    "name": "ipython",
    "version": 3
   },
   "file_extension": ".py",
   "mimetype": "text/x-python",
   "name": "sage",
   "nbconvert_exporter": "python",
   "pygments_lexer": "ipython3",
   "version": "3.11.8"
  }
 },
 "nbformat": 4,
 "nbformat_minor": 2
}
