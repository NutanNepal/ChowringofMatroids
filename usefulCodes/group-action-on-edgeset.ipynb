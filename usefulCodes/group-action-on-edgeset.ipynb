{
 "cells": [
  {
   "cell_type": "code",
   "execution_count": 16,
   "metadata": {
    "vscode": {
     "languageId": "sage"
    }
   },
   "outputs": [],
   "source": [
    "n = 5\n",
    "G = graphs.CompleteGraph(n)\n",
    "edgelist = graphs.CompleteGraph(n).edges(labels=False)\n",
    "matroid = Matroid(graph=edgelist, groundset=edgelist)\n",
    "group = SymmetricGroup(range(n))\n",
    "num_conjugacy_classes = len(group.conjugacy_classes())\n",
    "\n",
    "def action_on_flats(g, m):\n",
    "    def action_on_groundset(g, x):\n",
    "        return tuple(sorted(g(y) for y in x))\n",
    "    \n",
    "    return tuple(sorted([action_on_groundset(g,x) for x in m]))\n",
    "\n",
    "def action_on_fymonomials(g, monomial):\n",
    "    return tuple(sorted([action_on_flats(g,m) for m in monomial]))\n",
    "\n",
    "def stab(G, m, action):\n",
    "    return G.subgroup(set(g for g in G if action(g, m) == tuple(m)))\n",
    "\n",
    "def orbits(G, X, action):\n",
    "    def orbit(G, m):\n",
    "        return set(sorted(action(g, m) for g in G))\n",
    "    return sorted(set(tuple(orbit(G, x)) for x in X))\n",
    "\n",
    "def perm_representation(G, X, action):\n",
    "    fn = ClassFunction(G, [0] * num_conjugacy_classes)\n",
    "    for orbit in orbits(G, X, action):\n",
    "        stabilizer_group = stab(G, orbit[0], action)\n",
    "        chi = stabilizer_group.trivial_character()\n",
    "        fn += chi.induct(G)\n",
    "\n",
    "    return fn"
   ]
  },
  {
   "cell_type": "code",
   "execution_count": 17,
   "metadata": {
    "vscode": {
     "languageId": "sage"
    }
   },
   "outputs": [],
   "source": [
    "flats = [list(matroid.flats(i)) for i in range(n)][1:]"
   ]
  },
  {
   "cell_type": "markdown",
   "metadata": {
    "vscode": {
     "languageId": "sage"
    }
   },
   "source": [
    "for i in range(len(flats)):\n",
    "    print(i)\n",
    "    for x, y in perm_representation(group, flats[i], action_on_flats).decompose():\n",
    "        print(x, y.values())"
   ]
  },
  {
   "cell_type": "code",
   "execution_count": 18,
   "metadata": {
    "vscode": {
     "languageId": "sage"
    }
   },
   "outputs": [],
   "source": [
    "def generate_weights(rank):\n",
    "    weights = set() \n",
    "    for i in range(1, rank):\n",
    "        for j in range(rank):\n",
    "            weight = [0] * rank\n",
    "            \n",
    "            if i >= j:\n",
    "                weight[i] = j\n",
    "                weights.add(tuple(weight))\n",
    "\n",
    "            if rank - (i+1) > 1:\n",
    "                y = generate_weights(rank - (i + 1))  # Recursion to get the complete list of weights...\n",
    "                for x in y:\n",
    "                    temp_weight = weight.copy()\n",
    "                    weights.add(tuple(temp_weight[:i+1] + x)) \n",
    "\n",
    "    return [list(w) for w in weights]\n",
    "\n",
    "rank = n - 1\n",
    "weights = generate_weights(rank)"
   ]
  },
  {
   "cell_type": "code",
   "execution_count": 19,
   "metadata": {
    "vscode": {
     "languageId": "sage"
    }
   },
   "outputs": [
    {
     "data": {
      "text/plain": [
       "[1, 41, 41, 1]"
      ]
     },
     "execution_count": 19,
     "metadata": {},
     "output_type": "execute_result"
    }
   ],
   "source": [
    "fy_monomials_list = [[] for _ in range(rank)]\n",
    "\n",
    "def generate_monomials(weight, flats):\n",
    "    if sum(weight) == 0: return [[]]\n",
    "    # Find the first non-zero weight\n",
    "    start_index = next(i for i in range(len(weight)) if weight[i] != 0)\n",
    "    result = []\n",
    "\n",
    "    for initial_flat in flats[start_index]:\n",
    "        initial_monomial = [initial_flat] * weight[start_index]\n",
    "        potential_combinations = [initial_monomial]\n",
    "\n",
    "        for i in range(start_index + 1, len(weight)):\n",
    "            if weight[i] != 0:\n",
    "                new_combinations = []\n",
    "                for flat in flats[i]:\n",
    "                    for combo in potential_combinations:\n",
    "                        if combo[-1].issubset(flat):\n",
    "                            new_combo = combo + [flat] * weight[i]\n",
    "                            new_combinations.append(new_combo)\n",
    "                potential_combinations = new_combinations\n",
    "\n",
    "        result.extend(potential_combinations)\n",
    "\n",
    "    return result\n",
    "\n",
    "for weight in weights:\n",
    "    fy_monomials_list[sum(weight)].extend(generate_monomials(weight, flats))\n",
    "\n",
    "[len(x) for x in fy_monomials_list]"
   ]
  },
  {
   "cell_type": "code",
   "execution_count": 20,
   "metadata": {
    "vscode": {
     "languageId": "sage"
    }
   },
   "outputs": [
    {
     "name": "stdout",
     "output_type": "stream",
     "text": [
      "rank: 0\n",
      "1 [1, 1, 1, 1, 1, 1, 1]\n",
      "rank: 1\n",
      "5 [1, 1, 1, 1, 1, 1, 1]\n",
      "4 [4, 2, 0, 1, -1, 0, -1]\n",
      "1 [5, -1, 1, -1, -1, 1, 0]\n",
      "3 [5, 1, 1, -1, 1, -1, 0]\n",
      "rank: 2\n",
      "5 [1, 1, 1, 1, 1, 1, 1]\n",
      "4 [4, 2, 0, 1, -1, 0, -1]\n",
      "1 [5, -1, 1, -1, -1, 1, 0]\n",
      "3 [5, 1, 1, -1, 1, -1, 0]\n",
      "rank: 3\n",
      "1 [1, 1, 1, 1, 1, 1, 1]\n"
     ]
    }
   ],
   "source": [
    "for i in range(n-1):\n",
    "    print(\"rank: \" + str(i))\n",
    "    for x, y in perm_representation(group, fy_monomials_list[i], action_on_fymonomials).decompose():\n",
    "        print(x, y.values())"
   ]
  }
 ],
 "metadata": {
  "kernelspec": {
   "display_name": "SageMath 10.3",
   "language": "sage",
   "name": "sagemath"
  },
  "language_info": {
   "codemirror_mode": {
    "name": "ipython",
    "version": 3
   },
   "file_extension": ".py",
   "mimetype": "text/x-python",
   "name": "python",
   "nbconvert_exporter": "python",
   "pygments_lexer": "ipython3",
   "version": "3.11.9"
  }
 },
 "nbformat": 4,
 "nbformat_minor": 2
}
