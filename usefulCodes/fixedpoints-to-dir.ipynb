{
 "cells": [
  {
   "cell_type": "code",
   "execution_count": 17,
   "metadata": {},
   "outputs": [
    {
     "name": "stdout",
     "output_type": "stream",
     "text": [
      "[[5], [4, 1], [3, 2], [3, 1, 1], [2, 2, 1], [2, 1, 1, 1], [1, 1, 1, 1, 1]]\n"
     ]
    },
    {
     "data": {
      "text/plain": [
       "[[1, 1, 1, 1, 1, 1, 1],\n",
       " [4, 2, 0, 1, -1, 0, -1],\n",
       " [5, 1, 1, -1, 1, -1, 0],\n",
       " [6, 0, -2, 0, 0, 0, 1],\n",
       " [5, -1, 1, -1, -1, 1, 0],\n",
       " [4, -2, 0, 1, 1, 0, -1],\n",
       " [1, -1, 1, 1, -1, -1, 1]]"
      ]
     },
     "execution_count": 17,
     "metadata": {},
     "output_type": "execute_result"
    }
   ],
   "source": [
    "def representations(n):\n",
    "    representations = []\n",
    "    partitions = Partitions(n).list()\n",
    "    print(partitions)\n",
    "    for partition in partitions:\n",
    "        character_values = SymmetricGroupRepresentation(partition).to_character().values()\n",
    "        int_values = [int(value) for value in character_values]\n",
    "        representations.append(int_values)\n",
    "    return representations\n",
    "\n",
    "representations(5)"
   ]
  },
  {
   "cell_type": "code",
   "execution_count": 18,
   "metadata": {},
   "outputs": [
    {
     "name": "stdout",
     "output_type": "stream",
     "text": [
      "[[3], [2, 1], [1, 1, 1]]\n"
     ]
    },
    {
     "data": {
      "text/plain": [
       "[[3, 2, 0], [3, 2, 0], [2, 3, 1]]"
      ]
     },
     "execution_count": 18,
     "metadata": {},
     "output_type": "execute_result"
    }
   ],
   "source": [
    "import numpy as np\n",
    "\n",
    "def decomposition(characters_list, n):\n",
    "    trace_matrix = np.matrix(representations(n), dtype=float)\n",
    "    decomposition = []\n",
    "    A = np.array(trace_matrix.transpose())\n",
    "    for v in characters_list:\n",
    "        rhs_array = np.array(v, dtype=float)\n",
    "        solution = np.linalg.solve(A, rhs_array)\n",
    "        rounded_solution = np.round(solution).astype(int)\n",
    "        decomposition.append(rounded_solution.tolist())\n",
    "\n",
    "    return decomposition\n",
    "\n",
    "def action_on_groundset(g, x):\n",
    "    return tuple(sorted(g(y) for y in x))\n",
    "\n",
    "def action_on_subset(g, S):\n",
    "    return frozenset([action_on_groundset(g, x) for x in S])\n",
    "\n",
    "decomposition([[7,3,1],[7,3,1],[9,1,0]], 3)\n"
   ]
  }
 ],
 "metadata": {
  "kernelspec": {
   "display_name": "SageMath 10.3",
   "language": "sage",
   "name": "SageMath-10.3"
  },
  "language_info": {
   "codemirror_mode": {
    "name": "ipython",
    "version": 3
   },
   "file_extension": ".py",
   "mimetype": "text/x-python",
   "name": "sage",
   "nbconvert_exporter": "python",
   "pygments_lexer": "ipython3",
   "version": "3.11.8"
  }
 },
 "nbformat": 4,
 "nbformat_minor": 2
}
