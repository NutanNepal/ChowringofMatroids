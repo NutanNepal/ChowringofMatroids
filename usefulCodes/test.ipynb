{
 "cells": [
  {
   "cell_type": "code",
   "execution_count": 1,
   "metadata": {},
   "outputs": [],
   "source": [
    "def reduced_char_poly(M):\n",
    "    return char_poly(M) // (x - 1)\n",
    "\n",
    "def char_poly(M):\n",
    "    T = M.tutte_polynomial()\n",
    "    x = var('x')\n",
    "    subbed_Tpoly = T.subs(x = 1 - x, y = 0)\n",
    "    char_poly = (-1) ** M.rank() * subbed_Tpoly\n",
    "    R = PolynomialRing(QQ, 'x')\n",
    "\n",
    "    return R(char_poly)\n",
    "\n",
    "l = [(i,j) for i in range(4, 7) for j in range(1, i+1)]\n",
    "\n",
    "\"\"\"\n",
    "for i, j in l:\n",
    "    M = matroids.Uniform(j, i)\n",
    "    print(\"U(\",j,i, \")\", reduced_char_poly(M))\n",
    "\"\"\"\n",
    "\n",
    "def restriction(M, flat):\n",
    "    return M.delete(M.groundset() - flat).simplify()\n",
    "\n",
    "def contraction(M, flat):\n",
    "    return M.contract(flat).simplify()"
   ]
  },
  {
   "cell_type": "code",
   "execution_count": 2,
   "metadata": {},
   "outputs": [
    {
     "data": {
      "text/plain": [
       "x^2 - 5*x + 6"
      ]
     },
     "execution_count": 2,
     "metadata": {},
     "output_type": "execute_result"
    }
   ],
   "source": [
    "M = matroids.CompleteGraphic(4)\n",
    "reduced_char_poly(M)"
   ]
  },
  {
   "cell_type": "code",
   "execution_count": 3,
   "metadata": {},
   "outputs": [
    {
     "data": {
      "text/plain": [
       "frozenset({0, 1, 3})"
      ]
     },
     "execution_count": 3,
     "metadata": {},
     "output_type": "execute_result"
    }
   ],
   "source": [
    "flat2 = M.flats(2)[0]\n",
    "flat2"
   ]
  },
  {
   "cell_type": "code",
   "execution_count": 4,
   "metadata": {},
   "outputs": [],
   "source": [
    "def conj(M):\n",
    "    poly = R(0)\n",
    "    for i in range(M.rank()+1):\n",
    "        flats_i = M.flats(i)\n",
    "        for flat in flats_i:\n",
    "            N = restriction(M, flat)\n",
    "            L = contraction(M, flat)\n",
    "            poly = poly + reduced_char_poly(N)*reduced_char_poly(L)\n",
    "\n",
    "    return poly"
   ]
  },
  {
   "cell_type": "code",
   "execution_count": 5,
   "metadata": {},
   "outputs": [
    {
     "ename": "TypeError",
     "evalue": "unsupported operand type(s) for +: 'R' and 'sage.rings.polynomial.polynomial_rational_flint.Polynomial_rational_flint'",
     "output_type": "error",
     "traceback": [
      "\u001b[0;31m---------------------------------------------------------------------------\u001b[0m",
      "\u001b[0;31mTypeError\u001b[0m                                 Traceback (most recent call last)",
      "Cell \u001b[0;32mIn[5], line 2\u001b[0m\n\u001b[1;32m      1\u001b[0m \u001b[38;5;28;01mfor\u001b[39;00m i \u001b[38;5;129;01min\u001b[39;00m \u001b[38;5;28mrange\u001b[39m(Integer(\u001b[38;5;241m8\u001b[39m)):\n\u001b[0;32m----> 2\u001b[0m     \u001b[38;5;28mprint\u001b[39m(\u001b[43mconj\u001b[49m\u001b[43m(\u001b[49m\u001b[43mmatroids\u001b[49m\u001b[38;5;241;43m.\u001b[39;49m\u001b[43mCompleteGraphic\u001b[49m\u001b[43m(\u001b[49m\u001b[43mi\u001b[49m\u001b[43m)\u001b[49m\u001b[43m)\u001b[49m)\n",
      "Cell \u001b[0;32mIn[4], line 8\u001b[0m, in \u001b[0;36mconj\u001b[0;34m(M)\u001b[0m\n\u001b[1;32m      6\u001b[0m         N \u001b[38;5;241m=\u001b[39m restriction(M, flat)\n\u001b[1;32m      7\u001b[0m         L \u001b[38;5;241m=\u001b[39m contraction(M, flat)\n\u001b[0;32m----> 8\u001b[0m         poly \u001b[38;5;241m=\u001b[39m \u001b[43mpoly\u001b[49m\u001b[43m \u001b[49m\u001b[38;5;241;43m+\u001b[39;49m\u001b[43m \u001b[49m\u001b[43mreduced_char_poly\u001b[49m\u001b[43m(\u001b[49m\u001b[43mN\u001b[49m\u001b[43m)\u001b[49m\u001b[38;5;241;43m*\u001b[39;49m\u001b[43mreduced_char_poly\u001b[49m\u001b[43m(\u001b[49m\u001b[43mL\u001b[49m\u001b[43m)\u001b[49m\n\u001b[1;32m     10\u001b[0m \u001b[38;5;28;01mreturn\u001b[39;00m poly\n",
      "\u001b[0;31mTypeError\u001b[0m: unsupported operand type(s) for +: 'R' and 'sage.rings.polynomial.polynomial_rational_flint.Polynomial_rational_flint'"
     ]
    }
   ],
   "source": [
    "for i in range(8):\n",
    "    print(conj(matroids.CompleteGraphic(i)))"
   ]
  }
 ],
 "metadata": {
  "kernelspec": {
   "display_name": "SageMath 10.3",
   "language": "sage",
   "name": "sagemath"
  },
  "language_info": {
   "codemirror_mode": {
    "name": "ipython",
    "version": 3
   },
   "file_extension": ".py",
   "mimetype": "text/x-python",
   "name": "sage",
   "nbconvert_exporter": "python",
   "pygments_lexer": "ipython3",
   "version": "3.11.9"
  }
 },
 "nbformat": 4,
 "nbformat_minor": 2
}
