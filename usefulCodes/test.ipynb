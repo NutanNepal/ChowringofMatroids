{
 "cells": [
  {
   "cell_type": "code",
   "execution_count": 7,
   "metadata": {
    "vscode": {
     "languageId": "sage"
    }
   },
   "outputs": [
    {
     "name": "stdout",
     "output_type": "stream",
     "text": [
      "U( 1 4 ) 1 1\n",
      "U( 2 4 ) x - 3 x - 3\n",
      "U( 3 4 ) x^2 - 3*x + 3 x^2 - 3*x + 3\n",
      "U( 4 4 ) x^3 - 3*x^2 + 3*x - 1 x^3 - 3*x^2 + 3*x - 1\n",
      "U( 1 5 ) 1 1\n",
      "U( 2 5 ) x - 4 x - 4\n",
      "U( 3 5 ) x^2 - 4*x + 6 x^2 - 4*x + 6\n",
      "U( 4 5 ) x^3 - 4*x^2 + 6*x - 4 x^3 - 4*x^2 + 6*x - 4\n",
      "U( 5 5 ) x^4 - 4*x^3 + 6*x^2 - 4*x + 1 x^4 - 4*x^3 + 6*x^2 - 4*x + 1\n",
      "U( 1 6 ) 1 1\n",
      "U( 2 6 ) x - 5 x - 5\n",
      "U( 3 6 ) x^2 - 5*x + 10 x^2 - 5*x + 10\n",
      "U( 4 6 ) x^3 - 5*x^2 + 10*x - 10 x^3 - 5*x^2 + 10*x - 10\n",
      "U( 5 6 ) x^4 - 5*x^3 + 10*x^2 - 10*x + 5 x^4 - 5*x^3 + 10*x^2 - 10*x + 5\n",
      "U( 6 6 ) x^5 - 5*x^4 + 10*x^3 - 10*x^2 + 5*x - 1 x^5 - 5*x^4 + 10*x^3 - 10*x^2 + 5*x - 1\n"
     ]
    }
   ],
   "source": [
    "def reduced_char_poly(M):\n",
    "    return char_poly(M) // (x - 1)\n",
    "\n",
    "def char_poly(M):\n",
    "    T = M.tutte_polynomial()\n",
    "    x = var('x')\n",
    "    subbed_Tpoly = T.subs(x = 1 - x, y = 0)\n",
    "    char_poly = (-1) ** M.rank() * subbed_Tpoly\n",
    "    R = PolynomialRing(QQ, 'x')\n",
    "\n",
    "    return R(char_poly)\n",
    "\n",
    "l = [(i,j) for i in range(4, 7) for j in range(1, i+1)]\n",
    "\n",
    "for i, j in l:\n",
    "    M = matroids.Uniform(j, i)\n",
    "    print(\"U(\",j,i, \")\", reduced_char_poly(M))\n",
    "\n",
    "\n",
    "def restriction(M, flat):\n",
    "    return M.delete(M.groundset() - flat).simplify()"
   ]
  }
 ],
 "metadata": {
  "kernelspec": {
   "display_name": "SageMath 10.3",
   "language": "sage",
   "name": "sagemath"
  },
  "language_info": {
   "codemirror_mode": {
    "name": "ipython",
    "version": 3
   },
   "file_extension": ".py",
   "mimetype": "text/x-python",
   "name": "python",
   "nbconvert_exporter": "python",
   "pygments_lexer": "ipython3",
   "version": "3.11.9"
  }
 },
 "nbformat": 4,
 "nbformat_minor": 2
}
