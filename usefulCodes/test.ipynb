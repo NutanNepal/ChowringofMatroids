{
 "cells": [
  {
   "cell_type": "raw",
   "metadata": {
    "vscode": {
     "languageId": "raw"
    }
   },
   "source": [
    "0\n",
    "1 [1, 1, 1, 1, 1, 1, 1]\n",
    "1 [4, 2, 0, 1, -1, 0, -1]\n",
    "1 [5, 1, 1, -1, 1, -1, 0]\n",
    "1\n",
    "2 [1, 1, 1, 1, 1, 1, 1]\n",
    "2 [4, 2, 0, 1, -1, 0, -1]\n",
    "1 [5, -1, 1, -1, -1, 1, 0]\n",
    "2 [5, 1, 1, -1, 1, -1, 0]\n",
    "2\n",
    "2 [1, 1, 1, 1, 1, 1, 1]\n",
    "2 [4, 2, 0, 1, -1, 0, -1]\n",
    "1 [5, 1, 1, -1, 1, -1, 0]\n",
    "3\n",
    "1 [1, 1, 1, 1, 1, 1, 1]"
   ]
  },
  {
   "cell_type": "raw",
   "metadata": {},
   "source": [
    "0\n",
    "1 [1, 1, 1, 1, 1, 1, 1]\n",
    "1\n",
    "5 [1, 1, 1, 1, 1, 1, 1]\n",
    "4 [4, 2, 0, 1, -1, 0, -1]\n",
    "1 [5, -1, 1, -1, -1, 1, 0]\n",
    "3 [5, 1, 1, -1, 1, -1, 0]\n",
    "2\n",
    "5 [1, 1, 1, 1, 1, 1, 1]\n",
    "4 [4, 2, 0, 1, -1, 0, -1]\n",
    "1 [5, -1, 1, -1, -1, 1, 0]\n",
    "3 [5, 1, 1, -1, 1, -1, 0]\n",
    "3\n",
    "1 [1, 1, 1, 1, 1, 1, 1]"
   ]
  }
 ],
 "metadata": {
  "kernelspec": {
   "display_name": "SageMath 10.3",
   "language": "sage",
   "name": "sagemath"
  },
  "language_info": {
   "codemirror_mode": {
    "name": "ipython",
    "version": 3
   },
   "file_extension": ".py",
   "mimetype": "text/x-python",
   "name": "python",
   "nbconvert_exporter": "python",
   "pygments_lexer": "ipython3",
   "version": "3.11.9"
  }
 },
 "nbformat": 4,
 "nbformat_minor": 2
}
