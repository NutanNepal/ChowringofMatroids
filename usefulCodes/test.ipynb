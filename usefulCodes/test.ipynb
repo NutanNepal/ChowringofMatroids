{
 "cells": [
  {
   "cell_type": "code",
   "execution_count": 188,
   "metadata": {
    "vscode": {
     "languageId": "sage"
    }
   },
   "outputs": [],
   "source": [
    "def reduced_char_poly(M):\n",
    "    return char_poly(M) // (x - 1)\n",
    "\n",
    "def char_poly(M):\n",
    "    T = M.tutte_polynomial()\n",
    "    x = var('x')\n",
    "    subbed_Tpoly = T.subs(x = 1 - x, y = 0)\n",
    "    char_poly = (-1) ** M.rank() * subbed_Tpoly\n",
    "    R = PolynomialRing(QQ, 'x')\n",
    "\n",
    "    return R(char_poly)\n",
    "\n",
    "l = [(i,j) for i in range(4, 7) for j in range(1, i+1)]\n",
    "\n",
    "\"\"\"\n",
    "for i, j in l:\n",
    "    M = matroids.Uniform(j, i)\n",
    "    print(\"U(\",j,i, \")\", reduced_char_poly(M))\n",
    "\"\"\"\n",
    "\n",
    "def restriction(M, flat):\n",
    "    return M.delete(M.groundset() - flat).simplify()\n",
    "\n",
    "def contraction(M, flat):\n",
    "    return M.contract(flat).simplify()"
   ]
  },
  {
   "cell_type": "code",
   "execution_count": 189,
   "metadata": {
    "vscode": {
     "languageId": "sage"
    }
   },
   "outputs": [
    {
     "data": {
      "text/plain": [
       "x^2 - 5*x + 6"
      ]
     },
     "execution_count": 189,
     "metadata": {},
     "output_type": "execute_result"
    }
   ],
   "source": [
    "M = matroids.CompleteGraphic(4)\n",
    "reduced_char_poly(M)"
   ]
  },
  {
   "cell_type": "code",
   "execution_count": 190,
   "metadata": {
    "vscode": {
     "languageId": "sage"
    }
   },
   "outputs": [
    {
     "data": {
      "text/plain": [
       "frozenset({0, 1, 3})"
      ]
     },
     "execution_count": 190,
     "metadata": {},
     "output_type": "execute_result"
    }
   ],
   "source": [
    "flat2 = M.flats(2)[0]\n",
    "flat2"
   ]
  },
  {
   "cell_type": "code",
   "execution_count": 191,
   "metadata": {
    "vscode": {
     "languageId": "sage"
    }
   },
   "outputs": [],
   "source": [
    "def conj(M):\n",
    "    poly = R(0)\n",
    "    for i in range(M.rank()+1):\n",
    "        flats_i = M.flats(i)\n",
    "        for flat in flats_i:\n",
    "            N = restriction(M, flat)\n",
    "            L = contraction(M, flat)\n",
    "            poly = poly + reduced_char_poly(N)*reduced_char_poly(L)\n",
    "\n",
    "    return poly"
   ]
  },
  {
   "cell_type": "code",
   "execution_count": 192,
   "metadata": {
    "vscode": {
     "languageId": "sage"
    }
   },
   "outputs": [
    {
     "name": "stdout",
     "output_type": "stream",
     "text": [
      "0\n",
      "0\n",
      "0\n",
      "3\n",
      "13*x - 23\n",
      "50*x^2 - 190*x + 180\n",
      "201*x^3 - 1204*x^2 + 2401*x - 1594\n",
      "875*x^4 - 7273*x^3 + 22617*x^2 - 31213*x + 16142\n"
     ]
    }
   ],
   "source": [
    "for i in range(8):\n",
    "    print(conj(matroids.CompleteGraphic(i)))"
   ]
  }
 ],
 "metadata": {
  "kernelspec": {
   "display_name": "SageMath 10.3",
   "language": "sage",
   "name": "sagemath"
  },
  "language_info": {
   "codemirror_mode": {
    "name": "ipython",
    "version": 3
   },
   "file_extension": ".py",
   "mimetype": "text/x-python",
   "name": "python",
   "nbconvert_exporter": "python",
   "pygments_lexer": "ipython3",
   "version": "3.11.9"
  }
 },
 "nbformat": 4,
 "nbformat_minor": 2
}
