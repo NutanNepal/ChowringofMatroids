{
 "cells": [
  {
   "cell_type": "code",
   "execution_count": 1,
   "metadata": {},
   "outputs": [
    {
     "name": "stdout",
     "output_type": "stream",
     "text": [
      "3 [1, 1, 1]\n",
      "2 [2, 0, -1]\n"
     ]
    }
   ],
   "source": [
    "X = set([('a',), ('b',), ('c',), ('a','b'), ('a','c'), ('b','c'), ('a','b','c')])\n",
    "group = SymmetricGroup(['a','b','c'])\n",
    "\n",
    "## Action function can vary depending on the structure of the G-set X.\n",
    "def action(g, m):\n",
    "    return tuple(sorted([g(y) for y in m]))\n",
    "##\n",
    "\n",
    "def stab(G, m):\n",
    "    return G.subgroup(set(g for g in G if action(g, m) == m))\n",
    "\n",
    "def orbits(G, X):\n",
    "    def orbit(G, m):\n",
    "        return set(sorted(action(g, m) for g in G))\n",
    "    return sorted(set(tuple(orbit(G, x)) for x in X))\n",
    "\n",
    "def perm_representation(G, X):\n",
    "    fn = ClassFunction(G, [0]*3)\n",
    "    for orbit in orbits(G, X):\n",
    "        stabilizer_group = stab(G, orbit[0])\n",
    "        chi = stabilizer_group.trivial_character()\n",
    "        fn += chi.induct(G)\n",
    "\n",
    "    return fn\n",
    "\n",
    "for x, y in perm_representation(group, X).decompose():\n",
    "    print(x, y.values())"
   ]
  }
 ],
 "metadata": {
  "kernelspec": {
   "display_name": "SageMath 10.3",
   "language": "sage",
   "name": "sagemath"
  },
  "language_info": {
   "codemirror_mode": {
    "name": "ipython",
    "version": 3
   },
   "file_extension": ".py",
   "mimetype": "text/x-python",
   "name": "sage",
   "nbconvert_exporter": "python",
   "pygments_lexer": "ipython3",
   "version": "3.11.9"
  }
 },
 "nbformat": 4,
 "nbformat_minor": 2
}
