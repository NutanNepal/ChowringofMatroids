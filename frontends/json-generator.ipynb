{
 "cells": [
  {
   "cell_type": "code",
   "execution_count": 73,
   "metadata": {
    "vscode": {
     "languageId": "sage"
    }
   },
   "outputs": [],
   "source": [
    "import sys, os\n",
    "import networkx as nx\n",
    "import ipycytoscape\n",
    "import json\n",
    "\n",
    "sys.path.append('../frontends/pyscripts')\n",
    "from matfuncs import *\n",
    "\n",
    "S = PolynomialRing(ZZ, 't')"
   ]
  },
  {
   "cell_type": "code",
   "execution_count": 74,
   "metadata": {
    "vscode": {
     "languageId": "sage"
    }
   },
   "outputs": [],
   "source": [
    "def kl(M):\n",
    "    return M.lattice_of_flats().kazhdan_lusztig_polynomial()(t)\n",
    "\n",
    "def parallel_connection(m, n):\n",
    "    G = graphs.CycleGraph(m + n - 2)\n",
    "    G.add_edge(0, m-1)\n",
    "    edge_e = frozenset({(0, m - 1)})\n",
    "    return G, edge_e\n",
    "\n",
    "def qhat(M):\n",
    "    return (-1) ^ M.rank() * invkl(M)\n",
    "\n",
    "def uniformQhat(r, n):\n",
    "    return (-1) ^ r * uniformQpoly(r, n)\n",
    "\n",
    "def sum_prhc(M, S):\n",
    "    return sum(kl(M.delete(M.groundset() - set(F))) * \\\n",
    "            qhat(M.contract(F)) for F in S)\n",
    "\n",
    "def sum_pchr(M, S):\n",
    "    return sum(qhat(M.delete(M.groundset() - set(F))) * \\\n",
    "            kl(M.contract(F)) for F in S)\n",
    "\n",
    "def prhc_at_flats(M, L):\n",
    "    return {F: S(kl(M.delete(M.groundset() - set(F))) * qhat(M.contract(F))) for F in L}"
   ]
  },
  {
   "cell_type": "code",
   "execution_count": 75,
   "metadata": {
    "vscode": {
     "languageId": "sage"
    }
   },
   "outputs": [],
   "source": [
    "def save_to_json(m, n, M):\n",
    "    # Generate the JSON data\n",
    "    L = M.lattice_of_flats()\n",
    "    flat_to_index = {flat: i for i, flat in enumerate(L)}\n",
    "    prhc_vals = prhc_at_flats(M, list(L))\n",
    "    \n",
    "    # Create parent nodes for each rank\n",
    "    ranks = [i for i in range(M.rank() + 1)]\n",
    "    rank_parents = {r: f'rank_{r}' for r in ranks}\n",
    "    rank_colors = ['#DFDF00', '#00F0F0', '#FFFF00', '#FFD0DF', '#D3D3D3', '#ADD8E6', '#E0FFFF']\n",
    "    \n",
    "    nodes = []\n",
    "    edges = []\n",
    "    \n",
    "    # Add rank parent nodes\n",
    "    for r in ranks:\n",
    "        nodes.append({\n",
    "            \"data\": {\n",
    "                \"id\": rank_parents[r],\n",
    "                \"label\": f\"Rank {r}\",\n",
    "                \"color\": '#CCCCCC'  # Light gray for parent nodes\n",
    "            }\n",
    "        })\n",
    "    \n",
    "    # Add child nodes with parent relationships\n",
    "    for i, flat in enumerate(L):\n",
    "        nodes.append({\n",
    "            \"data\": {\n",
    "                \"id\": str(i),\n",
    "                \"label\": f\"{prhc_vals.get(flat, 0)}\",\n",
    "                \"color\": rank_colors[M.rank(flat) % len(rank_colors)],\n",
    "                \"parent\": rank_parents[M.rank(flat)]\n",
    "            }\n",
    "        })\n",
    "    \n",
    "    # Add edges between children\n",
    "    for x, y in L.cover_relations():\n",
    "        edges.append({\n",
    "            \"data\": {\n",
    "                \"source\": str(flat_to_index[y]),\n",
    "                \"target\": str(flat_to_index[x])\n",
    "            }\n",
    "        })\n",
    "    \n",
    "    # Create final JSON structure\n",
    "    cyto_data = {\n",
    "        \"nodes\": nodes,\n",
    "        \"edges\": edges\n",
    "    }\n",
    "    \n",
    "    # Save the data to a JSON file\n",
    "    with open(f\"graph_data_pcr-pc-{m}-{n}-{str(M)}.json\", \"w\") as f:\n",
    "        json.dump(cyto_data, f, indent=4)\n",
    "    \n",
    "    print(f\"JSON file saved as graph_data_pcr-pc-{m}-{n}-{str(M)}.json\")"
   ]
  },
  {
   "cell_type": "code",
   "execution_count": 76,
   "metadata": {
    "vscode": {
     "languageId": "sage"
    }
   },
   "outputs": [
    {
     "name": "stdout",
     "output_type": "stream",
     "text": [
      "JSON file saved as graph_data_pcr-pc-4-7-Graphic matroid of rank 8 on 10 elements.json\n"
     ]
    }
   ],
   "source": [
    "m, n = 4, 7\n",
    "\n",
    "G, e = parallel_connection(m, n)\n",
    "M = Matroid(G)\n",
    "# Usage\n",
    "save_to_json(m, n, M)"
   ]
  }
 ],
 "metadata": {
  "kernelspec": {
   "display_name": "SageMath 10.3",
   "language": "sage",
   "name": "SageMath-10.3"
  },
  "language_info": {
   "codemirror_mode": {
    "name": "ipython",
    "version": 3
   },
   "file_extension": ".py",
   "mimetype": "text/x-python",
   "name": "python",
   "nbconvert_exporter": "python",
   "pygments_lexer": "ipython3",
   "version": "3.11.8"
  }
 },
 "nbformat": 4,
 "nbformat_minor": 2
}
