{
 "cells": [
  {
   "cell_type": "code",
   "execution_count": 25,
   "metadata": {},
   "outputs": [],
   "source": [
    "n = 10\n",
    "subsetsR = Subsets(list(range(1, n+1)))\n",
    "power_set = [[0] + list(x) for x in subsetsR if x]"
   ]
  },
  {
   "cell_type": "code",
   "execution_count": 26,
   "metadata": {},
   "outputs": [
    {
     "data": {
      "text/plain": [
       "[0, 115929, 12354819, 89221749, 72562722, 5655882, 9842, 512, 1, 0]"
      ]
     },
     "execution_count": 26,
     "metadata": {},
     "output_type": "execute_result"
    }
   ],
   "source": [
    "sum_result = [0] * (n)\n",
    "for R in power_set:\n",
    "    prod = [1]\n",
    "    for i in range(1, len(R)):\n",
    "        stirnums = [0] + [stirling_number2(n - R[i-1], n - R[i])] * (R[i] - R[i-1] - 1)\n",
    "        prodtemp = prod.copy()\n",
    "        prod = convolution(prodtemp, stirnums)\n",
    "\n",
    "    prod = prod + [0] * (n - len(prod))\n",
    "    sum_result = [x + y for x, y in zip(sum_result, prod)]\n",
    "\n",
    "sum_result"
   ]
  },
  {
   "cell_type": "markdown",
   "metadata": {},
   "source": [
    "$$\\displaystyle\n",
    "H_{K_n}(x) = \\sum_{R\\subset [n]}{\\prod_{i=1}^{|R|}{\\frac{x(1-x^{r_i-r_{i-1}-1})}{1-x}*St_2(n-r_{i-1}, n-r_i)}}$$"
   ]
  }
 ],
 "metadata": {
  "kernelspec": {
   "display_name": "SageMath 10.1",
   "language": "sage",
   "name": "SageMath-10.1"
  },
  "language_info": {
   "codemirror_mode": {
    "name": "ipython",
    "version": 3
   },
   "file_extension": ".py",
   "mimetype": "text/x-python",
   "name": "sage",
   "nbconvert_exporter": "python",
   "pygments_lexer": "ipython3",
   "version": "3.11.1"
  }
 },
 "nbformat": 4,
 "nbformat_minor": 2
}
