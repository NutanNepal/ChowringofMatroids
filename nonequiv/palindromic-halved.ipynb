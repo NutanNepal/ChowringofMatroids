{
 "cells": [
  {
   "cell_type": "code",
   "execution_count": 111,
   "metadata": {},
   "outputs": [
    {
     "data": {
      "text/plain": [
       "[1, 4111, 111211, 214202, 111211, 4111, 1]"
      ]
     },
     "execution_count": 111,
     "metadata": {},
     "output_type": "execute_result"
    }
   ],
   "source": [
    "palindrome = [1, 4111, 111211, 299882, 111211, 4111, 1]\n",
    "\n",
    "gamma_coeffs = [1, 4105, 94776]\n",
    "d = 6\n",
    "ps = [0]\n",
    "\n",
    "def multi(n):\n",
    "    if n == 0: return [1]\n",
    "    return convolution([1, 1], multi(n - 1))\n",
    "\n",
    "for i in range(len(gamma_coeffs)):\n",
    "    y = [0] * i + [gamma_coeffs[i] * j for j in multi(d - 2 * i)]\n",
    "    ps = ps + [0] * (len(y) - len(ps))\n",
    "    y = y + [0] * (len(ps) - len(y))\n",
    "    ps = [x + y for x, y in zip(ps, y)]\n",
    "ps"
   ]
  },
  {
   "cell_type": "markdown",
   "metadata": {},
   "source": [
    "Here, I am trying to compute the corresponding palindromic polynomials from the gammas coefficients. We have the following result in general:\n",
    "\n",
    "Every palindromic equivariant polynomial $F^W(x) = \\sum_{i=0}^dV_i x^i$ can be rewritten in a unique way as\n",
    "\n",
    "$$F^W(x) = \\sum_{i=0}^{d/2}{\\Gamma_ix^i(1+x)^{d-2i}},$$\n",
    "\n",
    "where $\\Gamma_i$ is a virtual representation of $W$ for every $i$."
   ]
  },
  {
   "cell_type": "markdown",
   "metadata": {},
   "source": []
  }
 ],
 "metadata": {
  "kernelspec": {
   "display_name": "SageMath 10.1",
   "language": "sage",
   "name": "SageMath-10.1"
  },
  "language_info": {
   "codemirror_mode": {
    "name": "ipython",
    "version": 3
   },
   "file_extension": ".py",
   "mimetype": "text/x-python",
   "name": "sage",
   "nbconvert_exporter": "python",
   "pygments_lexer": "ipython3",
   "version": "3.11.1"
  }
 },
 "nbformat": 4,
 "nbformat_minor": 2
}
