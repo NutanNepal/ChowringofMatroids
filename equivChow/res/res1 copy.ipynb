{
 "cells": [
  {
   "cell_type": "markdown",
   "metadata": {},
   "source": [
    "We first initialize a Braid matroid with $n$ vertices."
   ]
  },
  {
   "cell_type": "code",
   "execution_count": 17,
   "metadata": {
    "vscode": {
     "languageId": "sage"
    }
   },
   "outputs": [],
   "source": [
    "n = 4\n",
    "graph_Kn = graphs.CompleteGraph(n)\n",
    "edgelist = sorted(graphs.CompleteGraph(n).edges(labels=False))\n",
    "matroid = Matroid(Matrix(GF(2), graph_Kn.incidence_matrix()))\n",
    "matroid = matroids.catalog.Wheel4()\n",
    "flats = [list(matroid.flats(i)) for i in range(n)]\n",
    "all_elements = sum(flats, [])  # Flatten the list of flats\n",
    "labels = {element: idx for idx, element in enumerate(all_elements)}\n",
    "\n",
    "#matroid.lattice_of_flats().plot(\n",
    "#    element_labels = labels, element_color = \"white\",\n",
    "#    figsize= 12, cover_color = \"grey\")"
   ]
  },
  {
   "cell_type": "code",
   "execution_count": 18,
   "metadata": {
    "vscode": {
     "languageId": "sage"
    }
   },
   "outputs": [],
   "source": [
    "G = SymmetricGroup(range(len(matroid.groundset())))\n",
    "\n",
    "def action(g, f):\n",
    "    return frozenset(sorted(g(y) for y in f))\n",
    "\n",
    "def stab(G, m, action):\n",
    "    return G.subgroup(set(g for g in G if action(g, m) == tuple(m)))\n",
    "\n",
    "def orbit(G, m, action):\n",
    "    return frozenset(sorted(action(g, m) for g in G))\n",
    "    \n",
    "def orbits(G, X, action):\n",
    "    return set(orbit(G, x, action) for x in X)\n",
    "\n",
    "def stabilizer_group(group, setx):\n",
    "    if all(len(x) == 0 for x in setx): return G \n",
    "    return G.subgroup([g for g in group if all(action(g, element) in setx for element in setx)])\n",
    "    \n"
   ]
  },
  {
   "cell_type": "code",
   "execution_count": 19,
   "metadata": {
    "vscode": {
     "languageId": "sage"
    }
   },
   "outputs": [
    {
     "name": "stdout",
     "output_type": "stream",
     "text": [
      "\n",
      "rank: 0\n",
      "40320\n",
      "\n",
      "rank: 1\n",
      "40320\n",
      "\n",
      "rank: 2\n",
      "8\n",
      "\n",
      "rank: 3\n",
      "8\n"
     ]
    }
   ],
   "source": [
    "stabilizer_groups = []\n",
    "\n",
    "for idx, flats_r in enumerate(flats):\n",
    "    print(\"\\nrank:\", idx)\n",
    "    stabilizer_groups.append(stabilizer_group(G, flats_r))\n",
    "    print(stabilizer_groups[-1].order())\n",
    "\n",
    "\n"
   ]
  }
 ],
 "metadata": {
  "kernelspec": {
   "display_name": "SageMath 10.3",
   "language": "sage",
   "name": "sagemath"
  },
  "language_info": {
   "codemirror_mode": {
    "name": "ipython",
    "version": 3
   },
   "file_extension": ".py",
   "mimetype": "text/x-python",
   "name": "python",
   "nbconvert_exporter": "python",
   "pygments_lexer": "ipython3",
   "version": "3.11.9"
  }
 },
 "nbformat": 4,
 "nbformat_minor": 2
}
