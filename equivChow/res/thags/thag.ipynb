{
 "cells": [
  {
   "cell_type": "markdown",
   "metadata": {},
   "source": [
    "$$F_n = h_n + \\sum_{k=2}^n{\\left(\\sum_{l=0}^k{h_l\\cdot h_{k-l}\\cdot\n",
    "h_{n-k}\\cdot F_{n-k}}\\right)(x+\\cdots+x^{k-1})} + \\sum_{k=2}^{n+1}{h_{k-1}\\cdot\n",
    "Q_{n-k+1}(x+\\cdots+x^{k-1})}$$"
   ]
  },
  {
   "cell_type": "code",
   "execution_count": null,
   "metadata": {},
   "outputs": [],
   "source": [
    "R = PolynomialRing(ZZ, 't')\n",
    "Sym = SymmetricFunctions(R)\n",
    "\n",
    "h = Sym.homogeneous()\n",
    "S = PolynomialRing(h, 'x')\n",
    "x = S.gen()"
   ]
  },
  {
   "cell_type": "code",
   "execution_count": 32,
   "metadata": {},
   "outputs": [
    {
     "name": "stdout",
     "output_type": "stream",
     "text": [
      "h[2, 1]*x^2 + h[2, 1]*x\n",
      "h[2, 1]*x^2 + h[2, 1]*x\n",
      "h[3]*x^3 + h[3]*x^2 + h[3]*x\n"
     ]
    },
    {
     "data": {
      "text/plain": [
       "h[3]*x^3 + (2*h[2, 1] + h[3])*x^2 + (2*h[2, 1] + h[3])*x"
      ]
     },
     "execution_count": 32,
     "metadata": {},
     "output_type": "execute_result"
    }
   ],
   "source": [
    "n = 3\n",
    "\n",
    "def Q(n):\n",
    "    if n == 0: return 1\n",
    "    return sum(h.Eulerian(n, k) * x^k for k in range(n))\n",
    "\n",
    "equiv_thag = {0: 1, 1: h[1]+h[1]*x}\n",
    "\n",
    "sum_Ts = S(0)\n",
    "for k in range(2, n + 2):\n",
    "    print(h[k-1] * Q(n - k + 1) * sum(x^i for i in range(1, k)))\n",
    "    sum_Ts += h[k-1] * Q(n - k + 1) * sum(x^i for i in range(1, k))\n",
    "\n",
    "sum_Ts"
   ]
  },
  {
   "cell_type": "code",
   "execution_count": 33,
   "metadata": {},
   "outputs": [
    {
     "data": {
      "text/plain": [
       "(h[1, 1, 1] + 4*h[2, 1] + 2*h[3])*x^2 + (h[1, 1, 1] + 4*h[2, 1] + 2*h[3])*x"
      ]
     },
     "execution_count": 33,
     "metadata": {},
     "output_type": "execute_result"
    }
   ],
   "source": [
    "sum_Es = S(0)\n",
    "for k in range(2, n + 1):\n",
    "    iter1 = S(0)\n",
    "    for l in range(0, k + 1):\n",
    "        iter1 += h[l]*h[k-l]* equiv_thag[n-k]\n",
    "    iter1 *= sum(x^i for i in range(1, k))\n",
    "    sum_Es += iter1\n",
    "\n",
    "sum_Es"
   ]
  },
  {
   "cell_type": "code",
   "execution_count": 34,
   "metadata": {},
   "outputs": [
    {
     "data": {
      "text/plain": [
       "h[3]*x^3 + (h[1, 1, 1] + 6*h[2, 1] + 3*h[3])*x^2 + (h[1, 1, 1] + 6*h[2, 1] + 3*h[3])*x + h[3]"
      ]
     },
     "execution_count": 34,
     "metadata": {},
     "output_type": "execute_result"
    }
   ],
   "source": [
    "h[n] + sum_Ts + sum_Es"
   ]
  },
  {
   "cell_type": "code",
   "execution_count": 35,
   "metadata": {},
   "outputs": [],
   "source": [
    "import json\n",
    "\n",
    "def compute_and_save_equiv_thag(start, end, filename):\n",
    "    for n in range(start, end + 1):\n",
    "        sum_Ts = S(0)\n",
    "        for k in range(2, n + 2):\n",
    "            sum_Ts += h[k-1] * Q(n - k + 1) * sum(x^i for i in range(1, k))\n",
    "\n",
    "        sum_Es = S(0)\n",
    "        for k in range(2, n + 1):\n",
    "            iter1 = S(0)\n",
    "            for l in range(0, k + 1):\n",
    "                iter1 += h[l]*h[k-l]*equiv_thag[n-k]\n",
    "            iter1 *= sum(x^i for i in range(1, k))\n",
    "            sum_Es += iter1\n",
    "\n",
    "        equiv_thag[n] = h[n] + sum_Ts + sum_Es\n",
    "\n",
    "    with open(filename, 'w') as f:\n",
    "        json.dump({int(k): str(v) for k, v in equiv_thag.items()}, f)\n",
    "\n",
    "# Call the function to compute and save the dictionary\n",
    "compute_and_save_equiv_thag(2, 11, 'equiv_thag.json')"
   ]
  }
 ],
 "metadata": {
  "kernelspec": {
   "display_name": "SageMath 10.3",
   "language": "sage",
   "name": "SageMath-10.3"
  },
  "language_info": {
   "codemirror_mode": {
    "name": "ipython",
    "version": 3
   },
   "file_extension": ".py",
   "mimetype": "text/x-python",
   "name": "sage",
   "nbconvert_exporter": "python",
   "pygments_lexer": "ipython3",
   "version": "3.11.8"
  }
 },
 "nbformat": 4,
 "nbformat_minor": 2
}
