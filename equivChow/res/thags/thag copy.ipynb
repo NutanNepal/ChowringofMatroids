{
 "cells": [
  {
   "cell_type": "markdown",
   "metadata": {},
   "source": [
    "$$F_n = h_n + \\sum_{k=2}^n{\\left(\\sum_{l=0}^k{h_l\\cdot h_{k-l}\\cdot\n",
    "h_{n-k}\\cdot F_{n-k}}\\right)(x+\\cdots+x^{k-1})} + \\sum_{k=2}^{n+1}{h_{k-1}\\cdot\n",
    "Q_{n-k+1}(x+\\cdots+x^{k-1})}$$"
   ]
  },
  {
   "cell_type": "code",
   "execution_count": 24,
   "metadata": {},
   "outputs": [],
   "source": [
    "R = PolynomialRing(ZZ, 't')\n",
    "Sym = SymmetricFunctions(R)\n",
    "\n",
    "h = Sym.homogeneous()\n",
    "s = Sym.schur()\n",
    "S = PolynomialRing(h, 'x')\n",
    "x = S.gen()\n",
    "T = PolynomialRing(s, x)"
   ]
  },
  {
   "cell_type": "code",
   "execution_count": 25,
   "metadata": {},
   "outputs": [
    {
     "data": {
      "text/plain": [
       "h[3]*x^3 + (2*h[2, 1] + h[3])*x^2 + (2*h[2, 1] + h[3])*x"
      ]
     },
     "execution_count": 25,
     "metadata": {},
     "output_type": "execute_result"
    }
   ],
   "source": [
    "n = 3\n",
    "\n",
    "def Q(n):\n",
    "    if n == 0: return 1\n",
    "    return sum(s(h.Eulerian(n, k)) * x^k for k in range(n))\n",
    "\n",
    "equiv_thag = {0: 1, 1: h[1]+h[1]*x}\n",
    "\n",
    "sum_Ts = S(0)\n",
    "for k in range(2, n + 2):\n",
    "    sum_Ts += h[k-1] * Q(n - k + 1) * sum(x^i for i in range(1, k))\n",
    "\n",
    "sum_Ts"
   ]
  },
  {
   "cell_type": "code",
   "execution_count": 26,
   "metadata": {},
   "outputs": [
    {
     "data": {
      "text/plain": [
       "(h[1, 1, 1] + 4*h[2, 1] + 2*h[3])*x^2 + (h[1, 1, 1] + 4*h[2, 1] + 2*h[3])*x"
      ]
     },
     "execution_count": 26,
     "metadata": {},
     "output_type": "execute_result"
    }
   ],
   "source": [
    "sum_Es = S(0)\n",
    "for k in range(2, n + 1):\n",
    "    iter1 = S(0)\n",
    "    for l in range(0, k + 1):\n",
    "        iter1 += s(h[l]*h[k-l])* equiv_thag[n-k]\n",
    "    iter1 *= sum(x^i for i in range(1, k))\n",
    "    sum_Es += iter1\n",
    "\n",
    "sum_Es"
   ]
  },
  {
   "cell_type": "code",
   "execution_count": 27,
   "metadata": {},
   "outputs": [
    {
     "data": {
      "text/plain": [
       "h[3]*x^3 + (h[1, 1, 1] + 6*h[2, 1] + 3*h[3])*x^2 + (h[1, 1, 1] + 6*h[2, 1] + 3*h[3])*x + h[3]"
      ]
     },
     "execution_count": 27,
     "metadata": {},
     "output_type": "execute_result"
    }
   ],
   "source": [
    "h[n] + sum_Ts + sum_Es"
   ]
  },
  {
   "cell_type": "code",
   "execution_count": 28,
   "metadata": {},
   "outputs": [
    {
     "ename": "KeyError",
     "evalue": "2",
     "output_type": "error",
     "traceback": [
      "\u001b[0;31m---------------------------------------------------------------------------\u001b[0m",
      "\u001b[0;31mKeyError\u001b[0m                                  Traceback (most recent call last)",
      "Cell \u001b[0;32mIn[28], line 23\u001b[0m\n\u001b[1;32m     20\u001b[0m         json\u001b[38;5;241m.\u001b[39mdump({\u001b[38;5;28mint\u001b[39m(k): \u001b[38;5;28mstr\u001b[39m(v) \u001b[38;5;28;01mfor\u001b[39;00m k, v \u001b[38;5;129;01min\u001b[39;00m equiv_thag\u001b[38;5;241m.\u001b[39mitems()}, f)\n\u001b[1;32m     22\u001b[0m \u001b[38;5;66;03m# Call the function to compute and save the dictionary\u001b[39;00m\n\u001b[0;32m---> 23\u001b[0m \u001b[43mcompute_and_save_equiv_thag\u001b[49m\u001b[43m(\u001b[49m\u001b[43mInteger\u001b[49m\u001b[43m(\u001b[49m\u001b[38;5;241;43m3\u001b[39;49m\u001b[43m)\u001b[49m\u001b[43m,\u001b[49m\u001b[43m \u001b[49m\u001b[43mInteger\u001b[49m\u001b[43m(\u001b[49m\u001b[38;5;241;43m5\u001b[39;49m\u001b[43m)\u001b[49m\u001b[43m,\u001b[49m\u001b[43m \u001b[49m\u001b[38;5;124;43m'\u001b[39;49m\u001b[38;5;124;43mequiv_thag.json\u001b[39;49m\u001b[38;5;124;43m'\u001b[39;49m\u001b[43m)\u001b[49m\n",
      "Cell \u001b[0;32mIn[28], line 13\u001b[0m, in \u001b[0;36mcompute_and_save_equiv_thag\u001b[0;34m(start, end, filename)\u001b[0m\n\u001b[1;32m     11\u001b[0m iter1 \u001b[38;5;241m=\u001b[39m S(Integer(\u001b[38;5;241m0\u001b[39m))\n\u001b[1;32m     12\u001b[0m \u001b[38;5;28;01mfor\u001b[39;00m l \u001b[38;5;129;01min\u001b[39;00m \u001b[38;5;28mrange\u001b[39m(Integer(\u001b[38;5;241m0\u001b[39m), k \u001b[38;5;241m+\u001b[39m Integer(\u001b[38;5;241m1\u001b[39m)):\n\u001b[0;32m---> 13\u001b[0m     iter1 \u001b[38;5;241m+\u001b[39m\u001b[38;5;241m=\u001b[39m h[l]\u001b[38;5;241m*\u001b[39mh[k\u001b[38;5;241m-\u001b[39ml]\u001b[38;5;241m*\u001b[39m\u001b[43mequiv_thag\u001b[49m\u001b[43m[\u001b[49m\u001b[43mn\u001b[49m\u001b[38;5;241;43m-\u001b[39;49m\u001b[43mk\u001b[49m\u001b[43m]\u001b[49m\n\u001b[1;32m     14\u001b[0m iter1 \u001b[38;5;241m*\u001b[39m\u001b[38;5;241m=\u001b[39m \u001b[38;5;28msum\u001b[39m(x\u001b[38;5;241m*\u001b[39m\u001b[38;5;241m*\u001b[39mi \u001b[38;5;28;01mfor\u001b[39;00m i \u001b[38;5;129;01min\u001b[39;00m \u001b[38;5;28mrange\u001b[39m(Integer(\u001b[38;5;241m1\u001b[39m), k))\n\u001b[1;32m     15\u001b[0m sum_Es \u001b[38;5;241m+\u001b[39m\u001b[38;5;241m=\u001b[39m iter1\n",
      "\u001b[0;31mKeyError\u001b[0m: 2"
     ]
    }
   ],
   "source": [
    "import json\n",
    "\n",
    "def compute_and_save_equiv_thag(start, end, filename):\n",
    "    for n in range(start, end + 1):\n",
    "        sum_Ts = S(0)\n",
    "        for k in range(2, n + 2):\n",
    "            sum_Ts += h[k-1] * Q(n - k + 1) * sum(x^i for i in range(1, k))\n",
    "\n",
    "        sum_Es = S(0)\n",
    "        for k in range(2, n + 1):\n",
    "            iter1 = S(0)\n",
    "            for l in range(0, k + 1):\n",
    "                iter1 += h[l]*h[k-l]*equiv_thag[n-k]\n",
    "            iter1 *= sum(x^i for i in range(1, k))\n",
    "            sum_Es += iter1\n",
    "\n",
    "        equiv_thag[n] = T(h[n] + sum_Ts + sum_Es)\n",
    "\n",
    "    with open(filename, 'w') as f:\n",
    "        json.dump({int(k): str(v) for k, v in equiv_thag.items()}, f)\n",
    "\n",
    "# Call the function to compute and save the dictionary\n",
    "compute_and_save_equiv_thag(3, 5, 'equiv_thag.json')"
   ]
  },
  {
   "cell_type": "code",
   "execution_count": null,
   "metadata": {},
   "outputs": [
    {
     "data": {
      "text/plain": [
       "s[1]*x + s[1]"
      ]
     },
     "execution_count": 23,
     "metadata": {},
     "output_type": "execute_result"
    }
   ],
   "source": [
    "T(equiv_thag[1])"
   ]
  }
 ],
 "metadata": {
  "kernelspec": {
   "display_name": "SageMath 10.3",
   "language": "sage",
   "name": "SageMath-10.3"
  },
  "language_info": {
   "codemirror_mode": {
    "name": "ipython",
    "version": 3
   },
   "file_extension": ".py",
   "mimetype": "text/x-python",
   "name": "sage",
   "nbconvert_exporter": "python",
   "pygments_lexer": "ipython3",
   "version": "3.11.8"
  }
 },
 "nbformat": 4,
 "nbformat_minor": 2
}
