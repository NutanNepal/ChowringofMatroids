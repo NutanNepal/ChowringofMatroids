{
   "cells": [
      {
         "cell_type": "code",
         "execution_count": 114,
         "metadata": {},
         "outputs": [],
         "source": [
            "r, n = 7, 10"
         ]
      },
      {
         "cell_type": "code",
         "execution_count": 115,
         "metadata": {},
         "outputs": [],
         "source": [
            "def uniformQpoly(r, n):\n",
            "    m, d = n-r, r\n",
            "    R.<t> = PolynomialRing(QQ)\n",
            "    upper_bound = (d-1)//2\n",
            "    sum = R(0)\n",
            "    for j in range (0, upper_bound + 1):\n",
            "        coeff = m * (d - 2 * j)/((m + j) * (m + d - j)) * (binomial(d, j))\n",
            "        sum = sum + coeff * t**(j)\n",
            "    return binomial(m+d, d) * sum"
         ]
      },
      {
         "cell_type": "code",
         "execution_count": 116,
         "metadata": {},
         "outputs": [
            {
               "name": "stdout",
               "output_type": "stream",
               "text": [
                  "U(2, 3): 2\n",
                  "U(2, 4): 3\n",
                  "U(3, 4): 2*t + 3\n",
                  "U(2, 5): 4\n",
                  "U(3, 5): 5*t + 6\n",
                  "U(4, 5): 5*t + 4\n",
                  "U(2, 6): 5\n",
                  "U(3, 6): 9*t + 10\n",
                  "U(4, 6): 16*t + 10\n",
                  "U(5, 6): 5*t^2 + 9*t + 5\n",
                  "U(2, 7): 6\n",
                  "U(3, 7): 14*t + 15\n",
                  "U(4, 7): 35*t + 20\n",
                  "U(5, 7): 21*t^2 + 35*t + 15\n",
                  "U(6, 7): 14*t^2 + 14*t + 6\n",
                  "U(2, 8): 7\n",
                  "U(3, 8): 20*t + 21\n",
                  "U(4, 8): 64*t + 35\n",
                  "U(5, 8): 56*t^2 + 90*t + 35\n",
                  "U(6, 8): 70*t^2 + 64*t + 21\n",
                  "U(7, 8): 14*t^3 + 28*t^2 + 20*t + 7\n",
                  "U(2, 9): 8\n",
                  "U(3, 9): 27*t + 28\n",
                  "U(4, 9): 105*t + 56\n",
                  "U(5, 9): 120*t^2 + 189*t + 70\n",
                  "U(6, 9): 216*t^2 + 189*t + 56\n",
                  "U(7, 9): 84*t^3 + 162*t^2 + 105*t + 28\n",
                  "U(8, 9): 42*t^3 + 48*t^2 + 27*t + 8\n"
               ]
            }
         ],
         "source": [
            "S = [(i,j) for j in range (2, 10) for i in range (2, j)]\n",
            "\n",
            "for r, n in S:\n",
            "    print(f\"U({r}, {n}): {uniformQpoly(r,n)}\")"
         ]
      },
      {
         "cell_type": "code",
         "execution_count": 117,
         "metadata": {},
         "outputs": [
            {
               "name": "stdout",
               "output_type": "stream",
               "text": [
                  "1\n",
                  "U(4, 5): 5*t + 4\n",
                  "1\n",
                  "U(4, 6): 16*t + 10\n",
                  "1\n",
                  "U(4, 7): 35*t + 20\n",
                  "1\n",
                  "U(4, 8): 64*t + 35\n",
                  "1\n",
                  "U(4, 9): 105*t + 56\n",
                  "1\n",
                  "U(4, 10): 160*t + 84\n",
                  "1\n",
                  "U(4, 11): 231*t + 120\n",
                  "1\n",
                  "U(4, 12): 320*t + 165\n",
                  "1\n",
                  "U(4, 13): 429*t + 220\n",
                  "1\n",
                  "U(4, 14): 560*t + 286\n",
                  "1\n",
                  "U(4, 15): 715*t + 364\n",
                  "1\n",
                  "U(4, 16): 896*t + 455\n",
                  "1\n",
                  "U(4, 17): 1105*t + 560\n",
                  "1\n",
                  "U(4, 18): 1344*t + 680\n",
                  "1\n",
                  "U(4, 19): 1615*t + 816\n",
                  "1\n",
                  "U(4, 20): 1920*t + 969\n",
                  "1\n",
                  "U(4, 21): 2261*t + 1140\n",
                  "1\n",
                  "U(4, 22): 2640*t + 1330\n",
                  "1\n",
                  "U(4, 23): 3059*t + 1540\n",
                  "1\n",
                  "U(4, 24): 3520*t + 1771\n",
                  "1\n",
                  "U(4, 25): 4025*t + 2024\n",
                  "1\n",
                  "U(4, 26): 4576*t + 2300\n",
                  "1\n",
                  "U(4, 27): 5175*t + 2600\n",
                  "1\n",
                  "U(4, 28): 5824*t + 2925\n",
                  "1\n",
                  "U(4, 29): 6525*t + 3276\n",
                  "1\n",
                  "U(4, 30): 7280*t + 3654\n",
                  "1\n",
                  "U(4, 31): 8091*t + 4060\n",
                  "1\n",
                  "U(4, 32): 8960*t + 4495\n",
                  "1\n",
                  "U(4, 33): 9889*t + 4960\n",
                  "1\n",
                  "U(4, 34): 10880*t + 5456\n",
                  "1\n",
                  "U(4, 35): 11935*t + 5984\n",
                  "1\n",
                  "U(4, 36): 13056*t + 6545\n",
                  "1\n",
                  "U(4, 37): 14245*t + 7140\n",
                  "1\n",
                  "U(4, 38): 15504*t + 7770\n",
                  "1\n",
                  "U(4, 39): 16835*t + 8436\n",
                  "1\n",
                  "U(4, 40): 18240*t + 9139\n",
                  "1\n",
                  "U(4, 41): 19721*t + 9880\n",
                  "1\n",
                  "U(4, 42): 21280*t + 10660\n",
                  "1\n",
                  "U(4, 43): 22919*t + 11480\n",
                  "1\n",
                  "U(4, 44): 24640*t + 12341\n",
                  "1\n",
                  "U(4, 45): 26445*t + 13244\n",
                  "1\n",
                  "U(4, 46): 28336*t + 14190\n",
                  "1\n",
                  "U(4, 47): 30315*t + 15180\n",
                  "1\n",
                  "U(4, 48): 32384*t + 16215\n",
                  "1\n",
                  "U(4, 49): 34545*t + 17296\n"
               ]
            }
         ],
         "source": [
            "S2 = [(4, j) for j in range (5, 50)]\n",
            "\n",
            "for r, n in S2:\n",
            "    m, d = n-r, r\n",
            "    #print(f\"U({r}, {n}): {uniformQpoly(m,d)}\")"
         ]
      }
   ],
   "metadata": {
      "kernelspec": {
         "display_name": "SageMath 10.3",
         "language": "sage",
         "name": "SageMath-10.3"
      },
      "language_info": {
         "codemirror_mode": {
            "name": "ipython",
            "version": 3
         },
         "file_extension": ".py",
         "mimetype": "text/x-python",
         "name": "sage",
         "nbconvert_exporter": "python",
         "pygments_lexer": "ipython3",
         "version": "3.11.8"
      }
   },
   "nbformat": 4,
   "nbformat_minor": 2
}