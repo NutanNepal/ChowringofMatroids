{
 "cells": [
  {
   "cell_type": "code",
   "execution_count": 1,
   "metadata": {},
   "outputs": [],
   "source": [
    "r, n = 7, 10"
   ]
  },
  {
   "cell_type": "code",
   "execution_count": 2,
   "metadata": {},
   "outputs": [],
   "source": [
    "def uniformQpoly(r, n):\n",
    "    m, d = n-r, r\n",
    "    R.<t> = PolynomialRing(QQ)\n",
    "    upper_bound = (d-1)//2\n",
    "    sum = R(0)\n",
    "    for j in range (0, upper_bound + 1):\n",
    "        coeff = m * (d - 2 * j)/((m + j) * (m + d - j)) * (binomial(d, j))\n",
    "        sum = sum + coeff * t**(j)\n",
    "    return binomial(m+d, d) * sum"
   ]
  },
  {
   "cell_type": "code",
   "execution_count": 3,
   "metadata": {},
   "outputs": [
    {
     "name": "stdout",
     "output_type": "stream",
     "text": [
      "U(2, 3): 2\n",
      "U(2, 4): 3\n",
      "U(3, 4): 2*t + 3\n",
      "U(2, 5): 4\n",
      "U(3, 5): 5*t + 6\n",
      "U(4, 5): 5*t + 4\n",
      "U(2, 6): 5\n",
      "U(3, 6): 9*t + 10\n",
      "U(4, 6): 16*t + 10\n",
      "U(5, 6): 5*t^2 + 9*t + 5\n",
      "U(2, 7): 6\n",
      "U(3, 7): 14*t + 15\n",
      "U(4, 7): 35*t + 20\n",
      "U(5, 7): 21*t^2 + 35*t + 15\n",
      "U(6, 7): 14*t^2 + 14*t + 6\n",
      "U(2, 8): 7\n",
      "U(3, 8): 20*t + 21\n",
      "U(4, 8): 64*t + 35\n",
      "U(5, 8): 56*t^2 + 90*t + 35\n",
      "U(6, 8): 70*t^2 + 64*t + 21\n",
      "U(7, 8): 14*t^3 + 28*t^2 + 20*t + 7\n",
      "U(2, 9): 8\n",
      "U(3, 9): 27*t + 28\n",
      "U(4, 9): 105*t + 56\n",
      "U(5, 9): 120*t^2 + 189*t + 70\n",
      "U(6, 9): 216*t^2 + 189*t + 56\n",
      "U(7, 9): 84*t^3 + 162*t^2 + 105*t + 28\n",
      "U(8, 9): 42*t^3 + 48*t^2 + 27*t + 8\n"
     ]
    }
   ],
   "source": [
    "S = [(i,j) for j in range (2, 10) for i in range (2, j)]\n",
    "\n",
    "for r, n in S:\n",
    "    print(f\"U({r}, {n}): {uniformQpoly(r,n)}\")"
   ]
  },
  {
   "cell_type": "code",
   "execution_count": 4,
   "metadata": {},
   "outputs": [],
   "source": [
    "S2 = [(4, j) for j in range (5, 50)]\n",
    "\n",
    "for r, n in S2:\n",
    "    m, d = n-r, r\n",
    "    #print(f\"U({r}, {n}): {uniformQpoly(m,d)}\")"
   ]
  }
 ],
 "metadata": {
  "kernelspec": {
   "display_name": "SageMath 10.3",
   "language": "sage",
   "name": "SageMath-10.3"
  },
  "language_info": {
   "codemirror_mode": {
    "name": "ipython",
    "version": 3
   },
   "file_extension": ".py",
   "mimetype": "text/x-python",
   "name": "sage",
   "nbconvert_exporter": "python",
   "pygments_lexer": "ipython3",
   "version": "3.11.8"
  }
 },
 "nbformat": 4,
 "nbformat_minor": 2
}
