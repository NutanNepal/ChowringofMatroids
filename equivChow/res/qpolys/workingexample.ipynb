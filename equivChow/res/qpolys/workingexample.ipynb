{
 "cells": [
  {
   "cell_type": "markdown",
   "metadata": {},
   "source": [
    "# Q-Polynomial of ..."
   ]
  },
  {
   "cell_type": "markdown",
   "metadata": {},
   "source": [
    "First, we initialize the matroid and obtain the lattice of flats. We relabel the flats for simple presentation."
   ]
  },
  {
   "cell_type": "code",
   "execution_count": 192,
   "metadata": {
    "vscode": {
     "languageId": "sage"
    }
   },
   "outputs": [],
   "source": [
    "r, n = 5, 6\n",
    "matroid = matroids.Uniform(r, n)\n",
    "graded_flats = [list(matroid.flats(i)) for i in range(n)]\n",
    "flats = sum(graded_flats, [])  # Flatten the list of flats"
   ]
  },
  {
   "cell_type": "code",
   "execution_count": null,
   "metadata": {
    "vscode": {
     "languageId": "sage"
    }
   },
   "outputs": [
    {
     "data": {
      "text/plain": [
       "Graphics object consisting of 230 graphics primitives"
      ]
     },
     "execution_count": 193,
     "metadata": {},
     "output_type": "execute_result"
    }
   ],
   "source": [
    "#plottting the geometric lattice:\n",
    "#size = 0 for now\n",
    "\n",
    "labels = {element: idx for idx, element in enumerate(flats)}\n",
    "matroid.lattice_of_flats().plot(\n",
    "    element_labels = labels, element_color = \"white\",\n",
    "    figsize= 0, cover_color = \"grey\")"
   ]
  },
  {
   "cell_type": "code",
   "execution_count": null,
   "metadata": {
    "vscode": {
     "languageId": "sage"
    }
   },
   "outputs": [
    {
     "name": "stdout",
     "output_type": "stream",
     "text": [
      "5*t^2 + 9*t + 5\n"
     ]
    },
    {
     "data": {
      "text/plain": [
       "5.0*t^2 + 6.0*t + 1.0"
      ]
     },
     "execution_count": 194,
     "metadata": {},
     "output_type": "execute_result"
    }
   ],
   "source": [
    "R.<t> = PolynomialRing(QQ)\n",
    "\n",
    "def the_set_S(flats, e):\n",
    "    return set(F for F in flats if e.isdisjoint(F) and F.union(e) in flats)\n",
    "\n",
    "def gx_uniformQpoly(r, n):\n",
    "    if r == n : return 1\n",
    "    m, d = n-r, r\n",
    "    qpoly = R(0)\n",
    "    for j in range (0, (d-1)//2 + 1):\n",
    "        coeff = m * (d - 2 * j)/((m + j) * (m + d - j)) * (binomial(d, j))\n",
    "        qpoly = qpoly + coeff * t**(j)\n",
    "    return binomial(m+d, d) * qpoly\n",
    "\n",
    "def glxyz_uniformPpolys(r, n):\n",
    "    if r == n : return R(1)\n",
    "    m, d = n-r, r\n",
    "    ppoly = R(0)\n",
    "    for i in range (0, (d-1)//2 + 1):\n",
    "        prod = binomial(m + d, i)/(d - i)\n",
    "        the_sum = sum([binomial(d-i+h, h+i+1)*binomial(i-1+h, h) for h in range (0, m)])\n",
    "        ppoly = ppoly + prod * the_sum * t ** (i)\n",
    "    return ppoly\n",
    "\n",
    "def uniformQWrapper(matroid):\n",
    "    return gx_uniformQpoly(matroid.rank(), len(matroid.groundset()))\n",
    "\n",
    "def uniformPWrapper(matroid):\n",
    "    return glxyz_uniformPpolys(matroid.rank(), len(matroid.groundset()))\n",
    "\n",
    "def bv_tau_function(matroid, S, e):\n",
    "    \"\"\"\n",
    "    Computes the bv_tau_function for a given matroid and set S.\n",
    "\n",
    "    Args:\n",
    "        matroid: The matroid object.\n",
    "        S: A collection of subsets (typically sets or frozensets).\n",
    "        e: An element to be unioned with each subset in S.\n",
    "\n",
    "    Returns:\n",
    "        A list of values computed for each subset in S.\n",
    "    \"\"\"\n",
    "    return [\n",
    "        0 if (contraction := matroid.contract(f.union(e)).simplify()).rank() % 2 == 0\n",
    "        else uniformPWrapper(contraction).coefficients(sparse = False)[-1]\n",
    "        for f in S\n",
    "    ]\n",
    "\n",
    "def bv_delform_rhs(matroid, e, func):\n",
    "    \"\"\"\n",
    "    Computes the right-hand side of the BV deletion-contraction formula.\n",
    "\n",
    "    Args:\n",
    "        matroid: The matroid object.\n",
    "        flats: The collection of flats of the matroid.\n",
    "        e: The element being deleted/contracted.\n",
    "        func: A function to apply to matroids.\n",
    "\n",
    "    Returns:\n",
    "        The computed polynomial representing the right-hand side.\n",
    "    \"\"\"\n",
    "    rank = matroid.rank()\n",
    "\n",
    "    deletion = matroid.delete(e).simplify()\n",
    "    contraction = matroid.contract(e).simplify()\n",
    "\n",
    "    set_S = list(the_set_S(flats, e))\n",
    "\n",
    "    # Compute bv_tau_function and zip with set_S\n",
    "    bv_tau_values = bv_tau_function(matroid, set_S, e)\n",
    "\n",
    "    # Compute the summation over S\n",
    "    sum_S = sum(\n",
    "        x * t ** ((rank - matroid.rank(y))//2) * func(matroid.delete(matroid.groundset() - y).simplify())\n",
    "        for x, y in zip(bv_tau_values, set_S)\n",
    "    )\n",
    "    # Compute the RHS\n",
    "    return func(deletion) - t * func(contraction) + sum_S\n",
    "\n",
    "print(uniformQWrapper(matroid))\n",
    "bv_delform_rhs(matroid, flats[1], uniformQWrapper)"
   ]
  },
  {
   "cell_type": "markdown",
   "metadata": {},
   "source": [
    "Q-polynomials for parallel connection of cycle graphs will be implemented below:"
   ]
  },
  {
   "cell_type": "code",
   "execution_count": null,
   "metadata": {
    "vscode": {
     "languageId": "sage"
    }
   },
   "outputs": [],
   "source": []
  }
 ],
 "metadata": {
  "kernelspec": {
   "display_name": "SageMath 10.3",
   "language": "sage",
   "name": "SageMath-10.3"
  },
  "language_info": {
   "codemirror_mode": {
    "name": "ipython",
    "version": 3
   },
   "file_extension": ".py",
   "mimetype": "text/x-python",
   "name": "python",
   "nbconvert_exporter": "python",
   "pygments_lexer": "ipython3",
   "version": "3.11.8"
  }
 },
 "nbformat": 4,
 "nbformat_minor": 2
}
