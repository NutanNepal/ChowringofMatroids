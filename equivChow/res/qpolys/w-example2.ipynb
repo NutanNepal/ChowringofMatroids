{
 "cells": [
  {
   "cell_type": "markdown",
   "metadata": {},
   "source": [
    "First, we initialize the matroid and obtain the lattice of flats. We relabel the flats for simple presentation."
   ]
  },
  {
   "cell_type": "code",
   "execution_count": 2,
   "metadata": {
    "vscode": {
     "languageId": "sage"
    }
   },
   "outputs": [],
   "source": [
    "r, n = 5, 6\n",
    "\n",
    "R.<q> = PolynomialRing(QQ)\n",
    "matroid = matroids.Uniform(r, n)\n",
    "flats = list(matroid.lattice_of_flats())"
   ]
  },
  {
   "cell_type": "code",
   "execution_count": 3,
   "metadata": {
    "vscode": {
     "languageId": "sage"
    }
   },
   "outputs": [
    {
     "data": {
      "text/plain": [
       "Graphics object consisting of 230 graphics primitives"
      ]
     },
     "execution_count": 3,
     "metadata": {},
     "output_type": "execute_result"
    }
   ],
   "source": [
    "#plottting the geometric lattice:\n",
    "#size = 0 for now\n",
    "\n",
    "labels = {element: idx for idx, element in enumerate(flats)}\n",
    "matroid.lattice_of_flats().plot(\n",
    "    element_labels = labels, element_color = \"white\",\n",
    "    figsize= 0, cover_color = \"grey\")"
   ]
  },
  {
   "cell_type": "code",
   "execution_count": 4,
   "metadata": {
    "vscode": {
     "languageId": "sage"
    }
   },
   "outputs": [],
   "source": [
    "def invKL(M):\n",
    "\tR = PolynomialRing(QQ, 'q')\n",
    "\tq = R.gen(0)\n",
    "\tif M.rank() == 0:\n",
    "\t\treturn R(1)\n",
    "\tL = M.lattice_of_flats()\n",
    "\tinvKLpoly = 0\n",
    "\tfor i in range(1,len(L)):\n",
    "\t\tMcon = M.contract(L[i])\n",
    "\t\tMres = M.delete(M.groundset()-L[i])\n",
    "\t\tLres = Mres.lattice_of_flats()\n",
    "\t\tinvKLpoly += (-1)^(Mres.rank())*Lres.kazhdan_lusztig_polynomial()*invKL(Mcon)\n",
    "\treturn -invKLpoly"
   ]
  },
  {
   "cell_type": "markdown",
   "metadata": {},
   "source": [
    "Guess 1:\n",
    "$$Q_M(t) = Q_{M\\setminus e}(t)-tQ_{M/e}(t)+\\sum_{F\\in S}{\\tau(M/{F\\cup e})t^{\\text{crk}(F)/2}Q_{M\\mid F}(t)}.$$\n",
    "\n",
    "Functions needed for the r.h.s. will be written below:"
   ]
  },
  {
   "cell_type": "code",
   "execution_count": 5,
   "metadata": {
    "vscode": {
     "languageId": "sage"
    }
   },
   "outputs": [],
   "source": [
    "#the right hand side of the equality\n",
    "\n",
    "def q_tau(matroid, S, e):\n",
    "    q_tau = [] \n",
    "    for F in S:\n",
    "        modded_matroid = matroid.contract(F.union(e))\n",
    "        if modded_matroid.rank() % 2 == 0:\n",
    "            q_tau.append(0)\n",
    "        else:\n",
    "            q_tau.append(invKL(modded_matroid).leading_coefficient())\n",
    "    return q_tau\n",
    "\n",
    "def tau(matroid, S, e):\n",
    "    tau = [] \n",
    "    for F in S:\n",
    "        modded_matroid = matroid.contract(F.union(e))\n",
    "        if modded_matroid.rank() % 2 == 0:\n",
    "            tau.append(0)\n",
    "        else:\n",
    "            tau.append(modded_matroid.lattice_of_flats().kazhdan_lusztig_polynomial().leading_coefficient())\n",
    "    return tau\n",
    "\n",
    "def the_set_S(flats, e):\n",
    "    return set(F for F in flats if e.isdisjoint(F) and F.union(e) in flats)\n",
    "\n",
    "def delform_rhs(matroid, tau_func, inv_kl):\n",
    "    e = matroid.flats(1)[0]\n",
    "    flats = list(matroid.lattice_of_flats())\n",
    "\n",
    "    deletion = matroid.delete(e).simplify()\n",
    "    contraction = matroid.contract(e).simplify()\n",
    "\n",
    "    set_S = list(the_set_S(flats, e))\n",
    "\n",
    "    # Compute bv_tau_function and zip with set_S\n",
    "    tau_values = tau_func(matroid, set_S, e)\n",
    "\n",
    "    # Compute the summation over S\n",
    "    sum_S = sum(\n",
    "        x * q ** ((matroid.rank() - matroid.rank(y))//2) * inv_kl(matroid.delete(matroid.groundset() - y).simplify())\n",
    "        for x, y in zip(tau_values, set_S)\n",
    "    )\n",
    "    # Compute the RHS\n",
    "    return inv_kl(deletion) - q * inv_kl(contraction) + sum_S"
   ]
  },
  {
   "cell_type": "code",
   "execution_count": 6,
   "metadata": {
    "vscode": {
     "languageId": "sage"
    }
   },
   "outputs": [
    {
     "ename": "KeyboardInterrupt",
     "evalue": "",
     "output_type": "error",
     "traceback": [
      "\u001b[0;31m---------------------------------------------------------------------------\u001b[0m",
      "\u001b[0;31mKeyboardInterrupt\u001b[0m                         Traceback (most recent call last)",
      "Cell \u001b[0;32mIn[6], line 10\u001b[0m\n\u001b[1;32m      4\u001b[0m \u001b[38;5;66;03m# Create a dataframe to store the results\u001b[39;00m\n\u001b[1;32m      5\u001b[0m \u001b[38;5;28;01mimport\u001b[39;00m \u001b[38;5;21;01mpandas\u001b[39;00m \u001b[38;5;28;01mas\u001b[39;00m \u001b[38;5;21;01mpd\u001b[39;00m\n\u001b[1;32m      7\u001b[0m data \u001b[38;5;241m=\u001b[39m {\n\u001b[1;32m      8\u001b[0m     \u001b[38;5;124m'\u001b[39m\u001b[38;5;124mMatroid\u001b[39m\u001b[38;5;124m'\u001b[39m: matroids_list,\n\u001b[1;32m      9\u001b[0m     \u001b[38;5;124m'\u001b[39m\u001b[38;5;124mKazhdan-Lusztig\u001b[39m\u001b[38;5;124m'\u001b[39m: [m\u001b[38;5;241m.\u001b[39mlattice_of_flats()\u001b[38;5;241m.\u001b[39mkazhdan_lusztig_polynomial() \u001b[38;5;28;01mfor\u001b[39;00m m \u001b[38;5;129;01min\u001b[39;00m matroids_list],\n\u001b[0;32m---> 10\u001b[0m     \u001b[38;5;124m'\u001b[39m\u001b[38;5;124minvKL\u001b[39m\u001b[38;5;124m'\u001b[39m: \u001b[43m[\u001b[49m\u001b[43minvKL\u001b[49m\u001b[43m(\u001b[49m\u001b[43mm\u001b[49m\u001b[43m)\u001b[49m\u001b[43m \u001b[49m\u001b[38;5;28;43;01mfor\u001b[39;49;00m\u001b[43m \u001b[49m\u001b[43mm\u001b[49m\u001b[43m \u001b[49m\u001b[38;5;129;43;01min\u001b[39;49;00m\u001b[43m \u001b[49m\u001b[43mmatroids_list\u001b[49m\u001b[43m]\u001b[49m,\n\u001b[1;32m     11\u001b[0m     \u001b[38;5;124m'\u001b[39m\u001b[38;5;124mdelform_rhs_qtau\u001b[39m\u001b[38;5;124m'\u001b[39m: [delform_rhs(m, q_tau, invKL) \u001b[38;5;28;01mfor\u001b[39;00m m \u001b[38;5;129;01min\u001b[39;00m matroids_list],\n\u001b[1;32m     12\u001b[0m     \u001b[38;5;124m'\u001b[39m\u001b[38;5;124mdelform_rhs_tau\u001b[39m\u001b[38;5;124m'\u001b[39m: [delform_rhs(m, tau, invKL) \u001b[38;5;28;01mfor\u001b[39;00m m \u001b[38;5;129;01min\u001b[39;00m matroids_list],\n\u001b[1;32m     13\u001b[0m     \u001b[38;5;66;03m#'difference': [x-y for x, y in zip(data['invKL'], data['delform_rhs_tau'])]\u001b[39;00m\n\u001b[1;32m     14\u001b[0m }\n\u001b[1;32m     16\u001b[0m df \u001b[38;5;241m=\u001b[39m pd\u001b[38;5;241m.\u001b[39mDataFrame(data)\n\u001b[1;32m     17\u001b[0m display(df)\n",
      "Cell \u001b[0;32mIn[6], line 10\u001b[0m, in \u001b[0;36m<listcomp>\u001b[0;34m(.0)\u001b[0m\n\u001b[1;32m      4\u001b[0m \u001b[38;5;66;03m# Create a dataframe to store the results\u001b[39;00m\n\u001b[1;32m      5\u001b[0m \u001b[38;5;28;01mimport\u001b[39;00m \u001b[38;5;21;01mpandas\u001b[39;00m \u001b[38;5;28;01mas\u001b[39;00m \u001b[38;5;21;01mpd\u001b[39;00m\n\u001b[1;32m      7\u001b[0m data \u001b[38;5;241m=\u001b[39m {\n\u001b[1;32m      8\u001b[0m     \u001b[38;5;124m'\u001b[39m\u001b[38;5;124mMatroid\u001b[39m\u001b[38;5;124m'\u001b[39m: matroids_list,\n\u001b[1;32m      9\u001b[0m     \u001b[38;5;124m'\u001b[39m\u001b[38;5;124mKazhdan-Lusztig\u001b[39m\u001b[38;5;124m'\u001b[39m: [m\u001b[38;5;241m.\u001b[39mlattice_of_flats()\u001b[38;5;241m.\u001b[39mkazhdan_lusztig_polynomial() \u001b[38;5;28;01mfor\u001b[39;00m m \u001b[38;5;129;01min\u001b[39;00m matroids_list],\n\u001b[0;32m---> 10\u001b[0m     \u001b[38;5;124m'\u001b[39m\u001b[38;5;124minvKL\u001b[39m\u001b[38;5;124m'\u001b[39m: [\u001b[43minvKL\u001b[49m\u001b[43m(\u001b[49m\u001b[43mm\u001b[49m\u001b[43m)\u001b[49m \u001b[38;5;28;01mfor\u001b[39;00m m \u001b[38;5;129;01min\u001b[39;00m matroids_list],\n\u001b[1;32m     11\u001b[0m     \u001b[38;5;124m'\u001b[39m\u001b[38;5;124mdelform_rhs_qtau\u001b[39m\u001b[38;5;124m'\u001b[39m: [delform_rhs(m, q_tau, invKL) \u001b[38;5;28;01mfor\u001b[39;00m m \u001b[38;5;129;01min\u001b[39;00m matroids_list],\n\u001b[1;32m     12\u001b[0m     \u001b[38;5;124m'\u001b[39m\u001b[38;5;124mdelform_rhs_tau\u001b[39m\u001b[38;5;124m'\u001b[39m: [delform_rhs(m, tau, invKL) \u001b[38;5;28;01mfor\u001b[39;00m m \u001b[38;5;129;01min\u001b[39;00m matroids_list],\n\u001b[1;32m     13\u001b[0m     \u001b[38;5;66;03m#'difference': [x-y for x, y in zip(data['invKL'], data['delform_rhs_tau'])]\u001b[39;00m\n\u001b[1;32m     14\u001b[0m }\n\u001b[1;32m     16\u001b[0m df \u001b[38;5;241m=\u001b[39m pd\u001b[38;5;241m.\u001b[39mDataFrame(data)\n\u001b[1;32m     17\u001b[0m display(df)\n",
      "Cell \u001b[0;32mIn[4], line 12\u001b[0m, in \u001b[0;36minvKL\u001b[0;34m(M)\u001b[0m\n\u001b[1;32m     10\u001b[0m \tMres \u001b[38;5;241m=\u001b[39m M\u001b[38;5;241m.\u001b[39mdelete(M\u001b[38;5;241m.\u001b[39mgroundset()\u001b[38;5;241m-\u001b[39mL[i])\n\u001b[1;32m     11\u001b[0m \tLres \u001b[38;5;241m=\u001b[39m Mres\u001b[38;5;241m.\u001b[39mlattice_of_flats()\n\u001b[0;32m---> 12\u001b[0m \tinvKLpoly \u001b[38;5;241m+\u001b[39m\u001b[38;5;241m=\u001b[39m (\u001b[38;5;241m-\u001b[39mInteger(\u001b[38;5;241m1\u001b[39m))\u001b[38;5;241m*\u001b[39m\u001b[38;5;241m*\u001b[39m(Mres\u001b[38;5;241m.\u001b[39mrank())\u001b[38;5;241m*\u001b[39mLres\u001b[38;5;241m.\u001b[39mkazhdan_lusztig_polynomial()\u001b[38;5;241m*\u001b[39m\u001b[43minvKL\u001b[49m\u001b[43m(\u001b[49m\u001b[43mMcon\u001b[49m\u001b[43m)\u001b[49m\n\u001b[1;32m     13\u001b[0m \u001b[38;5;28;01mreturn\u001b[39;00m \u001b[38;5;241m-\u001b[39minvKLpoly\n",
      "Cell \u001b[0;32mIn[4], line 12\u001b[0m, in \u001b[0;36minvKL\u001b[0;34m(M)\u001b[0m\n\u001b[1;32m     10\u001b[0m \tMres \u001b[38;5;241m=\u001b[39m M\u001b[38;5;241m.\u001b[39mdelete(M\u001b[38;5;241m.\u001b[39mgroundset()\u001b[38;5;241m-\u001b[39mL[i])\n\u001b[1;32m     11\u001b[0m \tLres \u001b[38;5;241m=\u001b[39m Mres\u001b[38;5;241m.\u001b[39mlattice_of_flats()\n\u001b[0;32m---> 12\u001b[0m \tinvKLpoly \u001b[38;5;241m+\u001b[39m\u001b[38;5;241m=\u001b[39m (\u001b[38;5;241m-\u001b[39mInteger(\u001b[38;5;241m1\u001b[39m))\u001b[38;5;241m*\u001b[39m\u001b[38;5;241m*\u001b[39m(Mres\u001b[38;5;241m.\u001b[39mrank())\u001b[38;5;241m*\u001b[39mLres\u001b[38;5;241m.\u001b[39mkazhdan_lusztig_polynomial()\u001b[38;5;241m*\u001b[39m\u001b[43minvKL\u001b[49m\u001b[43m(\u001b[49m\u001b[43mMcon\u001b[49m\u001b[43m)\u001b[49m\n\u001b[1;32m     13\u001b[0m \u001b[38;5;28;01mreturn\u001b[39;00m \u001b[38;5;241m-\u001b[39minvKLpoly\n",
      "    \u001b[0;31m[... skipping similar frames: invKL at line 12 (1 times)]\u001b[0m\n",
      "Cell \u001b[0;32mIn[4], line 12\u001b[0m, in \u001b[0;36minvKL\u001b[0;34m(M)\u001b[0m\n\u001b[1;32m     10\u001b[0m \tMres \u001b[38;5;241m=\u001b[39m M\u001b[38;5;241m.\u001b[39mdelete(M\u001b[38;5;241m.\u001b[39mgroundset()\u001b[38;5;241m-\u001b[39mL[i])\n\u001b[1;32m     11\u001b[0m \tLres \u001b[38;5;241m=\u001b[39m Mres\u001b[38;5;241m.\u001b[39mlattice_of_flats()\n\u001b[0;32m---> 12\u001b[0m \tinvKLpoly \u001b[38;5;241m+\u001b[39m\u001b[38;5;241m=\u001b[39m (\u001b[38;5;241m-\u001b[39mInteger(\u001b[38;5;241m1\u001b[39m))\u001b[38;5;241m*\u001b[39m\u001b[38;5;241m*\u001b[39m(Mres\u001b[38;5;241m.\u001b[39mrank())\u001b[38;5;241m*\u001b[39mLres\u001b[38;5;241m.\u001b[39mkazhdan_lusztig_polynomial()\u001b[38;5;241m*\u001b[39m\u001b[43minvKL\u001b[49m\u001b[43m(\u001b[49m\u001b[43mMcon\u001b[49m\u001b[43m)\u001b[49m\n\u001b[1;32m     13\u001b[0m \u001b[38;5;28;01mreturn\u001b[39;00m \u001b[38;5;241m-\u001b[39minvKLpoly\n",
      "Cell \u001b[0;32mIn[4], line 11\u001b[0m, in \u001b[0;36minvKL\u001b[0;34m(M)\u001b[0m\n\u001b[1;32m      9\u001b[0m \tMcon \u001b[38;5;241m=\u001b[39m M\u001b[38;5;241m.\u001b[39mcontract(L[i])\n\u001b[1;32m     10\u001b[0m \tMres \u001b[38;5;241m=\u001b[39m M\u001b[38;5;241m.\u001b[39mdelete(M\u001b[38;5;241m.\u001b[39mgroundset()\u001b[38;5;241m-\u001b[39mL[i])\n\u001b[0;32m---> 11\u001b[0m \tLres \u001b[38;5;241m=\u001b[39m \u001b[43mMres\u001b[49m\u001b[38;5;241;43m.\u001b[39;49m\u001b[43mlattice_of_flats\u001b[49m\u001b[43m(\u001b[49m\u001b[43m)\u001b[49m\n\u001b[1;32m     12\u001b[0m \tinvKLpoly \u001b[38;5;241m+\u001b[39m\u001b[38;5;241m=\u001b[39m (\u001b[38;5;241m-\u001b[39mInteger(\u001b[38;5;241m1\u001b[39m))\u001b[38;5;241m*\u001b[39m\u001b[38;5;241m*\u001b[39m(Mres\u001b[38;5;241m.\u001b[39mrank())\u001b[38;5;241m*\u001b[39mLres\u001b[38;5;241m.\u001b[39mkazhdan_lusztig_polynomial()\u001b[38;5;241m*\u001b[39minvKL(Mcon)\n\u001b[1;32m     13\u001b[0m \u001b[38;5;28;01mreturn\u001b[39;00m \u001b[38;5;241m-\u001b[39minvKLpoly\n",
      "File \u001b[0;32m/private/var/tmp/sage-10.3-current/local/var/lib/sage/venv-python3.11.8/lib/python3.11/site-packages/sage/matroids/matroid.pyx:2856\u001b[0m, in \u001b[0;36msage.matroids.matroid.Matroid.lattice_of_flats (build/cythonized/sage/matroids/matroid.c:42535)\u001b[0;34m()\u001b[0m\n\u001b[1;32m   2854\u001b[0m     F = [X for i in range(self.rank() + 1)\n\u001b[1;32m   2855\u001b[0m          for X in self.flats(i)]\n\u001b[0;32m-> 2856\u001b[0m     return LatticePoset((F, lambda x, y: x < y))\n\u001b[1;32m   2857\u001b[0m \n\u001b[1;32m   2858\u001b[0m cpdef hyperplanes(self) noexcept:\n",
      "File \u001b[0;32m/private/var/tmp/sage-10.3-current/local/var/lib/sage/venv-python3.11.8/lib/python3.11/site-packages/sage/combinat/posets/lattices.py:729\u001b[0m, in \u001b[0;36mLatticePoset\u001b[0;34m(data, *args, **options)\u001b[0m\n\u001b[1;32m    727\u001b[0m \u001b[38;5;28;01melse\u001b[39;00m:\n\u001b[1;32m    728\u001b[0m     check \u001b[38;5;241m=\u001b[39m \u001b[38;5;28;01mTrue\u001b[39;00m\n\u001b[0;32m--> 729\u001b[0m P \u001b[38;5;241m=\u001b[39m \u001b[43mPoset\u001b[49m\u001b[43m(\u001b[49m\u001b[43mdata\u001b[49m\u001b[43m,\u001b[49m\u001b[43m \u001b[49m\u001b[38;5;241;43m*\u001b[39;49m\u001b[43margs\u001b[49m\u001b[43m,\u001b[49m\u001b[43m \u001b[49m\u001b[38;5;241;43m*\u001b[39;49m\u001b[38;5;241;43m*\u001b[39;49m\u001b[43moptions\u001b[49m\u001b[43m)\u001b[49m\n\u001b[1;32m    730\u001b[0m \u001b[38;5;28;01mif\u001b[39;00m P\u001b[38;5;241m.\u001b[39mcardinality() \u001b[38;5;241m!=\u001b[39m \u001b[38;5;241m0\u001b[39m:\n\u001b[1;32m    731\u001b[0m     \u001b[38;5;28;01mif\u001b[39;00m \u001b[38;5;129;01mnot\u001b[39;00m P\u001b[38;5;241m.\u001b[39mhas_bottom():\n",
      "File \u001b[0;32m/private/var/tmp/sage-10.3-current/local/var/lib/sage/venv-python3.11.8/lib/python3.11/site-packages/sage/combinat/posets/posets.py:749\u001b[0m, in \u001b[0;36mPoset\u001b[0;34m(data, element_labels, cover_relations, linear_extension, category, facade, key)\u001b[0m\n\u001b[1;32m    747\u001b[0m \u001b[38;5;28;01mif\u001b[39;00m \u001b[38;5;129;01mnot\u001b[39;00m cover_relations:\n\u001b[1;32m    748\u001b[0m     \u001b[38;5;28;01mfrom\u001b[39;00m \u001b[38;5;21;01msage\u001b[39;00m\u001b[38;5;21;01m.\u001b[39;00m\u001b[38;5;21;01mgraphs\u001b[39;00m\u001b[38;5;21;01m.\u001b[39;00m\u001b[38;5;21;01mgeneric_graph_pyx\u001b[39;00m \u001b[38;5;28;01mimport\u001b[39;00m transitive_reduction_acyclic\n\u001b[0;32m--> 749\u001b[0m     D \u001b[38;5;241m=\u001b[39m transitive_reduction_acyclic(D)\n\u001b[1;32m    751\u001b[0m \u001b[38;5;66;03m# Check that the digraph does not contain loops, multiple edges\u001b[39;00m\n\u001b[1;32m    752\u001b[0m \u001b[38;5;66;03m# and is transitively reduced.\u001b[39;00m\n\u001b[1;32m    753\u001b[0m \u001b[38;5;28;01mif\u001b[39;00m D\u001b[38;5;241m.\u001b[39mhas_loops():\n",
      "File \u001b[0;32m/private/var/tmp/sage-10.3-current/local/var/lib/sage/venv-python3.11.8/lib/python3.11/site-packages/sage/graphs/generic_graph_pyx.pyx:1627\u001b[0m, in \u001b[0;36msage.graphs.generic_graph_pyx.transitive_reduction_acyclic (build/cythonized/sage/graphs/generic_graph_pyx.c:29551)\u001b[0;34m()\u001b[0m\n\u001b[1;32m   1625\u001b[0m \n\u001b[1;32m   1626\u001b[0m     from sage.graphs.digraph import DiGraph\n\u001b[0;32m-> 1627\u001b[0m     reduced = DiGraph()\n\u001b[1;32m   1628\u001b[0m     reduced.add_edges(useful_edges)\n\u001b[1;32m   1629\u001b[0m     reduced.add_vertices(linear_extension)\n",
      "File \u001b[0;32m/private/var/tmp/sage-10.3-current/local/var/lib/sage/venv-python3.11.8/lib/python3.11/site-packages/sage/graphs/digraph.py:668\u001b[0m, in \u001b[0;36mDiGraph.__init__\u001b[0;34m(self, data, pos, loops, format, weighted, data_structure, vertex_labels, name, multiedges, convert_empty_dict_labels_to_None, sparse, immutable, hash_labels)\u001b[0m\n\u001b[1;32m    665\u001b[0m \u001b[38;5;28;01melse\u001b[39;00m:\n\u001b[1;32m    666\u001b[0m     \u001b[38;5;28;01mraise\u001b[39;00m \u001b[38;5;167;01mValueError\u001b[39;00m(\u001b[38;5;124m\"\u001b[39m\u001b[38;5;124mdata_structure must be equal to \u001b[39m\u001b[38;5;124m'\u001b[39m\u001b[38;5;124msparse\u001b[39m\u001b[38;5;124m'\u001b[39m\u001b[38;5;124m, \u001b[39m\u001b[38;5;124m\"\u001b[39m\n\u001b[1;32m    667\u001b[0m                      \u001b[38;5;124m\"\u001b[39m\u001b[38;5;124m'\u001b[39m\u001b[38;5;124mstatic_sparse\u001b[39m\u001b[38;5;124m'\u001b[39m\u001b[38;5;124m or \u001b[39m\u001b[38;5;124m'\u001b[39m\u001b[38;5;124mdense\u001b[39m\u001b[38;5;124m'\u001b[39m\u001b[38;5;124m\"\u001b[39m)\n\u001b[0;32m--> 668\u001b[0m \u001b[38;5;28mself\u001b[39m\u001b[38;5;241m.\u001b[39m_backend \u001b[38;5;241m=\u001b[39m \u001b[43mCGB\u001b[49m\u001b[43m(\u001b[49m\u001b[38;5;241;43m0\u001b[39;49m\u001b[43m,\u001b[49m\u001b[43m \u001b[49m\u001b[43mdirected\u001b[49m\u001b[38;5;241;43m=\u001b[39;49m\u001b[38;5;28;43;01mTrue\u001b[39;49;00m\u001b[43m)\u001b[49m\n\u001b[1;32m    670\u001b[0m \u001b[38;5;28;01mif\u001b[39;00m \u001b[38;5;28mformat\u001b[39m \u001b[38;5;129;01mis\u001b[39;00m \u001b[38;5;28;01mNone\u001b[39;00m \u001b[38;5;129;01mand\u001b[39;00m \u001b[38;5;28misinstance\u001b[39m(data, \u001b[38;5;28mstr\u001b[39m):\n\u001b[1;32m    671\u001b[0m     \u001b[38;5;28mformat\u001b[39m \u001b[38;5;241m=\u001b[39m \u001b[38;5;124m'\u001b[39m\u001b[38;5;124mdig6\u001b[39m\u001b[38;5;124m'\u001b[39m\n",
      "File \u001b[0;32msrc/cysignals/signals.pyx:341\u001b[0m, in \u001b[0;36mcysignals.signals.python_check_interrupt\u001b[0;34m()\u001b[0m\n",
      "\u001b[0;31mKeyboardInterrupt\u001b[0m: "
     ]
    }
   ],
   "source": [
    "# Create a list of matroids\n",
    "matroids_list = [matroids.Uniform(r, n) for r, n in [(2, 3), (2, 4), (2,5), (3, 4), (4, 5), (5,6), (3, 5), (4, 6)]] + \\\n",
    "    [matroids.Wheel(i) for i in range(3, 6)] + \\\n",
    "    [matroids.Whirl(i) for i in range(3, 5)]\n",
    "\n",
    "# Create a dataframe to store the results\n",
    "import pandas as pd\n",
    "\n",
    "data = {\n",
    "    'Matroid': matroids_list,\n",
    "    'Kazhdan-Lusztig': [m.lattice_of_flats().kazhdan_lusztig_polynomial() for m in matroids_list],\n",
    "    'invKL': [invKL(m) for m in matroids_list],\n",
    "    'delform_rhs_qtau': [delform_rhs(m, q_tau, invKL) for m in matroids_list],\n",
    "    'delform_rhs_tau': [delform_rhs(m, tau, invKL) for m in matroids_list],\n",
    "    #'difference': [x-y for x, y in zip(data['invKL'], data['delform_rhs_tau'])]\n",
    "}\n",
    "\n",
    "df = pd.DataFrame(data)\n",
    "display(df)"
   ]
  },
  {
   "cell_type": "code",
   "execution_count": null,
   "metadata": {
    "vscode": {
     "languageId": "coffeescript"
    }
   },
   "outputs": [],
   "source": [
    "def parallel_connection(M1, M2, common_element):\n",
    "    \"\"\"\n",
    "    Compute the parallel connection of two matroids M1 and M2 over a common element.\n",
    "    \n",
    "    Parameters:\n",
    "    M1, M2: Matroid objects.\n",
    "    common_element: The element over which the parallel connection is formed.\n",
    "    \n",
    "    Returns:\n",
    "    Matroid object representing the parallel connection of M1 and M2.\n",
    "    \"\"\"\n",
    "    # Ensure the common element is in both ground sets\n",
    "    assert common_element in M1.groundset(), \"Common element must be in the ground set of M1\"\n",
    "    assert common_element in M2.groundset(), \"Common element must be in the ground set of M2\"\n",
    "    \n",
    "    # Compute the ground set of the parallel connection\n",
    "    ground_set = (M1.groundset() | M2.groundset()) - {common_element}\n",
    "    \n",
    "    # Compute the circuits of the parallel connection\n",
    "    circuits = []\n",
    "    for C1 in M1.circuits():\n",
    "        if common_element in C1:\n",
    "            for C2 in M2.circuits():\n",
    "                if common_element in C2:\n",
    "                    new_circuit = (C1 | C2) - {common_element}\n",
    "                    if new_circuit not in circuits:\n",
    "                        circuits.append(new_circuit)\n",
    "        else:\n",
    "            circuits.append(C1)\n",
    "    \n",
    "    for C2 in M2.circuits():\n",
    "        if common_element not in C2:\n",
    "            circuits.append(C2)\n",
    "    \n",
    "    # Create the parallel connection matroid\n",
    "    parallel_conn_matroid = Matroid(groundset=ground_set, circuits=circuits)\n",
    "    \n",
    "    return parallel_conn_matroid\n",
    "\n",
    "# Example usage\n",
    "M1 = Matroid(groundset=[0, 1, 2], circuits=[[0, 1], [1, 2]])\n",
    "M2 = Matroid(groundset=[2, 3, 4], circuits=[[2, 3], [3, 4]])\n",
    "\n",
    "common_element = 2\n",
    "parallel_conn = parallel_connection(M1, M2, common_element)\n",
    "print(parallel_conn)"
   ]
  }
 ],
 "metadata": {
  "kernelspec": {
   "display_name": "SageMath 10.3",
   "language": "sage",
   "name": "SageMath-10.3"
  },
  "language_info": {
   "codemirror_mode": {
    "name": "ipython",
    "version": 3
   },
   "file_extension": ".py",
   "mimetype": "text/x-python",
   "name": "python",
   "nbconvert_exporter": "python",
   "pygments_lexer": "ipython3",
   "version": "3.11.8"
  }
 },
 "nbformat": 4,
 "nbformat_minor": 2
}
