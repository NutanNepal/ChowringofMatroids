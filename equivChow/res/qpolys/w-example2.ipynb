{
 "cells": [
  {
   "cell_type": "markdown",
   "metadata": {},
   "source": [
    "First, we initialize the matroid and obtain the lattice of flats. We relabel the flats for simple presentation."
   ]
  },
  {
   "cell_type": "code",
   "execution_count": 188,
   "metadata": {
    "vscode": {
     "languageId": "sage"
    }
   },
   "outputs": [],
   "source": [
    "r, n = 5, 6\n",
    "\n",
    "R.<q> = PolynomialRing(QQ)\n",
    "matroid = matroids.Uniform(r, n)\n",
    "flats = list(matroid.lattice_of_flats())"
   ]
  },
  {
   "cell_type": "code",
   "execution_count": 189,
   "metadata": {
    "vscode": {
     "languageId": "sage"
    }
   },
   "outputs": [
    {
     "name": "stderr",
     "output_type": "stream",
     "text": [
      "/home/nnutannep/miniforge3/envs/sage/lib/python3.11/site-packages/sage/repl/rich_output/display_manager.py:596: RichReprWarning: Exception in _rich_repr_ while displaying object: figsize should be positive, not 0.0\n",
      "  warnings.warn(\n"
     ]
    },
    {
     "data": {
      "text/plain": [
       "Graphics object consisting of 230 graphics primitives"
      ]
     },
     "execution_count": 189,
     "metadata": {},
     "output_type": "execute_result"
    }
   ],
   "source": [
    "#plottting the geometric lattice:\n",
    "#size = 0 for now\n",
    "\n",
    "labels = {element: idx for idx, element in enumerate(flats)}\n",
    "matroid.lattice_of_flats().plot(\n",
    "    element_labels = labels, element_color = \"white\",\n",
    "    figsize= 0, cover_color = \"grey\")"
   ]
  },
  {
   "cell_type": "code",
   "execution_count": 190,
   "metadata": {
    "vscode": {
     "languageId": "sage"
    }
   },
   "outputs": [],
   "source": [
    "def invKL(M):\n",
    "\tR = PolynomialRing(QQ, 'q')\n",
    "\tq = R.gen(0)\n",
    "\tif M.rank() == 0:\n",
    "\t\treturn R(1)\n",
    "\tL = M.lattice_of_flats()\n",
    "\tinvKLpoly = 0\n",
    "\tfor i in range(1,len(L)):\n",
    "\t\tMcon = M.contract(L[i])\n",
    "\t\tMres = M.delete(M.groundset()-L[i])\n",
    "\t\tLres = Mres.lattice_of_flats()\n",
    "\t\tinvKLpoly += (-1)^(Mres.rank())*Lres.kazhdan_lusztig_polynomial()*invKL(Mcon)\n",
    "\treturn -invKLpoly"
   ]
  },
  {
   "cell_type": "markdown",
   "metadata": {},
   "source": [
    "Guess 1:\n",
    "$$Q_M(t) = Q_{M\\setminus e}(t)-tQ_{M/e}(t)+\\sum_{F\\in S}{\\tau(M/{F\\cup e})t^{\\text{crk}(F)/2}Q_{M\\mid F}(t)}.$$\n",
    "\n",
    "Functions needed for the r.h.s. will be written below:"
   ]
  },
  {
   "cell_type": "code",
   "execution_count": 191,
   "metadata": {
    "vscode": {
     "languageId": "sage"
    }
   },
   "outputs": [],
   "source": [
    "#the right hand side of the equality\n",
    "\n",
    "def q_tau(matroid, S, e):\n",
    "    q_tau = [] \n",
    "    for F in S:\n",
    "        modded_matroid = matroid.contract(F.union(e))\n",
    "        if modded_matroid.rank() % 2 == 0:\n",
    "            q_tau.append(0)\n",
    "        else:\n",
    "            q_tau.append(invKL(modded_matroid).leading_coefficient())\n",
    "    return q_tau\n",
    "\n",
    "def tau(matroid, S, e):\n",
    "    tau = [] \n",
    "    for F in S:\n",
    "        modded_matroid = matroid.contract(F.union(e))\n",
    "        if modded_matroid.rank() % 2 == 0:\n",
    "            tau.append(0)\n",
    "        else:\n",
    "            tau.append(modded_matroid.lattice_of_flats().kazhdan_lusztig_polynomial().leading_coefficient())\n",
    "    return tau\n",
    "\n",
    "def the_set_S(flats, e):\n",
    "    return set(F for F in flats if e.isdisjoint(F) and F.union(e) in flats)\n",
    "\n",
    "def delform_rhs(matroid, tau_func, inv_kl):\n",
    "    e = matroid.flats(1)[0]\n",
    "    flats = list(matroid.lattice_of_flats())\n",
    "\n",
    "    deletion = matroid.delete(e).simplify()\n",
    "    contraction = matroid.contract(e).simplify()\n",
    "\n",
    "    set_S = list(the_set_S(flats, e))\n",
    "\n",
    "    # Compute bv_tau_function and zip with set_S\n",
    "    tau_values = tau_func(matroid, set_S, e)\n",
    "\n",
    "    # Compute the summation over S\n",
    "    sum_S = sum(\n",
    "        x * q ** ((matroid.rank() - matroid.rank(y))//2) * inv_kl(matroid.delete(matroid.groundset() - y).simplify())\n",
    "        for x, y in zip(tau_values, set_S)\n",
    "    )\n",
    "    # Compute the RHS\n",
    "    return inv_kl(deletion) - q * inv_kl(contraction) + sum_S"
   ]
  },
  {
   "cell_type": "code",
   "execution_count": 192,
   "metadata": {
    "vscode": {
     "languageId": "sage"
    }
   },
   "outputs": [
    {
     "name": "stdout",
     "output_type": "stream",
     "text": [
      "5*q^2 + 9*q + 5\n"
     ]
    },
    {
     "data": {
      "text/plain": [
       "5*q^2 + 6*q + 1"
      ]
     },
     "execution_count": 192,
     "metadata": {},
     "output_type": "execute_result"
    }
   ],
   "source": [
    "print(invKL(matroid))\n",
    "\n",
    "delform_rhs(matroid, q_tau, invKL)"
   ]
  },
  {
   "cell_type": "code",
   "execution_count": 193,
   "metadata": {
    "vscode": {
     "languageId": "sage"
    }
   },
   "outputs": [
    {
     "data": {
      "text/html": [
       "<div>\n",
       "<style scoped>\n",
       "    .dataframe tbody tr th:only-of-type {\n",
       "        vertical-align: middle;\n",
       "    }\n",
       "\n",
       "    .dataframe tbody tr th {\n",
       "        vertical-align: top;\n",
       "    }\n",
       "\n",
       "    .dataframe thead th {\n",
       "        text-align: right;\n",
       "    }\n",
       "</style>\n",
       "<table border=\"1\" class=\"dataframe\">\n",
       "  <thead>\n",
       "    <tr style=\"text-align: right;\">\n",
       "      <th></th>\n",
       "      <th>Matroid</th>\n",
       "      <th>invKL</th>\n",
       "      <th>delform_rhs_qtau</th>\n",
       "      <th>delform_rhs_tau</th>\n",
       "      <th>difference</th>\n",
       "    </tr>\n",
       "  </thead>\n",
       "  <tbody>\n",
       "    <tr>\n",
       "      <th>0</th>\n",
       "      <td>U(2, 3): Matroid of rank 2 on 3 elements with ...</td>\n",
       "      <td>2</td>\n",
       "      <td>1</td>\n",
       "      <td>1</td>\n",
       "      <td>1</td>\n",
       "    </tr>\n",
       "    <tr>\n",
       "      <th>1</th>\n",
       "      <td>U(2, 4): Matroid of rank 2 on 4 elements with ...</td>\n",
       "      <td>3</td>\n",
       "      <td>2</td>\n",
       "      <td>2</td>\n",
       "      <td>1</td>\n",
       "    </tr>\n",
       "    <tr>\n",
       "      <th>2</th>\n",
       "      <td>U(2, 5): Matroid of rank 2 on 5 elements with ...</td>\n",
       "      <td>4</td>\n",
       "      <td>3</td>\n",
       "      <td>3</td>\n",
       "      <td>1</td>\n",
       "    </tr>\n",
       "    <tr>\n",
       "      <th>3</th>\n",
       "      <td>U(3, 4): Matroid of rank 3 on 4 elements with ...</td>\n",
       "      <td>2*q + 3</td>\n",
       "      <td>q + 1</td>\n",
       "      <td>q + 1</td>\n",
       "      <td>q + 2</td>\n",
       "    </tr>\n",
       "    <tr>\n",
       "      <th>4</th>\n",
       "      <td>U(4, 5): Matroid of rank 4 on 5 elements with ...</td>\n",
       "      <td>5*q + 4</td>\n",
       "      <td>3*q + 1</td>\n",
       "      <td>3*q + 1</td>\n",
       "      <td>2*q + 3</td>\n",
       "    </tr>\n",
       "    <tr>\n",
       "      <th>5</th>\n",
       "      <td>U(5, 6): Matroid of rank 5 on 6 elements with ...</td>\n",
       "      <td>5*q^2 + 9*q + 5</td>\n",
       "      <td>5*q^2 + 6*q + 1</td>\n",
       "      <td>5*q^2 + 6*q + 1</td>\n",
       "      <td>3*q + 4</td>\n",
       "    </tr>\n",
       "    <tr>\n",
       "      <th>6</th>\n",
       "      <td>U(3, 5): Matroid of rank 3 on 5 elements with ...</td>\n",
       "      <td>5*q + 6</td>\n",
       "      <td>3*q + 3</td>\n",
       "      <td>3*q + 3</td>\n",
       "      <td>2*q + 3</td>\n",
       "    </tr>\n",
       "    <tr>\n",
       "      <th>7</th>\n",
       "      <td>U(4, 6): Matroid of rank 4 on 6 elements with ...</td>\n",
       "      <td>16*q + 10</td>\n",
       "      <td>9*q + 4</td>\n",
       "      <td>9*q + 4</td>\n",
       "      <td>7*q + 6</td>\n",
       "    </tr>\n",
       "    <tr>\n",
       "      <th>8</th>\n",
       "      <td>Wheel(3): Regular matroid of rank 3 on 6 eleme...</td>\n",
       "      <td>q + 6</td>\n",
       "      <td>4</td>\n",
       "      <td>4</td>\n",
       "      <td>q + 2</td>\n",
       "    </tr>\n",
       "    <tr>\n",
       "      <th>9</th>\n",
       "      <td>Wheel(4): Regular matroid of rank 4 on 8 eleme...</td>\n",
       "      <td>9*q + 14</td>\n",
       "      <td>5*q + 10</td>\n",
       "      <td>5*q + 10</td>\n",
       "      <td>4*q + 4</td>\n",
       "    </tr>\n",
       "    <tr>\n",
       "      <th>10</th>\n",
       "      <td>Wheel(5): Regular matroid of rank 5 on 10 elem...</td>\n",
       "      <td>5*q^2 + 31*q + 30</td>\n",
       "      <td>8*q^2 + 20*q + 22</td>\n",
       "      <td>6*q^2 + 20*q + 22</td>\n",
       "      <td>-q^2 + 11*q + 8</td>\n",
       "    </tr>\n",
       "    <tr>\n",
       "      <th>11</th>\n",
       "      <td>Whirl(3): Ternary matroid of rank 3 on 6 eleme...</td>\n",
       "      <td>3*q + 7</td>\n",
       "      <td>2*q + 5</td>\n",
       "      <td>2*q + 5</td>\n",
       "      <td>q + 2</td>\n",
       "    </tr>\n",
       "    <tr>\n",
       "      <th>12</th>\n",
       "      <td>Whirl(4): Ternary matroid of rank 4 on 8 eleme...</td>\n",
       "      <td>12*q + 15</td>\n",
       "      <td>8*q + 11</td>\n",
       "      <td>8*q + 11</td>\n",
       "      <td>4*q + 4</td>\n",
       "    </tr>\n",
       "  </tbody>\n",
       "</table>\n",
       "</div>"
      ],
      "text/plain": [
       "                                              Matroid              invKL  \\\n",
       "0   U(2, 3): Matroid of rank 2 on 3 elements with ...                  2   \n",
       "1   U(2, 4): Matroid of rank 2 on 4 elements with ...                  3   \n",
       "2   U(2, 5): Matroid of rank 2 on 5 elements with ...                  4   \n",
       "3   U(3, 4): Matroid of rank 3 on 4 elements with ...            2*q + 3   \n",
       "4   U(4, 5): Matroid of rank 4 on 5 elements with ...            5*q + 4   \n",
       "5   U(5, 6): Matroid of rank 5 on 6 elements with ...    5*q^2 + 9*q + 5   \n",
       "6   U(3, 5): Matroid of rank 3 on 5 elements with ...            5*q + 6   \n",
       "7   U(4, 6): Matroid of rank 4 on 6 elements with ...          16*q + 10   \n",
       "8   Wheel(3): Regular matroid of rank 3 on 6 eleme...              q + 6   \n",
       "9   Wheel(4): Regular matroid of rank 4 on 8 eleme...           9*q + 14   \n",
       "10  Wheel(5): Regular matroid of rank 5 on 10 elem...  5*q^2 + 31*q + 30   \n",
       "11  Whirl(3): Ternary matroid of rank 3 on 6 eleme...            3*q + 7   \n",
       "12  Whirl(4): Ternary matroid of rank 4 on 8 eleme...          12*q + 15   \n",
       "\n",
       "     delform_rhs_qtau    delform_rhs_tau       difference  \n",
       "0                   1                  1                1  \n",
       "1                   2                  2                1  \n",
       "2                   3                  3                1  \n",
       "3               q + 1              q + 1            q + 2  \n",
       "4             3*q + 1            3*q + 1          2*q + 3  \n",
       "5     5*q^2 + 6*q + 1    5*q^2 + 6*q + 1          3*q + 4  \n",
       "6             3*q + 3            3*q + 3          2*q + 3  \n",
       "7             9*q + 4            9*q + 4          7*q + 6  \n",
       "8                   4                  4            q + 2  \n",
       "9            5*q + 10           5*q + 10          4*q + 4  \n",
       "10  8*q^2 + 20*q + 22  6*q^2 + 20*q + 22  -q^2 + 11*q + 8  \n",
       "11            2*q + 5            2*q + 5            q + 2  \n",
       "12           8*q + 11           8*q + 11          4*q + 4  "
      ]
     },
     "metadata": {},
     "output_type": "display_data"
    }
   ],
   "source": [
    "# Create a list of matroids\n",
    "matroids_list = [matroids.Uniform(r, n) for r, n in [(2, 3), (2, 4), (2,5), (3, 4), (4, 5), (5,6), (3, 5), (4, 6)]] + \\\n",
    "    [matroids.Wheel(i) for i in range(3, 6)] + \\\n",
    "    [matroids.Whirl(i) for i in range(3, 5)]\n",
    "\n",
    "# Create a dataframe to store the results\n",
    "import pandas as pd\n",
    "\n",
    "data = {\n",
    "    'Matroid': matroids_list,\n",
    "    #'Kazhdan-Lusztig': [m.lattice_of_flats().kazhdan_lusztig_polynomial() for m in matroids_list],\n",
    "    'invKL': [invKL(m) for m in matroids_list],\n",
    "    'delform_rhs_qtau': [delform_rhs(m, q_tau, invKL) for m in matroids_list],\n",
    "    'delform_rhs_tau': [delform_rhs(m, tau, invKL) for m in matroids_list],\n",
    "    'difference': [x-y for x, y in zip(data['invKL'], data['delform_rhs_tau'])]\n",
    "}\n",
    "\n",
    "df = pd.DataFrame(data)\n",
    "display(df)"
   ]
  }
 ],
 "metadata": {
  "kernelspec": {
   "display_name": "SageMath 10.3",
   "language": "sage",
   "name": "sagemath"
  },
  "language_info": {
   "codemirror_mode": {
    "name": "ipython",
    "version": 3
   },
   "file_extension": ".py",
   "mimetype": "text/x-python",
   "name": "python",
   "nbconvert_exporter": "python",
   "pygments_lexer": "ipython3",
   "version": "3.11.9"
  }
 },
 "nbformat": 4,
 "nbformat_minor": 2
}
