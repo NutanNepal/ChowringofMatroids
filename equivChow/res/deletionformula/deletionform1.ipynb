{
 "cells": [
  {
   "cell_type": "markdown",
   "metadata": {
    "vscode": {
     "languageId": "raw"
    }
   },
   "source": [
    "Kazhdan-Lustig polynomials of Matroids satisfy a certain formula called the deletion formula. This note will be about obtaining the corresponding deletion formula (bv-klpolydeletion) for the Q-polynomials."
   ]
  },
  {
   "cell_type": "markdown",
   "metadata": {},
   "source": [
    "The coeﬃcients of $P_M (t)$ depend only on the lattice of ﬂats $L(M )$, and in fact they are integral linear combinations of the ﬂag Whitney numbers counting chains of ﬂats with speciﬁed ranks.\n",
    "\n",
    "$$P_M(t) = P_{M\\setminus e}(t)-tP_{M/e}(t)+\\sum_{F\\in S}{\\tau(M/{F\\cup e})t^{\\text{crk}(F)/2}P_{M\\mid F}(t)}.$$"
   ]
  },
  {
   "cell_type": "markdown",
   "metadata": {},
   "source": [
    "Guess 1:\n",
    "$$Q_M(t) = Q_{M\\setminus e}(t)-tQ_{M/e}(t)+\\sum_{F\\in S}{\\tau(M/{F\\cup e})t^{\\text{crk}(F)/2}Q_{M\\mid F}(t)}.$$"
   ]
  },
  {
   "cell_type": "code",
   "execution_count": 23,
   "metadata": {
    "vscode": {
     "languageId": "sage"
    }
   },
   "outputs": [
    {
     "data": {
      "text/plain": [
       "[OS{}, OS{2}, OS{1}, OS{0}, OS{0, 2}, OS{0, 1}]"
      ]
     },
     "execution_count": 23,
     "metadata": {},
     "output_type": "execute_result"
    }
   ],
   "source": [
    "M = matroids.Uniform(2, 3)\n",
    "B = M.orlik_solomon_algebra(QQ)\n",
    "F = list(B.basis())\n",
    "F"
   ]
  },
  {
   "cell_type": "code",
   "execution_count": 24,
   "metadata": {
    "vscode": {
     "languageId": "sage"
    }
   },
   "outputs": [],
   "source": [
    "def whitney_numbers(M):\n",
    "    abs_w = [0] * (M.rank()+1)\n",
    "    for S in M.no_broken_circuits_sets_iterator():\n",
    "        abs_w[len(S)] += 1\n",
    "    return [ZZ((-1)**i * val) for i, val in enumerate(abs_w) if val != 0]"
   ]
  },
  {
   "cell_type": "code",
   "execution_count": 25,
   "metadata": {
    "vscode": {
     "languageId": "sage"
    }
   },
   "outputs": [],
   "source": [
    "def matroid_charpoly(M):\n",
    "    R = PolynomialRing(QQ, 'x')\n",
    "    char_poly = R(0)\n",
    "    Whitney_numbers = M.whitney_numbers()\n",
    "    for val in Whitney_numbers:\n",
    "        char_poly += val * x"
   ]
  },
  {
   "cell_type": "code",
   "execution_count": 26,
   "metadata": {
    "vscode": {
     "languageId": "sage"
    }
   },
   "outputs": [
    {
     "ename": "NameError",
     "evalue": "name 'kl_poly_inv' is not defined",
     "output_type": "error",
     "traceback": [
      "\u001b[0;31m---------------------------------------------------------------------------\u001b[0m",
      "\u001b[0;31mNameError\u001b[0m                                 Traceback (most recent call last)",
      "Cell \u001b[0;32mIn[26], line 66\u001b[0m\n\u001b[1;32m     63\u001b[0m     \u001b[38;5;28;01mreturn\u001b[39;00m kl_poly\n\u001b[1;32m     65\u001b[0m M \u001b[38;5;241m=\u001b[39m matroids\u001b[38;5;241m.\u001b[39mUniform(Integer(\u001b[38;5;241m10\u001b[39m),Integer(\u001b[38;5;241m10\u001b[39m))\n\u001b[0;32m---> 66\u001b[0m result \u001b[38;5;241m=\u001b[39m \u001b[43mkl_polynomial\u001b[49m\u001b[43m(\u001b[49m\u001b[43mM\u001b[49m\u001b[43m)\u001b[49m\n\u001b[1;32m     67\u001b[0m \u001b[38;5;28mprint\u001b[39m(\u001b[38;5;124m\"\u001b[39m\u001b[38;5;124mKL-polynomial:\u001b[39m\u001b[38;5;124m\"\u001b[39m, result)\n",
      "Cell \u001b[0;32mIn[26], line 50\u001b[0m, in \u001b[0;36mkl_polynomial\u001b[0;34m(M)\u001b[0m\n\u001b[1;32m     47\u001b[0m contraction \u001b[38;5;241m=\u001b[39m M\u001b[38;5;241m.\u001b[39mcontract(flat)\u001b[38;5;241m.\u001b[39msimplify()\n\u001b[1;32m     49\u001b[0m restriction_poly \u001b[38;5;241m=\u001b[39m reduced_char_poly(restriction)\n\u001b[0;32m---> 50\u001b[0m contraction_poly \u001b[38;5;241m=\u001b[39m \u001b[43mget_klpoly\u001b[49m\u001b[43m(\u001b[49m\u001b[43mcontraction\u001b[49m\u001b[43m)\u001b[49m\n\u001b[1;32m     52\u001b[0m term_poly \u001b[38;5;241m=\u001b[39m restriction_poly \u001b[38;5;241m*\u001b[39m contraction_poly\n\u001b[1;32m     54\u001b[0m epw_Rpolynomial \u001b[38;5;241m+\u001b[39m\u001b[38;5;241m=\u001b[39m term_poly\n",
      "Cell \u001b[0;32mIn[26], line 9\u001b[0m, in \u001b[0;36mget_klpoly\u001b[0;34m(M)\u001b[0m\n\u001b[1;32m      6\u001b[0m     \u001b[38;5;28;01mif\u001b[39;00m  M\u001b[38;5;241m.\u001b[39mis_isomorphic(item):\n\u001b[1;32m      7\u001b[0m         \u001b[38;5;28;01mreturn\u001b[39;00m klpoly\n\u001b[0;32m----> 9\u001b[0m klpoly \u001b[38;5;241m=\u001b[39m \u001b[43mkl_polynomial\u001b[49m\u001b[43m(\u001b[49m\u001b[43mM\u001b[49m\u001b[43m)\u001b[49m\n\u001b[1;32m     10\u001b[0m klpoly_list\u001b[38;5;241m.\u001b[39mappend((M, klpoly))\n\u001b[1;32m     12\u001b[0m \u001b[38;5;28;01mreturn\u001b[39;00m klpoly\n",
      "Cell \u001b[0;32mIn[26], line 50\u001b[0m, in \u001b[0;36mkl_polynomial\u001b[0;34m(M)\u001b[0m\n\u001b[1;32m     47\u001b[0m contraction \u001b[38;5;241m=\u001b[39m M\u001b[38;5;241m.\u001b[39mcontract(flat)\u001b[38;5;241m.\u001b[39msimplify()\n\u001b[1;32m     49\u001b[0m restriction_poly \u001b[38;5;241m=\u001b[39m reduced_char_poly(restriction)\n\u001b[0;32m---> 50\u001b[0m contraction_poly \u001b[38;5;241m=\u001b[39m \u001b[43mget_klpoly\u001b[49m\u001b[43m(\u001b[49m\u001b[43mcontraction\u001b[49m\u001b[43m)\u001b[49m\n\u001b[1;32m     52\u001b[0m term_poly \u001b[38;5;241m=\u001b[39m restriction_poly \u001b[38;5;241m*\u001b[39m contraction_poly\n\u001b[1;32m     54\u001b[0m epw_Rpolynomial \u001b[38;5;241m+\u001b[39m\u001b[38;5;241m=\u001b[39m term_poly\n",
      "Cell \u001b[0;32mIn[26], line 9\u001b[0m, in \u001b[0;36mget_klpoly\u001b[0;34m(M)\u001b[0m\n\u001b[1;32m      6\u001b[0m     \u001b[38;5;28;01mif\u001b[39;00m  M\u001b[38;5;241m.\u001b[39mis_isomorphic(item):\n\u001b[1;32m      7\u001b[0m         \u001b[38;5;28;01mreturn\u001b[39;00m klpoly\n\u001b[0;32m----> 9\u001b[0m klpoly \u001b[38;5;241m=\u001b[39m \u001b[43mkl_polynomial\u001b[49m\u001b[43m(\u001b[49m\u001b[43mM\u001b[49m\u001b[43m)\u001b[49m\n\u001b[1;32m     10\u001b[0m klpoly_list\u001b[38;5;241m.\u001b[39mappend((M, klpoly))\n\u001b[1;32m     12\u001b[0m \u001b[38;5;28;01mreturn\u001b[39;00m klpoly\n",
      "    \u001b[0;31m[... skipping similar frames: get_klpoly at line 9 (6 times), kl_polynomial at line 50 (6 times)]\u001b[0m\n",
      "Cell \u001b[0;32mIn[26], line 50\u001b[0m, in \u001b[0;36mkl_polynomial\u001b[0;34m(M)\u001b[0m\n\u001b[1;32m     47\u001b[0m contraction \u001b[38;5;241m=\u001b[39m M\u001b[38;5;241m.\u001b[39mcontract(flat)\u001b[38;5;241m.\u001b[39msimplify()\n\u001b[1;32m     49\u001b[0m restriction_poly \u001b[38;5;241m=\u001b[39m reduced_char_poly(restriction)\n\u001b[0;32m---> 50\u001b[0m contraction_poly \u001b[38;5;241m=\u001b[39m \u001b[43mget_klpoly\u001b[49m\u001b[43m(\u001b[49m\u001b[43mcontraction\u001b[49m\u001b[43m)\u001b[49m\n\u001b[1;32m     52\u001b[0m term_poly \u001b[38;5;241m=\u001b[39m restriction_poly \u001b[38;5;241m*\u001b[39m contraction_poly\n\u001b[1;32m     54\u001b[0m epw_Rpolynomial \u001b[38;5;241m+\u001b[39m\u001b[38;5;241m=\u001b[39m term_poly\n",
      "Cell \u001b[0;32mIn[26], line 9\u001b[0m, in \u001b[0;36mget_klpoly\u001b[0;34m(M)\u001b[0m\n\u001b[1;32m      6\u001b[0m     \u001b[38;5;28;01mif\u001b[39;00m  M\u001b[38;5;241m.\u001b[39mis_isomorphic(item):\n\u001b[1;32m      7\u001b[0m         \u001b[38;5;28;01mreturn\u001b[39;00m klpoly\n\u001b[0;32m----> 9\u001b[0m klpoly \u001b[38;5;241m=\u001b[39m \u001b[43mkl_polynomial\u001b[49m\u001b[43m(\u001b[49m\u001b[43mM\u001b[49m\u001b[43m)\u001b[49m\n\u001b[1;32m     10\u001b[0m klpoly_list\u001b[38;5;241m.\u001b[39mappend((M, klpoly))\n\u001b[1;32m     12\u001b[0m \u001b[38;5;28;01mreturn\u001b[39;00m klpoly\n",
      "Cell \u001b[0;32mIn[26], line 59\u001b[0m, in \u001b[0;36mkl_polynomial\u001b[0;34m(M)\u001b[0m\n\u001b[1;32m     56\u001b[0m coeffs_Rpolynomial \u001b[38;5;241m=\u001b[39m epw_Rpolynomial\u001b[38;5;241m.\u001b[39mcoefficients(sparse \u001b[38;5;241m=\u001b[39m \u001b[38;5;28;01mFalse\u001b[39;00m)\n\u001b[1;32m     57\u001b[0m coeffs_Rpolynomial \u001b[38;5;241m=\u001b[39m [Integer(\u001b[38;5;241m0\u001b[39m)] \u001b[38;5;241m*\u001b[39m (rank \u001b[38;5;241m-\u001b[39m epw_Rpolynomial\u001b[38;5;241m.\u001b[39mdegree()) \u001b[38;5;241m+\u001b[39m coeffs_Rpolynomial\u001b[38;5;241m.\u001b[39mcopy()\n\u001b[0;32m---> 59\u001b[0m coeffs \u001b[38;5;241m=\u001b[39m \u001b[43mkl_poly_inv\u001b[49m\u001b[38;5;241m.\u001b[39mcoefficients(sparse\u001b[38;5;241m=\u001b[39m\u001b[38;5;28;01mFalse\u001b[39;00m)\n\u001b[1;32m     60\u001b[0m reversed_coeffs \u001b[38;5;241m=\u001b[39m coeffs[::\u001b[38;5;241m-\u001b[39mInteger(\u001b[38;5;241m1\u001b[39m)]\n\u001b[1;32m     61\u001b[0m kl_poly \u001b[38;5;241m=\u001b[39m R(reversed_coeffs)\n",
      "\u001b[0;31mNameError\u001b[0m: name 'kl_poly_inv' is not defined"
     ]
    }
   ],
   "source": [
    "klpoly_list = []\n",
    "\n",
    "def get_klpoly(M):\n",
    "\n",
    "    for item, klpoly in klpoly_list:\n",
    "        if  M.is_isomorphic(item):\n",
    "            return klpoly\n",
    "    \n",
    "    klpoly = kl_polynomial(M)\n",
    "    klpoly_list.append((M, klpoly))\n",
    "\n",
    "    return klpoly\n",
    "\n",
    "def reduced_char_poly(M):\n",
    "    return char_poly(M) // (x - 1)\n",
    "\n",
    "def char_poly(M):\n",
    "    T = M.tutte_polynomial()\n",
    "    x = var('x')\n",
    "    subbed_Tpoly = T.subs(x = 1 - x, y = 0)\n",
    "    char_poly = (-1) ** M.rank() * subbed_Tpoly\n",
    "    R = PolynomialRing(QQ, 'x')\n",
    "\n",
    "    return R(char_poly)\n",
    "\n",
    "def graphic_char_poly(n):\n",
    "    T = graphs.CompleteGraph(n).tutte_polynomial()\n",
    "    x = var('x')\n",
    "    subbed_Tpoly = T.subs(x = 1 - x, y = 0)\n",
    "    char_poly = (-1) ** (n - 1) * subbed_Tpoly\n",
    "    R = PolynomialRing(QQ, 'x')\n",
    "\n",
    "    return R(char_poly)\n",
    "\n",
    "def kl_polynomial(M):\n",
    "    rank = M.rank()\n",
    "    x = var('x')\n",
    "    R = PolynomialRing(QQ, 'x')\n",
    "\n",
    "    if rank == 0: return R(1)\n",
    "    \n",
    "    epw_Rpolynomial = R(0)\n",
    "    \n",
    "    for i in range(1, rank + 1):\n",
    "        for flat in M.flats(i):\n",
    "            restriction = M.delete(M.groundset() - flat).simplify()\n",
    "            contraction = M.contract(flat).simplify()\n",
    "            \n",
    "            restriction_poly = reduced_char_poly(restriction)\n",
    "            contraction_poly = get_klpoly(contraction)\n",
    "            \n",
    "            term_poly = restriction_poly * contraction_poly\n",
    "            \n",
    "            epw_Rpolynomial += term_poly\n",
    "\n",
    "    coeffs_Rpolynomial = epw_Rpolynomial.coefficients(sparse = False)\n",
    "    coeffs_Rpolynomial = [0] * (rank - epw_Rpolynomial.degree()) + coeffs_Rpolynomial.copy()\n",
    "\n",
    "    coeffs = kl_poly_inv.coefficients(sparse=False)\n",
    "    reversed_coeffs = coeffs[::-1]\n",
    "    kl_poly = R(reversed_coeffs)\n",
    "\n",
    "    return kl_poly\n",
    "\n",
    "M = matroids.Uniform(10,10)\n",
    "result = kl_polynomial(M)\n",
    "print(\"KL-polynomial:\", result)"
   ]
  },
  {
   "cell_type": "code",
   "execution_count": null,
   "metadata": {
    "vscode": {
     "languageId": "sage"
    }
   },
   "outputs": [
    {
     "name": "stdout",
     "output_type": "stream",
     "text": [
      "[(M / {0, 1, 2, 3, 4, 5, 6, 7, 8, 9}, where M is U(10, 10): Matroid of rank 10 on 10 elements with circuit-closures\n",
      "{}, 1), (M / {0, 1, 2, 3, 4, 5, 6, 7, 8}, where M is U(10, 10): Matroid of rank 10 on 10 elements with circuit-closures\n",
      "{}, 1), (M / {0, 1, 2, 3, 4, 5, 6, 7}, where M is U(10, 10): Matroid of rank 10 on 10 elements with circuit-closures\n",
      "{}, x + 1), (M / {0, 1, 2, 3, 4, 5, 6}, where M is U(10, 10): Matroid of rank 10 on 10 elements with circuit-closures\n",
      "{}, x^2 + 4*x + 1), (M / {0, 1, 2, 3, 4, 5}, where M is U(10, 10): Matroid of rank 10 on 10 elements with circuit-closures\n",
      "{}, x^3 + 11*x^2 + 11*x + 1), (M / {0, 1, 2, 3, 4}, where M is U(10, 10): Matroid of rank 10 on 10 elements with circuit-closures\n",
      "{}, x^4 + 26*x^3 + 66*x^2 + 26*x + 1), (M / {0, 1, 2, 3}, where M is U(10, 10): Matroid of rank 10 on 10 elements with circuit-closures\n",
      "{}, x^5 + 57*x^4 + 302*x^3 + 302*x^2 + 57*x + 1), (M / {0, 1, 2}, where M is U(10, 10): Matroid of rank 10 on 10 elements with circuit-closures\n",
      "{}, x^6 + 120*x^5 + 1191*x^4 + 2416*x^3 + 1191*x^2 + 120*x + 1), (M / {0, 1}, where M is U(10, 10): Matroid of rank 10 on 10 elements with circuit-closures\n",
      "{}, x^7 + 247*x^6 + 4293*x^5 + 15619*x^4 + 15619*x^3 + 4293*x^2 + 247*x + 1), (M / {0}, where M is U(10, 10): Matroid of rank 10 on 10 elements with circuit-closures\n",
      "{}, x^8 + 502*x^7 + 14608*x^6 + 88234*x^5 + 156190*x^4 + 88234*x^3 + 14608*x^2 + 502*x + 1)]\n"
     ]
    }
   ],
   "source": [
    "print(klpoly_list)"
   ]
  },
  {
   "cell_type": "code",
   "execution_count": null,
   "metadata": {
    "vscode": {
     "languageId": "sage"
    }
   },
   "outputs": [
    {
     "name": "stdout",
     "output_type": "stream",
     "text": [
      "The Kazhdan-Lusztig polynomial of U_(2, 3) is: t^3 + 2*t^2 + t\n"
     ]
    }
   ],
   "source": [
    "# Define the uniform matroid U_{2,3}\n",
    "M = matroids.Uniform(2,3)\n",
    "\n",
    "def kazhdan_lusztig_polynomial(matroid):\n",
    "    # Base cases\n",
    "    if matroid.size() == 0:  # No elements\n",
    "        return 1\n",
    "    if not matroid.is_connected():  # Not connected\n",
    "        return 0\n",
    "\n",
    "    # Recursive step\n",
    "    element = list(matroid.groundset())[0]  # Pick any element\n",
    "    deletion = matroid.delete(element)\n",
    "    contraction = matroid.contract(element)\n",
    "\n",
    "    # Compute recursively\n",
    "    return kazhdan_lusztig_polynomial(deletion) + t * kazhdan_lusztig_polynomial(contraction)\n",
    "\n",
    "\n",
    "# Define the matroid U_{2,3}\n",
    "U_2_3 = M\n",
    "\n",
    "# Create a polynomial ring for computations\n",
    "R.<t> = PolynomialRing(QQ)\n",
    "\n",
    "# Compute the Kazhdan-Lusztig polynomial\n",
    "KL_polynomial = kazhdan_lusztig_polynomial(U_2_3)\n",
    "print(f\"The Kazhdan-Lusztig polynomial of U_{2,3} is: {KL_polynomial}\")"
   ]
  }
 ],
 "metadata": {
  "kernelspec": {
   "display_name": "SageMath 10.3",
   "language": "sage",
   "name": "SageMath-10.3"
  },
  "language_info": {
   "codemirror_mode": {
    "name": "ipython",
    "version": 3
   },
   "file_extension": ".py",
   "mimetype": "text/x-python",
   "name": "python",
   "nbconvert_exporter": "python",
   "pygments_lexer": "ipython3",
   "version": "3.11.8"
  }
 },
 "nbformat": 4,
 "nbformat_minor": 2
}
