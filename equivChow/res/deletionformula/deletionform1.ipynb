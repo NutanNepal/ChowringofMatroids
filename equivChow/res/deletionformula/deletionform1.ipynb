{
 "cells": [
  {
   "cell_type": "markdown",
   "metadata": {
    "vscode": {
     "languageId": "raw"
    }
   },
   "source": [
    "Kazhdan-Lustig polynomials of Matroids satisfy a certain formula called the deletion formula. This note will be about obtaining the corresponding deletion formula (bv-klpolydeletion) for the Q-polynomials."
   ]
  },
  {
   "cell_type": "markdown",
   "metadata": {},
   "source": [
    "The coeﬃcients of $P_M (t)$ depend only on the lattice of ﬂats $L(M )$, and in fact they are integral linear combinations of the ﬂag Whitney numbers counting chains of ﬂats with speciﬁed ranks.\n",
    "\n",
    "$$P_M(t) = P_{M\\setminus e}(t)-tP_{M/e}(t)+\\sum_{F\\in S}{\\tau(M/{F\\cup e})t^{\\text{crk}(F)/2}P_{M\\mid F}(t)}.$$"
   ]
  },
  {
   "cell_type": "markdown",
   "metadata": {},
   "source": [
    "Guess 1:\n",
    "$$Q_M(t) = Q_{M\\setminus e}(t)-tQ_{M/e}(t)+\\sum_{F\\in S}{\\tau(M/{F\\cup e})t^{\\text{crk}(F)/2}Q_{M\\mid F}(t)}.$$"
   ]
  },
  {
   "cell_type": "code",
   "execution_count": 24,
   "metadata": {
    "vscode": {
     "languageId": "sage"
    }
   },
   "outputs": [
    {
     "data": {
      "text/plain": [
       "[OS{}, OS{2}, OS{1}, OS{0}, OS{0, 2}, OS{0, 1}]"
      ]
     },
     "execution_count": 24,
     "metadata": {},
     "output_type": "execute_result"
    }
   ],
   "source": [
    "M = matroids.Uniform(2, 3)\n",
    "B = M.orlik_solomon_algebra(QQ)\n",
    "F = list(B.basis())\n",
    "F"
   ]
  },
  {
   "cell_type": "code",
   "execution_count": null,
   "metadata": {
    "vscode": {
     "languageId": "sage"
    }
   },
   "outputs": [],
   "source": []
  },
  {
   "cell_type": "code",
   "execution_count": null,
   "metadata": {
    "vscode": {
     "languageId": "sage"
    }
   },
   "outputs": [
    {
     "ename": "AttributeError",
     "evalue": "'sage.matroids.circuit_closures_matroid.CircuitClos' object has no attribute 'no_broken_circuits_sets_iterator'",
     "output_type": "error",
     "traceback": [
      "\u001b[0;31m---------------------------------------------------------------------------\u001b[0m",
      "\u001b[0;31mAttributeError\u001b[0m                            Traceback (most recent call last)",
      "Cell \u001b[0;32mIn[18], line 7\u001b[0m\n\u001b[1;32m      4\u001b[0m         abs_w[\u001b[38;5;28mlen\u001b[39m(S)] \u001b[38;5;241m+\u001b[39m\u001b[38;5;241m=\u001b[39m Integer(\u001b[38;5;241m1\u001b[39m)\n\u001b[1;32m      5\u001b[0m     \u001b[38;5;28;01mreturn\u001b[39;00m [ZZ((\u001b[38;5;241m-\u001b[39mInteger(\u001b[38;5;241m1\u001b[39m))\u001b[38;5;241m*\u001b[39m\u001b[38;5;241m*\u001b[39mi \u001b[38;5;241m*\u001b[39m val) \u001b[38;5;28;01mfor\u001b[39;00m i, val \u001b[38;5;129;01min\u001b[39;00m \u001b[38;5;28menumerate\u001b[39m(abs_w) \u001b[38;5;28;01mif\u001b[39;00m val \u001b[38;5;241m!=\u001b[39m Integer(\u001b[38;5;241m0\u001b[39m)]\n\u001b[0;32m----> 7\u001b[0m \u001b[38;5;28mprint\u001b[39m(\u001b[43mwhitney_numbers\u001b[49m\u001b[43m(\u001b[49m\u001b[43mmatroids\u001b[49m\u001b[38;5;241;43m.\u001b[39;49m\u001b[43mUniform\u001b[49m\u001b[43m(\u001b[49m\u001b[43mInteger\u001b[49m\u001b[43m(\u001b[49m\u001b[38;5;241;43m2\u001b[39;49m\u001b[43m)\u001b[49m\u001b[43m,\u001b[49m\u001b[43mInteger\u001b[49m\u001b[43m(\u001b[49m\u001b[38;5;241;43m3\u001b[39;49m\u001b[43m)\u001b[49m\u001b[43m)\u001b[49m\u001b[43m)\u001b[49m)\n",
      "Cell \u001b[0;32mIn[18], line 3\u001b[0m, in \u001b[0;36mwhitney_numbers\u001b[0;34m(M)\u001b[0m\n\u001b[1;32m      1\u001b[0m \u001b[38;5;28;01mdef\u001b[39;00m \u001b[38;5;21mwhitney_numbers\u001b[39m(M):\n\u001b[1;32m      2\u001b[0m     abs_w \u001b[38;5;241m=\u001b[39m [Integer(\u001b[38;5;241m0\u001b[39m)] \u001b[38;5;241m*\u001b[39m (M\u001b[38;5;241m.\u001b[39mrank()\u001b[38;5;241m+\u001b[39mInteger(\u001b[38;5;241m1\u001b[39m))\n\u001b[0;32m----> 3\u001b[0m     \u001b[38;5;28;01mfor\u001b[39;00m S \u001b[38;5;129;01min\u001b[39;00m \u001b[43mM\u001b[49m\u001b[38;5;241;43m.\u001b[39;49m\u001b[43mno_broken_circuits_sets_iterator\u001b[49m():\n\u001b[1;32m      4\u001b[0m         abs_w[\u001b[38;5;28mlen\u001b[39m(S)] \u001b[38;5;241m+\u001b[39m\u001b[38;5;241m=\u001b[39m Integer(\u001b[38;5;241m1\u001b[39m)\n\u001b[1;32m      5\u001b[0m     \u001b[38;5;28;01mreturn\u001b[39;00m [ZZ((\u001b[38;5;241m-\u001b[39mInteger(\u001b[38;5;241m1\u001b[39m))\u001b[38;5;241m*\u001b[39m\u001b[38;5;241m*\u001b[39mi \u001b[38;5;241m*\u001b[39m val) \u001b[38;5;28;01mfor\u001b[39;00m i, val \u001b[38;5;129;01min\u001b[39;00m \u001b[38;5;28menumerate\u001b[39m(abs_w) \u001b[38;5;28;01mif\u001b[39;00m val \u001b[38;5;241m!=\u001b[39m Integer(\u001b[38;5;241m0\u001b[39m)]\n",
      "\u001b[0;31mAttributeError\u001b[0m: 'sage.matroids.circuit_closures_matroid.CircuitClos' object has no attribute 'no_broken_circuits_sets_iterator'"
     ]
    }
   ],
   "source": [
    "def whitney_numbers(M):\n",
    "    abs_w = [0] * (M.rank()+1)\n",
    "    for S in M.no_broken_circuits_sets_iterator():\n",
    "        abs_w[len(S)] += 1\n",
    "    return [ZZ((-1)**i * val) for i, val in enumerate(abs_w) if val != 0]\n",
    "\n",
    "whitney_numbers(matroids.Uniform(2,3))"
   ]
  },
  {
   "cell_type": "code",
   "execution_count": null,
   "metadata": {
    "vscode": {
     "languageId": "sage"
    }
   },
   "outputs": [],
   "source": [
    "def matroid_charpoly(M):\n",
    "    R = PolynomialRing(QQ, 'x')\n",
    "    char_poly = R(0)\n",
    "    Whitney_numbers = M.whitney_numbers()\n",
    "    for val in Whitney_numbers:\n",
    "        char_poly += val * x^{"
   ]
  },
  {
   "cell_type": "code",
   "execution_count": 25,
   "metadata": {
    "vscode": {
     "languageId": "sage"
    }
   },
   "outputs": [
    {
     "name": "stdout",
     "output_type": "stream",
     "text": [
      "KL-polynomial: x^9 + 1013*x^8 + 47840*x^7 + 455192*x^6 + 1310354*x^5 + 1310354*x^4 + 455192*x^3 + 47840*x^2 + 1013*x + 1\n"
     ]
    }
   ],
   "source": [
    "klpoly_list = []\n",
    "\n",
    "def get_klpoly(M):\n",
    "\n",
    "    for item, klpoly in klpoly_list:\n",
    "        if  M.is_isomorphic(item):\n",
    "            return klpoly\n",
    "    \n",
    "    klpoly = kl_polynomial(M)\n",
    "    klpoly_list.append((M, klpoly))\n",
    "\n",
    "    return klpoly\n",
    "\n",
    "def reduced_char_poly(M):\n",
    "    return char_poly(M) // (x - 1)\n",
    "\n",
    "def char_poly(M):\n",
    "    T = M.tutte_polynomial()\n",
    "    x = var('x')\n",
    "    subbed_Tpoly = T.subs(x = 1 - x, y = 0)\n",
    "    char_poly = (-1) ** M.rank() * subbed_Tpoly\n",
    "    R = PolynomialRing(QQ, 'x')\n",
    "\n",
    "    return R(char_poly)\n",
    "\n",
    "def graphic_char_poly(n):\n",
    "    T = graphs.CompleteGraph(n).tutte_polynomial()\n",
    "    x = var('x')\n",
    "    subbed_Tpoly = T.subs(x = 1 - x, y = 0)\n",
    "    char_poly = (-1) ** (n - 1) * subbed_Tpoly\n",
    "    R = PolynomialRing(QQ, 'x')\n",
    "\n",
    "    return R(char_poly)\n",
    "\n",
    "def kl_polynomial(M):\n",
    "    rank = M.rank()\n",
    "    x = var('x')\n",
    "    R = PolynomialRing(QQ, 'x')\n",
    "\n",
    "    if rank == 0: return R(1)\n",
    "    \n",
    "    kl_poly = R(0)\n",
    "    \n",
    "    for i in range(1, rank + 1):\n",
    "        for flat in M.flats(i):\n",
    "            restriction = M.delete(M.groundset() - flat).simplify()\n",
    "            contraction = M.contract(flat).simplify()\n",
    "            \n",
    "            restriction_poly = reduced_char_poly(restriction)\n",
    "            contraction_poly = get_klpoly(contraction)\n",
    "            \n",
    "            term_poly = restriction_poly * contraction_poly\n",
    "            \n",
    "            kl_poly += term_poly\n",
    "    \n",
    "    return kl_poly\n",
    "\n",
    "M = matroids.Uniform(10,10)\n",
    "result = kl_polynomial(M)\n",
    "print(\"KL-polynomial:\", result)"
   ]
  },
  {
   "cell_type": "code",
   "execution_count": null,
   "metadata": {
    "vscode": {
     "languageId": "sage"
    }
   },
   "outputs": [
    {
     "name": "stdout",
     "output_type": "stream",
     "text": [
      "The Kazhdan-Lusztig polynomial of U_(2, 3) is: t^3 + 2*t^2 + t\n"
     ]
    }
   ],
   "source": [
    "# Define the uniform matroid U_{2,3}\n",
    "M = matroids.Uniform(2,3)\n",
    "\n",
    "def kazhdan_lusztig_polynomial(matroid):\n",
    "    # Base cases\n",
    "    if matroid.size() == 0:  # No elements\n",
    "        return 1\n",
    "    if not matroid.is_connected():  # Not connected\n",
    "        return 0\n",
    "\n",
    "    # Recursive step\n",
    "    element = list(matroid.groundset())[0]  # Pick any element\n",
    "    deletion = matroid.delete(element)\n",
    "    contraction = matroid.contract(element)\n",
    "\n",
    "    # Compute recursively\n",
    "    return kazhdan_lusztig_polynomial(deletion) + t * kazhdan_lusztig_polynomial(contraction)\n",
    "\n",
    "\n",
    "# Define the matroid U_{2,3}\n",
    "U_2_3 = M\n",
    "\n",
    "# Create a polynomial ring for computations\n",
    "R.<t> = PolynomialRing(QQ)\n",
    "\n",
    "# Compute the Kazhdan-Lusztig polynomial\n",
    "KL_polynomial = kazhdan_lusztig_polynomial(U_2_3)\n",
    "print(f\"The Kazhdan-Lusztig polynomial of U_{2,3} is: {KL_polynomial}\")"
   ]
  }
 ],
 "metadata": {
  "kernelspec": {
   "display_name": "SageMath 10.3",
   "language": "sage",
   "name": "sagemath"
  },
  "language_info": {
   "codemirror_mode": {
    "name": "ipython",
    "version": 3
   },
   "file_extension": ".py",
   "mimetype": "text/x-python",
   "name": "python",
   "nbconvert_exporter": "python",
   "pygments_lexer": "ipython3",
   "version": "3.11.9"
  }
 },
 "nbformat": 4,
 "nbformat_minor": 2
}
