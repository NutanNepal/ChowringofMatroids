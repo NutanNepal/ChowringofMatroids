{
 "cells": [
  {
   "cell_type": "markdown",
   "metadata": {
    "vscode": {
     "languageId": "raw"
    }
   },
   "source": [
    "Kazhdan-Lustig polynomials of Matroids satisfy a certain formula called the deletion formula. This note will be about obtaining the corresponding deletion formula (bv-klpolydeletion) for the Q-polynomials."
   ]
  },
  {
   "cell_type": "markdown",
   "metadata": {},
   "source": [
    "The coeﬃcients of $P_M (t)$ depend only on the lattice of ﬂats $L(M )$, and in fact they are integral linear combinations of the ﬂag Whitney numbers counting chains of ﬂats with speciﬁed ranks.\n",
    "\n",
    "$$P_M(t) = P_{M\\setminus e}(t)-tP_{M/e}(t)+\\sum_{F\\in S}{\\tau(M/{F\\cup e})t^{\\text{crk}(F)/2}P_{M\\mid F}(t)}.$$"
   ]
  },
  {
   "cell_type": "markdown",
   "metadata": {},
   "source": [
    "Guess 1:\n",
    "$$Q_M(t) = Q_{M\\setminus e}(t)-tQ_{M/e}(t)+\\sum_{F\\in S}{\\tau(M/{F\\cup e})t^{\\text{crk}(F)/2}Q_{M\\mid F}(t)}.$$"
   ]
  },
  {
   "cell_type": "code",
   "execution_count": 3,
   "metadata": {
    "vscode": {
     "languageId": "sage"
    }
   },
   "outputs": [
    {
     "data": {
      "text/plain": [
       "[OS{}, OS{2}, OS{1}, OS{0}, OS{0, 2}, OS{0, 1}]"
      ]
     },
     "execution_count": 3,
     "metadata": {},
     "output_type": "execute_result"
    }
   ],
   "source": [
    "M = matroids.Uniform(2, 3)\n",
    "B = M.orlik_solomon_algebra(QQ)\n",
    "F = list(B.basis())\n",
    "F"
   ]
  },
  {
   "cell_type": "code",
   "execution_count": null,
   "metadata": {
    "vscode": {
     "languageId": "sage"
    }
   },
   "outputs": [],
   "source": [
    "def invKL(M):\n",
    "\tR = PolynomialRing(ZZ, 'q')\n",
    "\tq = R.gen(0)\n",
    "\tif M.rank() == 0:\n",
    "\t\treturn q + 1 - q\n",
    "\tL = M.lattice_of_flats()\n",
    "\tinvKLpoly = 0\n",
    "\tfor i in range(1,len(L)):\n",
    "\t\tMcon = M.contract(L[i])\n",
    "\t\tMres = M.delete(M.groundset()-L[i])\n",
    "\t\tLres = Mres.lattice_of_flats()\n",
    "\t\tinvKLpoly += (-1)^(Mres.rank())*Lres.kazhdan_lusztig_polynomial()*invKL(Mcon)\n",
    "\treturn -invKLpoly"
   ]
  },
  {
   "cell_type": "code",
   "execution_count": null,
   "metadata": {
    "vscode": {
     "languageId": "sage"
    }
   },
   "outputs": [
    {
     "name": "stdout",
     "output_type": "stream",
     "text": [
      "KL-polynomial: x^9 + 1013*x^8 + 47840*x^7 + 455192*x^6 + 1310354*x^5 + 1310354*x^4 + 455192*x^3 + 47840*x^2 + 1013*x + 1\n"
     ]
    }
   ],
   "source": [
    "def char_poly(M):\n",
    "    T = M.tutte_polynomial()\n",
    "    x = var('x')\n",
    "    subbed_Tpoly = T.subs(x = 1 - x, y = 0)\n",
    "    char_poly = (-1) ** M.rank() * subbed_Tpoly\n",
    "    R = PolynomialRing(QQ, 'x')\n",
    "\n",
    "    return R(char_poly)\n",
    "\n",
    "def reduced_char_poly(M):\n",
    "    return char_poly(M) // (x - 1)\n",
    "\n",
    "M = matroids.Uniform(10,10)"
   ]
  },
  {
   "cell_type": "markdown",
   "metadata": {},
   "source": [
    "# codedump\n",
    "\n",
    "\"\"\"\n",
    "\n",
    "    def whitney_numbers(M):\n",
    "        abs_w = [0] * (M.rank()+1)\n",
    "        for S in M.no_broken_circuits_sets_iterator():\n",
    "            abs_w[len(S)] += 1\n",
    "        return [ZZ((-1)**i * val) for i, val in enumerate(abs_w) if val != 0]\n",
    "\n",
    "    whitney_numbers(matroids.Uniform(2,3))\n",
    "\n",
    "\"\"\"\n",
    "------------\n",
    "------------\n",
    "\n",
    "\"\"\"\n",
    "\n",
    "    # Define the uniform matroid U_{2,3}\n",
    "    M = matroids.Uniform(2,3)\n",
    "\n",
    "    def kazhdan_lusztig_polynomial(matroid):\n",
    "        # Base cases\n",
    "        if matroid.size() == 0:  # No elements\n",
    "            return 1\n",
    "        if not matroid.is_connected():  # Not connected\n",
    "            return 0\n",
    "\n",
    "        # Recursive step\n",
    "        element = list(matroid.groundset())[0]  # Pick any element\n",
    "        deletion = matroid.delete(element)\n",
    "        contraction = matroid.contract(element)\n",
    "\n",
    "        # Compute recursively\n",
    "        return kazhdan_lusztig_polynomial(deletion) + t * kazhdan_lusztig_polynomial(contraction)\n",
    "\n",
    "\n",
    "    # Define the matroid U_{2,3}\n",
    "    U_2_3 = M\n",
    "\n",
    "    # Create a polynomial ring for computations\n",
    "    R.<t> = PolynomialRing(QQ)\n",
    "\n",
    "    # Compute the Kazhdan-Lusztig polynomial\n",
    "    KL_polynomial = kazhdan_lusztig_polynomial(U_2_3)\n",
    "    print(f\"The Kazhdan-Lusztig polynomial of U_{2,3} is: {KL_polynomial}\")\n",
    "\n",
    "\"\"\"\n",
    "------------\n",
    "------------\n",
    "\n",
    "\"\"\"\n",
    "\n",
    "    def kl_polynomial(M):\n",
    "        rank = M.rank()\n",
    "        x = var('x')\n",
    "        R = PolynomialRing(QQ, 'x')\n",
    "\n",
    "        if rank == 0: return R(1)\n",
    "        \n",
    "        kl_poly = R(0)\n",
    "        \n",
    "        for i in range(1, rank + 1):\n",
    "            for flat in M.flats(i):\n",
    "                restriction = M.delete(M.groundset() - flat).simplify()\n",
    "                contraction = M.contract(flat).simplify()\n",
    "                \n",
    "                restriction_poly = reduced_char_poly(restriction)\n",
    "                contraction_poly = get_klpoly(contraction)\n",
    "                \n",
    "                term_poly = restriction_poly * contraction_poly\n",
    "                \n",
    "                kl_poly += term_poly\n",
    "        \n",
    "        return kl_poly\n",
    "\n",
    "\"\"\""
   ]
  }
 ],
 "metadata": {
  "kernelspec": {
   "display_name": "SageMath 10.3",
   "language": "sage",
   "name": "sagemath"
  },
  "language_info": {
   "codemirror_mode": {
    "name": "ipython",
    "version": 3
   },
   "file_extension": ".py",
   "mimetype": "text/x-python",
   "name": "python",
   "nbconvert_exporter": "python",
   "pygments_lexer": "ipython3",
   "version": "3.11.9"
  }
 },
 "nbformat": 4,
 "nbformat_minor": 2
}
