{
 "cells": [
  {
   "cell_type": "code",
   "execution_count": 16,
   "metadata": {
    "vscode": {
     "languageId": "sage"
    }
   },
   "outputs": [
    {
     "name": "stdout",
     "output_type": "stream",
     "text": [
      "frozenset({0, 1, 2, 3, 4})\n",
      "[frozenset(), frozenset({2}), frozenset({2, 3, 4}), frozenset({1}), frozenset({0}), frozenset({0, 1, 2}), frozenset({0, 1, 2, 3, 4}), frozenset(), frozenset({3}), frozenset({4})]\n"
     ]
    },
    {
     "ename": "TypeError",
     "evalue": "object of type 'sage.rings.integer.Integer' has no len()",
     "output_type": "error",
     "traceback": [
      "\u001b[0;31m---------------------------------------------------------------------------\u001b[0m",
      "\u001b[0;31mTypeError\u001b[0m                                 Traceback (most recent call last)",
      "Cell \u001b[0;32mIn[16], line 48\u001b[0m\n\u001b[1;32m     45\u001b[0m M2 \u001b[38;5;241m=\u001b[39m Matroid(groundset\u001b[38;5;241m=\u001b[39m[Integer(\u001b[38;5;241m2\u001b[39m), Integer(\u001b[38;5;241m3\u001b[39m), Integer(\u001b[38;5;241m4\u001b[39m)], circuits\u001b[38;5;241m=\u001b[39m[[Integer(\u001b[38;5;241m2\u001b[39m), Integer(\u001b[38;5;241m3\u001b[39m), Integer(\u001b[38;5;241m4\u001b[39m)]])\n\u001b[1;32m     47\u001b[0m common_element \u001b[38;5;241m=\u001b[39m Integer(\u001b[38;5;241m2\u001b[39m)\n\u001b[0;32m---> 48\u001b[0m parallel_conn \u001b[38;5;241m=\u001b[39m \u001b[43mparallel_connection\u001b[49m\u001b[43m(\u001b[49m\u001b[43mM1\u001b[49m\u001b[43m,\u001b[49m\u001b[43m \u001b[49m\u001b[43mM2\u001b[49m\u001b[43m,\u001b[49m\u001b[43m \u001b[49m\u001b[43mcommon_element\u001b[49m\u001b[43m)\u001b[49m\n\u001b[1;32m     49\u001b[0m \u001b[38;5;28mprint\u001b[39m(parallel_conn)\n",
      "Cell \u001b[0;32mIn[16], line 39\u001b[0m, in \u001b[0;36mparallel_connection\u001b[0;34m(M1, M2, common_element)\u001b[0m\n\u001b[1;32m     36\u001b[0m \u001b[38;5;28mprint\u001b[39m(flats)\n\u001b[1;32m     38\u001b[0m \u001b[38;5;66;03m# Create the parallel connection matroid\u001b[39;00m\n\u001b[0;32m---> 39\u001b[0m parallel_conn_matroid \u001b[38;5;241m=\u001b[39m \u001b[43mMatroid\u001b[49m\u001b[43m(\u001b[49m\u001b[43mgroundset\u001b[49m\u001b[38;5;241;43m=\u001b[39;49m\u001b[43mground_set\u001b[49m\u001b[43m,\u001b[49m\u001b[43m \u001b[49m\u001b[43mflats\u001b[49m\u001b[38;5;241;43m=\u001b[39;49m\u001b[43mflats\u001b[49m\u001b[43m)\u001b[49m\n\u001b[1;32m     41\u001b[0m \u001b[38;5;28;01mreturn\u001b[39;00m parallel_conn_matroid\n",
      "File \u001b[0;32m/private/var/tmp/sage-10.3-current/local/var/lib/sage/venv-python3.11.8/lib/python3.11/site-packages/sage/matroids/constructor.py:745\u001b[0m, in \u001b[0;36mMatroid\u001b[0;34m(groundset, data, **kwds)\u001b[0m\n\u001b[1;32m    743\u001b[0m bases \u001b[38;5;241m=\u001b[39m []\n\u001b[1;32m    744\u001b[0m \u001b[38;5;28;01mfor\u001b[39;00m I \u001b[38;5;129;01min\u001b[39;00m data:\n\u001b[0;32m--> 745\u001b[0m     \u001b[38;5;28;01mif\u001b[39;00m \u001b[38;5;28mlen\u001b[39m(I) \u001b[38;5;241m==\u001b[39m rk:\n\u001b[1;32m    746\u001b[0m         bases\u001b[38;5;241m.\u001b[39mappend(I)\n\u001b[1;32m    747\u001b[0m     \u001b[38;5;28;01melif\u001b[39;00m \u001b[38;5;28mlen\u001b[39m(I) \u001b[38;5;241m>\u001b[39m rk:\n",
      "\u001b[0;31mTypeError\u001b[0m: object of type 'sage.rings.integer.Integer' has no len()"
     ]
    }
   ],
   "source": [
    "def parallel_connection(M1, M2, common_element):\n",
    "    \"\"\"\n",
    "    Compute the parallel connection of two matroids M1 and M2 over a common element.\n",
    "    \n",
    "    Parameters:\n",
    "    M1, M2: Matroid objects.\n",
    "    common_element: The element over which the parallel connection is formed.\n",
    "    \n",
    "    Returns:\n",
    "    Matroid object representing the parallel connection of M1 and M2.\n",
    "    \"\"\"\n",
    "    # Ensure the common element is in both ground sets\n",
    "    assert common_element in M1.groundset(), \"Common element must be in the ground set of M1\"\n",
    "    assert common_element in M2.groundset(), \"Common element must be in the ground set of M2\"\n",
    "    \n",
    "    # Compute the ground set of the parallel connection\n",
    "    ground_set = (M1.groundset() | M2.groundset())\n",
    "    print(ground_set)\n",
    "    \n",
    "    # Compute the flats of the parallel connection\n",
    "    flats = []\n",
    "    for F1 in list(M1.lattice_of_flats()):\n",
    "            for F2 in list(M2.lattice_of_flats()):\n",
    "                if common_element in F2:\n",
    "                    new_flat = frozenset(F1 | F2)\n",
    "                    if new_flat not in flats:\n",
    "                        flats.append(new_flat)\n",
    "                else:\n",
    "        else:\n",
    "            flats.append(F1)\n",
    "    \n",
    "    for F2 in list(M2.lattice_of_flats()):\n",
    "        if common_element not in F2:\n",
    "            flats.append(F2)\n",
    "    \n",
    "    print(flats)\n",
    "    \n",
    "    # Create the parallel connection matroid\n",
    "    parallel_conn_matroid = Matroid(groundset=ground_set, flats=flats)\n",
    "    \n",
    "    return parallel_conn_matroid\n",
    "\n",
    "# Example usage\n",
    "M1 = Matroid(groundset=[0, 1, 2], circuits=[[0, 1, 2]])\n",
    "M2 = Matroid(groundset=[2, 3, 4], circuits=[[2, 3, 4]])\n",
    "\n",
    "common_element = 2\n",
    "parallel_conn = parallel_connection(M1, M2, common_element)\n",
    "print(parallel_conn)"
   ]
  },
  {
   "cell_type": "code",
   "execution_count": 10,
   "metadata": {
    "vscode": {
     "languageId": "sage"
    }
   },
   "outputs": [
    {
     "ename": "SyntaxError",
     "evalue": "invalid syntax (2650393701.py, line 1)",
     "output_type": "error",
     "traceback": [
      "\u001b[0;36m  Cell \u001b[0;32mIn[10], line 1\u001b[0;36m\u001b[0m\n\u001b[0;31m    G = Graph([(Integer(0), Integer(1)), (Integer(1), Integer(2)), (Integer(2), Integer(0)), (Integer(1), Integer(3)), (Integer(3), Integer(0))])`Integer(1)\u001b[0m\n\u001b[0m                                                                                                                                                 ^\u001b[0m\n\u001b[0;31mSyntaxError\u001b[0m\u001b[0;31m:\u001b[0m invalid syntax\n"
     ]
    }
   ],
   "source": [
    "G = Graph([(0, 1), (1, 2), (2, 0), (1, 3), (3, 0)])`1"
   ]
  },
  {
   "cell_type": "code",
   "execution_count": 75,
   "metadata": {
    "vscode": {
     "languageId": "sage"
    }
   },
   "outputs": [],
   "source": [
    "# Define the triangle and pentagon graphs\n",
    "triangle = Graph([(0, 1), (1, 2), (2, 6), (6, 7), (7, 0)])\n",
    "pentagon = Graph([(0, 1), (1, 3), (3, 4), (4, 5), (5, 0)])"
   ]
  },
  {
   "cell_type": "code",
   "execution_count": 76,
   "metadata": {
    "vscode": {
     "languageId": "sage"
    }
   },
   "outputs": [
    {
     "data": {
      "text/plain": [
       "q + 4"
      ]
     },
     "execution_count": 76,
     "metadata": {},
     "output_type": "execute_result"
    }
   ],
   "source": [
    "def invKL(M):\n",
    "\tR = PolynomialRing(ZZ, 'q')\n",
    "\tq = R.gen(0)\n",
    "\tif M.rank() == 0:\n",
    "\t\treturn q + 1 - q\n",
    "\tL = M.lattice_of_flats()\n",
    "\tinvKLpoly = 0\n",
    "\tfor i in range(1,len(L)):\n",
    "\t\tMcon = M.contract(L[i])\n",
    "\t\tMres = M.delete(M.groundset()-L[i])\n",
    "\t\tLres = Mres.lattice_of_flats()\n",
    "\t\tinvKLpoly += (-1)^(Mres.rank())*Lres.kazhdan_lusztig_polynomial()*invKL(Mcon)\n",
    "\treturn -invKLpoly\n",
    "\n",
    "invKL(Matroid(G))"
   ]
  },
  {
   "cell_type": "code",
   "execution_count": 77,
   "metadata": {
    "vscode": {
     "languageId": "sage"
    }
   },
   "outputs": [
    {
     "data": {
      "text/plain": [
       "2*q + 3"
      ]
     },
     "execution_count": 77,
     "metadata": {},
     "output_type": "execute_result"
    }
   ],
   "source": [
    "G.delete_edge((0,1))\n",
    "invKL(Matroid(G))"
   ]
  },
  {
   "cell_type": "code",
   "execution_count": 78,
   "metadata": {
    "vscode": {
     "languageId": "sage"
    }
   },
   "outputs": [
    {
     "data": {
      "text/plain": [
       "2*q + 3"
      ]
     },
     "execution_count": 78,
     "metadata": {},
     "output_type": "execute_result"
    }
   ],
   "source": [
    "H1 = triangle\n",
    "H2 = pentagon\n",
    "H1.contract_edges([(0,1)])\n",
    "\n",
    "invKL(Matroid(H1))"
   ]
  },
  {
   "cell_type": "code",
   "execution_count": 79,
   "metadata": {
    "vscode": {
     "languageId": "sage"
    }
   },
   "outputs": [
    {
     "data": {
      "text/plain": [
       "2*q + 3"
      ]
     },
     "execution_count": 79,
     "metadata": {},
     "output_type": "execute_result"
    }
   ],
   "source": [
    "H2.contract_edges([(0,1)])\n",
    "invKL(Matroid(H2))"
   ]
  },
  {
   "cell_type": "code",
   "execution_count": 80,
   "metadata": {
    "vscode": {
     "languageId": "sage"
    }
   },
   "outputs": [
    {
     "ename": "NameError",
     "evalue": "name 'M' is not defined",
     "output_type": "error",
     "traceback": [
      "\u001b[0;31m---------------------------------------------------------------------------\u001b[0m",
      "\u001b[0;31mNameError\u001b[0m                                 Traceback (most recent call last)",
      "Cell \u001b[0;32mIn[80], line 4\u001b[0m\n\u001b[1;32m      1\u001b[0m \u001b[38;5;28;01mdef\u001b[39;00m \u001b[38;5;21mtau\u001b[39m(M):\n\u001b[1;32m      2\u001b[0m \t\u001b[38;5;28;01mreturn\u001b[39;00m M\u001b[38;5;241m.\u001b[39mlattice_of_flats()\u001b[38;5;241m.\u001b[39mkazhdan_lusztig_polynomial()\u001b[38;5;241m.\u001b[39mleading_coefficient()\n\u001b[0;32m----> 4\u001b[0m tau(\u001b[43mM\u001b[49m)\n",
      "\u001b[0;31mNameError\u001b[0m: name 'M' is not defined"
     ]
    }
   ],
   "source": [
    "def tau(M):\n",
    "\treturn M.lattice_of_flats().kazhdan_lusztig_polynomial().leading_coefficient()\n",
    "\n",
    "tau(M)"
   ]
  },
  {
   "cell_type": "code",
   "execution_count": null,
   "metadata": {
    "vscode": {
     "languageId": "sage"
    }
   },
   "outputs": [
    {
     "ename": "AttributeError",
     "evalue": "'FiniteLatticePoset_with_category' object has no attribute 'mobius_function'",
     "output_type": "error",
     "traceback": [
      "\u001b[0;31m---------------------------------------------------------------------------\u001b[0m",
      "\u001b[0;31mKeyError\u001b[0m                                  Traceback (most recent call last)",
      "File \u001b[0;32m~/miniforge3/envs/sage/lib/python3.11/site-packages/sage/structure/category_object.pyx:855\u001b[0m, in \u001b[0;36msage.structure.category_object.CategoryObject.getattr_from_category (build/cythonized/sage/structure/category_object.c:10061)\u001b[0;34m()\u001b[0m\n\u001b[1;32m    854\u001b[0m try:\n\u001b[0;32m--> 855\u001b[0m     return self._cached_methods[name]\n\u001b[1;32m    856\u001b[0m except KeyError:\n",
      "\u001b[0;31mKeyError\u001b[0m: 'mobius_function'",
      "\nDuring handling of the above exception, another exception occurred:\n",
      "\u001b[0;31mAttributeError\u001b[0m                            Traceback (most recent call last)",
      "Cell \u001b[0;32mIn[13], line 14\u001b[0m\n\u001b[1;32m     12\u001b[0m \u001b[38;5;28;01mfor\u001b[39;00m y \u001b[38;5;129;01min\u001b[39;00m lattice_of_flats:\n\u001b[1;32m     13\u001b[0m     \u001b[38;5;28;01mif\u001b[39;00m lattice_of_flats\u001b[38;5;241m.\u001b[39mle(x, y):  \u001b[38;5;66;03m# Check if x <= y\u001b[39;00m\n\u001b[0;32m---> 14\u001b[0m         \u001b[38;5;28mprint\u001b[39m(\u001b[38;5;124mf\u001b[39m\u001b[38;5;124m\"\u001b[39m\u001b[38;5;124mmu(\u001b[39m\u001b[38;5;132;01m{\u001b[39;00mx\u001b[38;5;132;01m}\u001b[39;00m\u001b[38;5;124m, \u001b[39m\u001b[38;5;132;01m{\u001b[39;00my\u001b[38;5;132;01m}\u001b[39;00m\u001b[38;5;124m) = \u001b[39m\u001b[38;5;132;01m{\u001b[39;00m\u001b[43mlattice_of_flats\u001b[49m\u001b[38;5;241;43m.\u001b[39;49m\u001b[43mmobius_function\u001b[49m(x,\u001b[38;5;250m \u001b[39my)\u001b[38;5;132;01m}\u001b[39;00m\u001b[38;5;124m\"\u001b[39m)\n",
      "File \u001b[0;32m~/miniforge3/envs/sage/lib/python3.11/site-packages/sage/structure/category_object.pyx:849\u001b[0m, in \u001b[0;36msage.structure.category_object.CategoryObject.__getattr__ (build/cythonized/sage/structure/category_object.c:9981)\u001b[0;34m()\u001b[0m\n\u001b[1;32m    847\u001b[0m         AttributeError: 'PrimeNumbers_with_category' object has no attribute 'sadfasdf'...\n\u001b[1;32m    848\u001b[0m     \"\"\"\n\u001b[0;32m--> 849\u001b[0m     return self.getattr_from_category(name)\n\u001b[1;32m    850\u001b[0m \n\u001b[1;32m    851\u001b[0m cdef getattr_from_category(self, name) noexcept:\n",
      "File \u001b[0;32m~/miniforge3/envs/sage/lib/python3.11/site-packages/sage/structure/category_object.pyx:864\u001b[0m, in \u001b[0;36msage.structure.category_object.CategoryObject.getattr_from_category (build/cythonized/sage/structure/category_object.c:10145)\u001b[0;34m()\u001b[0m\n\u001b[1;32m    862\u001b[0m     cls = self._category.parent_class\n\u001b[1;32m    863\u001b[0m \n\u001b[0;32m--> 864\u001b[0m attr = getattr_from_other_class(self, cls, name)\n\u001b[1;32m    865\u001b[0m self._cached_methods[name] = attr\n\u001b[1;32m    866\u001b[0m return attr\n",
      "File \u001b[0;32m~/miniforge3/envs/sage/lib/python3.11/site-packages/sage/cpython/getattr.pyx:357\u001b[0m, in \u001b[0;36msage.cpython.getattr.getattr_from_other_class (build/cythonized/sage/cpython/getattr.c:4394)\u001b[0;34m()\u001b[0m\n\u001b[1;32m    355\u001b[0m     dummy_error_message.cls = type(self)\n\u001b[1;32m    356\u001b[0m     dummy_error_message.name = name\n\u001b[0;32m--> 357\u001b[0m     raise AttributeError(dummy_error_message)\n\u001b[1;32m    358\u001b[0m cdef PyObject* attr = instance_getattr(cls, name)\n\u001b[1;32m    359\u001b[0m if attr is NULL:\n",
      "\u001b[0;31mAttributeError\u001b[0m: 'FiniteLatticePoset_with_category' object has no attribute 'mobius_function'"
     ]
    }
   ],
   "source": [
    "from sage.matroids.constructor import Matroid\n",
    "\n",
    "# Step 1: Define the uniform matroid U_{2,3}\n",
    "M = matroids.Uniform(2, 3)\n",
    "\n",
    "# Step 2: Get the lattice of flats\n",
    "lattice_of_flats = M.lattice_of_flats()\n",
    "\n",
    "# Step 3: Compute the Möbius function for pairs of flats\n",
    "# Example: Compute Möbius function for all pairs (x, y) in the lattice\n",
    "for x in lattice_of_flats:\n",
    "    for y in lattice_of_flats:\n",
    "        if lattice_of_flats.le(x, y):  # Check if x <= y\n",
    "            print(f\"mu({x}, {y}) = {lattice_of_flats.mobius_function(x, y)}\")\n"
   ]
  }
 ],
 "metadata": {
  "kernelspec": {
   "display_name": "SageMath 10.3",
   "language": "sage",
   "name": "SageMath-10.3"
  },
  "language_info": {
   "codemirror_mode": {
    "name": "ipython",
    "version": 3
   },
   "file_extension": ".py",
   "mimetype": "text/x-python",
   "name": "python",
   "nbconvert_exporter": "python",
   "pygments_lexer": "ipython3",
   "version": "3.11.8"
  }
 },
 "nbformat": 4,
 "nbformat_minor": 2
}
