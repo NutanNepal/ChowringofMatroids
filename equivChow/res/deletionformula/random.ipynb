{
 "cells": [
  {
   "cell_type": "code",
   "execution_count": 14,
   "metadata": {
    "vscode": {
     "languageId": "sage"
    }
   },
   "outputs": [
    {
     "name": "stdout",
     "output_type": "stream",
     "text": [
      "[[4], [3, 1], [2, 2], [2, 1, 1], [1, 1, 1, 1]]\n"
     ]
    }
   ],
   "source": [
    "    n=4\n",
    "    partitions = Partitions(n).list()\n",
    "    print(partitions)\n",
    "    M = matroids.CompleteGraphic(6)"
   ]
  },
  {
   "cell_type": "code",
   "execution_count": 15,
   "metadata": {
    "vscode": {
     "languageId": "sage"
    }
   },
   "outputs": [
    {
     "data": {
      "text/plain": [
       "15*q^2 + 86*q + 120"
      ]
     },
     "execution_count": 15,
     "metadata": {},
     "output_type": "execute_result"
    }
   ],
   "source": [
    "def invKL(M):\n",
    "\tR = PolynomialRing(ZZ, 'q')\n",
    "\tq = R.gen(0)\n",
    "\tif M.rank() == 0:\n",
    "\t\treturn q + 1 - q\n",
    "\tL = M.lattice_of_flats()\n",
    "\tinvKLpoly = 0\n",
    "\tfor i in range(1,len(L)):\n",
    "\t\tMcon = M.contract(L[i])\n",
    "\t\tMres = M.delete(M.groundset()-L[i])\n",
    "\t\tLres = Mres.lattice_of_flats()\n",
    "\t\tinvKLpoly += (-1)^(Mres.rank())*Lres.kazhdan_lusztig_polynomial()*invKL(Mcon)\n",
    "\treturn -invKLpoly\n",
    "\n",
    "invKL(M)"
   ]
  },
  {
   "cell_type": "code",
   "execution_count": 17,
   "metadata": {
    "vscode": {
     "languageId": "sage"
    }
   },
   "outputs": [
    {
     "data": {
      "text/plain": [
       "15"
      ]
     },
     "execution_count": 17,
     "metadata": {},
     "output_type": "execute_result"
    }
   ],
   "source": [
    "def tau(M):\n",
    "\treturn M.lattice_of_flats().kazhdan_lusztig_polynomial().leading_coefficient()\n",
    "\n",
    "tau(M)"
   ]
  },
  {
   "cell_type": "code",
   "execution_count": null,
   "metadata": {
    "vscode": {
     "languageId": "sage"
    }
   },
   "outputs": [
    {
     "ename": "AttributeError",
     "evalue": "'FiniteLatticePoset_with_category' object has no attribute 'mobius_function'",
     "output_type": "error",
     "traceback": [
      "\u001b[0;31m---------------------------------------------------------------------------\u001b[0m",
      "\u001b[0;31mKeyError\u001b[0m                                  Traceback (most recent call last)",
      "File \u001b[0;32m~/miniforge3/envs/sage/lib/python3.11/site-packages/sage/structure/category_object.pyx:855\u001b[0m, in \u001b[0;36msage.structure.category_object.CategoryObject.getattr_from_category (build/cythonized/sage/structure/category_object.c:10061)\u001b[0;34m()\u001b[0m\n\u001b[1;32m    854\u001b[0m try:\n\u001b[0;32m--> 855\u001b[0m     return self._cached_methods[name]\n\u001b[1;32m    856\u001b[0m except KeyError:\n",
      "\u001b[0;31mKeyError\u001b[0m: 'mobius_function'",
      "\nDuring handling of the above exception, another exception occurred:\n",
      "\u001b[0;31mAttributeError\u001b[0m                            Traceback (most recent call last)",
      "Cell \u001b[0;32mIn[13], line 14\u001b[0m\n\u001b[1;32m     12\u001b[0m \u001b[38;5;28;01mfor\u001b[39;00m y \u001b[38;5;129;01min\u001b[39;00m lattice_of_flats:\n\u001b[1;32m     13\u001b[0m     \u001b[38;5;28;01mif\u001b[39;00m lattice_of_flats\u001b[38;5;241m.\u001b[39mle(x, y):  \u001b[38;5;66;03m# Check if x <= y\u001b[39;00m\n\u001b[0;32m---> 14\u001b[0m         \u001b[38;5;28mprint\u001b[39m(\u001b[38;5;124mf\u001b[39m\u001b[38;5;124m\"\u001b[39m\u001b[38;5;124mmu(\u001b[39m\u001b[38;5;132;01m{\u001b[39;00mx\u001b[38;5;132;01m}\u001b[39;00m\u001b[38;5;124m, \u001b[39m\u001b[38;5;132;01m{\u001b[39;00my\u001b[38;5;132;01m}\u001b[39;00m\u001b[38;5;124m) = \u001b[39m\u001b[38;5;132;01m{\u001b[39;00m\u001b[43mlattice_of_flats\u001b[49m\u001b[38;5;241;43m.\u001b[39;49m\u001b[43mmobius_function\u001b[49m(x,\u001b[38;5;250m \u001b[39my)\u001b[38;5;132;01m}\u001b[39;00m\u001b[38;5;124m\"\u001b[39m)\n",
      "File \u001b[0;32m~/miniforge3/envs/sage/lib/python3.11/site-packages/sage/structure/category_object.pyx:849\u001b[0m, in \u001b[0;36msage.structure.category_object.CategoryObject.__getattr__ (build/cythonized/sage/structure/category_object.c:9981)\u001b[0;34m()\u001b[0m\n\u001b[1;32m    847\u001b[0m         AttributeError: 'PrimeNumbers_with_category' object has no attribute 'sadfasdf'...\n\u001b[1;32m    848\u001b[0m     \"\"\"\n\u001b[0;32m--> 849\u001b[0m     return self.getattr_from_category(name)\n\u001b[1;32m    850\u001b[0m \n\u001b[1;32m    851\u001b[0m cdef getattr_from_category(self, name) noexcept:\n",
      "File \u001b[0;32m~/miniforge3/envs/sage/lib/python3.11/site-packages/sage/structure/category_object.pyx:864\u001b[0m, in \u001b[0;36msage.structure.category_object.CategoryObject.getattr_from_category (build/cythonized/sage/structure/category_object.c:10145)\u001b[0;34m()\u001b[0m\n\u001b[1;32m    862\u001b[0m     cls = self._category.parent_class\n\u001b[1;32m    863\u001b[0m \n\u001b[0;32m--> 864\u001b[0m attr = getattr_from_other_class(self, cls, name)\n\u001b[1;32m    865\u001b[0m self._cached_methods[name] = attr\n\u001b[1;32m    866\u001b[0m return attr\n",
      "File \u001b[0;32m~/miniforge3/envs/sage/lib/python3.11/site-packages/sage/cpython/getattr.pyx:357\u001b[0m, in \u001b[0;36msage.cpython.getattr.getattr_from_other_class (build/cythonized/sage/cpython/getattr.c:4394)\u001b[0;34m()\u001b[0m\n\u001b[1;32m    355\u001b[0m     dummy_error_message.cls = type(self)\n\u001b[1;32m    356\u001b[0m     dummy_error_message.name = name\n\u001b[0;32m--> 357\u001b[0m     raise AttributeError(dummy_error_message)\n\u001b[1;32m    358\u001b[0m cdef PyObject* attr = instance_getattr(cls, name)\n\u001b[1;32m    359\u001b[0m if attr is NULL:\n",
      "\u001b[0;31mAttributeError\u001b[0m: 'FiniteLatticePoset_with_category' object has no attribute 'mobius_function'"
     ]
    }
   ],
   "source": [
    "from sage.matroids.constructor import Matroid\n",
    "\n",
    "# Step 1: Define the uniform matroid U_{2,3}\n",
    "M = matroids.Uniform(2, 3)\n",
    "\n",
    "# Step 2: Get the lattice of flats\n",
    "lattice_of_flats = M.lattice_of_flats()\n",
    "\n",
    "# Step 3: Compute the Möbius function for pairs of flats\n",
    "# Example: Compute Möbius function for all pairs (x, y) in the lattice\n",
    "for x in lattice_of_flats:\n",
    "    for y in lattice_of_flats:\n",
    "        if lattice_of_flats.le(x, y):  # Check if x <= y\n",
    "            print(f\"mu({x}, {y}) = {lattice_of_flats.mobius_function(x, y)}\")\n"
   ]
  }
 ],
 "metadata": {
  "kernelspec": {
   "display_name": "SageMath 10.3",
   "language": "sage",
   "name": "sagemath"
  },
  "language_info": {
   "codemirror_mode": {
    "name": "ipython",
    "version": 3
   },
   "file_extension": ".py",
   "mimetype": "text/x-python",
   "name": "python",
   "nbconvert_exporter": "python",
   "pygments_lexer": "ipython3",
   "version": "3.11.9"
  }
 },
 "nbformat": 4,
 "nbformat_minor": 2
}
