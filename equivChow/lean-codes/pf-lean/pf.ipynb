{
 "cells": [
  {
   "cell_type": "code",
   "execution_count": null,
   "metadata": {
    "vscode": {
     "languageId": "tex"
    }
   },
   "outputs": [],
   "source": [
    "A **matroid** is a pair \\( M = (E, \\mathcal{F}) \\) where \\( E \\) is a finite set and \\( \\mathcal{F} \\) is a collection of subsets of \\( E \\) (called flats) that satisfy the following properties:\n",
    "\n",
    "1. **Non-empty set**: \\( E \\in \\mathcal{F} \\).\n",
    "2. **Closure under intersection**: If \\( F_1, F_2 \\in \\mathcal{F} \\), then \\( F_1 \\cap F_2 \\in \\mathcal{F} \\).\n",
    "3. **Covering property**: If \\( F \\in \\mathcal{F} \\) and \\( e \\in E \\setminus F \\), there exists a flat \\( F' \\in \\mathcal{F} \\) such that \\( F \\subseteq F' \\) and \\( e \\in F' \\).\n",
    "\n",
    "The collection \\( \\mathcal{F} \\) is called the lattice of flats of the matroid."
   ]
  },
  {
   "cell_type": "code",
   "execution_count": null,
   "metadata": {},
   "outputs": [
    {
     "ename": "",
     "evalue": "",
     "output_type": "error",
     "traceback": [
      "\u001b[1;31mFailed to start the Kernel. \n",
      "\u001b[1;31msubprocess.CalledProcessError: Command '['/bin/sh', '-c', 'echo \\'{\"cmd\": \"#eval Lean.versionString\"}\\'|repl']' returned non-zero exit status 1. \n",
      "\u001b[1;31mView Jupyter <a href='command:jupyter.viewOutput'>log</a> for further details."
     ]
    }
   ],
   "source": [
    "structure Matroid (E : Type) :=\n",
    "(flats : set (set E))\n",
    "(nonempty : ∃ F ∈ flats, F = set.univ)\n",
    "(intersection : ∀ {F₁ F₂}, F₁ ∈ flats → F₂ ∈ flats → F₁ ∩ F₂ ∈ flats)\n",
    "(covering : ∀ {F e}, F ∈ flats → e ∉ F → ∃ F', F' ∈ flats ∧ F ⊆ F' ∧ e ∈ F')"
   ]
  }
 ],
 "metadata": {
  "kernelspec": {
   "display_name": "Lean 4",
   "language": "lean4",
   "name": "lean4"
  },
  "language_info": {
   "name": "lean4"
  }
 },
 "nbformat": 4,
 "nbformat_minor": 2
}
