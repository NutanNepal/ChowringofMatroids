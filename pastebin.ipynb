{
 "cells": [
  {
   "cell_type": "code",
   "execution_count": 2,
   "id": "39a9c633",
   "metadata": {
    "vscode": {
     "languageId": "sage"
    }
   },
   "outputs": [],
   "source": [
    "n = 5\n",
    "\n",
    "M = matroids.CompleteGraphic(5)\n",
    "chains = list(M.lattice_of_flats().chains())\n",
    "maxChains = [[list(chain) for chain in p][1:] for p in chains if len(p) == M.rank() + 1]"
   ]
  },
  {
   "cell_type": "code",
   "execution_count": 3,
   "id": "fab1af16",
   "metadata": {
    "vscode": {
     "languageId": "sage"
    }
   },
   "outputs": [],
   "source": [
    "def generate_weights(rank):\n",
    "    weights = set() \n",
    "    for i in range(1, rank):\n",
    "        for j in range(rank):\n",
    "            weight = [0] * rank\n",
    "            \n",
    "            if i >= j:\n",
    "                weight[i] = j\n",
    "                weights.add(tuple(weight))\n",
    "\n",
    "            if rank - (i+1) > 1:\n",
    "                y = generate_weights(rank - (i + 1))  # Recursion to get the complete list of weights...\n",
    "                for x in y:\n",
    "                    temp_weight = weight.copy()\n",
    "                    weights.add(tuple(temp_weight[:i+1] + x)) \n",
    "\n",
    "    return [list(w) for w in weights]\n",
    "\n",
    "rank = n-1\n",
    "all_weights = generate_weights(rank)"
   ]
  },
  {
   "cell_type": "code",
   "execution_count": 4,
   "id": "724e8e84",
   "metadata": {
    "vscode": {
     "languageId": "sage"
    }
   },
   "outputs": [
    {
     "name": "stdout",
     "output_type": "stream",
     "text": [
      "[{frozenset()}, {frozenset({((0, 2, 3, 5, 6, 9), 1)}), frozenset({((9, 5, 6), 1)}), frozenset({((6, 7), 1)}), frozenset({((3, 4), 1)}), frozenset({((1, 2, 6, 7), 1)}), frozenset({((9, 2, 3), 1)}), frozenset({((1, 9), 1)}), frozenset({((8, 5), 1)}), frozenset({((0, 1, 2, 4, 5, 7), 1)}), frozenset({((0, 1, 3, 4, 6, 8), 1)}), frozenset({((3, 7), 1)}), frozenset({((0, 7), 1)}), frozenset({((9, 2, 3, 4), 1)}), frozenset({((1, 6), 1)}), frozenset({((0, 9), 1)}), frozenset({((0, 1, 2, 3, 4, 5, 6, 7, 8, 9), 1)}), frozenset({((1, 5, 6, 9), 1)}), frozenset({((3, 4, 5, 7), 1)}), frozenset({((8, 9, 7), 1)}), frozenset({((1, 5), 1)}), frozenset({((0, 8, 2, 5), 1)}), frozenset({((0, 2, 5), 1)}), frozenset({((0, 1, 4, 9), 1)}), frozenset({((1, 2, 3, 7, 8, 9), 1)}), frozenset({((0, 8), 1)}), frozenset({((1, 2, 7), 1)}), frozenset({((8, 2), 1)}), frozenset({((3, 5), 1)}), frozenset({((2, 4), 1)}), frozenset({((9, 4), 1)}), frozenset({((8, 1, 3, 5), 1)}), frozenset({((8, 4, 6), 1)}), frozenset({((2, 6), 1)}), frozenset({((0, 3, 6, 7), 1)}), frozenset({((4, 5, 7), 1)}), frozenset({((0, 3, 6), 1)}), frozenset({((8, 1, 3), 1)}), frozenset({((8, 2, 4, 6), 1)}), frozenset({((4, 5, 6, 7, 8, 9), 1)}), frozenset({((0, 1, 4), 1)}), frozenset({((0, 8, 9, 7), 1)})}, {frozenset({((0, 1, 2, 3, 4, 5, 6, 7, 8, 9), 1), ((1, 9), 1)}), frozenset({((4, 5, 7), 1), ((0, 1, 2, 3, 4, 5, 6, 7, 8, 9), 1)}), frozenset({((1, 2, 3, 7, 8, 9), 2)}), frozenset({((0, 8, 9, 7), 2)}), frozenset({((0, 3, 6), 1), ((0, 1, 2, 3, 4, 5, 6, 7, 8, 9), 1)}), frozenset({((0, 1, 2, 3, 4, 5, 6, 7, 8, 9), 1), ((1, 2, 7), 1)}), frozenset({((1, 6), 1), ((0, 1, 2, 3, 4, 5, 6, 7, 8, 9), 1)}), frozenset({((0, 1, 2, 3, 4, 5, 6, 7, 8, 9), 1), ((0, 9), 1)}), frozenset({((0, 1, 4), 1), ((0, 1, 2, 3, 4, 5, 6, 7, 8, 9), 1)}), frozenset({((0, 1, 2, 3, 4, 5, 6, 7, 8, 9), 1), ((8, 4, 6), 1)}), frozenset({((0, 1, 4, 9), 2)}), frozenset({((0, 7), 1), ((0, 1, 2, 3, 4, 5, 6, 7, 8, 9), 1)}), frozenset({((3, 7), 1), ((0, 1, 2, 3, 4, 5, 6, 7, 8, 9), 1)}), frozenset({((0, 1, 2, 3, 4, 5, 6, 7, 8, 9), 1), ((0, 8), 1)}), frozenset({((9, 5, 6), 1), ((0, 1, 2, 3, 4, 5, 6, 7, 8, 9), 1)}), frozenset({((0, 1, 2, 3, 4, 5, 6, 7, 8, 9), 1), ((6, 7), 1)}), frozenset({((0, 1, 3, 4, 6, 8), 2)}), frozenset({((0, 1, 2, 3, 4, 5, 6, 7, 8, 9), 1), ((9, 4), 1)}), frozenset({((1, 5), 1), ((0, 1, 2, 3, 4, 5, 6, 7, 8, 9), 1)}), frozenset({((8, 2, 4, 6), 2)}), frozenset({((0, 2, 5), 1), ((0, 1, 2, 3, 4, 5, 6, 7, 8, 9), 1)}), frozenset({((0, 3, 6, 7), 2)}), frozenset({((1, 2, 6, 7), 2)}), frozenset({((3, 4, 5, 7), 2)}), frozenset({((0, 1, 2, 4, 5, 7), 2)}), frozenset({((2, 6), 1), ((0, 1, 2, 3, 4, 5, 6, 7, 8, 9), 1)}), frozenset({((0, 1, 2, 3, 4, 5, 6, 7, 8, 9), 1), ((8, 2), 1)}), frozenset({((0, 1, 2, 3, 4, 5, 6, 7, 8, 9), 2)}), frozenset({((8, 9, 7), 1), ((0, 1, 2, 3, 4, 5, 6, 7, 8, 9), 1)}), frozenset({((0, 8, 2, 5), 2)}), frozenset({((3, 4), 1), ((0, 1, 2, 3, 4, 5, 6, 7, 8, 9), 1)}), frozenset({((1, 5, 6, 9), 2)}), frozenset({((0, 2, 3, 5, 6, 9), 2)}), frozenset({((4, 5, 6, 7, 8, 9), 2)}), frozenset({((0, 1, 2, 3, 4, 5, 6, 7, 8, 9), 1), ((8, 1, 3), 1)}), frozenset({((0, 1, 2, 3, 4, 5, 6, 7, 8, 9), 1), ((9, 2, 3), 1)}), frozenset({((3, 5), 1), ((0, 1, 2, 3, 4, 5, 6, 7, 8, 9), 1)}), frozenset({((8, 1, 3, 5), 2)}), frozenset({((2, 4), 1), ((0, 1, 2, 3, 4, 5, 6, 7, 8, 9), 1)}), frozenset({((0, 1, 2, 3, 4, 5, 6, 7, 8, 9), 1), ((8, 5), 1)}), frozenset({((9, 2, 3, 4), 2)})}, {frozenset({((0, 1, 2, 3, 4, 5, 6, 7, 8, 9), 3)})}]\n"
     ]
    }
   ],
   "source": [
    "def generate_fyMonomials(maxChains, weights):\n",
    "    fy_monomials = [set() for _ in range(len(weights[0]))]\n",
    "    for chain in maxChains:\n",
    "        for weight in weights:\n",
    "            degree = sum(weight)\n",
    "            fy_monomial = []\n",
    "            for i, segment in enumerate(chain):\n",
    "                if weight[i] > 0:\n",
    "                    fy_monomial.append((tuple(segment), weight[i]))\n",
    "            fy_monomials[degree].add(frozenset(fy_monomial))\n",
    "    return fy_monomials\n",
    "\n",
    "fy_monomials = generate_fyMonomials(maxChains, all_weights)\n",
    "\n",
    "dimensions = [0] * rank\n",
    "for i in range(rank):\n",
    "    dimensions[i] = len(fy_monomials[i])\n",
    "dimensions\n",
    "\n",
    "print(fy_monomials)"
   ]
  }
 ],
 "metadata": {
  "kernelspec": {
   "display_name": "SageMath 10.1",
   "language": "sage",
   "name": "SageMath-10.1"
  },
  "language_info": {
   "codemirror_mode": {
    "name": "ipython",
    "version": 3
   },
   "file_extension": ".py",
   "mimetype": "text/x-python",
   "name": "python",
   "nbconvert_exporter": "python",
   "pygments_lexer": "ipython3",
   "version": "3.11.1"
  }
 },
 "nbformat": 4,
 "nbformat_minor": 5
}
