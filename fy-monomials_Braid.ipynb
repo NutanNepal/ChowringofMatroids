{
 "cells": [
  {
   "cell_type": "code",
   "execution_count": 271,
   "id": "3e319075",
   "metadata": {
    "scrolled": false
   },
   "outputs": [],
   "source": [
    "n = 4\n",
    "G = graphs.CompleteGraph(n)\n",
    "B = Matroid(G)"
   ]
  },
  {
   "cell_type": "code",
   "execution_count": 272,
   "id": "f6692289",
   "metadata": {},
   "outputs": [],
   "source": [
    "L = B.lattice_of_flats()"
   ]
  },
  {
   "cell_type": "code",
   "execution_count": 273,
   "id": "6ef89079",
   "metadata": {
    "scrolled": false
   },
   "outputs": [],
   "source": [
    "frozenChains = list(L.chains())"
   ]
  },
  {
   "cell_type": "code",
   "execution_count": 274,
   "id": "c8044302",
   "metadata": {},
   "outputs": [
    {
     "data": {
      "text/plain": [
       "18"
      ]
     },
     "execution_count": 274,
     "metadata": {},
     "output_type": "execute_result"
    }
   ],
   "source": [
    "maxChains = [[list(chain) for chain in p][1:] for p in frozenChains if len(p) == B.rank() + 1]\n",
    "len(maxChains)"
   ]
  },
  {
   "cell_type": "markdown",
   "id": "0eb2f9bb",
   "metadata": {},
   "source": [
    "The list frozenChains contains all the chains in the lattice $L$ as frozensets. We define the set maxChains that contains all the maximal chains in the lattice $L$."
   ]
  },
  {
   "cell_type": "markdown",
   "id": "be76c7be",
   "metadata": {},
   "source": [
    "The structure of fy-monomials is such that for any strictly increasing chain of nonempty flats $F_1\\subset F_2\\subset\\ldots\\subset F_k$ in $L$ we have monomials of the form:\n",
    "$$\\{x_{F_{1}}^{m_{1}}\\cdots x_{F_{k}}^{m_{k}}\\mid 0\\leq m_i\\leq \\text{rk}(F_i)-\\text{rk}(F_{i-1})-1\\}$$\n",
    "\n",
    "with $F_0$ defined as the empty flat. It turns out to be enough to work only with the maximal chains. Then, for any maximal chain $F_1\\subset F_2\\subset\\ldots\\subset F_n$ and a monomial corresponding to the chain, we can assign a list $[i_1,\\cdots, i_n]$ with $i_j$ as the degree of $F_j$. Here, we will call such a list as weight of the chain. Since all maximal chains have same cardinality, it is enough to generate the set of possible weights on just one chain. We do this as follows.\n",
    "\n",
    "For a list $[ 1, 2, ..., n]$, we need to assign a weight (a positive integer) to each integer as follows:\n",
    "\n",
    "    1. The weight at 1 is always 0.\n",
    "\n",
    "    2. If k is the weight at j>1, then the weight at j-1, j-2,...,j-k must be zero.\n",
    "\n",
    "The weights on [1,2,3,4] are\n",
    "\n",
    "[[0,0,0,0], [0,1,0,0], [0,0,1,0], [0,0,0,1], [0,1,0,1], [0,0,2,0], [0,0,0,2], [0,0,0,3]]"
   ]
  },
  {
   "cell_type": "code",
   "execution_count": 275,
   "id": "749c96ef",
   "metadata": {
    "scrolled": true
   },
   "outputs": [],
   "source": [
    "def generate_weights(rank):\n",
    "    weights = set() \n",
    "    for i in range(1, rank):\n",
    "        for j in range(rank):\n",
    "            weight = [0] * rank\n",
    "            \n",
    "            if i >= j:\n",
    "                weight[i] = j\n",
    "                weights.add(tuple(weight))\n",
    "\n",
    "            if rank - (i+1) > 1:\n",
    "                y = generate_weights(rank - (i + 1))  # Recursion to get the complete list of weights...\n",
    "                for x in y:\n",
    "                    temp_weight = weight.copy()\n",
    "                    weights.add(tuple(temp_weight[:i+1] + x)) \n",
    "\n",
    "    return [list(w) for w in weights]\n",
    "\n",
    "rank = n-1\n",
    "all_weights = generate_weights(rank)"
   ]
  },
  {
   "cell_type": "markdown",
   "id": "f846654e",
   "metadata": {},
   "source": [
    "Now, for each chain and a weight list, we form monomials as follows:\n",
    "\n",
    "chain: ```[[a], [a, b], [a, b, c, d, e, f], [a,b,c,d,e,f,g,h,i,j]]```\n",
    "\n",
    "weight: ```[0,1,0,1]```\n",
    "\n",
    "monomial: ```{([a],0), ([a, b],1), ([a, b, c, d, e, f],0), ([a,b,c,d,e,f,g,h,i,j],1)}```\n",
    "\n",
    "This is a degree two monomial since the weight sum to 2."
   ]
  },
  {
   "cell_type": "code",
   "execution_count": 276,
   "id": "938d48a6",
   "metadata": {
    "scrolled": true
   },
   "outputs": [],
   "source": [
    "def generate_fyMonomials(maxChains, weights):\n",
    "    fy_monomials = [set() for _ in range(len(weights[0]))]\n",
    "    for chain in maxChains:\n",
    "        for weight in weights:\n",
    "            degree = sum(weight)\n",
    "            fy_monomial = []\n",
    "            for i, segment in enumerate(chain):\n",
    "                if weight[i] > 0:\n",
    "                    fy_monomial.append((tuple(segment), weight[i]))\n",
    "            fy_monomials[degree].add(frozenset(fy_monomial))\n",
    "    return fy_monomials\n",
    "\n",
    "fy_monomials = generate_fyMonomials(maxChains, all_weights)"
   ]
  },
  {
   "cell_type": "code",
   "execution_count": 277,
   "id": "e9ca87d5",
   "metadata": {},
   "outputs": [
    {
     "data": {
      "text/plain": [
       "[1, 8, 1]"
      ]
     },
     "execution_count": 277,
     "metadata": {},
     "output_type": "execute_result"
    }
   ],
   "source": [
    "dimensions = [0] * rank\n",
    "for i in range(rank):\n",
    "    dimensions[i] = len(fy_monomials[i])\n",
    "dimensions"
   ]
  },
  {
   "cell_type": "markdown",
   "id": "75b1bd03",
   "metadata": {},
   "source": [
    "Now we perform the action of the group $S_n$ on $B$. We only need the characters of the irreducible representations of $S_n$ on each representative of the conjugacy classes of $S_n$. So, we first compute the conjugacy classes as follows:"
   ]
  },
  {
   "cell_type": "code",
   "execution_count": 278,
   "id": "24740b41",
   "metadata": {},
   "outputs": [
    {
     "name": "stdout",
     "output_type": "stream",
     "text": [
      "[[4], [3, 1], [2, 2], [2, 1, 1], [1, 1, 1, 1]]\n",
      "[{0: 1, 1: 2, 2: 3, 3: 0}, {0: 1, 1: 2, 2: 0, 3: 3}, {0: 1, 1: 0, 2: 3, 3: 2}, {0: 1, 1: 0, 2: 2, 3: 3}, {0: 0, 1: 1, 2: 2, 3: 3}]\n"
     ]
    }
   ],
   "source": [
    "def generate_conjugacyClasses(n):\n",
    "    def subdivide_set(partition_set):\n",
    "        partitions = []\n",
    "        elements = list(range(n))\n",
    "        for length in partition_set:\n",
    "            partition = elements[:length]\n",
    "            partitions.append(partition)\n",
    "            for i in range(length):\n",
    "                elements.pop(0)\n",
    "        return partitions\n",
    "\n",
    "    conjugacy_classes = Partitions(n).list()\n",
    "    subdivided_partitions = [subdivide_set(part) for part in conjugacy_classes]\n",
    "\n",
    "    irreducible_Representations = []\n",
    "    for partition in subdivided_partitions:\n",
    "        irr_representation = {}\n",
    "        for x in partition:\n",
    "            for i, element in enumerate(x):\n",
    "                irr_representation[element] = x[(i + 1) % len(x)]\n",
    "        irreducible_Representations.append(irr_representation)\n",
    "        \n",
    "    return conjugacy_classes, irreducible_Representations\n",
    "\n",
    "conjugacy_Classes, irreducible_Representations = generate_conjugacyClasses(n)\n",
    "print(conjugacy_Classes)\n",
    "print(irreducible_Representations)"
   ]
  },
  {
   "cell_type": "code",
   "execution_count": 279,
   "id": "e4e6d490",
   "metadata": {},
   "outputs": [],
   "source": [
    "mutable_fyMonomials = []\n",
    "for graded_piece in fy_monomials:\n",
    "    mutable_graded_piece = [list(monomial) for monomial in graded_piece]\n",
    "    mutable_fyMonomials.append(mutable_graded_piece)"
   ]
  },
  {
   "cell_type": "code",
   "execution_count": 280,
   "id": "104a83b2",
   "metadata": {},
   "outputs": [
    {
     "name": "stdout",
     "output_type": "stream",
     "text": [
      "[[1, 1, 1, 1, 1], [2, 2, 4, 4, 8], [1, 1, 1, 1, 1]]\n"
     ]
    }
   ],
   "source": [
    "def apply_map(monomial, mapping):\n",
    "    mapped_monomial = []\n",
    "    for term in monomial:\n",
    "        new_term = []\n",
    "        for edge in term[0]:\n",
    "            new_edge = tuple(sorted([mapping[int(x)] for x in edge]))\n",
    "            new_term.append(new_edge)\n",
    "        mapped_monomial.append(tuple((tuple(new_term), term[1])))\n",
    "    return tuple(sorted(mapped_monomial))\n",
    "\n",
    "def monomial_equality(monomial, mapped_monomial):\n",
    "    #sorting the inner tuples, and outer tuples and so on and on\n",
    "    \n",
    "    sorted_monomial = [(sorted(\n",
    "        [tuple(sorted(segment)) for segment in m[0]]), m[1]\n",
    "                              ) for m in monomial]\n",
    "    \n",
    "    sorted_mapped_monomial = [(sorted(\n",
    "        [tuple(sorted(segment)) for segment in m[0]]), m[1]\n",
    "                              ) for m in mapped_monomial]\n",
    "    sorted_monomial.sort()\n",
    "    sorted_mapped_monomial.sort()\n",
    "\n",
    "    for i in range(len(sorted_monomial)):\n",
    "        if sorted_monomial[i] != sorted_mapped_monomial[i]:\n",
    "            return False\n",
    "\n",
    "    return True\n",
    "\n",
    "def character(temp_fyMonomials, irr_representation):\n",
    "    i = 0\n",
    "    for monomial in temp_fyMonomials:\n",
    "        mapped_monomial = tuple(sorted(apply_map(monomial, irr_representation)))\n",
    "        if monomial_equality(monomial, mapped_monomial): i += 1\n",
    "    return i\n",
    "\n",
    "characters_list = []\n",
    "for i in range(rank):\n",
    "    characters_list.append([character(mutable_fyMonomials[i], mapping) for mapping in irreducible_Representations])\n",
    "print(characters_list)"
   ]
  },
  {
   "cell_type": "code",
   "execution_count": 281,
   "id": "da4a1ed7",
   "metadata": {},
   "outputs": [],
   "source": [
    "def representations(n):\n",
    "    representations = []\n",
    "    partitions = Partitions(n).list()\n",
    "    for partition in partitions:\n",
    "        representations.append(\n",
    "            SymmetricGroupRepresentation(partition).to_character().values()\n",
    "            )\n",
    "    return representations"
   ]
  },
  {
   "cell_type": "code",
   "execution_count": 282,
   "id": "82f86cf6",
   "metadata": {},
   "outputs": [
    {
     "name": "stdout",
     "output_type": "stream",
     "text": [
      "[[1, 0, 0, 0, 0], [3, 1, 1, 0, 0], [1, 0, 0, 0, 0]]\n"
     ]
    }
   ],
   "source": [
    "import numpy as np\n",
    "\n",
    "\n",
    "def decomposition(characters_list, n):\n",
    "    # solving the equation Ax = b.\n",
    "\n",
    "    trace_matrix = np.matrix(representations(n), dtype = float)\n",
    "    # print(\"Character Table : \", trace_matrix)\n",
    "    decomposition = []\n",
    "    A = np.array(trace_matrix.transpose())\n",
    "    for v in characters_list:\n",
    "        v.reverse()\n",
    "        rhs_array = np.array(v, dtype=float)\n",
    "        solution = np.linalg.solve(A, rhs_array)\n",
    "        decomposition.append(list(np.array(np.round(solution), dtype = int)))\n",
    "\n",
    "    return decomposition\n",
    "\n",
    "print(decomposition(characters_list, n))\n"
   ]
  }
 ],
 "metadata": {
  "kernelspec": {
   "display_name": "SageMath 10.1",
   "language": "sage",
   "name": "SageMath-10.1"
  },
  "language_info": {
   "codemirror_mode": {
    "name": "ipython",
    "version": 3
   },
   "file_extension": ".py",
   "mimetype": "text/x-python",
   "name": "sage",
   "nbconvert_exporter": "python",
   "pygments_lexer": "ipython3",
   "version": "3.11.1"
  }
 },
 "nbformat": 4,
 "nbformat_minor": 5
}
